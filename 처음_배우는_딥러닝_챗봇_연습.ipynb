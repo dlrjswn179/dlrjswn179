{
  "cells": [
    {
      "cell_type": "markdown",
      "metadata": {
        "id": "view-in-github",
        "colab_type": "text"
      },
      "source": [
        "<a href=\"https://colab.research.google.com/github/dlrjswn179/dlrjswn179/blob/main/%EC%B2%98%EC%9D%8C_%EB%B0%B0%EC%9A%B0%EB%8A%94_%EB%94%A5%EB%9F%AC%EB%8B%9D_%EC%B1%97%EB%B4%87_%EC%97%B0%EC%8A%B5.ipynb\" target=\"_parent\"><img src=\"https://colab.research.google.com/assets/colab-badge.svg\" alt=\"Open In Colab\"/></a>"
      ]
    },
    {
      "cell_type": "markdown",
      "metadata": {
        "id": "iwgGiixnDvRM"
      },
      "source": [
        "# 숫자"
      ]
    },
    {
      "cell_type": "code",
      "execution_count": 1,
      "metadata": {
        "colab": {
          "base_uri": "https://localhost:8080/"
        },
        "id": "hd6vwwynJ_DE",
        "outputId": "32ede26f-e64b-485a-85e0-74bd94c4ff14"
      },
      "outputs": [
        {
          "output_type": "execute_result",
          "data": {
            "text/plain": [
              "int"
            ]
          },
          "metadata": {},
          "execution_count": 1
        }
      ],
      "source": [
        "type(0*8)"
      ]
    },
    {
      "cell_type": "code",
      "execution_count": 2,
      "metadata": {
        "colab": {
          "base_uri": "https://localhost:8080/"
        },
        "id": "nqL5TLrXKEAv",
        "outputId": "e56c24e3-4e39-4d20-f0c9-ccbbe089afcc"
      },
      "outputs": [
        {
          "output_type": "execute_result",
          "data": {
            "text/plain": [
              "float"
            ]
          },
          "metadata": {},
          "execution_count": 2
        }
      ],
      "source": [
        "type(0/8)"
      ]
    },
    {
      "cell_type": "code",
      "execution_count": 3,
      "metadata": {
        "colab": {
          "base_uri": "https://localhost:8080/"
        },
        "id": "EckpFd4xKIgr",
        "outputId": "b2fa8346-59ee-4f91-9a32-b949afacb8f5"
      },
      "outputs": [
        {
          "output_type": "execute_result",
          "data": {
            "text/plain": [
              "float"
            ]
          },
          "metadata": {},
          "execution_count": 3
        }
      ],
      "source": [
        "type(1.0*5)"
      ]
    },
    {
      "cell_type": "code",
      "execution_count": 4,
      "metadata": {
        "colab": {
          "base_uri": "https://localhost:8080/"
        },
        "id": "C3jhcD2eKf8w",
        "outputId": "34c7e5e1-2075-45e3-969a-c963d8669ae5"
      },
      "outputs": [
        {
          "output_type": "execute_result",
          "data": {
            "text/plain": [
              "float"
            ]
          },
          "metadata": {},
          "execution_count": 4
        }
      ],
      "source": [
        "type(3/1)"
      ]
    },
    {
      "cell_type": "code",
      "execution_count": 5,
      "metadata": {
        "colab": {
          "base_uri": "https://localhost:8080/"
        },
        "id": "WpQ0OSKSKkdQ",
        "outputId": "d7269ae6-6288-4744-adb9-41bc192297fc"
      },
      "outputs": [
        {
          "output_type": "execute_result",
          "data": {
            "text/plain": [
              "int"
            ]
          },
          "metadata": {},
          "execution_count": 5
        }
      ],
      "source": [
        "type(3//1)"
      ]
    },
    {
      "cell_type": "code",
      "execution_count": 6,
      "metadata": {
        "colab": {
          "base_uri": "https://localhost:8080/"
        },
        "id": "9lJsxHMYKlYg",
        "outputId": "0461714b-620b-410d-9580-458c5a1d3140"
      },
      "outputs": [
        {
          "output_type": "execute_result",
          "data": {
            "text/plain": [
              "int"
            ]
          },
          "metadata": {},
          "execution_count": 6
        }
      ],
      "source": [
        "type(3%1)"
      ]
    },
    {
      "cell_type": "markdown",
      "metadata": {
        "id": "SDRYis3-Dy7R"
      },
      "source": [
        "#문자열"
      ]
    },
    {
      "cell_type": "code",
      "execution_count": 7,
      "metadata": {
        "colab": {
          "base_uri": "https://localhost:8080/",
          "height": 35
        },
        "id": "vCp2I24WJI7p",
        "outputId": "a2ab9bc2-dad5-48df-bd49-873c3e2e2cae"
      },
      "outputs": [
        {
          "output_type": "execute_result",
          "data": {
            "text/plain": [
              "'\"Nice to meet you\", chatbot says'"
            ],
            "application/vnd.google.colaboratory.intrinsic+json": {
              "type": "string"
            }
          },
          "metadata": {},
          "execution_count": 7
        }
      ],
      "source": [
        "'\"Nice to meet you\", chatbot says'"
      ]
    },
    {
      "cell_type": "code",
      "execution_count": 8,
      "metadata": {
        "colab": {
          "base_uri": "https://localhost:8080/",
          "height": 35
        },
        "id": "Rk8neOo-KnY5",
        "outputId": "af9377fa-ee9b-4684-b55f-08fdcec46ded"
      },
      "outputs": [
        {
          "output_type": "execute_result",
          "data": {
            "text/plain": [
              "\"I'm programming now\""
            ],
            "application/vnd.google.colaboratory.intrinsic+json": {
              "type": "string"
            }
          },
          "metadata": {},
          "execution_count": 8
        }
      ],
      "source": [
        "\"I'm programming now\""
      ]
    },
    {
      "cell_type": "code",
      "execution_count": 9,
      "metadata": {
        "colab": {
          "base_uri": "https://localhost:8080/",
          "height": 35
        },
        "id": "rb3rWHL6JEMy",
        "outputId": "0a3a93b9-543e-44dc-dd9e-f1be52ff13ae"
      },
      "outputs": [
        {
          "output_type": "execute_result",
          "data": {
            "text/plain": [
              "'Hello\\nbro!!'"
            ],
            "application/vnd.google.colaboratory.intrinsic+json": {
              "type": "string"
            }
          },
          "metadata": {},
          "execution_count": 9
        }
      ],
      "source": [
        "'Hello\\nbro!!'"
      ]
    },
    {
      "cell_type": "code",
      "execution_count": 10,
      "metadata": {
        "colab": {
          "base_uri": "https://localhost:8080/"
        },
        "id": "ARtrxFcFJQpR",
        "outputId": "00ee34e1-897b-4a82-fe2c-92f8da4b23aa"
      },
      "outputs": [
        {
          "output_type": "stream",
          "name": "stdout",
          "text": [
            "Hello\n",
            "bro!!\n"
          ]
        }
      ],
      "source": [
        "print('Hello\\nbro!!')"
      ]
    },
    {
      "cell_type": "code",
      "execution_count": 11,
      "metadata": {
        "colab": {
          "base_uri": "https://localhost:8080/",
          "height": 35
        },
        "id": "v2RuzAf7Jwbm",
        "outputId": "4c93ef65-ce8d-4302-d285-210a1a380950"
      },
      "outputs": [
        {
          "output_type": "execute_result",
          "data": {
            "text/plain": [
              "'Hello\\nbro!!'"
            ],
            "application/vnd.google.colaboratory.intrinsic+json": {
              "type": "string"
            }
          },
          "metadata": {},
          "execution_count": 11
        }
      ],
      "source": [
        "'''Hello\n",
        "bro!!'''"
      ]
    },
    {
      "cell_type": "code",
      "execution_count": 12,
      "metadata": {
        "colab": {
          "base_uri": "https://localhost:8080/"
        },
        "id": "tRMGKjOnJzH6",
        "outputId": "2712c831-e1da-4686-c1d7-01a6da6e50dc"
      },
      "outputs": [
        {
          "output_type": "stream",
          "name": "stdout",
          "text": [
            "Hello\n",
            "bro!!\n"
          ]
        }
      ],
      "source": [
        "print('''Hello\n",
        "bro!!''')"
      ]
    },
    {
      "cell_type": "markdown",
      "metadata": {
        "id": "KalAiiHaD3pv"
      },
      "source": [
        "#리스트"
      ]
    },
    {
      "cell_type": "code",
      "execution_count": 13,
      "metadata": {
        "colab": {
          "base_uri": "https://localhost:8080/"
        },
        "id": "w9JZTvQBJ1p0",
        "outputId": "29b6222e-9e0f-46e5-c707-34301450d037"
      },
      "outputs": [
        {
          "output_type": "stream",
          "name": "stdout",
          "text": [
            "[1, 2, 1]\n"
          ]
        }
      ],
      "source": [
        "list = [1,2]\n",
        "list.append(1)\n",
        "print(list)"
      ]
    },
    {
      "cell_type": "code",
      "execution_count": 14,
      "metadata": {
        "colab": {
          "base_uri": "https://localhost:8080/"
        },
        "id": "f5AbpLdVPDO0",
        "outputId": "08d8cfb7-05f4-4727-d060-8de3e4575f66"
      },
      "outputs": [
        {
          "output_type": "stream",
          "name": "stdout",
          "text": [
            "[1, 3, 2, 1]\n"
          ]
        }
      ],
      "source": [
        "list.insert(1,3)\n",
        "print(list)"
      ]
    },
    {
      "cell_type": "code",
      "execution_count": 15,
      "metadata": {
        "colab": {
          "base_uri": "https://localhost:8080/"
        },
        "id": "uN-apVK-PFzf",
        "outputId": "278ca3a5-4a09-4405-d727-9472a8dc6872"
      },
      "outputs": [
        {
          "output_type": "execute_result",
          "data": {
            "text/plain": [
              "3"
            ]
          },
          "metadata": {},
          "execution_count": 15
        }
      ],
      "source": [
        "list.pop(1)"
      ]
    },
    {
      "cell_type": "code",
      "execution_count": 16,
      "metadata": {
        "colab": {
          "base_uri": "https://localhost:8080/"
        },
        "id": "QIo_RBckPiZB",
        "outputId": "3195e888-591a-4b50-bbd2-15e9e9a1e5a8"
      },
      "outputs": [
        {
          "output_type": "stream",
          "name": "stdout",
          "text": [
            "[1, 2, 1]\n"
          ]
        }
      ],
      "source": [
        "print(list)"
      ]
    },
    {
      "cell_type": "code",
      "execution_count": 17,
      "metadata": {
        "colab": {
          "base_uri": "https://localhost:8080/"
        },
        "id": "Z4iyVYS0PWIG",
        "outputId": "f0b83a9e-0d39-4a73-de3a-e5cfd9da70c1"
      },
      "outputs": [
        {
          "output_type": "stream",
          "name": "stdout",
          "text": [
            "[1, 1]\n"
          ]
        }
      ],
      "source": [
        "del list[1]\n",
        "print(list)"
      ]
    },
    {
      "cell_type": "code",
      "execution_count": 18,
      "metadata": {
        "colab": {
          "base_uri": "https://localhost:8080/"
        },
        "id": "0-6PTwRLPcKa",
        "outputId": "0738e659-9ca4-4980-a039-c4374b0168bd"
      },
      "outputs": [
        {
          "output_type": "execute_result",
          "data": {
            "text/plain": [
              "2"
            ]
          },
          "metadata": {},
          "execution_count": 18
        }
      ],
      "source": [
        "len(list)"
      ]
    },
    {
      "cell_type": "markdown",
      "metadata": {
        "id": "t0CzxpoMD7jj"
      },
      "source": [
        "#튜플"
      ]
    },
    {
      "cell_type": "code",
      "execution_count": 19,
      "metadata": {
        "colab": {
          "base_uri": "https://localhost:8080/"
        },
        "id": "VanOt9KDPpF1",
        "outputId": "a8a1a00f-d501-4b09-9aa4-8613fd6ec149"
      },
      "outputs": [
        {
          "output_type": "execute_result",
          "data": {
            "text/plain": [
              "(1, 2, 1)"
            ]
          },
          "metadata": {},
          "execution_count": 19
        }
      ],
      "source": [
        "tuple = (1, 2)\n",
        "tuple + (1,)"
      ]
    },
    {
      "cell_type": "code",
      "execution_count": 20,
      "metadata": {
        "colab": {
          "base_uri": "https://localhost:8080/"
        },
        "id": "EQp9IP6vP-o8",
        "outputId": "9fc2b8ea-44e3-4f39-b9c2-7d623edddb62"
      },
      "outputs": [
        {
          "output_type": "execute_result",
          "data": {
            "text/plain": [
              "(1, 2, 2.0)"
            ]
          },
          "metadata": {},
          "execution_count": 20
        }
      ],
      "source": [
        "tuple + (2.00,)"
      ]
    },
    {
      "cell_type": "markdown",
      "metadata": {
        "id": "t0SOvxPXD_vW"
      },
      "source": [
        "#딕셔너리"
      ]
    },
    {
      "cell_type": "code",
      "execution_count": 21,
      "metadata": {
        "id": "PAFBRcURQLfV"
      },
      "outputs": [],
      "source": [
        "user1 = {'name' : '홍길동', 'age' : 30, 'email' : 'hong@hanbit.co.kr'}"
      ]
    },
    {
      "cell_type": "code",
      "execution_count": 22,
      "metadata": {
        "id": "orTcp55LSxlV"
      },
      "outputs": [],
      "source": [
        "user1 = {'name' : \"홍길동\", 'age' : 30, 'email' : 'hong@hanbit.co.kr'}"
      ]
    },
    {
      "cell_type": "code",
      "execution_count": 23,
      "metadata": {
        "id": "h3bVgST_Szho"
      },
      "outputs": [],
      "source": [
        "user1 = {\"name\" : '홍길동', 'age' : 30, 'email' : \"hong@hanbit.co.kr\"}"
      ]
    },
    {
      "cell_type": "code",
      "execution_count": 24,
      "metadata": {
        "colab": {
          "base_uri": "https://localhost:8080/"
        },
        "id": "zjsvpQwWS2lI",
        "outputId": "ec45d281-4e31-4ca7-db51-ff872f57078d"
      },
      "outputs": [
        {
          "output_type": "execute_result",
          "data": {
            "text/plain": [
              "{'age': 30, 'email': 'hong@hanbit.co.kr', 'name': '홍길동'}"
            ]
          },
          "metadata": {},
          "execution_count": 24
        }
      ],
      "source": [
        "user1"
      ]
    },
    {
      "cell_type": "code",
      "execution_count": 25,
      "metadata": {
        "colab": {
          "base_uri": "https://localhost:8080/"
        },
        "id": "w3P7uWj8S4FD",
        "outputId": "1a0caca5-2be6-4155-9365-4828b6656a05"
      },
      "outputs": [
        {
          "output_type": "execute_result",
          "data": {
            "text/plain": [
              "{'a': 'a'}"
            ]
          },
          "metadata": {},
          "execution_count": 25
        }
      ],
      "source": [
        "dict1 = {'a':'a'}\n",
        "dict1"
      ]
    },
    {
      "cell_type": "code",
      "execution_count": 26,
      "metadata": {
        "colab": {
          "base_uri": "https://localhost:8080/"
        },
        "id": "aOAzVDsSTRLb",
        "outputId": "82b4d03d-1208-4178-d388-a6f6d1c37878"
      },
      "outputs": [
        {
          "output_type": "execute_result",
          "data": {
            "text/plain": [
              "{1: 1}"
            ]
          },
          "metadata": {},
          "execution_count": 26
        }
      ],
      "source": [
        "dict2 = {1:1}\n",
        "dict2"
      ]
    },
    {
      "cell_type": "markdown",
      "metadata": {
        "id": "FiOjG8lDEDcA"
      },
      "source": [
        "#if 조건문"
      ]
    },
    {
      "cell_type": "code",
      "execution_count": 27,
      "metadata": {
        "colab": {
          "base_uri": "https://localhost:8080/"
        },
        "id": "q9fDbUQhTXwz",
        "outputId": "8b1d677f-28f1-4b4c-dc33-8dd54f964b78"
      },
      "outputs": [
        {
          "output_type": "stream",
          "name": "stdout",
          "text": [
            "-------------\n",
            "check is true\n",
            "-------------\n",
            "-------------\n",
            "check is true\n",
            "-------------\n"
          ]
        }
      ],
      "source": [
        "check = True\n",
        "if check:\n",
        "  print('-' * 13)\n",
        "  print('check is true')\n",
        "  print('-' * 13)\n",
        "check = True\n",
        "if check:\n",
        "  print('-' * 13)\n",
        "  print('check is true')\n",
        "  print('-' * 13)"
      ]
    },
    {
      "cell_type": "code",
      "execution_count": 28,
      "metadata": {
        "colab": {
          "base_uri": "https://localhost:8080/"
        },
        "id": "vElh7hEoW4A2",
        "outputId": "97cce4be-1800-4991-a503-8a10e77e8e1d"
      },
      "outputs": [
        {
          "output_type": "stream",
          "name": "stdout",
          "text": [
            "-------------\n",
            "check is true\n",
            "-------------\n"
          ]
        }
      ],
      "source": [
        "check = True\n",
        "if check is True:\n",
        "  print('-' * 13)\n",
        "  print('check is true')\n",
        "  print('-' * 13)"
      ]
    },
    {
      "cell_type": "code",
      "execution_count": 29,
      "metadata": {
        "colab": {
          "base_uri": "https://localhost:8080/"
        },
        "id": "rwAzjzTxXATN",
        "outputId": "0bc2ddbf-44e4-4009-e7d2-2ee3f69e1fa0"
      },
      "outputs": [
        {
          "output_type": "stream",
          "name": "stdout",
          "text": [
            "-------------\n",
            "check is true\n",
            "-------------\n"
          ]
        }
      ],
      "source": [
        "check = True\n",
        "if check == True:\n",
        "  print('-' * 13)\n",
        "  print('check is true')\n",
        "  print('-' * 13)"
      ]
    },
    {
      "cell_type": "code",
      "execution_count": 30,
      "metadata": {
        "id": "W0I5SPZZXCDG"
      },
      "outputs": [],
      "source": [
        "check = True\n",
        "if check is False:\n",
        "  print('-' * 13)\n",
        "  print('check is true')\n",
        "  print('-' * 13)"
      ]
    },
    {
      "cell_type": "code",
      "execution_count": 31,
      "metadata": {
        "colab": {
          "base_uri": "https://localhost:8080/"
        },
        "id": "fUlRkDNkXDyB",
        "outputId": "a2b9b445-f0bb-4dbe-a890-7f523e699c56"
      },
      "outputs": [
        {
          "output_type": "stream",
          "name": "stdout",
          "text": [
            "-------------\n",
            "check is true\n",
            "-------------\n"
          ]
        }
      ],
      "source": [
        "check = True\n",
        "if check is True or False:\n",
        "  print('-' * 13)\n",
        "  print('check is true')\n",
        "  print('-' * 13)"
      ]
    },
    {
      "cell_type": "code",
      "execution_count": 32,
      "metadata": {
        "id": "uoNSkznbXOq1"
      },
      "outputs": [],
      "source": [
        "check = True\n",
        "if check is True and False:\n",
        "  print('-' * 13)\n",
        "  print('check is true')\n",
        "  print('-' * 13)"
      ]
    },
    {
      "cell_type": "code",
      "execution_count": 33,
      "metadata": {
        "colab": {
          "base_uri": "https://localhost:8080/"
        },
        "id": "C682I_eyXRWe",
        "outputId": "6a83210f-c58e-46c2-ca3c-413da60673d7"
      },
      "outputs": [
        {
          "output_type": "stream",
          "name": "stdout",
          "text": [
            "-------------\n",
            "check is true\n",
            "-------------\n"
          ]
        }
      ],
      "source": [
        "check = True\n",
        "if check >= 0:\n",
        "  print('-' * 13)\n",
        "  print('check is true')\n",
        "  print('-' * 13)\n",
        "#?????????????????????????????????????????????????????????????????"
      ]
    },
    {
      "cell_type": "code",
      "execution_count": 34,
      "metadata": {
        "id": "h8EK8HrdXTez"
      },
      "outputs": [],
      "source": [
        "check = True\n",
        "if check <0:\n",
        "  print('-' * 13)\n",
        "  print('check is true')\n",
        "  print('-' * 13)"
      ]
    },
    {
      "cell_type": "code",
      "execution_count": 35,
      "metadata": {
        "id": "KF8hq7o-XZJO"
      },
      "outputs": [],
      "source": [
        "check = True\n",
        "if check ==0:\n",
        "  print('-' * 13)\n",
        "  print('check is true')\n",
        "  print('-' * 13)"
      ]
    },
    {
      "cell_type": "code",
      "execution_count": 36,
      "metadata": {
        "colab": {
          "base_uri": "https://localhost:8080/"
        },
        "id": "k851gjw4XdRd",
        "outputId": "0e7c8654-1498-4a9a-deed-8ab134448ca0"
      },
      "outputs": [
        {
          "output_type": "stream",
          "name": "stdout",
          "text": [
            "-------------\n",
            "check is true\n",
            "-------------\n"
          ]
        }
      ],
      "source": [
        "check = True\n",
        "if check >0:\n",
        "  print('-' * 13)\n",
        "  print('check is true')\n",
        "  print('-' * 13)"
      ]
    },
    {
      "cell_type": "code",
      "execution_count": 37,
      "metadata": {
        "colab": {
          "base_uri": "https://localhost:8080/"
        },
        "id": "SpNwBsWcXrNO",
        "outputId": "84ec02c1-272a-40af-9571-6ae50bfb87b6"
      },
      "outputs": [
        {
          "output_type": "execute_result",
          "data": {
            "text/plain": [
              "1"
            ]
          },
          "metadata": {},
          "execution_count": 37
        }
      ],
      "source": [
        "int(True)"
      ]
    },
    {
      "cell_type": "code",
      "execution_count": 38,
      "metadata": {
        "colab": {
          "base_uri": "https://localhost:8080/"
        },
        "id": "q0UMTJxfXtdk",
        "outputId": "ce3bbcc9-c81c-451d-99d9-519dcdc4d839"
      },
      "outputs": [
        {
          "output_type": "execute_result",
          "data": {
            "text/plain": [
              "0"
            ]
          },
          "metadata": {},
          "execution_count": 38
        }
      ],
      "source": [
        "int(False)\n",
        "#!!!!!!!!!!!!!!!!!!!!!!!!!!!!!!!!!!!!!!!!!!!!!!!!!!!!!!!!!!!!!!!!!"
      ]
    },
    {
      "cell_type": "code",
      "execution_count": 39,
      "metadata": {
        "colab": {
          "base_uri": "https://localhost:8080/"
        },
        "id": "aJt9iBJxXvf_",
        "outputId": "8cada4ff-2821-4454-d1ef-9fc46f0fa076"
      },
      "outputs": [
        {
          "output_type": "execute_result",
          "data": {
            "text/plain": [
              "0.0"
            ]
          },
          "metadata": {},
          "execution_count": 39
        }
      ],
      "source": [
        "float(False)"
      ]
    },
    {
      "cell_type": "code",
      "execution_count": 40,
      "metadata": {
        "colab": {
          "base_uri": "https://localhost:8080/"
        },
        "id": "fzHFtoERX3Yk",
        "outputId": "c2b10381-3d69-49ba-fbed-90c09dc4e039"
      },
      "outputs": [
        {
          "output_type": "stream",
          "name": "stdout",
          "text": [
            "Grade B\n"
          ]
        }
      ],
      "source": [
        "score = 84\n",
        "if score >= 90:\n",
        "  print('Grade A')\n",
        "elif score >= 80:\n",
        "  print('Grade B')\n",
        "elif score >= 70:\n",
        "  print('Grade C')\n",
        "else:\n",
        "  print('Grade D')"
      ]
    },
    {
      "cell_type": "code",
      "execution_count": 41,
      "metadata": {
        "colab": {
          "base_uri": "https://localhost:8080/"
        },
        "id": "61KXpla1ZO2T",
        "outputId": "ec8266d0-da18-4592-f399-a8a21744a427"
      },
      "outputs": [
        {
          "output_type": "stream",
          "name": "stdout",
          "text": [
            "Grade A\n"
          ]
        }
      ],
      "source": [
        "score = 100\n",
        "if score >= 90:\n",
        "  print('Grade A')\n",
        "elif score >= 80:\n",
        "  print('Grade B')\n",
        "elif score >= 70:\n",
        "  print('Grade C')\n",
        "else:\n",
        "  print('Grade D')"
      ]
    },
    {
      "cell_type": "markdown",
      "metadata": {
        "id": "NyRTLQ0YEH6R"
      },
      "source": [
        "#while 반복문"
      ]
    },
    {
      "cell_type": "code",
      "execution_count": 42,
      "metadata": {
        "colab": {
          "base_uri": "https://localhost:8080/"
        },
        "id": "Gpskm7feZQgd",
        "outputId": "c5d25201-d9db-464f-b3d9-0a7fe43963c6"
      },
      "outputs": [
        {
          "name": "stdout",
          "output_type": "stream",
          "text": [
            "input number : \n",
            "0\n"
          ]
        }
      ],
      "source": [
        "while True:\n",
        "  print('input number : ')\n",
        "  menu = int(input())\n",
        "  if menu == 0: \n",
        "    break\n",
        "  elif menu == 1:\n",
        "    print('number one')\n",
        "  elif menu == 99:\n",
        "    continue\n",
        "  elif menu == 2:\n",
        "    print('number two')\n",
        "  else:\n",
        "    print('another number')"
      ]
    },
    {
      "cell_type": "code",
      "execution_count": 43,
      "metadata": {
        "id": "hEzInwf3biBA",
        "colab": {
          "base_uri": "https://localhost:8080/"
        },
        "outputId": "7fba2f3e-945d-40fe-ead1-98981e32a5be"
      },
      "outputs": [
        {
          "name": "stdout",
          "output_type": "stream",
          "text": [
            "input number : \n",
            "1\n",
            "number one\n",
            "input number : \n",
            "3\n",
            "another number\n",
            "input number : \n",
            "99\n",
            "input number : \n",
            "0\n"
          ]
        }
      ],
      "source": [
        "while True:\n",
        "  print('input number : ')\n",
        "  menu = int(input())\n",
        "  if menu == 0:break\n",
        "  elif menu == 1: print('number one')\n",
        "  elif menu == 99: continue\n",
        "  elif menu == 2:  print('number two')\n",
        "  else:    print('another number')"
      ]
    },
    {
      "cell_type": "markdown",
      "metadata": {
        "id": "L0tF7Ls8EL_l"
      },
      "source": [
        "#for 반복문"
      ]
    },
    {
      "cell_type": "code",
      "execution_count": 44,
      "metadata": {
        "id": "T5vNwZ01btMN",
        "colab": {
          "base_uri": "https://localhost:8080/"
        },
        "outputId": "866e02b9-d651-470b-fc07-a5ad74839e7c"
      },
      "outputs": [
        {
          "output_type": "stream",
          "name": "stdout",
          "text": [
            "0 0\n",
            "10 15\n",
            "20 25\n"
          ]
        }
      ],
      "source": [
        "coord = [(0,0), (10,15), (20,25)]\n",
        "for x,y in coord:\n",
        "  print(x,y)"
      ]
    },
    {
      "cell_type": "code",
      "execution_count": 45,
      "metadata": {
        "id": "bm4IyjBGdQxi",
        "colab": {
          "base_uri": "https://localhost:8080/"
        },
        "outputId": "154b011a-c453-4ce3-8aa6-86ef9c1c0505"
      },
      "outputs": [
        {
          "output_type": "stream",
          "name": "stdout",
          "text": [
            "(0, 0)\n",
            "(10, 15)\n",
            "(20, 25)\n"
          ]
        }
      ],
      "source": [
        "coord = [(0,0), (10,15), (20,25)]\n",
        "for x in coord:\n",
        "  print(x)"
      ]
    },
    {
      "cell_type": "code",
      "execution_count": 46,
      "metadata": {
        "id": "l-4JX6YHdTfS",
        "colab": {
          "base_uri": "https://localhost:8080/"
        },
        "outputId": "9de14403-e76d-4b35-ffac-6f5d096a4e51"
      },
      "outputs": [
        {
          "output_type": "stream",
          "name": "stdout",
          "text": [
            "0\n",
            "10\n",
            "20\n"
          ]
        }
      ],
      "source": [
        "coord = [(0,0), (10,15), (20,25)]\n",
        "for x,y in coord:\n",
        "  print(x)"
      ]
    },
    {
      "cell_type": "code",
      "execution_count": 47,
      "metadata": {
        "id": "gGU22AGIdXuO",
        "colab": {
          "base_uri": "https://localhost:8080/"
        },
        "outputId": "c3e82464-7629-4490-e7af-a414a973bd7d"
      },
      "outputs": [
        {
          "output_type": "stream",
          "name": "stdout",
          "text": [
            "0 333333333\n",
            "10 333333333\n",
            "20 333333333\n"
          ]
        }
      ],
      "source": [
        "coord = [0, 10, 20]\n",
        "for x in coord:\n",
        "  print(x,333333333)"
      ]
    },
    {
      "cell_type": "code",
      "execution_count": 48,
      "metadata": {
        "id": "s0CsYadndbTQ",
        "colab": {
          "base_uri": "https://localhost:8080/"
        },
        "outputId": "532aaab2-4c88-4d83-a3ea-b45b9f0a3cca"
      },
      "outputs": [
        {
          "output_type": "stream",
          "name": "stdout",
          "text": [
            "name Kei\n",
            "age 35\n",
            "nationality Korea\n"
          ]
        }
      ],
      "source": [
        "user = {'name' : 'Kei', 'age' : 35, 'nationality' : 'Korea'}\n",
        "for k, v in user.items():\n",
        "  print(k,v)"
      ]
    },
    {
      "cell_type": "code",
      "execution_count": 49,
      "metadata": {
        "id": "FuEfaVyAfCkp",
        "colab": {
          "base_uri": "https://localhost:8080/"
        },
        "outputId": "5e68a16e-6b81-4fdf-f94e-abd8d07efeb9"
      },
      "outputs": [
        {
          "output_type": "stream",
          "name": "stdout",
          "text": [
            "name : Kei\n",
            "age : 35\n",
            "nationality : Korea\n"
          ]
        }
      ],
      "source": [
        "for k, v in user.items():\n",
        "  print(k,':',v)"
      ]
    },
    {
      "cell_type": "markdown",
      "metadata": {
        "id": "BVZdrqE9EXI9"
      },
      "source": [
        "#사용자 정의 함수"
      ]
    },
    {
      "cell_type": "code",
      "execution_count": 50,
      "metadata": {
        "id": "HEtgI6ggETEL",
        "colab": {
          "base_uri": "https://localhost:8080/"
        },
        "outputId": "717dc918-845a-4739-b23a-9ebe0f607300"
      },
      "outputs": [
        {
          "output_type": "execute_result",
          "data": {
            "text/plain": [
              "-1"
            ]
          },
          "metadata": {},
          "execution_count": 50
        }
      ],
      "source": [
        "def add(a,b):\n",
        "  return a + b\n",
        "a = 1\n",
        "b = -2\n",
        "add(a,b)"
      ]
    },
    {
      "cell_type": "code",
      "execution_count": 51,
      "metadata": {
        "id": "rpnAwrPaEnz4",
        "colab": {
          "base_uri": "https://localhost:8080/"
        },
        "outputId": "e51cee3d-7a29-4deb-9a24-cdf3b1396bed"
      },
      "outputs": [
        {
          "output_type": "stream",
          "name": "stdout",
          "text": [
            "name : Kei\n",
            "age : 35\n",
            "score : 85\n"
          ]
        }
      ],
      "source": [
        "def print_user(a,b):\n",
        "  print(\"name : %s\" % user['name'])\n",
        "  print(\"age : %d\" % user['age'])\n",
        "  print(\"score : %d\" %score)\n",
        "user = {'name' : 'Kei' , 'age' : 35 }\n",
        "score = 85\n",
        "print_user(user, score)"
      ]
    },
    {
      "cell_type": "code",
      "execution_count": 52,
      "metadata": {
        "id": "THpJErYCE2mk",
        "colab": {
          "base_uri": "https://localhost:8080/"
        },
        "outputId": "04de2b0b-bac5-45d5-bd77-2fd72af05e1e"
      },
      "outputs": [
        {
          "output_type": "stream",
          "name": "stdout",
          "text": [
            "name : Kei\n",
            "age : 35\n",
            "score : 85\n"
          ]
        }
      ],
      "source": [
        "def print_user(a,b):\n",
        "  print(\"name : %s\" % user['name'])\n",
        "  print(\"age : %d\" % user['age'])\n",
        "  print(\"score : %d\" %score)\n",
        "ran = {'name' : 'Kei' , 'age' : 35 }\n",
        "dom = 85\n",
        "print_user(ran, dom)"
      ]
    },
    {
      "cell_type": "markdown",
      "metadata": {
        "id": "ZgVqCWMZF4S3"
      },
      "source": [
        "# 내장 함수"
      ]
    },
    {
      "cell_type": "code",
      "execution_count": 53,
      "metadata": {
        "id": "L941DEh5E9Ho",
        "colab": {
          "base_uri": "https://localhost:8080/"
        },
        "outputId": "7595e76b-938b-445f-8c4e-4eb7458e32da"
      },
      "outputs": [
        {
          "output_type": "stream",
          "name": "stdout",
          "text": [
            "integer : 10 / float : 3.14 / string : hello\n"
          ]
        }
      ],
      "source": [
        "print('integer : {} / float : {} / string : {}'.format(10, 3.14, \"hello\"))"
      ]
    },
    {
      "cell_type": "code",
      "execution_count": 54,
      "metadata": {
        "id": "wU9zDtHVF751",
        "colab": {
          "base_uri": "https://localhost:8080/"
        },
        "outputId": "2000aae0-d8e8-4d3b-d431-bd754fed0203"
      },
      "outputs": [
        {
          "output_type": "stream",
          "name": "stdout",
          "text": [
            "integer : 10 , float : 3.14 , string : hello\n"
          ]
        }
      ],
      "source": [
        "print('integer : {} , float : {} , string : {}'.format(10, 3.14, \"hello\"))"
      ]
    },
    {
      "cell_type": "code",
      "execution_count": 55,
      "metadata": {
        "id": "sdZSOQ70F_QF",
        "colab": {
          "base_uri": "https://localhost:8080/"
        },
        "outputId": "7c0bbd46-ea24-4ada-99a9-c672d8b46484"
      },
      "outputs": [
        {
          "output_type": "stream",
          "name": "stdout",
          "text": [
            "integer : 10 / float : 3.14 / string : hello\n"
          ]
        }
      ],
      "source": [
        "print('integer : {} / float : {} / string : {}'.format(10, 3.14, 'hello'))"
      ]
    },
    {
      "cell_type": "code",
      "execution_count": 56,
      "metadata": {
        "id": "HheDWGbLGEbn",
        "colab": {
          "base_uri": "https://localhost:8080/"
        },
        "outputId": "b9c52d2a-c0cb-463d-8d9a-5d6d04c30dea"
      },
      "outputs": [
        {
          "output_type": "stream",
          "name": "stdout",
          "text": [
            "integer : 10 / float : 3.14 / string : hello\n"
          ]
        }
      ],
      "source": [
        "print('integer : {0} / float : {1} / string : {2}'.format(10, 3.14, \"hello\"))"
      ]
    },
    {
      "cell_type": "code",
      "execution_count": 57,
      "metadata": {
        "id": "6_MIMDmYGSBq",
        "colab": {
          "base_uri": "https://localhost:8080/"
        },
        "outputId": "bd22e1d3-420b-459d-e7c9-0b8702de68c3"
      },
      "outputs": [
        {
          "output_type": "stream",
          "name": "stdout",
          "text": [
            "integer : 10 / float : 10 / string : 10\n"
          ]
        }
      ],
      "source": [
        "print('integer : {0} / float : {0} / string : {0}'.format(10, 3.14, \"hello\"))"
      ]
    },
    {
      "cell_type": "code",
      "execution_count": 58,
      "metadata": {
        "id": "Z5h3oPa7GYOy",
        "colab": {
          "base_uri": "https://localhost:8080/"
        },
        "outputId": "93268380-bef0-4942-9ec1-5bacd9fd9701"
      },
      "outputs": [
        {
          "output_type": "stream",
          "name": "stdout",
          "text": [
            "index:0, value:10\n",
            "index:1, value:11\n",
            "index:2, value:12\n",
            "index:3, value:13\n",
            "index:4, value:14\n"
          ]
        }
      ],
      "source": [
        "numbers = [10, 11, 12, 13, 14]\n",
        "for idx, value in enumerate(numbers):\n",
        "  print('index:{}, value:{}'.format(idx, value))"
      ]
    },
    {
      "cell_type": "code",
      "execution_count": 59,
      "metadata": {
        "id": "DTxAXArXHpuR",
        "colab": {
          "base_uri": "https://localhost:8080/"
        },
        "outputId": "4c40349d-bbf5-4865-deda-bb183cd4eebb"
      },
      "outputs": [
        {
          "output_type": "execute_result",
          "data": {
            "text/plain": [
              "<enumerate at 0x7f267cfc15a0>"
            ]
          },
          "metadata": {},
          "execution_count": 59
        }
      ],
      "source": [
        "enumerate(numbers)"
      ]
    },
    {
      "cell_type": "code",
      "execution_count": 60,
      "metadata": {
        "id": "Z5MjsvifHsHv",
        "colab": {
          "base_uri": "https://localhost:8080/"
        },
        "outputId": "379498d7-91ec-4577-e058-def049487c9b"
      },
      "outputs": [
        {
          "output_type": "stream",
          "name": "stdout",
          "text": [
            "<enumerate object at 0x7f267cfc1eb0>\n"
          ]
        }
      ],
      "source": [
        "print(enumerate(numbers))"
      ]
    },
    {
      "cell_type": "code",
      "execution_count": 61,
      "metadata": {
        "id": "8Qip670oHvJd"
      },
      "outputs": [],
      "source": [
        "x = enumerate(numbers)"
      ]
    },
    {
      "cell_type": "code",
      "execution_count": 62,
      "metadata": {
        "id": "b61wD4RwHyaR",
        "colab": {
          "base_uri": "https://localhost:8080/"
        },
        "outputId": "cc3a15c8-176f-42eb-e7e5-0efedd9fc13c"
      },
      "outputs": [
        {
          "output_type": "execute_result",
          "data": {
            "text/plain": [
              "<enumerate at 0x7f267cfb9b90>"
            ]
          },
          "metadata": {},
          "execution_count": 62
        }
      ],
      "source": [
        "x"
      ]
    },
    {
      "cell_type": "code",
      "execution_count": 63,
      "metadata": {
        "id": "hXC_LGY_IB7b",
        "colab": {
          "base_uri": "https://localhost:8080/",
          "height": 35
        },
        "outputId": "449ab96f-74e9-44aa-82a5-559bf5f4d7e8"
      },
      "outputs": [
        {
          "output_type": "execute_result",
          "data": {
            "text/plain": [
              "'HELLO'"
            ],
            "application/vnd.google.colaboratory.intrinsic+json": {
              "type": "string"
            }
          },
          "metadata": {},
          "execution_count": 63
        }
      ],
      "source": [
        "str(\"hello\".upper())\n"
      ]
    },
    {
      "cell_type": "code",
      "execution_count": 64,
      "metadata": {
        "id": "Fb9MiPeFIHOF",
        "colab": {
          "base_uri": "https://localhost:8080/",
          "height": 35
        },
        "outputId": "305665a6-40b4-4512-d3c8-08467c2ec6cf"
      },
      "outputs": [
        {
          "output_type": "execute_result",
          "data": {
            "text/plain": [
              "'hello'"
            ],
            "application/vnd.google.colaboratory.intrinsic+json": {
              "type": "string"
            }
          },
          "metadata": {},
          "execution_count": 64
        }
      ],
      "source": [
        "str(\"HELLO\".lower())"
      ]
    },
    {
      "cell_type": "code",
      "execution_count": 65,
      "metadata": {
        "id": "EXgY9fqMIHpH",
        "colab": {
          "base_uri": "https://localhost:8080/",
          "height": 35
        },
        "outputId": "7ecf302e-ff31-46b7-9a61-8dfe3290e9dc"
      },
      "outputs": [
        {
          "output_type": "execute_result",
          "data": {
            "text/plain": [
              "'1'"
            ],
            "application/vnd.google.colaboratory.intrinsic+json": {
              "type": "string"
            }
          },
          "metadata": {},
          "execution_count": 65
        }
      ],
      "source": [
        "'1'.lower()"
      ]
    },
    {
      "cell_type": "code",
      "execution_count": 66,
      "metadata": {
        "id": "xRwCIPOhILVY",
        "colab": {
          "base_uri": "https://localhost:8080/",
          "height": 35
        },
        "outputId": "49996e90-1b49-4e24-823d-2277cd36cdde"
      },
      "outputs": [
        {
          "output_type": "execute_result",
          "data": {
            "text/plain": [
              "'100'"
            ],
            "application/vnd.google.colaboratory.intrinsic+json": {
              "type": "string"
            }
          },
          "metadata": {},
          "execution_count": 66
        }
      ],
      "source": [
        "'100'.lower()"
      ]
    },
    {
      "cell_type": "code",
      "execution_count": 67,
      "metadata": {
        "id": "pCfqeCi7IQ7U",
        "colab": {
          "base_uri": "https://localhost:8080/",
          "height": 35
        },
        "outputId": "93439dfa-4ad9-4074-cbb4-de807216a3be"
      },
      "outputs": [
        {
          "output_type": "execute_result",
          "data": {
            "text/plain": [
              "'hello'"
            ],
            "application/vnd.google.colaboratory.intrinsic+json": {
              "type": "string"
            }
          },
          "metadata": {},
          "execution_count": 67
        }
      ],
      "source": [
        "'Hello'.lower()"
      ]
    },
    {
      "cell_type": "code",
      "execution_count": 68,
      "metadata": {
        "id": "nqx5DEZBIVuu",
        "colab": {
          "base_uri": "https://localhost:8080/",
          "height": 35
        },
        "outputId": "2e4c6b9a-0763-49c7-fef1-a6681d38c6cc"
      },
      "outputs": [
        {
          "output_type": "execute_result",
          "data": {
            "text/plain": [
              "'HELLO'"
            ],
            "application/vnd.google.colaboratory.intrinsic+json": {
              "type": "string"
            }
          },
          "metadata": {},
          "execution_count": 68
        }
      ],
      "source": [
        "'hELLO'.upper()"
      ]
    },
    {
      "cell_type": "code",
      "execution_count": 69,
      "metadata": {
        "id": "uDf1fdPoIXwF",
        "colab": {
          "base_uri": "https://localhost:8080/",
          "height": 35
        },
        "outputId": "65167c26-25be-46b8-b1b0-0caeacba8544"
      },
      "outputs": [
        {
          "output_type": "execute_result",
          "data": {
            "text/plain": [
              "'Kei,Tonny,Grace,Jenny,Jaeyoo'"
            ],
            "application/vnd.google.colaboratory.intrinsic+json": {
              "type": "string"
            }
          },
          "metadata": {},
          "execution_count": 69
        }
      ],
      "source": [
        "names =  ['Kei', 'Tonny', 'Grace', 'Jenny', 'Jaeyoo']\n",
        "','.join(names)"
      ]
    },
    {
      "cell_type": "code",
      "execution_count": 70,
      "metadata": {
        "id": "xkEfQmMKJx7Z",
        "colab": {
          "base_uri": "https://localhost:8080/",
          "height": 35
        },
        "outputId": "50152a3f-9f32-43d5-e61f-5dc1da2add26"
      },
      "outputs": [
        {
          "output_type": "execute_result",
          "data": {
            "text/plain": [
              "'KeiTonnyGraceJennyJaeyoo'"
            ],
            "application/vnd.google.colaboratory.intrinsic+json": {
              "type": "string"
            }
          },
          "metadata": {},
          "execution_count": 70
        }
      ],
      "source": [
        "names =  ['Kei', 'Tonny', 'Grace', 'Jenny', 'Jaeyoo']\n",
        "''.join(names)"
      ]
    },
    {
      "cell_type": "code",
      "execution_count": 71,
      "metadata": {
        "id": "BekNBqkiJ0Z6",
        "colab": {
          "base_uri": "https://localhost:8080/"
        },
        "outputId": "0240909e-dfd4-4e1e-802d-a7995a6bfbef"
      },
      "outputs": [
        {
          "output_type": "execute_result",
          "data": {
            "text/plain": [
              "['Kei', 'Tonny', 'Grace', 'Jenny', 'Jaeyoo']"
            ]
          },
          "metadata": {},
          "execution_count": 71
        }
      ],
      "source": [
        "names_str = ','.join(names)\n",
        "names_split = names_str.split(',')\n",
        "names_split"
      ]
    },
    {
      "cell_type": "code",
      "execution_count": 72,
      "metadata": {
        "id": "i5ua1lhaJ64j",
        "colab": {
          "base_uri": "https://localhost:8080/"
        },
        "outputId": "6d32fcc3-82a2-411d-8c71-656bf415a5c9"
      },
      "outputs": [
        {
          "output_type": "execute_result",
          "data": {
            "text/plain": [
              "['Kei,Tonny,Grace,', 'enny,', 'aeyoo']"
            ]
          },
          "metadata": {},
          "execution_count": 72
        }
      ],
      "source": [
        "names_str = ','.join(names)\n",
        "names_split = names_str.split('J')\n",
        "names_split"
      ]
    },
    {
      "cell_type": "code",
      "execution_count": 73,
      "metadata": {
        "id": "vCf1Wzg7J86v",
        "colab": {
          "base_uri": "https://localhost:8080/"
        },
        "outputId": "5bba7772-f838-47e6-a748-dd58ef80a005"
      },
      "outputs": [
        {
          "output_type": "execute_result",
          "data": {
            "text/plain": [
              "10"
            ]
          },
          "metadata": {},
          "execution_count": 73
        }
      ],
      "source": [
        "str = \"I want to be a great programmer.\"\n",
        "str.find(\"be\")"
      ]
    },
    {
      "cell_type": "code",
      "execution_count": 74,
      "metadata": {
        "id": "QS3vAOl7KngY",
        "colab": {
          "base_uri": "https://localhost:8080/"
        },
        "outputId": "64d02f4a-c432-4cb4-9092-579f93131d71"
      },
      "outputs": [
        {
          "output_type": "execute_result",
          "data": {
            "text/plain": [
              "0"
            ]
          },
          "metadata": {},
          "execution_count": 74
        }
      ],
      "source": [
        "str = \"I want to be a great programmer.\"\n",
        "str.find(\"\")"
      ]
    },
    {
      "cell_type": "code",
      "execution_count": 75,
      "metadata": {
        "id": "39kL6_ndKrPt",
        "colab": {
          "base_uri": "https://localhost:8080/"
        },
        "outputId": "f59ad8b0-69af-40ee-cfd0-5878b601c8e6"
      },
      "outputs": [
        {
          "output_type": "execute_result",
          "data": {
            "text/plain": [
              "-1"
            ]
          },
          "metadata": {},
          "execution_count": 75
        }
      ],
      "source": [
        "str = \"I want to be a great programmer.\"\n",
        "str.find('  ')"
      ]
    },
    {
      "cell_type": "code",
      "execution_count": 76,
      "metadata": {
        "id": "7RAe_E7lKvx6",
        "colab": {
          "base_uri": "https://localhost:8080/",
          "height": 35
        },
        "outputId": "4b797ce2-4daf-491e-fb6a-ad8cf9bb5f4e"
      },
      "outputs": [
        {
          "output_type": "execute_result",
          "data": {
            "text/plain": [
              "'I want to be a great programmer.'"
            ],
            "application/vnd.google.colaboratory.intrinsic+json": {
              "type": "string"
            }
          },
          "metadata": {},
          "execution_count": 76
        }
      ],
      "source": [
        "str = \" I want to be a great programmer. \"\n",
        "new_str = str.strip()\n",
        "new_str"
      ]
    },
    {
      "cell_type": "code",
      "execution_count": 77,
      "metadata": {
        "id": "0RRnBUASLdUf",
        "colab": {
          "base_uri": "https://localhost:8080/",
          "height": 35
        },
        "outputId": "85a50af9-34b0-4f55-94f1-7655b6a88d61"
      },
      "outputs": [
        {
          "output_type": "execute_result",
          "data": {
            "text/plain": [
              "'I want to be a great programmer.'"
            ],
            "application/vnd.google.colaboratory.intrinsic+json": {
              "type": "string"
            }
          },
          "metadata": {},
          "execution_count": 77
        }
      ],
      "source": [
        "str = \"I want to be a great programmer.           \"\n",
        "new_str = str.strip()\n",
        "new_str"
      ]
    },
    {
      "cell_type": "code",
      "execution_count": 78,
      "metadata": {
        "id": "umStCMx5Lekp",
        "colab": {
          "base_uri": "https://localhost:8080/"
        },
        "outputId": "a2d7836a-bd14-40bf-fe19-96937ba795d4"
      },
      "outputs": [
        {
          "output_type": "stream",
          "name": "stdout",
          "text": [
            "[1, 4, 9, 16]\n"
          ]
        }
      ],
      "source": [
        "del(list)\n",
        "#map() 함수와 lambda 함수 사용\n",
        "numbers = range(1,5)\n",
        "square_list = list(map(lambda x : x**2, numbers))\n",
        "print(square_list)"
      ]
    },
    {
      "cell_type": "code",
      "execution_count": 79,
      "metadata": {
        "id": "lqOl7LjdSqnT",
        "colab": {
          "base_uri": "https://localhost:8080/"
        },
        "outputId": "4b8d2f5d-81f3-4d58-96d2-39814482d06f"
      },
      "outputs": [
        {
          "output_type": "stream",
          "name": "stdout",
          "text": [
            "[2, 4, 6, 8, 10, 12, 14, 16, 18, 20]\n"
          ]
        }
      ],
      "source": [
        "#filter() 함수와 lambda 함수 사용\n",
        "numbers = range(1,21)\n",
        "even_list = list(filter(lambda n:n%2==0, numbers))\n",
        "print(even_list)"
      ]
    },
    {
      "cell_type": "code",
      "execution_count": 80,
      "metadata": {
        "id": "9K_aAr05S70Y",
        "colab": {
          "base_uri": "https://localhost:8080/"
        },
        "outputId": "b7551031-3ecc-49c8-d594-80a571cc96d5"
      },
      "outputs": [
        {
          "output_type": "stream",
          "name": "stdout",
          "text": [
            "[]\n"
          ]
        }
      ],
      "source": [
        "#filter() 함수와 lambda 함수 사용\n",
        "numbers = range(1,21)\n",
        "even_list = list(filter(lambda n:n%22==0, numbers))\n",
        "print(even_list)"
      ]
    },
    {
      "cell_type": "code",
      "execution_count": 81,
      "metadata": {
        "id": "vDTN9ugIScs-",
        "colab": {
          "base_uri": "https://localhost:8080/"
        },
        "outputId": "1d9b98b1-6073-406b-808d-f95b09309062"
      },
      "outputs": [
        {
          "output_type": "stream",
          "name": "stdout",
          "text": [
            "[1, 4, 9, 16]\n"
          ]
        }
      ],
      "source": [
        "#map() 함수와 lambda 함수 사용\n",
        "numbers = range(1,5)\n",
        "square_list = list(map(lambda x : x**2, numbers))\n",
        "print(square_list)"
      ]
    },
    {
      "cell_type": "code",
      "execution_count": 82,
      "metadata": {
        "id": "NQCaOT8BSjHh",
        "colab": {
          "base_uri": "https://localhost:8080/"
        },
        "outputId": "c04a2c52-33e7-4406-9b84-a25f85b1fd11"
      },
      "outputs": [
        {
          "output_type": "stream",
          "name": "stdout",
          "text": [
            "[1, 4, 9, 16]\n"
          ]
        }
      ],
      "source": [
        "#map() 함수와 lambda 함수 사용\n",
        "numbers = range(1,5)\n",
        "square_list = list(map(lambda numbers : numbers**2, numbers))\n",
        "print(square_list)"
      ]
    },
    {
      "cell_type": "markdown",
      "metadata": {
        "id": "U8ZR8MWWXxBb"
      },
      "source": [
        "# 외장 함수"
      ]
    },
    {
      "cell_type": "code",
      "execution_count": 83,
      "metadata": {
        "id": "Qz6NlaRiSoAT",
        "colab": {
          "base_uri": "https://localhost:8080/"
        },
        "outputId": "3b56d1f6-0075-4081-d4d1-26a6cdb0a7d3"
      },
      "outputs": [
        {
          "output_type": "stream",
          "name": "stdout",
          "text": [
            "[{'title': 'python program'}, {'author': 'Kei'}]\n"
          ]
        }
      ],
      "source": [
        "import pickle\n",
        "f = open('setting.txt', 'wb') # wb: 바이너리 쓰기\n",
        "setting = [{'title' : 'python program'}, {'author' : 'Kei'}] \n",
        "pickle.dump(setting, f)\n",
        "f.close()\n",
        "\n",
        "f = open('setting.txt', 'rb')\n",
        "setting = pickle.load(f)\n",
        "f.close()\n",
        "print(setting)"
      ]
    },
    {
      "cell_type": "code",
      "execution_count": 84,
      "metadata": {
        "id": "Suqm1uKeX6sX",
        "colab": {
          "base_uri": "https://localhost:8080/"
        },
        "outputId": "a9cb5e52-9550-4fdb-b2fd-5872850a0149"
      },
      "outputs": [
        {
          "output_type": "stream",
          "name": "stdout",
          "text": [
            "[{'title': 'python program'}, {'author': 'Kei'}]\n"
          ]
        }
      ],
      "source": [
        "import pickle\n",
        "f = open('setting.txt', 'wb') # wb: 바이너리 쓰기\n",
        "setting = [{'title' : 'python program'}, {'author' : 'Kei'}] \n",
        "pickle.dump(setting, f)\n",
        "f.close()\n",
        "\n",
        "f = open('setting.txt', 'rb')\n",
        "setting = pickle.load(f)\n",
        "f.close()\n",
        "print(setting)"
      ]
    },
    {
      "cell_type": "code",
      "execution_count": 85,
      "metadata": {
        "id": "O_Corh-mgATS",
        "colab": {
          "base_uri": "https://localhost:8080/",
          "height": 35
        },
        "outputId": "3a22409e-23d0-42f5-dc4d-828033896cdc"
      },
      "outputs": [
        {
          "output_type": "execute_result",
          "data": {
            "text/plain": [
              "'2022/08/13 06:26:57'"
            ],
            "application/vnd.google.colaboratory.intrinsic+json": {
              "type": "string"
            }
          },
          "metadata": {},
          "execution_count": 85
        }
      ],
      "source": [
        "import time\n",
        "lt = time.localtime(time.time())\n",
        "time.strftime('%Y/%m/%d %H:%M:%S', lt)"
      ]
    },
    {
      "cell_type": "code",
      "execution_count": 86,
      "metadata": {
        "id": "JudUCQrcgArA",
        "colab": {
          "base_uri": "https://localhost:8080/",
          "height": 35
        },
        "outputId": "10710ba3-bc96-4df5-a346-258adadbab48"
      },
      "outputs": [
        {
          "output_type": "execute_result",
          "data": {
            "text/plain": [
              "'2022/08/13 06:26:57'"
            ],
            "application/vnd.google.colaboratory.intrinsic+json": {
              "type": "string"
            }
          },
          "metadata": {},
          "execution_count": 86
        }
      ],
      "source": [
        "import time\n",
        "time.strftime('%Y/%m/%d %H:%M:%S', time.localtime(time.time()))"
      ]
    },
    {
      "cell_type": "markdown",
      "metadata": {
        "id": "zxcNGNqQg7Qn"
      },
      "source": [
        "# 클래스"
      ]
    },
    {
      "cell_type": "code",
      "execution_count": 87,
      "metadata": {
        "id": "2X0qMPXkg-Lv",
        "colab": {
          "base_uri": "https://localhost:8080/"
        },
        "outputId": "fbb84151-2093-4002-8e20-6d3a10a73444"
      },
      "outputs": [
        {
          "output_type": "stream",
          "name": "stdout",
          "text": [
            "say hello\n",
            "My name is Kbot :D\n"
          ]
        }
      ],
      "source": [
        "class Chatbot:\n",
        "  def sayHello(self):\n",
        "    print(\"say hello\")\n",
        "  def sayMyName(self):\n",
        "    print(\"My name is Kbot :D\")\n",
        "chatbot = Chatbot()  # 인스턴스를 생성함.\n",
        "chatbot.sayHello()\n",
        "chatbot.sayMyName()"
      ]
    },
    {
      "cell_type": "code",
      "execution_count": 88,
      "metadata": {
        "id": "jK7as7SQi60j",
        "colab": {
          "base_uri": "https://localhost:8080/"
        },
        "outputId": "95536d81-71fb-41d1-b307-b417310b4aa5"
      },
      "outputs": [
        {
          "output_type": "stream",
          "name": "stdout",
          "text": [
            "say hello\n",
            "My name is Kbot :D\n"
          ]
        }
      ],
      "source": [
        "class Chatbot:\n",
        "  def sayHello(f):\n",
        "    print(\"say hello\")\n",
        "  def sayMyName(x):\n",
        "    print(\"My name is Kbot :D\")\n",
        "chatbot = Chatbot()  # 인스턴스를 생성함.\n",
        "chatbot.sayHello()\n",
        "chatbot.sayMyName()\n",
        "\n",
        "#?????????????????????????????????????????????????????????? self를 안썼는데. "
      ]
    },
    {
      "cell_type": "markdown",
      "metadata": {
        "id": "fPhstD_Sprsf"
      },
      "source": [
        "# 생성자 및 소멸자"
      ]
    },
    {
      "cell_type": "code",
      "execution_count": 89,
      "metadata": {
        "id": "hl_lO0aAi_PB",
        "colab": {
          "base_uri": "https://localhost:8080/"
        },
        "outputId": "874793f2-6100-4de9-e2f8-5b2c7c2461af"
      },
      "outputs": [
        {
          "output_type": "stream",
          "name": "stdout",
          "text": [
            "call __init__()\n",
            "obj instance is alive...\n",
            "call__del__()\n"
          ]
        }
      ],
      "source": [
        "class SimpleObj:\n",
        "  def __init__(self):\n",
        "    print('call __init__()')\n",
        "  def __del__(self):\n",
        "    print('call__del__()')\n",
        "obj = SimpleObj()\n",
        "print('obj instance is alive...')\n",
        "del obj"
      ]
    },
    {
      "cell_type": "code",
      "execution_count": 90,
      "metadata": {
        "id": "cf3E3mzbmGtB",
        "colab": {
          "base_uri": "https://localhost:8080/"
        },
        "outputId": "b28b72ab-1af5-4f8e-bb19-6785f5ad0c07"
      },
      "outputs": [
        {
          "output_type": "stream",
          "name": "stdout",
          "text": [
            "call __init__()\n",
            "obj instance is alive...\n",
            "call__del__()\n"
          ]
        }
      ],
      "source": [
        "class SimpleObj:\n",
        "  def __init__(k):\n",
        "    print('call __init__()')\n",
        "  def __del__(k):\n",
        "    print('call__del__()')\n",
        "obj = SimpleObj()\n",
        "print('obj instance is alive...')\n",
        "del obj\n",
        "#?????????????????????????????????????????????????????????? self를 안썼는데. "
      ]
    },
    {
      "cell_type": "markdown",
      "metadata": {
        "id": "EOa6__4gpwQO"
      },
      "source": [
        "# 메서드와 인스턴스 변수"
      ]
    },
    {
      "cell_type": "code",
      "execution_count": 91,
      "metadata": {
        "id": "Dt1lM2tzmLab",
        "colab": {
          "base_uri": "https://localhost:8080/"
        },
        "outputId": "11c86d45-d143-450f-b877-1a0c4bd4f44d"
      },
      "outputs": [
        {
          "output_type": "stream",
          "name": "stdout",
          "text": [
            "value = 100\n",
            "a=200, b=50, c=200, d=50.0\n"
          ]
        }
      ],
      "source": [
        "class Calc:\n",
        "  def __init__(self, init_value):  #입력값이 self가 아닌 init_value에 저장됨. self는 인스턴스 내부에서 자신을 참조하기 위해 사용하는 용도이기 때문.\n",
        "    self.value = init_value  #인스턴스 변수로 사용하기 위해서는 self 키워드를 사용해야 함.\n",
        "  def add(self, n): \n",
        "    return self.value + n\n",
        "  def sub(self, n):\n",
        "    return self.value - n\n",
        "  def mul(self, n):\n",
        "    return self.value * n\n",
        "  def div(self, n):\n",
        "    return self.value / n\n",
        "cal = Calc(100)\n",
        "print(\"value = {0}\".format(cal.value))\n",
        "a = cal.add(100)\n",
        "b = cal.sub(50)\n",
        "c = cal.mul(2)\n",
        "d = cal.div(2)\n",
        "print(\"a={0}, b={1}, c={2}, d={3}\".format(a, b, c, d))"
      ]
    },
    {
      "cell_type": "code",
      "execution_count": 92,
      "metadata": {
        "id": "CljGvcOrp0u6",
        "colab": {
          "base_uri": "https://localhost:8080/"
        },
        "outputId": "ad399c27-f884-4dab-d785-621d0fa92d8d"
      },
      "outputs": [
        {
          "output_type": "stream",
          "name": "stdout",
          "text": [
            "value = 100\n",
            "a=200, b=50, c=200, d=50.0\n"
          ]
        }
      ],
      "source": [
        "class Calc:\n",
        "  def __init__(f, init_value):  #입력값이 self가 아닌 init_value에 저장됨. self는 인스턴스 내부에서 자신을 참조하기 위해 사용하는 용도이기 때문.\n",
        "    f.value = init_value  #인스턴스 변수로 사용하기 위해서는 self 키워드를 사용해야 함.\n",
        "  def add(f, n): \n",
        "    return f.value + n\n",
        "  def sub(f, n):\n",
        "    return f.value - n\n",
        "  def mul(f, n):\n",
        "    return f.value * n\n",
        "  def div(f, n):\n",
        "    return f.value / n\n",
        "cal = Calc(100)\n",
        "print(\"value = {0}\".format(cal.value))\n",
        "a = cal.add(100)\n",
        "b = cal.sub(50)\n",
        "c = cal.mul(2)\n",
        "d = cal.div(2)\n",
        "print(\"a={0}, b={1}, c={2}, d={3}\".format(a, b, c, d))\n",
        "\n",
        "#?????????????????????????????????????????????????????????????????????????????????????????????????????????????????????????????????????????????????????????????????????\n",
        "#!!!!!!!!!!!!!!!!!!!!!!!!!!!!!!!!!!!!!!!!!!!!!!!!!!!!!!!!!!!!!!!!!!!!!!!!!!!!!!!!!!: 파이썬에서는 다른 문자가 self와 같은 역할을 함. "
      ]
    },
    {
      "cell_type": "code",
      "execution_count": 92,
      "metadata": {
        "id": "yjtUBzIGp5UD"
      },
      "outputs": [],
      "source": [
        ""
      ]
    },
    {
      "cell_type": "markdown",
      "metadata": {
        "id": "ZxJ79Y8ax9ES"
      },
      "source": [
        "# 예외처리"
      ]
    },
    {
      "cell_type": "code",
      "execution_count": 93,
      "metadata": {
        "id": "FfexQr2oyDVb",
        "colab": {
          "base_uri": "https://localhost:8080/"
        },
        "outputId": "21d02448-175b-4d81-df69-41d12a28c2cc"
      },
      "outputs": [
        {
          "output_type": "stream",
          "name": "stdout",
          "text": [
            "division by zero\n"
          ]
        }
      ],
      "source": [
        "try:\n",
        "  a = 10\n",
        "  b = 0\n",
        "  c = a / b\n",
        "  print(c)\n",
        "except Exception as e:\n",
        "  print(e)"
      ]
    },
    {
      "cell_type": "code",
      "execution_count": 94,
      "metadata": {
        "id": "6A2-0syDyuE8"
      },
      "outputs": [],
      "source": [
        "try:\n",
        "  a = 10\n",
        "  b = 0\n",
        "  c = a / b\n",
        "  print(c)\n",
        "except Exception:\n",
        "  a-b"
      ]
    },
    {
      "cell_type": "markdown",
      "metadata": {
        "id": "aDNePiohzUO_"
      },
      "source": [
        "# KoNLpy"
      ]
    },
    {
      "cell_type": "code",
      "execution_count": 95,
      "metadata": {
        "colab": {
          "base_uri": "https://localhost:8080/"
        },
        "id": "rdZFqM9xyzZX",
        "outputId": "18c89f3d-e3d1-479c-8800-ddf83a9a3170"
      },
      "outputs": [
        {
          "output_type": "stream",
          "name": "stdout",
          "text": [
            "Looking in indexes: https://pypi.org/simple, https://us-python.pkg.dev/colab-wheels/public/simple/\n",
            "Collecting koNLpy\n",
            "  Downloading konlpy-0.6.0-py2.py3-none-any.whl (19.4 MB)\n",
            "\u001b[K     |████████████████████████████████| 19.4 MB 1.1 MB/s \n",
            "\u001b[?25hRequirement already satisfied: numpy>=1.6 in /usr/local/lib/python3.7/dist-packages (from koNLpy) (1.21.6)\n",
            "Collecting JPype1>=0.7.0\n",
            "  Downloading JPype1-1.4.0-cp37-cp37m-manylinux_2_5_x86_64.manylinux1_x86_64.whl (453 kB)\n",
            "\u001b[K     |████████████████████████████████| 453 kB 47.8 MB/s \n",
            "\u001b[?25hRequirement already satisfied: lxml>=4.1.0 in /usr/local/lib/python3.7/dist-packages (from koNLpy) (4.9.1)\n",
            "Requirement already satisfied: typing-extensions in /usr/local/lib/python3.7/dist-packages (from JPype1>=0.7.0->koNLpy) (4.1.1)\n",
            "Installing collected packages: JPype1, koNLpy\n",
            "Successfully installed JPype1-1.4.0 koNLpy-0.6.0\n"
          ]
        }
      ],
      "source": [
        "!pip install koNLpy"
      ]
    },
    {
      "cell_type": "code",
      "execution_count": 96,
      "metadata": {
        "colab": {
          "base_uri": "https://localhost:8080/"
        },
        "id": "q5Yo6XTgzWU-",
        "outputId": "e8b02ba4-e645-4824-db25-fad81297ba55"
      },
      "outputs": [
        {
          "output_type": "stream",
          "name": "stdout",
          "text": [
            "['아버지', '가', '방', '에', '들어가', 'ㅂ니다', '.']\n",
            "[('아버지', 'NNG'), ('가', 'JKS'), ('방', 'NNG'), ('에', 'JKM'), ('들어가', 'VV'), ('ㅂ니다', 'EFN'), ('.', 'SF')]\n",
            "['아버지', '방']\n",
            "['오늘 날씨는 어 때요?', '내일은 덥다 던데.']\n"
          ]
        }
      ],
      "source": [
        "# 꼬꼬마 형태소 분석기 사용\n",
        "from konlpy.tag import Kkma\n",
        "kkma = Kkma()\n",
        "text = \"아버지가 방에 들어갑니다.\"\n",
        "morphs = kkma.morphs(text)  # 인자로 입력한 문장을 형태소 단위로 토크나이징함. \n",
        "print(morphs)\n",
        "pos = kkma.pos(text)  # 형태소와 품사 태그 추출\n",
        "print(pos)\n",
        "nouns = kkma.nouns(text)  # 명사만 추출\n",
        "print(nouns)\n",
        "sentences = \"오늘 날씨는 어때요? 내일은 덥다던데.\"\n",
        "s = kkma.sentences(sentences)  # 문장 분리\n",
        "print(s)"
      ]
    },
    {
      "cell_type": "code",
      "execution_count": 97,
      "metadata": {
        "colab": {
          "base_uri": "https://localhost:8080/"
        },
        "id": "bEJhBPK1zW8e",
        "outputId": "d034f2cc-c272-4a20-dfa9-6854a2ccff3c"
      },
      "outputs": [
        {
          "output_type": "stream",
          "name": "stdout",
          "text": [
            "['아버지', '가', '방', '에', '들어가', 'ㅂ니다', '.']\n",
            "[('아버지', 'NNG'), ('가', 'JKS'), ('방', 'NNG'), ('에', 'JKB'), ('들어가', 'VV'), ('ㅂ니다', 'EF'), ('.', 'SF')]\n",
            "['아버지', '방']\n"
          ]
        }
      ],
      "source": [
        "#Komoran 형태소 분석기 사용\n",
        "from konlpy.tag import Komoran\n",
        "komoran = Komoran()\n",
        "text = \"아버지가 방에 들어갑니다.\"\n",
        "morphs = komoran.morphs(text)\n",
        "print(morphs)\n",
        "pos = komoran.pos(text)  # 형태소와 품사 태그 추출\n",
        "print(pos)\n",
        "nouns = komoran.nouns(text)  # 명사만 추출\n",
        "print(nouns)"
      ]
    },
    {
      "cell_type": "code",
      "execution_count": 98,
      "metadata": {
        "colab": {
          "base_uri": "https://localhost:8080/"
        },
        "id": "-8KfweI8zlJo",
        "outputId": "0ee055ae-2657-49b7-fb33-ec459e0a527d"
      },
      "outputs": [
        {
          "output_type": "stream",
          "name": "stdout",
          "text": [
            "['아버지', '가', '방', '에', '들어갑니다', '.']\n",
            "[('아버지', 'Noun'), ('가', 'Josa'), ('방', 'Noun'), ('에', 'Josa'), ('들어갑니다', 'Verb'), ('.', 'Punctuation')]\n",
            "['아버지', '방']\n",
            "오늘 날씨가 좋아요ㅋㅋ\n",
            "['오늘', '오늘 날씨', '좋아욬', '날씨']\n"
          ]
        }
      ],
      "source": [
        "#Okt 형태소 분석기 사용\n",
        "from konlpy.tag import Okt\n",
        "okt = Okt()\n",
        "text = \"아버지가 방에 들어갑니다.\"\n",
        "morphs = okt.morphs(text)\n",
        "print(morphs)\n",
        "pos = okt.pos(text)  # 형태소와 품사 태그 추출\n",
        "print(pos)\n",
        "nouns = okt.nouns(text)  # 명사만 추출\n",
        "print(nouns)\n",
        "\n",
        "text = '오늘 날씨가 좋아욬ㅋㅋ'\n",
        "print(okt.normalize(text))\n",
        "print(okt.phrases(text))"
      ]
    },
    {
      "cell_type": "code",
      "execution_count": 99,
      "metadata": {
        "colab": {
          "base_uri": "https://localhost:8080/"
        },
        "id": "rMlPWqamznPy",
        "outputId": "14074dec-a4c7-4193-dc71-2a5e354e66d9"
      },
      "outputs": [
        {
          "output_type": "execute_result",
          "data": {
            "text/plain": [
              "['메롱']"
            ]
          },
          "metadata": {},
          "execution_count": 99
        }
      ],
      "source": [
        "kkma.morphs('메롱')"
      ]
    },
    {
      "cell_type": "code",
      "execution_count": 100,
      "metadata": {
        "id": "cSSqMBlSz0zZ",
        "colab": {
          "base_uri": "https://localhost:8080/"
        },
        "outputId": "24667297-cfc8-4ebb-adf9-d07a752f99e6"
      },
      "outputs": [
        {
          "output_type": "execute_result",
          "data": {
            "text/plain": [
              "['어', '어', '라미', 'ㅜ', 'ㅇ', '차', 'ㅣ', 'ㄴ', '어림']"
            ]
          },
          "metadata": {},
          "execution_count": 100
        }
      ],
      "source": [
        "kkma.morphs('어라미ㅜㅇ차ㅣㄴ어림')"
      ]
    },
    {
      "cell_type": "code",
      "execution_count": 101,
      "metadata": {
        "id": "ktVi78Bpz35J",
        "colab": {
          "base_uri": "https://localhost:8080/"
        },
        "outputId": "3367c81b-3d2c-4624-b06a-2e694d15ce59"
      },
      "outputs": [
        {
          "output_type": "execute_result",
          "data": {
            "text/plain": [
              "['안', '녕']"
            ]
          },
          "metadata": {},
          "execution_count": 101
        }
      ],
      "source": [
        "kkma.morphs('안                     녕')"
      ]
    },
    {
      "cell_type": "code",
      "execution_count": 102,
      "metadata": {
        "id": "C2wUPoDlz80Q",
        "colab": {
          "base_uri": "https://localhost:8080/"
        },
        "outputId": "a3b9c7ab-959a-4567-f875-d2fee4f3d46d"
      },
      "outputs": [
        {
          "output_type": "execute_result",
          "data": {
            "text/plain": [
              "['안', '녕']"
            ]
          },
          "metadata": {},
          "execution_count": 102
        }
      ],
      "source": [
        "komoran.morphs('안                  녕')"
      ]
    },
    {
      "cell_type": "code",
      "execution_count": 103,
      "metadata": {
        "id": "LvO7XMn_0A0G",
        "colab": {
          "base_uri": "https://localhost:8080/"
        },
        "outputId": "c4afdabc-c383-4719-dd85-b3de8e2c3a58"
      },
      "outputs": [
        {
          "output_type": "execute_result",
          "data": {
            "text/plain": [
              "['안', '녕']"
            ]
          },
          "metadata": {},
          "execution_count": 103
        }
      ],
      "source": [
        "okt.morphs('안                     녕')"
      ]
    },
    {
      "cell_type": "code",
      "execution_count": 104,
      "metadata": {
        "id": "lMYLFYK20EFA",
        "colab": {
          "base_uri": "https://localhost:8080/"
        },
        "outputId": "421f8a49-e339-47a8-8672-7c5497b11926"
      },
      "outputs": [
        {
          "output_type": "execute_result",
          "data": {
            "text/plain": [
              "['안녕']"
            ]
          },
          "metadata": {},
          "execution_count": 104
        }
      ],
      "source": [
        "kkma.morphs('안녕')"
      ]
    },
    {
      "cell_type": "code",
      "execution_count": 105,
      "metadata": {
        "id": "rjKOF3zj0HEc",
        "colab": {
          "base_uri": "https://localhost:8080/",
          "height": 35
        },
        "outputId": "d63f3b25-723a-42eb-ee3a-403e2fcb2e2e"
      },
      "outputs": [
        {
          "output_type": "execute_result",
          "data": {
            "text/plain": [
              "'안뇽'"
            ],
            "application/vnd.google.colaboratory.intrinsic+json": {
              "type": "string"
            }
          },
          "metadata": {},
          "execution_count": 105
        }
      ],
      "source": [
        "okt.normalize('안뇽')"
      ]
    },
    {
      "cell_type": "code",
      "execution_count": 106,
      "metadata": {
        "id": "LLeoKtD40N2q",
        "colab": {
          "base_uri": "https://localhost:8080/",
          "height": 35
        },
        "outputId": "2d52d1be-1bce-43bf-e5f2-6c86b8dea048"
      },
      "outputs": [
        {
          "output_type": "execute_result",
          "data": {
            "text/plain": [
              "'아닝'"
            ],
            "application/vnd.google.colaboratory.intrinsic+json": {
              "type": "string"
            }
          },
          "metadata": {},
          "execution_count": 106
        }
      ],
      "source": [
        "okt.normalize('아닝')"
      ]
    },
    {
      "cell_type": "code",
      "execution_count": 107,
      "metadata": {
        "id": "Etv_aY100Qlo",
        "colab": {
          "base_uri": "https://localhost:8080/",
          "height": 35
        },
        "outputId": "9e2f2566-07ba-400d-e6c1-d9cc51848540"
      },
      "outputs": [
        {
          "output_type": "execute_result",
          "data": {
            "text/plain": [
              "'아니용'"
            ],
            "application/vnd.google.colaboratory.intrinsic+json": {
              "type": "string"
            }
          },
          "metadata": {},
          "execution_count": 107
        }
      ],
      "source": [
        "okt.normalize('아니용')"
      ]
    },
    {
      "cell_type": "code",
      "execution_count": 108,
      "metadata": {
        "id": "sysqtKqF0TaY",
        "colab": {
          "base_uri": "https://localhost:8080/",
          "height": 35
        },
        "outputId": "1dbdfb77-3f3a-4f76-d0c8-7b51f1bc486e"
      },
      "outputs": [
        {
          "output_type": "execute_result",
          "data": {
            "text/plain": [
              "'아니욬'"
            ],
            "application/vnd.google.colaboratory.intrinsic+json": {
              "type": "string"
            }
          },
          "metadata": {},
          "execution_count": 108
        }
      ],
      "source": [
        "okt.normalize('아니욬')"
      ]
    },
    {
      "cell_type": "code",
      "execution_count": 109,
      "metadata": {
        "id": "bqLTy9EP0WRK",
        "colab": {
          "base_uri": "https://localhost:8080/",
          "height": 35
        },
        "outputId": "58641ee3-619a-4c89-b8b1-e1b007e45489"
      },
      "outputs": [
        {
          "output_type": "execute_result",
          "data": {
            "text/plain": [
              "'아니요ㅋㅋ'"
            ],
            "application/vnd.google.colaboratory.intrinsic+json": {
              "type": "string"
            }
          },
          "metadata": {},
          "execution_count": 109
        }
      ],
      "source": [
        "okt.normalize('아니욬ㅋㅋ')"
      ]
    },
    {
      "cell_type": "code",
      "execution_count": 110,
      "metadata": {
        "id": "d0rbLkGG0X_S",
        "colab": {
          "base_uri": "https://localhost:8080/"
        },
        "outputId": "ba9a5e9a-49e5-4fb2-d550-29791bbf2e27"
      },
      "outputs": [
        {
          "output_type": "execute_result",
          "data": {
            "text/plain": [
              "['아', '아', '닝']"
            ]
          },
          "metadata": {},
          "execution_count": 110
        }
      ],
      "source": [
        "kkma.morphs('아닝')"
      ]
    },
    {
      "cell_type": "code",
      "execution_count": 111,
      "metadata": {
        "id": "-jyDXuJc0dMh",
        "colab": {
          "base_uri": "https://localhost:8080/"
        },
        "outputId": "05f8ec1d-221d-4089-c885-4c077879ca51"
      },
      "outputs": [
        {
          "output_type": "execute_result",
          "data": {
            "text/plain": [
              "['알', '니', '용']"
            ]
          },
          "metadata": {},
          "execution_count": 111
        }
      ],
      "source": [
        "kkma.morphs('아니용')"
      ]
    },
    {
      "cell_type": "code",
      "execution_count": 112,
      "metadata": {
        "id": "YrKHeGZu0hmc",
        "colab": {
          "base_uri": "https://localhost:8080/"
        },
        "outputId": "1f38dee5-588a-48f9-ae8e-0b380db066dc"
      },
      "outputs": [
        {
          "output_type": "execute_result",
          "data": {
            "text/plain": [
              "['알', '니', '욬ㅋ']"
            ]
          },
          "metadata": {},
          "execution_count": 112
        }
      ],
      "source": [
        "kkma.morphs('아니욬ㅋ')"
      ]
    },
    {
      "cell_type": "code",
      "source": [
        ""
      ],
      "metadata": {
        "id": "3nK40O_w5B7q"
      },
      "execution_count": null,
      "outputs": []
    },
    {
      "cell_type": "markdown",
      "source": [
        "# Word2VEC\n"
      ],
      "metadata": {
        "id": "hZPm2IWV_wCE"
      }
    },
    {
      "cell_type": "code",
      "source": [
        "# Word2Vec 모델 학습 예제\n",
        "\n",
        "# Word2Vec\n",
        "\n",
        "# 2013년 구글에서 발표했으며 가장 많이 사용하고 있는 단어 임베딩 모델입니다. Word2Vec 모델은 CBOW와 skip-gram 두 가지 모델로 제안되었습니다.\n",
        "# CBOW : 맥락이라 표현되는 주변 단어들을 이용해 타깃 단어를 예측하는 신경망 모델입니다.  (타깃 단어의 손실만 계산하면 되기 때문에 학습 속도가 빠른 장점이 있습니다.)\n",
        "# skip-gram : 반대로 하나의 타깃 단어를 이용해 주변 단어들을 예측하는 신경망 모델입니다. (예측해야 하는 맥락이 많아져, 단어 분산 표현력이 우수해 CBOW 모델에 비해 임베딩 품질이 우수합니다.)\n",
        "# + window: 앞뒤로 몇 개의 단어까지 확인할 지 결정할 때, 그 해당하는 범위.\n",
        "\n",
        "from gensim.models import Word2Vec\n",
        "from konlpy.tag import Komoran\n",
        "import time\n",
        "\n",
        "def read_review_data(filename):    # 데이터 읽어옴 (교재에서는 네이버 영화 리뷰(nsmc))\n",
        "  with open(filename, 'r') as f:\n",
        "    data = [line.split('\\t') for line in f.read().splitlines()]\n",
        "    data = data[1:]\n",
        "  return data\n",
        "\n",
        "start = time.time()   # 학습 시간 측정 시작\n",
        "\n",
        "print('1) 말뭉치 데이터 읽기 시작')   # 리뷰 파일 읽어오기\n",
        "review_data = read_review_data('.ratings.txt')\n",
        "print(len(review_data))\n",
        "print('1) 말뭉치 데이터 읽기 완료 : ', time.time() - start)\n",
        "\n",
        "print('2) 형태소에서 명사만 추출 시작')   # 문장 단위로 명사만 추출해 학습 입력 데이터로 만듦\n",
        "komoran = Komoran()\n",
        "docs = [komoran.nouns(sentence[1]) for sentence in review_data]\n",
        "print('2) 형태소에서 명사만 추출 완료 : ', time.time() - start)\n",
        "\n",
        "print('3) Word2Vec 모델 학습 시작')   # Word2Vec 모델 학습 시작\n",
        "model = Word2Vec(sentences=docs, size=200, window=4, hs=1, min_count=2, sg=1)  #하이퍼파라미터: 학습시 필요한 세팅값. 그냥 인자나 파라미터와는 다름.\n",
        "print('3) Word2Vec 모델 학습 완료 : ', time.time() - start)\n",
        "\n",
        "print('4) 학습된 모델 저장 시작')   # 모델 저장\n",
        "model.save('nvmc.model')  #하이퍼파라미터: 학습시 필요한 세팅값. 그냥 인자나 파라미터와는 다름.\n",
        "print('4) 학습된 모델 저장 완료 : ', time.time() - start)\n",
        "\n",
        "print(\"corpus_count : \", model.corpus_count)   # 학습된 말뭉치 수, 코퍼스 내 전체 단어 수\n",
        "print(\"corpus_total_words : \", model.corpus_total_words)\n"
      ],
      "metadata": {
        "colab": {
          "base_uri": "https://localhost:8080/"
        },
        "id": "Slpw19wc_0Ol",
        "outputId": "0d934dd2-9bb8-4c92-d91c-1f4b2df1c199"
      },
      "execution_count": 113,
      "outputs": [
        {
          "output_type": "stream",
          "name": "stdout",
          "text": [
            "1) 말뭉치 데이터 읽기 시작\n",
            "200000\n",
            "1) 말뭉치 데이터 읽기 완료 :  0.9687604904174805\n",
            "2) 형태소에서 명사만 추출 시작\n",
            "2) 형태소에서 명사만 추출 완료 :  185.42763471603394\n",
            "3) Word2Vec 모델 학습 시작\n",
            "3) Word2Vec 모델 학습 완료 :  235.37202763557434\n",
            "4) 학습된 모델 저장 시작\n",
            "4) 학습된 모델 저장 완료 :  237.97359347343445\n",
            "corpus_count :  200000\n",
            "corpus_total_words :  1076896\n"
          ]
        }
      ]
    },
    {
      "cell_type": "code",
      "source": [
        "# Word2Vec 모델 활용\n",
        "\n",
        "from gensim.models import Word2Vec\n",
        "\n",
        "model = Word2Vec.load('nvmc.model')   # 모델 로딩\n",
        "print(\"corpus_total_words : \", model.corpus_total_words)\n",
        "\n",
        "print('사랑 : ', model.wv['사랑'])   # '사랑'이란 단어로 생성한 단어 임베딩 벡터\n",
        "\n",
        "print(\"일요일 = 월요일\\t\", model.wv.similarity(w1='일요일', w2='월요일'))  # 단어 유사도 계산\n",
        "print(\"안성기 = 배우\\t\", model.wv.similarity(w1='안성기', w2='배우'))\n",
        "print(\"대기업 = 삼성\\t\", model.wv.similarity(w1='대기업', w2='삼성'))\n",
        "print(\"일요일 = 삼성\\t\", model.wv.similarity(w1='일요일', w2='삼성'))\n",
        "print(\"히어로 = 삼성\\t\", model.wv.similarity(w1='히어로', w2='삼성'))\n",
        "\n",
        "print(model.wv.most_similar(\"안성기\", topn=5))\n",
        "print(model.wv.most_similar(\"시리즈\", topn=5))\n",
        "\n",
        "# 놀라울 정도로 유사한 단어를 찾는 경우도 있지만 이해하기 힘든 결과를 출력하는 경우도 있습니다.\n",
        "# 이는 주제에 맞는 말뭉치 데이터가 부족해서 생기는 현상이니 품질 좋은 말뭉치 데이터를 학습하면 임베딩 성능이 많이 좋아집니다.\n",
        "\n",
        "# 모델 학습 시 신경망 내 각 노드의 초기 가중치가 랜덤으로 설정됩니다. 따라서 모델 학습을 할 때마다 단어 임베딩 벡터값이 변경됩니다. 그러므로 실습을 할 때 이 책의 결과와 다르게 보일 수 있습니다.\n"
      ],
      "metadata": {
        "colab": {
          "base_uri": "https://localhost:8080/"
        },
        "id": "TizPCe4wADrL",
        "outputId": "6178f0fe-9b27-4b8c-98de-58786d85e55d"
      },
      "execution_count": 123,
      "outputs": [
        {
          "output_type": "stream",
          "name": "stdout",
          "text": [
            "corpus_total_words :  1076896\n",
            "사랑 :  [ 0.23513104 -0.39218488  0.04338347  0.08321732  0.06163083  0.04484806\n",
            " -0.11178566 -0.22871943  0.06406047 -0.12538071  0.19274941  0.04558464\n",
            " -0.27296346 -0.30799425 -0.2802375   0.32510212  0.00909131 -0.17440528\n",
            "  0.27537686 -0.03551621  0.47646254  0.1312862   0.25498453  0.0436603\n",
            "  0.29373696  0.10207625 -0.06917562  0.1634633  -0.06252658 -0.25115207\n",
            "  0.02179817 -0.0788839  -0.08466635 -0.15854394  0.26238826 -0.10450213\n",
            " -0.08181922 -0.02533985 -0.23876205  0.05798998  0.08494868  0.0512652\n",
            "  0.29879558  0.23846833  0.15720148  0.20711395 -0.36697617 -0.04681711\n",
            " -0.00786533 -0.19441082  0.18654656 -0.20763679 -0.24368992 -0.09219036\n",
            " -0.14728929 -0.25462323  0.02467806  0.13425837 -0.36023492  0.2808139\n",
            "  0.00617978  0.13465111 -0.18417795  0.07152694  0.01673772  0.18321668\n",
            "  0.09900919 -0.01382493 -0.10146604  0.02117629 -0.02696867  0.15886295\n",
            "  0.23472734 -0.10928944  0.2410155  -0.1691835  -0.11155566 -0.55450255\n",
            "  0.5345119  -0.00140196 -0.35046718  0.38621286  0.22763981  0.03932137\n",
            " -0.06518565 -0.19149025 -0.1253002  -0.15951931  0.07950776  0.22033596\n",
            " -0.02652019  0.22935298  0.21385872 -0.03121486  0.05213569  0.02841408\n",
            " -0.337477   -0.12236788 -0.08824741 -0.23438634  0.30427396  0.21638235\n",
            " -0.03153962  0.21802358  0.10080823  0.0934462   0.28428102 -0.21958813\n",
            " -0.08486222  0.05855134  0.05393009 -0.04149807 -0.12258534 -0.10123561\n",
            " -0.07351679  0.316856    0.16820168 -0.20728421  0.1252073  -0.1591959\n",
            " -0.00260014 -0.03618952  0.06427325 -0.032322    0.2234155   0.08778325\n",
            "  0.2891586  -0.24074142 -0.23698181  0.19525771  0.09834709  0.24939056\n",
            " -0.1114979   0.43282568 -0.00295653 -0.13693485 -0.6160834  -0.1891318\n",
            " -0.2066308   0.08456638  0.14425358 -0.07258185  0.06260908 -0.07137915\n",
            "  0.10385774 -0.05661765 -0.06266288  0.27277496 -0.33468497  0.30781284\n",
            "  0.03728404  0.09238314  0.3912246  -0.15297559  0.11825605  0.02641479\n",
            "  0.15369621 -0.18933497 -0.134254    0.00688314  0.04580453 -0.3363042\n",
            "  0.01678754  0.1621848  -0.10242581 -0.14924757 -0.06140868  0.04693579\n",
            "  0.1457804  -0.03713519  0.18141422 -0.11068176  0.08509617  0.17872614\n",
            " -0.0748014  -0.08362957 -0.05943614  0.18986551  0.02958626 -0.43611157\n",
            "  0.37429604 -0.21410006  0.04380454 -0.5184582   0.14324512 -0.3816265\n",
            " -0.16829695 -0.21810655 -0.02727172  0.11591122 -0.3801493  -0.175505\n",
            " -0.5805726  -0.09320209  0.22630668 -0.11644333 -0.0606086   0.04116542\n",
            " -0.01383622 -0.08445205]\n",
            "일요일 = 월요일\t 0.6794863\n",
            "안성기 = 배우\t 0.5516758\n",
            "대기업 = 삼성\t 0.5799219\n",
            "일요일 = 삼성\t 0.2959096\n",
            "히어로 = 삼성\t 0.18456824\n",
            "[('장미희', 0.7297512292861938), ('정려원', 0.7273580431938171), ('김정학', 0.7182977199554443), ('박신양', 0.7082785367965698), ('이승연', 0.69759202003479)]\n",
            "[('캐리비안의 해적', 0.6770056486129761), ('X맨', 0.6721302270889282), ('러시아워', 0.6688418984413147), ('나니아 연대기', 0.6519874334335327), ('더 울버린', 0.6507344245910645)]\n"
          ]
        }
      ]
    },
    {
      "cell_type": "code",
      "source": [
        "print(\"엘지 = 삼성\\t\", model.wv.similarity(w1='엘지', w2='삼성'))\n",
        "print(model.wv.most_similar(\"삼성\", topn=5))"
      ],
      "metadata": {
        "colab": {
          "base_uri": "https://localhost:8080/"
        },
        "id": "j8x8BR_SBB0b",
        "outputId": "4c971412-0188-4eb6-a5f1-263a6bb8caef"
      },
      "execution_count": 128,
      "outputs": [
        {
          "output_type": "stream",
          "name": "stdout",
          "text": [
            "엘지 = 삼성\t 0.63488024\n",
            "[('여론', 0.680180549621582), ('고취', 0.6765807867050171), ('장가', 0.6720185279846191), ('계열사', 0.671076774597168), ('업주', 0.6689307689666748)]\n"
          ]
        }
      ]
    },
    {
      "cell_type": "code",
      "source": [
        "\n"
      ],
      "metadata": {
        "id": "eqYfJsyXBJTH"
      },
      "execution_count": null,
      "outputs": []
    }
  ],
  "metadata": {
    "colab": {
      "collapsed_sections": [
        "iwgGiixnDvRM",
        "SDRYis3-Dy7R",
        "KalAiiHaD3pv",
        "t0CzxpoMD7jj",
        "t0SOvxPXD_vW",
        "FiOjG8lDEDcA",
        "NyRTLQ0YEH6R",
        "L0tF7Ls8EL_l",
        "BVZdrqE9EXI9",
        "ZgVqCWMZF4S3",
        "U8ZR8MWWXxBb",
        "zxcNGNqQg7Qn",
        "fPhstD_Sprsf",
        "EOa6__4gpwQO"
      ],
      "name": "처음 배우는 딥러닝 챗봇_연습.ipynb",
      "provenance": [],
      "authorship_tag": "ABX9TyOQEuMdzhruaujUo0sEipC4",
      "include_colab_link": true
    },
    "kernelspec": {
      "display_name": "Python 3",
      "name": "python3"
    },
    "language_info": {
      "name": "python"
    }
  },
  "nbformat": 4,
  "nbformat_minor": 0
}