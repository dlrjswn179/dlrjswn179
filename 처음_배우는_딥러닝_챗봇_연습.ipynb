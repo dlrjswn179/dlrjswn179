{
  "nbformat": 4,
  "nbformat_minor": 0,
  "metadata": {
    "colab": {
      "name": "처음 배우는 딥러닝 챗봇_연습.ipynb",
      "provenance": [],
      "collapsed_sections": [],
      "authorship_tag": "ABX9TyO8ZRRMMTrXMwEEc3gQxjtm",
      "include_colab_link": true
    },
    "kernelspec": {
      "name": "python3",
      "display_name": "Python 3"
    },
    "language_info": {
      "name": "python"
    }
  },
  "cells": [
    {
      "cell_type": "markdown",
      "metadata": {
        "id": "view-in-github",
        "colab_type": "text"
      },
      "source": [
        "<a href=\"https://colab.research.google.com/github/dlrjswn179/dlrjswn179/blob/main/%EC%B2%98%EC%9D%8C_%EB%B0%B0%EC%9A%B0%EB%8A%94_%EB%94%A5%EB%9F%AC%EB%8B%9D_%EC%B1%97%EB%B4%87_%EC%97%B0%EC%8A%B5.ipynb\" target=\"_parent\"><img src=\"https://colab.research.google.com/assets/colab-badge.svg\" alt=\"Open In Colab\"/></a>"
      ]
    },
    {
      "cell_type": "markdown",
      "source": [
        "# 숫자"
      ],
      "metadata": {
        "id": "iwgGiixnDvRM"
      }
    },
    {
      "cell_type": "code",
      "source": [
        "type(0*8)"
      ],
      "metadata": {
        "id": "hd6vwwynJ_DE",
        "colab": {
          "base_uri": "https://localhost:8080/"
        },
        "outputId": "4f9b41d7-c3d7-445e-b86f-122509342935"
      },
      "execution_count": 1,
      "outputs": [
        {
          "output_type": "execute_result",
          "data": {
            "text/plain": [
              "int"
            ]
          },
          "metadata": {},
          "execution_count": 1
        }
      ]
    },
    {
      "cell_type": "code",
      "source": [
        "type(0/8)"
      ],
      "metadata": {
        "id": "nqL5TLrXKEAv",
        "colab": {
          "base_uri": "https://localhost:8080/"
        },
        "outputId": "582e3a3f-1e20-4ad8-9c37-9f0ba613d6e2"
      },
      "execution_count": 2,
      "outputs": [
        {
          "output_type": "execute_result",
          "data": {
            "text/plain": [
              "float"
            ]
          },
          "metadata": {},
          "execution_count": 2
        }
      ]
    },
    {
      "cell_type": "code",
      "source": [
        "type(1.0*5)"
      ],
      "metadata": {
        "id": "EckpFd4xKIgr",
        "colab": {
          "base_uri": "https://localhost:8080/"
        },
        "outputId": "832f925a-a535-479d-ac4b-d0a461226774"
      },
      "execution_count": 3,
      "outputs": [
        {
          "output_type": "execute_result",
          "data": {
            "text/plain": [
              "float"
            ]
          },
          "metadata": {},
          "execution_count": 3
        }
      ]
    },
    {
      "cell_type": "code",
      "source": [
        "type(3/1)"
      ],
      "metadata": {
        "id": "C3jhcD2eKf8w",
        "colab": {
          "base_uri": "https://localhost:8080/"
        },
        "outputId": "3b934168-bfff-4343-ff61-11673a51fd21"
      },
      "execution_count": 4,
      "outputs": [
        {
          "output_type": "execute_result",
          "data": {
            "text/plain": [
              "float"
            ]
          },
          "metadata": {},
          "execution_count": 4
        }
      ]
    },
    {
      "cell_type": "code",
      "source": [
        "type(3//1)"
      ],
      "metadata": {
        "id": "WpQ0OSKSKkdQ",
        "colab": {
          "base_uri": "https://localhost:8080/"
        },
        "outputId": "4478c9b5-730a-4f0b-b4ac-1defeb00237e"
      },
      "execution_count": 5,
      "outputs": [
        {
          "output_type": "execute_result",
          "data": {
            "text/plain": [
              "int"
            ]
          },
          "metadata": {},
          "execution_count": 5
        }
      ]
    },
    {
      "cell_type": "code",
      "source": [
        "type(3%1)"
      ],
      "metadata": {
        "id": "9lJsxHMYKlYg",
        "colab": {
          "base_uri": "https://localhost:8080/"
        },
        "outputId": "d15c27b5-b736-4e34-80b9-f7d6a482a9ef"
      },
      "execution_count": 6,
      "outputs": [
        {
          "output_type": "execute_result",
          "data": {
            "text/plain": [
              "int"
            ]
          },
          "metadata": {},
          "execution_count": 6
        }
      ]
    },
    {
      "cell_type": "markdown",
      "source": [
        "#문자열"
      ],
      "metadata": {
        "id": "SDRYis3-Dy7R"
      }
    },
    {
      "cell_type": "code",
      "source": [
        "'\"Nice to meet you\", chatbot says'"
      ],
      "metadata": {
        "id": "vCp2I24WJI7p",
        "colab": {
          "base_uri": "https://localhost:8080/",
          "height": 35
        },
        "outputId": "9e83d3b6-c3a4-43ac-f57a-581bb23b9c3d"
      },
      "execution_count": 7,
      "outputs": [
        {
          "output_type": "execute_result",
          "data": {
            "text/plain": [
              "'\"Nice to meet you\", chatbot says'"
            ],
            "application/vnd.google.colaboratory.intrinsic+json": {
              "type": "string"
            }
          },
          "metadata": {},
          "execution_count": 7
        }
      ]
    },
    {
      "cell_type": "code",
      "source": [
        "\"I'm programming now\""
      ],
      "metadata": {
        "id": "Rk8neOo-KnY5",
        "colab": {
          "base_uri": "https://localhost:8080/",
          "height": 35
        },
        "outputId": "8a3a88ad-372b-4356-8dbb-63758170f221"
      },
      "execution_count": 8,
      "outputs": [
        {
          "output_type": "execute_result",
          "data": {
            "text/plain": [
              "\"I'm programming now\""
            ],
            "application/vnd.google.colaboratory.intrinsic+json": {
              "type": "string"
            }
          },
          "metadata": {},
          "execution_count": 8
        }
      ]
    },
    {
      "cell_type": "code",
      "source": [
        "'Hello\\nbro!!'"
      ],
      "metadata": {
        "id": "rb3rWHL6JEMy",
        "colab": {
          "base_uri": "https://localhost:8080/",
          "height": 35
        },
        "outputId": "130d0b5b-245a-4231-b741-059bacbb3934"
      },
      "execution_count": 9,
      "outputs": [
        {
          "output_type": "execute_result",
          "data": {
            "text/plain": [
              "'Hello\\nbro!!'"
            ],
            "application/vnd.google.colaboratory.intrinsic+json": {
              "type": "string"
            }
          },
          "metadata": {},
          "execution_count": 9
        }
      ]
    },
    {
      "cell_type": "code",
      "source": [
        "print('Hello\\nbro!!')"
      ],
      "metadata": {
        "id": "ARtrxFcFJQpR",
        "colab": {
          "base_uri": "https://localhost:8080/"
        },
        "outputId": "ac346df9-7a56-4cd0-92e1-338eeba48001"
      },
      "execution_count": 10,
      "outputs": [
        {
          "output_type": "stream",
          "name": "stdout",
          "text": [
            "Hello\n",
            "bro!!\n"
          ]
        }
      ]
    },
    {
      "cell_type": "code",
      "source": [
        "'''Hello\n",
        "bro!!'''"
      ],
      "metadata": {
        "id": "v2RuzAf7Jwbm",
        "colab": {
          "base_uri": "https://localhost:8080/",
          "height": 35
        },
        "outputId": "09cd68c0-665a-44de-856b-1f15423c097a"
      },
      "execution_count": 11,
      "outputs": [
        {
          "output_type": "execute_result",
          "data": {
            "text/plain": [
              "'Hello\\nbro!!'"
            ],
            "application/vnd.google.colaboratory.intrinsic+json": {
              "type": "string"
            }
          },
          "metadata": {},
          "execution_count": 11
        }
      ]
    },
    {
      "cell_type": "code",
      "source": [
        "print('''Hello\n",
        "bro!!''')"
      ],
      "metadata": {
        "id": "tRMGKjOnJzH6",
        "colab": {
          "base_uri": "https://localhost:8080/"
        },
        "outputId": "0ba938b0-d261-410d-82bc-53ebb972dab3"
      },
      "execution_count": 12,
      "outputs": [
        {
          "output_type": "stream",
          "name": "stdout",
          "text": [
            "Hello\n",
            "bro!!\n"
          ]
        }
      ]
    },
    {
      "cell_type": "markdown",
      "source": [
        "#리스트"
      ],
      "metadata": {
        "id": "KalAiiHaD3pv"
      }
    },
    {
      "cell_type": "code",
      "source": [
        "list = [1,2]\n",
        "list.append(1)\n",
        "print(list)"
      ],
      "metadata": {
        "id": "w9JZTvQBJ1p0",
        "colab": {
          "base_uri": "https://localhost:8080/"
        },
        "outputId": "06973dd1-70ab-4055-e839-25bd637703dd"
      },
      "execution_count": 13,
      "outputs": [
        {
          "output_type": "stream",
          "name": "stdout",
          "text": [
            "[1, 2, 1]\n"
          ]
        }
      ]
    },
    {
      "cell_type": "code",
      "source": [
        "list.insert(1,3)\n",
        "print(list)"
      ],
      "metadata": {
        "id": "f5AbpLdVPDO0",
        "colab": {
          "base_uri": "https://localhost:8080/"
        },
        "outputId": "c8d6a9c2-9cca-499c-84dc-7e3285ade5e0"
      },
      "execution_count": 14,
      "outputs": [
        {
          "output_type": "stream",
          "name": "stdout",
          "text": [
            "[1, 3, 2, 1]\n"
          ]
        }
      ]
    },
    {
      "cell_type": "code",
      "source": [
        "list.pop(1)"
      ],
      "metadata": {
        "id": "uN-apVK-PFzf",
        "colab": {
          "base_uri": "https://localhost:8080/"
        },
        "outputId": "b4460822-dc9d-4d46-92e7-b15d984bd6e4"
      },
      "execution_count": 15,
      "outputs": [
        {
          "output_type": "execute_result",
          "data": {
            "text/plain": [
              "3"
            ]
          },
          "metadata": {},
          "execution_count": 15
        }
      ]
    },
    {
      "cell_type": "code",
      "source": [
        "print(list)"
      ],
      "metadata": {
        "id": "QIo_RBckPiZB",
        "colab": {
          "base_uri": "https://localhost:8080/"
        },
        "outputId": "cc927aac-9c86-47af-a931-bffaa122e4d7"
      },
      "execution_count": 16,
      "outputs": [
        {
          "output_type": "stream",
          "name": "stdout",
          "text": [
            "[1, 2, 1]\n"
          ]
        }
      ]
    },
    {
      "cell_type": "code",
      "source": [
        "del list[1]\n",
        "print(list)"
      ],
      "metadata": {
        "id": "Z4iyVYS0PWIG",
        "colab": {
          "base_uri": "https://localhost:8080/"
        },
        "outputId": "8f6aabfc-ee17-4313-882f-2ac44451c16e"
      },
      "execution_count": 17,
      "outputs": [
        {
          "output_type": "stream",
          "name": "stdout",
          "text": [
            "[1, 1]\n"
          ]
        }
      ]
    },
    {
      "cell_type": "code",
      "source": [
        "len(list)"
      ],
      "metadata": {
        "id": "0-6PTwRLPcKa",
        "colab": {
          "base_uri": "https://localhost:8080/"
        },
        "outputId": "de5b1cd5-17ae-4ee7-8310-52dd1685d42a"
      },
      "execution_count": 18,
      "outputs": [
        {
          "output_type": "execute_result",
          "data": {
            "text/plain": [
              "2"
            ]
          },
          "metadata": {},
          "execution_count": 18
        }
      ]
    },
    {
      "cell_type": "markdown",
      "source": [
        "#튜플"
      ],
      "metadata": {
        "id": "t0CzxpoMD7jj"
      }
    },
    {
      "cell_type": "code",
      "source": [
        "tuple = (1, 2)\n",
        "tuple + (1,)"
      ],
      "metadata": {
        "id": "VanOt9KDPpF1",
        "colab": {
          "base_uri": "https://localhost:8080/"
        },
        "outputId": "b3e9fa1e-03d2-4d6a-9082-d683ff351df2"
      },
      "execution_count": 19,
      "outputs": [
        {
          "output_type": "execute_result",
          "data": {
            "text/plain": [
              "(1, 2, 1)"
            ]
          },
          "metadata": {},
          "execution_count": 19
        }
      ]
    },
    {
      "cell_type": "code",
      "source": [
        "tuple + (2.00,)"
      ],
      "metadata": {
        "id": "EQp9IP6vP-o8",
        "colab": {
          "base_uri": "https://localhost:8080/"
        },
        "outputId": "99a07ca0-6a24-47f8-b12f-b72a2602e52a"
      },
      "execution_count": 20,
      "outputs": [
        {
          "output_type": "execute_result",
          "data": {
            "text/plain": [
              "(1, 2, 2.0)"
            ]
          },
          "metadata": {},
          "execution_count": 20
        }
      ]
    },
    {
      "cell_type": "markdown",
      "source": [
        "#딕셔너리"
      ],
      "metadata": {
        "id": "t0SOvxPXD_vW"
      }
    },
    {
      "cell_type": "code",
      "source": [
        "user1 = {'name' : '홍길동', 'age' : 30, 'email' : 'hong@hanbit.co.kr'}"
      ],
      "metadata": {
        "id": "PAFBRcURQLfV"
      },
      "execution_count": 21,
      "outputs": []
    },
    {
      "cell_type": "code",
      "source": [
        "user1 = {'name' : \"홍길동\", 'age' : 30, 'email' : 'hong@hanbit.co.kr'}"
      ],
      "metadata": {
        "id": "orTcp55LSxlV"
      },
      "execution_count": 22,
      "outputs": []
    },
    {
      "cell_type": "code",
      "source": [
        "user1 = {\"name\" : '홍길동', 'age' : 30, 'email' : \"hong@hanbit.co.kr\"}"
      ],
      "metadata": {
        "id": "h3bVgST_Szho"
      },
      "execution_count": 23,
      "outputs": []
    },
    {
      "cell_type": "code",
      "source": [
        "user1"
      ],
      "metadata": {
        "id": "zjsvpQwWS2lI",
        "colab": {
          "base_uri": "https://localhost:8080/"
        },
        "outputId": "baa89f3b-f69e-46fb-9d8b-129a9447a75f"
      },
      "execution_count": 24,
      "outputs": [
        {
          "output_type": "execute_result",
          "data": {
            "text/plain": [
              "{'age': 30, 'email': 'hong@hanbit.co.kr', 'name': '홍길동'}"
            ]
          },
          "metadata": {},
          "execution_count": 24
        }
      ]
    },
    {
      "cell_type": "code",
      "source": [
        "dict1 = {'a':'a'}\n",
        "dict1"
      ],
      "metadata": {
        "id": "w3P7uWj8S4FD",
        "colab": {
          "base_uri": "https://localhost:8080/"
        },
        "outputId": "8e1da32a-e1fc-4055-945b-f0d64871a4c7"
      },
      "execution_count": 25,
      "outputs": [
        {
          "output_type": "execute_result",
          "data": {
            "text/plain": [
              "{'a': 'a'}"
            ]
          },
          "metadata": {},
          "execution_count": 25
        }
      ]
    },
    {
      "cell_type": "code",
      "source": [
        "dict2 = {1:1}\n",
        "dict2"
      ],
      "metadata": {
        "id": "aOAzVDsSTRLb",
        "colab": {
          "base_uri": "https://localhost:8080/"
        },
        "outputId": "2f4227a8-7256-4881-bbfe-dcbc8988d534"
      },
      "execution_count": 26,
      "outputs": [
        {
          "output_type": "execute_result",
          "data": {
            "text/plain": [
              "{1: 1}"
            ]
          },
          "metadata": {},
          "execution_count": 26
        }
      ]
    },
    {
      "cell_type": "markdown",
      "source": [
        "#if 조건문"
      ],
      "metadata": {
        "id": "FiOjG8lDEDcA"
      }
    },
    {
      "cell_type": "code",
      "source": [
        "check = True\n",
        "if check:\n",
        "  print('-' * 13)\n",
        "  print('check is true')\n",
        "  print('-' * 13)\n",
        "check = True\n",
        "if check:\n",
        "  print('-' * 13)\n",
        "  print('check is true')\n",
        "  print('-' * 13)"
      ],
      "metadata": {
        "id": "q9fDbUQhTXwz",
        "colab": {
          "base_uri": "https://localhost:8080/"
        },
        "outputId": "f4ece4b0-45ab-4a2d-ca7d-50f0c757955c"
      },
      "execution_count": 27,
      "outputs": [
        {
          "output_type": "stream",
          "name": "stdout",
          "text": [
            "-------------\n",
            "check is true\n",
            "-------------\n",
            "-------------\n",
            "check is true\n",
            "-------------\n"
          ]
        }
      ]
    },
    {
      "cell_type": "code",
      "source": [
        "check = True\n",
        "if check is True:\n",
        "  print('-' * 13)\n",
        "  print('check is true')\n",
        "  print('-' * 13)"
      ],
      "metadata": {
        "id": "vElh7hEoW4A2",
        "colab": {
          "base_uri": "https://localhost:8080/"
        },
        "outputId": "012f0206-91ed-403c-8574-9f0760d871d8"
      },
      "execution_count": 28,
      "outputs": [
        {
          "output_type": "stream",
          "name": "stdout",
          "text": [
            "-------------\n",
            "check is true\n",
            "-------------\n"
          ]
        }
      ]
    },
    {
      "cell_type": "code",
      "source": [
        "check = True\n",
        "if check == True:\n",
        "  print('-' * 13)\n",
        "  print('check is true')\n",
        "  print('-' * 13)"
      ],
      "metadata": {
        "id": "rwAzjzTxXATN",
        "colab": {
          "base_uri": "https://localhost:8080/"
        },
        "outputId": "807e6b0e-b79c-4eb8-e820-10a0a697e7bf"
      },
      "execution_count": 29,
      "outputs": [
        {
          "output_type": "stream",
          "name": "stdout",
          "text": [
            "-------------\n",
            "check is true\n",
            "-------------\n"
          ]
        }
      ]
    },
    {
      "cell_type": "code",
      "source": [
        "check = True\n",
        "if check is False:\n",
        "  print('-' * 13)\n",
        "  print('check is true')\n",
        "  print('-' * 13)"
      ],
      "metadata": {
        "id": "W0I5SPZZXCDG"
      },
      "execution_count": 30,
      "outputs": []
    },
    {
      "cell_type": "code",
      "source": [
        "check = True\n",
        "if check is True or False:\n",
        "  print('-' * 13)\n",
        "  print('check is true')\n",
        "  print('-' * 13)"
      ],
      "metadata": {
        "id": "fUlRkDNkXDyB",
        "colab": {
          "base_uri": "https://localhost:8080/"
        },
        "outputId": "b560cce6-13a5-4c50-8bc5-c30da31d4a04"
      },
      "execution_count": 31,
      "outputs": [
        {
          "output_type": "stream",
          "name": "stdout",
          "text": [
            "-------------\n",
            "check is true\n",
            "-------------\n"
          ]
        }
      ]
    },
    {
      "cell_type": "code",
      "source": [
        "check = True\n",
        "if check is True and False:\n",
        "  print('-' * 13)\n",
        "  print('check is true')\n",
        "  print('-' * 13)"
      ],
      "metadata": {
        "id": "uoNSkznbXOq1"
      },
      "execution_count": 32,
      "outputs": []
    },
    {
      "cell_type": "code",
      "source": [
        "check = True\n",
        "if check >= 0:\n",
        "  print('-' * 13)\n",
        "  print('check is true')\n",
        "  print('-' * 13)\n",
        "#?????????????????????????????????????????????????????????????????"
      ],
      "metadata": {
        "id": "C682I_eyXRWe",
        "colab": {
          "base_uri": "https://localhost:8080/"
        },
        "outputId": "bb5118fa-ce41-447f-e4b9-0787eaf35eee"
      },
      "execution_count": 33,
      "outputs": [
        {
          "output_type": "stream",
          "name": "stdout",
          "text": [
            "-------------\n",
            "check is true\n",
            "-------------\n"
          ]
        }
      ]
    },
    {
      "cell_type": "code",
      "source": [
        "check = True\n",
        "if check <0:\n",
        "  print('-' * 13)\n",
        "  print('check is true')\n",
        "  print('-' * 13)"
      ],
      "metadata": {
        "id": "h8EK8HrdXTez"
      },
      "execution_count": 34,
      "outputs": []
    },
    {
      "cell_type": "code",
      "source": [
        "check = True\n",
        "if check ==0:\n",
        "  print('-' * 13)\n",
        "  print('check is true')\n",
        "  print('-' * 13)"
      ],
      "metadata": {
        "id": "KF8hq7o-XZJO"
      },
      "execution_count": 35,
      "outputs": []
    },
    {
      "cell_type": "code",
      "source": [
        "check = True\n",
        "if check >0:\n",
        "  print('-' * 13)\n",
        "  print('check is true')\n",
        "  print('-' * 13)"
      ],
      "metadata": {
        "id": "k851gjw4XdRd",
        "colab": {
          "base_uri": "https://localhost:8080/"
        },
        "outputId": "3b3458a6-5617-4078-d85b-2dc86424a8c5"
      },
      "execution_count": 36,
      "outputs": [
        {
          "output_type": "stream",
          "name": "stdout",
          "text": [
            "-------------\n",
            "check is true\n",
            "-------------\n"
          ]
        }
      ]
    },
    {
      "cell_type": "code",
      "source": [
        "int(True)"
      ],
      "metadata": {
        "id": "SpNwBsWcXrNO",
        "colab": {
          "base_uri": "https://localhost:8080/"
        },
        "outputId": "aa6687a1-c131-4a0c-8922-d1cf1549f1b7"
      },
      "execution_count": 37,
      "outputs": [
        {
          "output_type": "execute_result",
          "data": {
            "text/plain": [
              "1"
            ]
          },
          "metadata": {},
          "execution_count": 37
        }
      ]
    },
    {
      "cell_type": "code",
      "source": [
        "int(False)\n",
        "#!!!!!!!!!!!!!!!!!!!!!!!!!!!!!!!!!!!!!!!!!!!!!!!!!!!!!!!!!!!!!!!!!"
      ],
      "metadata": {
        "id": "q0UMTJxfXtdk",
        "colab": {
          "base_uri": "https://localhost:8080/"
        },
        "outputId": "35454cdd-b45a-4891-c79b-d68fc4a7d10a"
      },
      "execution_count": 38,
      "outputs": [
        {
          "output_type": "execute_result",
          "data": {
            "text/plain": [
              "0"
            ]
          },
          "metadata": {},
          "execution_count": 38
        }
      ]
    },
    {
      "cell_type": "code",
      "source": [
        "float(False)"
      ],
      "metadata": {
        "id": "aJt9iBJxXvf_",
        "colab": {
          "base_uri": "https://localhost:8080/"
        },
        "outputId": "02a92113-9568-4055-c8d2-3709f55639a0"
      },
      "execution_count": 39,
      "outputs": [
        {
          "output_type": "execute_result",
          "data": {
            "text/plain": [
              "0.0"
            ]
          },
          "metadata": {},
          "execution_count": 39
        }
      ]
    },
    {
      "cell_type": "code",
      "source": [
        "score = 84\n",
        "if score >= 90:\n",
        "  print('Grade A')\n",
        "elif score >= 80:\n",
        "  print('Grade B')\n",
        "elif score >= 70:\n",
        "  print('Grade C')\n",
        "else:\n",
        "  print('Grade D')"
      ],
      "metadata": {
        "colab": {
          "base_uri": "https://localhost:8080/"
        },
        "id": "fzHFtoERX3Yk",
        "outputId": "3753b470-ba12-45a3-d1a5-83f34ac1d973"
      },
      "execution_count": 40,
      "outputs": [
        {
          "output_type": "stream",
          "name": "stdout",
          "text": [
            "Grade B\n"
          ]
        }
      ]
    },
    {
      "cell_type": "code",
      "source": [
        "score = 100\n",
        "if score >= 90:\n",
        "  print('Grade A')\n",
        "elif score >= 80:\n",
        "  print('Grade B')\n",
        "elif score >= 70:\n",
        "  print('Grade C')\n",
        "else:\n",
        "  print('Grade D')"
      ],
      "metadata": {
        "colab": {
          "base_uri": "https://localhost:8080/"
        },
        "id": "61KXpla1ZO2T",
        "outputId": "8a7b590e-49f4-4d70-ba47-e90bb01b827b"
      },
      "execution_count": 41,
      "outputs": [
        {
          "output_type": "stream",
          "name": "stdout",
          "text": [
            "Grade A\n"
          ]
        }
      ]
    },
    {
      "cell_type": "markdown",
      "source": [
        "#while 반복문"
      ],
      "metadata": {
        "id": "NyRTLQ0YEH6R"
      }
    },
    {
      "cell_type": "code",
      "source": [
        "while True:\n",
        "  print('input number : ')\n",
        "  menu = int(input())\n",
        "  if menu == 0: \n",
        "    break\n",
        "  elif menu == 1:\n",
        "    print('number one')\n",
        "  elif menu == 99:\n",
        "    continue\n",
        "  elif menu == 2:\n",
        "    print('number two')\n",
        "  else:\n",
        "    print('another number')"
      ],
      "metadata": {
        "colab": {
          "base_uri": "https://localhost:8080/"
        },
        "id": "Gpskm7feZQgd",
        "outputId": "b3b46050-02db-4b7f-b7dc-feff6ecb46b2"
      },
      "execution_count": 42,
      "outputs": [
        {
          "name": "stdout",
          "output_type": "stream",
          "text": [
            "input number : \n",
            "0\n"
          ]
        }
      ]
    },
    {
      "cell_type": "code",
      "source": [
        "while True:\n",
        "  print('input number : ')\n",
        "  menu = int(input())\n",
        "  if menu == 0:break\n",
        "  elif menu == 1: print('number one')\n",
        "  elif menu == 99: continue\n",
        "  elif menu == 2:  print('number two')\n",
        "  else:    print('another number')"
      ],
      "metadata": {
        "colab": {
          "base_uri": "https://localhost:8080/"
        },
        "id": "hEzInwf3biBA",
        "outputId": "bada3479-8fa0-4389-a8ef-b0989346dce3"
      },
      "execution_count": 43,
      "outputs": [
        {
          "name": "stdout",
          "output_type": "stream",
          "text": [
            "input number : \n",
            "0\n"
          ]
        }
      ]
    },
    {
      "cell_type": "markdown",
      "source": [
        "#for 반복문"
      ],
      "metadata": {
        "id": "L0tF7Ls8EL_l"
      }
    },
    {
      "cell_type": "code",
      "source": [
        "coord = [(0,0), (10,15), (20,25)]\n",
        "for x,y in coord:\n",
        "  print(x,y)"
      ],
      "metadata": {
        "colab": {
          "base_uri": "https://localhost:8080/"
        },
        "id": "T5vNwZ01btMN",
        "outputId": "5c04ae79-0679-43ff-cdf8-d18d9644eea9"
      },
      "execution_count": 44,
      "outputs": [
        {
          "output_type": "stream",
          "name": "stdout",
          "text": [
            "0 0\n",
            "10 15\n",
            "20 25\n"
          ]
        }
      ]
    },
    {
      "cell_type": "code",
      "source": [
        "coord = [(0,0), (10,15), (20,25)]\n",
        "for x in coord:\n",
        "  print(x)"
      ],
      "metadata": {
        "colab": {
          "base_uri": "https://localhost:8080/"
        },
        "id": "bm4IyjBGdQxi",
        "outputId": "58563b98-1c65-4750-ddbb-8da4316d66e7"
      },
      "execution_count": 45,
      "outputs": [
        {
          "output_type": "stream",
          "name": "stdout",
          "text": [
            "(0, 0)\n",
            "(10, 15)\n",
            "(20, 25)\n"
          ]
        }
      ]
    },
    {
      "cell_type": "code",
      "source": [
        "coord = [(0,0), (10,15), (20,25)]\n",
        "for x,y in coord:\n",
        "  print(x)"
      ],
      "metadata": {
        "colab": {
          "base_uri": "https://localhost:8080/"
        },
        "id": "l-4JX6YHdTfS",
        "outputId": "b1afbbfe-84db-4906-ea45-9988ce257553"
      },
      "execution_count": 46,
      "outputs": [
        {
          "output_type": "stream",
          "name": "stdout",
          "text": [
            "0\n",
            "10\n",
            "20\n"
          ]
        }
      ]
    },
    {
      "cell_type": "code",
      "source": [
        "coord = [0, 10, 20]\n",
        "for x in coord:\n",
        "  print(x,333333333)"
      ],
      "metadata": {
        "colab": {
          "base_uri": "https://localhost:8080/"
        },
        "id": "gGU22AGIdXuO",
        "outputId": "873084c6-b579-4c31-f869-32ea963824b5"
      },
      "execution_count": 47,
      "outputs": [
        {
          "output_type": "stream",
          "name": "stdout",
          "text": [
            "0 333333333\n",
            "10 333333333\n",
            "20 333333333\n"
          ]
        }
      ]
    },
    {
      "cell_type": "code",
      "source": [
        "user = {'name' : 'Kei', 'age' : 35, 'nationality' : 'Korea'}\n",
        "for k, v in user.items():\n",
        "  print(k,v)"
      ],
      "metadata": {
        "colab": {
          "base_uri": "https://localhost:8080/"
        },
        "id": "s0CsYadndbTQ",
        "outputId": "72d3e006-1d67-4e67-f287-3477945ccbe9"
      },
      "execution_count": 48,
      "outputs": [
        {
          "output_type": "stream",
          "name": "stdout",
          "text": [
            "name Kei\n",
            "age 35\n",
            "nationality Korea\n"
          ]
        }
      ]
    },
    {
      "cell_type": "code",
      "source": [
        "for k, v in user.items():\n",
        "  print(k,':',v)"
      ],
      "metadata": {
        "colab": {
          "base_uri": "https://localhost:8080/"
        },
        "id": "FuEfaVyAfCkp",
        "outputId": "260e3fe3-a038-41e7-b682-cfc7d016e634"
      },
      "execution_count": 49,
      "outputs": [
        {
          "output_type": "stream",
          "name": "stdout",
          "text": [
            "name : Kei\n",
            "age : 35\n",
            "nationality : Korea\n"
          ]
        }
      ]
    },
    {
      "cell_type": "markdown",
      "source": [
        "#사용자 정의 함수"
      ],
      "metadata": {
        "id": "BVZdrqE9EXI9"
      }
    },
    {
      "cell_type": "code",
      "source": [
        "def add(a,b):\n",
        "  return a + b\n",
        "a = 1\n",
        "b = -2\n",
        "add(a,b)"
      ],
      "metadata": {
        "colab": {
          "base_uri": "https://localhost:8080/"
        },
        "id": "HEtgI6ggETEL",
        "outputId": "44df5483-d93f-4e5a-db8b-de375e97276b"
      },
      "execution_count": 50,
      "outputs": [
        {
          "output_type": "execute_result",
          "data": {
            "text/plain": [
              "-1"
            ]
          },
          "metadata": {},
          "execution_count": 50
        }
      ]
    },
    {
      "cell_type": "code",
      "source": [
        "def print_user(a,b):\n",
        "  print(\"name : %s\" % user['name'])\n",
        "  print(\"age : %d\" % user['age'])\n",
        "  print(\"score : %d\" %score)\n",
        "user = {'name' : 'Kei' , 'age' : 35 }\n",
        "score = 85\n",
        "print_user(user, score)"
      ],
      "metadata": {
        "colab": {
          "base_uri": "https://localhost:8080/"
        },
        "id": "rpnAwrPaEnz4",
        "outputId": "fe95e6ba-44ec-4016-a1fb-e5fdea714960"
      },
      "execution_count": 51,
      "outputs": [
        {
          "output_type": "stream",
          "name": "stdout",
          "text": [
            "name : Kei\n",
            "age : 35\n",
            "score : 85\n"
          ]
        }
      ]
    },
    {
      "cell_type": "code",
      "source": [
        "def print_user(a,b):\n",
        "  print(\"name : %s\" % user['name'])\n",
        "  print(\"age : %d\" % user['age'])\n",
        "  print(\"score : %d\" %score)\n",
        "ran = {'name' : 'Kei' , 'age' : 35 }\n",
        "dom = 85\n",
        "print_user(ran, dom)"
      ],
      "metadata": {
        "colab": {
          "base_uri": "https://localhost:8080/"
        },
        "id": "THpJErYCE2mk",
        "outputId": "ab5f6d86-b8a8-4356-bab7-9d3c8b470e5e"
      },
      "execution_count": 52,
      "outputs": [
        {
          "output_type": "stream",
          "name": "stdout",
          "text": [
            "name : Kei\n",
            "age : 35\n",
            "score : 85\n"
          ]
        }
      ]
    },
    {
      "cell_type": "markdown",
      "source": [
        "# 내장 함수"
      ],
      "metadata": {
        "id": "ZgVqCWMZF4S3"
      }
    },
    {
      "cell_type": "code",
      "source": [
        "print('integer : {} / float : {} / string : {}'.format(10, 3.14, \"hello\"))"
      ],
      "metadata": {
        "colab": {
          "base_uri": "https://localhost:8080/"
        },
        "id": "L941DEh5E9Ho",
        "outputId": "124a90cd-ce45-4048-ed9a-c30c4fdf9a92"
      },
      "execution_count": 53,
      "outputs": [
        {
          "output_type": "stream",
          "name": "stdout",
          "text": [
            "integer : 10 / float : 3.14 / string : hello\n"
          ]
        }
      ]
    },
    {
      "cell_type": "code",
      "source": [
        "print('integer : {} , float : {} , string : {}'.format(10, 3.14, \"hello\"))"
      ],
      "metadata": {
        "colab": {
          "base_uri": "https://localhost:8080/"
        },
        "id": "wU9zDtHVF751",
        "outputId": "b8cc21a9-cefb-4a55-eea8-fcc7455a69f5"
      },
      "execution_count": 54,
      "outputs": [
        {
          "output_type": "stream",
          "name": "stdout",
          "text": [
            "integer : 10 , float : 3.14 , string : hello\n"
          ]
        }
      ]
    },
    {
      "cell_type": "code",
      "source": [
        "print('integer : {} / float : {} / string : {}'.format(10, 3.14, 'hello'))"
      ],
      "metadata": {
        "colab": {
          "base_uri": "https://localhost:8080/"
        },
        "id": "sdZSOQ70F_QF",
        "outputId": "0950befd-756f-438f-de08-02a0ece16874"
      },
      "execution_count": 55,
      "outputs": [
        {
          "output_type": "stream",
          "name": "stdout",
          "text": [
            "integer : 10 / float : 3.14 / string : hello\n"
          ]
        }
      ]
    },
    {
      "cell_type": "code",
      "source": [
        "print('integer : {0} / float : {1} / string : {2}'.format(10, 3.14, \"hello\"))"
      ],
      "metadata": {
        "colab": {
          "base_uri": "https://localhost:8080/"
        },
        "id": "HheDWGbLGEbn",
        "outputId": "84b2b0e6-e6b6-48b4-b402-4eb6e5f5916f"
      },
      "execution_count": 56,
      "outputs": [
        {
          "output_type": "stream",
          "name": "stdout",
          "text": [
            "integer : 10 / float : 3.14 / string : hello\n"
          ]
        }
      ]
    },
    {
      "cell_type": "code",
      "source": [
        "print('integer : {0} / float : {0} / string : {0}'.format(10, 3.14, \"hello\"))"
      ],
      "metadata": {
        "colab": {
          "base_uri": "https://localhost:8080/"
        },
        "id": "6_MIMDmYGSBq",
        "outputId": "6ced50e7-846c-4064-cf24-3ee156def59a"
      },
      "execution_count": 57,
      "outputs": [
        {
          "output_type": "stream",
          "name": "stdout",
          "text": [
            "integer : 10 / float : 10 / string : 10\n"
          ]
        }
      ]
    },
    {
      "cell_type": "code",
      "source": [
        "numbers = [10, 11, 12, 13, 14]\n",
        "for idx, value in enumerate(numbers):\n",
        "  print('index:{}, value:{}'.format(idx, value))"
      ],
      "metadata": {
        "colab": {
          "base_uri": "https://localhost:8080/"
        },
        "id": "Z5h3oPa7GYOy",
        "outputId": "94cfe333-d368-42e4-e9ce-c3cfa1ee127d"
      },
      "execution_count": 58,
      "outputs": [
        {
          "output_type": "stream",
          "name": "stdout",
          "text": [
            "index:0, value:10\n",
            "index:1, value:11\n",
            "index:2, value:12\n",
            "index:3, value:13\n",
            "index:4, value:14\n"
          ]
        }
      ]
    },
    {
      "cell_type": "code",
      "source": [
        "enumerate(numbers)"
      ],
      "metadata": {
        "colab": {
          "base_uri": "https://localhost:8080/"
        },
        "id": "DTxAXArXHpuR",
        "outputId": "1d9af736-ad65-4218-f4aa-9dd057d33a01"
      },
      "execution_count": 59,
      "outputs": [
        {
          "output_type": "execute_result",
          "data": {
            "text/plain": [
              "<enumerate at 0x7f3a8dacac30>"
            ]
          },
          "metadata": {},
          "execution_count": 59
        }
      ]
    },
    {
      "cell_type": "code",
      "source": [
        "print(enumerate(numbers))"
      ],
      "metadata": {
        "colab": {
          "base_uri": "https://localhost:8080/"
        },
        "id": "Z5MjsvifHsHv",
        "outputId": "4ea5753e-5765-43d4-e5b2-34f0b1cfda63"
      },
      "execution_count": 60,
      "outputs": [
        {
          "output_type": "stream",
          "name": "stdout",
          "text": [
            "<enumerate object at 0x7f3a8dac9690>\n"
          ]
        }
      ]
    },
    {
      "cell_type": "code",
      "source": [
        "x = enumerate(numbers)"
      ],
      "metadata": {
        "id": "8Qip670oHvJd"
      },
      "execution_count": 61,
      "outputs": []
    },
    {
      "cell_type": "code",
      "source": [
        "x"
      ],
      "metadata": {
        "colab": {
          "base_uri": "https://localhost:8080/"
        },
        "id": "b61wD4RwHyaR",
        "outputId": "dbe6a719-dc38-41e4-fc2f-371f83d1bc78"
      },
      "execution_count": 62,
      "outputs": [
        {
          "output_type": "execute_result",
          "data": {
            "text/plain": [
              "<enumerate at 0x7f3a8dace2d0>"
            ]
          },
          "metadata": {},
          "execution_count": 62
        }
      ]
    },
    {
      "cell_type": "code",
      "source": [
        "str(\"hello\".upper())\n"
      ],
      "metadata": {
        "colab": {
          "base_uri": "https://localhost:8080/",
          "height": 35
        },
        "id": "hXC_LGY_IB7b",
        "outputId": "a7e03352-71dd-4fcb-9098-2a007bce9a6f"
      },
      "execution_count": 63,
      "outputs": [
        {
          "output_type": "execute_result",
          "data": {
            "text/plain": [
              "'HELLO'"
            ],
            "application/vnd.google.colaboratory.intrinsic+json": {
              "type": "string"
            }
          },
          "metadata": {},
          "execution_count": 63
        }
      ]
    },
    {
      "cell_type": "code",
      "source": [
        "str(\"HELLO\".lower())"
      ],
      "metadata": {
        "colab": {
          "base_uri": "https://localhost:8080/",
          "height": 35
        },
        "id": "Fb9MiPeFIHOF",
        "outputId": "9e363f25-f34e-4024-ca1a-83e87e55e1cc"
      },
      "execution_count": 64,
      "outputs": [
        {
          "output_type": "execute_result",
          "data": {
            "text/plain": [
              "'hello'"
            ],
            "application/vnd.google.colaboratory.intrinsic+json": {
              "type": "string"
            }
          },
          "metadata": {},
          "execution_count": 64
        }
      ]
    },
    {
      "cell_type": "code",
      "source": [
        "'1'.lower()"
      ],
      "metadata": {
        "colab": {
          "base_uri": "https://localhost:8080/",
          "height": 35
        },
        "id": "EXgY9fqMIHpH",
        "outputId": "2d412a2b-a2b4-43f0-f617-d03a75d6ae74"
      },
      "execution_count": 65,
      "outputs": [
        {
          "output_type": "execute_result",
          "data": {
            "text/plain": [
              "'1'"
            ],
            "application/vnd.google.colaboratory.intrinsic+json": {
              "type": "string"
            }
          },
          "metadata": {},
          "execution_count": 65
        }
      ]
    },
    {
      "cell_type": "code",
      "source": [
        "'100'.lower()"
      ],
      "metadata": {
        "colab": {
          "base_uri": "https://localhost:8080/",
          "height": 35
        },
        "id": "xRwCIPOhILVY",
        "outputId": "f4ac08a1-83ea-476e-fec9-03293aa8a485"
      },
      "execution_count": 66,
      "outputs": [
        {
          "output_type": "execute_result",
          "data": {
            "text/plain": [
              "'100'"
            ],
            "application/vnd.google.colaboratory.intrinsic+json": {
              "type": "string"
            }
          },
          "metadata": {},
          "execution_count": 66
        }
      ]
    },
    {
      "cell_type": "code",
      "source": [
        "'Hello'.lower()"
      ],
      "metadata": {
        "colab": {
          "base_uri": "https://localhost:8080/",
          "height": 35
        },
        "id": "pCfqeCi7IQ7U",
        "outputId": "5a079ae7-41b3-42a5-c9eb-e0aec34ca9ba"
      },
      "execution_count": 67,
      "outputs": [
        {
          "output_type": "execute_result",
          "data": {
            "text/plain": [
              "'hello'"
            ],
            "application/vnd.google.colaboratory.intrinsic+json": {
              "type": "string"
            }
          },
          "metadata": {},
          "execution_count": 67
        }
      ]
    },
    {
      "cell_type": "code",
      "source": [
        "'hELLO'.upper()"
      ],
      "metadata": {
        "colab": {
          "base_uri": "https://localhost:8080/",
          "height": 35
        },
        "id": "nqx5DEZBIVuu",
        "outputId": "dea51693-10a6-414d-e584-92e298f00e22"
      },
      "execution_count": 68,
      "outputs": [
        {
          "output_type": "execute_result",
          "data": {
            "text/plain": [
              "'HELLO'"
            ],
            "application/vnd.google.colaboratory.intrinsic+json": {
              "type": "string"
            }
          },
          "metadata": {},
          "execution_count": 68
        }
      ]
    },
    {
      "cell_type": "code",
      "source": [
        "names =  ['Kei', 'Tonny', 'Grace', 'Jenny', 'Jaeyoo']\n",
        "','.join(names)"
      ],
      "metadata": {
        "colab": {
          "base_uri": "https://localhost:8080/",
          "height": 35
        },
        "id": "uDf1fdPoIXwF",
        "outputId": "92f6183e-9e5b-4922-a1c4-99900d0553a6"
      },
      "execution_count": 69,
      "outputs": [
        {
          "output_type": "execute_result",
          "data": {
            "text/plain": [
              "'Kei,Tonny,Grace,Jenny,Jaeyoo'"
            ],
            "application/vnd.google.colaboratory.intrinsic+json": {
              "type": "string"
            }
          },
          "metadata": {},
          "execution_count": 69
        }
      ]
    },
    {
      "cell_type": "code",
      "source": [
        "names =  ['Kei', 'Tonny', 'Grace', 'Jenny', 'Jaeyoo']\n",
        "''.join(names)"
      ],
      "metadata": {
        "colab": {
          "base_uri": "https://localhost:8080/",
          "height": 35
        },
        "id": "xkEfQmMKJx7Z",
        "outputId": "7db1b1ee-88b1-4c11-d048-b64fa4f12581"
      },
      "execution_count": 70,
      "outputs": [
        {
          "output_type": "execute_result",
          "data": {
            "text/plain": [
              "'KeiTonnyGraceJennyJaeyoo'"
            ],
            "application/vnd.google.colaboratory.intrinsic+json": {
              "type": "string"
            }
          },
          "metadata": {},
          "execution_count": 70
        }
      ]
    },
    {
      "cell_type": "code",
      "source": [
        "names_str = ','.join(names)\n",
        "names_split = names_str.split(',')\n",
        "names_split"
      ],
      "metadata": {
        "colab": {
          "base_uri": "https://localhost:8080/"
        },
        "id": "BekNBqkiJ0Z6",
        "outputId": "ae7dab76-7cec-4746-bc1a-49fe999d4342"
      },
      "execution_count": 71,
      "outputs": [
        {
          "output_type": "execute_result",
          "data": {
            "text/plain": [
              "['Kei', 'Tonny', 'Grace', 'Jenny', 'Jaeyoo']"
            ]
          },
          "metadata": {},
          "execution_count": 71
        }
      ]
    },
    {
      "cell_type": "code",
      "source": [
        "names_str = ','.join(names)\n",
        "names_split = names_str.split('J')\n",
        "names_split"
      ],
      "metadata": {
        "colab": {
          "base_uri": "https://localhost:8080/"
        },
        "id": "i5ua1lhaJ64j",
        "outputId": "ae8b28f8-e31e-4168-ab08-d2eb223aba3f"
      },
      "execution_count": 72,
      "outputs": [
        {
          "output_type": "execute_result",
          "data": {
            "text/plain": [
              "['Kei,Tonny,Grace,', 'enny,', 'aeyoo']"
            ]
          },
          "metadata": {},
          "execution_count": 72
        }
      ]
    },
    {
      "cell_type": "code",
      "source": [
        "str = \"I want to be a great programmer.\"\n",
        "str.find(\"be\")"
      ],
      "metadata": {
        "colab": {
          "base_uri": "https://localhost:8080/"
        },
        "id": "vCf1Wzg7J86v",
        "outputId": "659dbed9-0025-48f9-c1a1-7363c0c9c050"
      },
      "execution_count": 73,
      "outputs": [
        {
          "output_type": "execute_result",
          "data": {
            "text/plain": [
              "10"
            ]
          },
          "metadata": {},
          "execution_count": 73
        }
      ]
    },
    {
      "cell_type": "code",
      "source": [
        "str = \"I want to be a great programmer.\"\n",
        "str.find(\"\")"
      ],
      "metadata": {
        "colab": {
          "base_uri": "https://localhost:8080/"
        },
        "id": "QS3vAOl7KngY",
        "outputId": "541e8ffc-cb0e-4f28-a745-1bcd0f5a5a1d"
      },
      "execution_count": 74,
      "outputs": [
        {
          "output_type": "execute_result",
          "data": {
            "text/plain": [
              "0"
            ]
          },
          "metadata": {},
          "execution_count": 74
        }
      ]
    },
    {
      "cell_type": "code",
      "source": [
        "str = \"I want to be a great programmer.\"\n",
        "str.find('  ')"
      ],
      "metadata": {
        "colab": {
          "base_uri": "https://localhost:8080/"
        },
        "id": "39kL6_ndKrPt",
        "outputId": "ac316593-b98d-4ac5-d444-265efa4e8964"
      },
      "execution_count": 75,
      "outputs": [
        {
          "output_type": "execute_result",
          "data": {
            "text/plain": [
              "-1"
            ]
          },
          "metadata": {},
          "execution_count": 75
        }
      ]
    },
    {
      "cell_type": "code",
      "source": [
        "str = \" I want to be a great programmer. \"\n",
        "new_str = str.strip()\n",
        "new_str"
      ],
      "metadata": {
        "colab": {
          "base_uri": "https://localhost:8080/",
          "height": 35
        },
        "id": "7RAe_E7lKvx6",
        "outputId": "4432f0ae-5b1d-4bd1-fa96-73d4f6c2b37c"
      },
      "execution_count": 76,
      "outputs": [
        {
          "output_type": "execute_result",
          "data": {
            "text/plain": [
              "'I want to be a great programmer.'"
            ],
            "application/vnd.google.colaboratory.intrinsic+json": {
              "type": "string"
            }
          },
          "metadata": {},
          "execution_count": 76
        }
      ]
    },
    {
      "cell_type": "code",
      "source": [
        "str = \"I want to be a great programmer.           \"\n",
        "new_str = str.strip()\n",
        "new_str"
      ],
      "metadata": {
        "colab": {
          "base_uri": "https://localhost:8080/",
          "height": 35
        },
        "id": "0RRnBUASLdUf",
        "outputId": "fde1a4b1-3e4f-4c6a-f6b6-f82443681694"
      },
      "execution_count": 77,
      "outputs": [
        {
          "output_type": "execute_result",
          "data": {
            "text/plain": [
              "'I want to be a great programmer.'"
            ],
            "application/vnd.google.colaboratory.intrinsic+json": {
              "type": "string"
            }
          },
          "metadata": {},
          "execution_count": 77
        }
      ]
    },
    {
      "cell_type": "code",
      "source": [
        "del(list)\n",
        "#map() 함수와 lambda 함수 사용\n",
        "numbers = range(1,5)\n",
        "square_list = list(map(lambda x : x**2, numbers))\n",
        "print(square_list)"
      ],
      "metadata": {
        "colab": {
          "base_uri": "https://localhost:8080/"
        },
        "id": "umStCMx5Lekp",
        "outputId": "74342e47-5112-4718-f6b5-0f82a8c8519f"
      },
      "execution_count": 79,
      "outputs": [
        {
          "output_type": "stream",
          "name": "stdout",
          "text": [
            "[1, 4, 9, 16]\n"
          ]
        }
      ]
    },
    {
      "cell_type": "code",
      "source": [
        "#filter() 함수와 lambda 함수 사용\n",
        "numbers = range(1,21)\n",
        "even_list = list(filter(lambda n:n%2==0, numbers))\n",
        "print(even_list)"
      ],
      "metadata": {
        "colab": {
          "base_uri": "https://localhost:8080/"
        },
        "id": "lqOl7LjdSqnT",
        "outputId": "6ee76a47-54d4-4ea8-f5f3-b3b18b4aec1b"
      },
      "execution_count": 80,
      "outputs": [
        {
          "output_type": "stream",
          "name": "stdout",
          "text": [
            "[2, 4, 6, 8, 10, 12, 14, 16, 18, 20]\n"
          ]
        }
      ]
    },
    {
      "cell_type": "code",
      "source": [
        "#filter() 함수와 lambda 함수 사용\n",
        "numbers = range(1,21)\n",
        "even_list = list(filter(lambda n:n%22==0, numbers))\n",
        "print(even_list)"
      ],
      "metadata": {
        "colab": {
          "base_uri": "https://localhost:8080/"
        },
        "id": "9K_aAr05S70Y",
        "outputId": "28e2d78e-718a-4470-f693-34e4b1f4ce45"
      },
      "execution_count": 81,
      "outputs": [
        {
          "output_type": "stream",
          "name": "stdout",
          "text": [
            "[]\n"
          ]
        }
      ]
    },
    {
      "cell_type": "code",
      "source": [
        "#map() 함수와 lambda 함수 사용\n",
        "numbers = range(1,5)\n",
        "square_list = list(map(lambda x : x**2, numbers))\n",
        "print(square_list)"
      ],
      "metadata": {
        "colab": {
          "base_uri": "https://localhost:8080/"
        },
        "id": "vDTN9ugIScs-",
        "outputId": "035b7fad-ad0a-4499-a01c-ae6517e058f4"
      },
      "execution_count": 82,
      "outputs": [
        {
          "output_type": "stream",
          "name": "stdout",
          "text": [
            "[1, 4, 9, 16]\n"
          ]
        }
      ]
    },
    {
      "cell_type": "code",
      "source": [
        "#map() 함수와 lambda 함수 사용\n",
        "numbers = range(1,5)\n",
        "square_list = list(map(lambda numbers : numbers**2, numbers))\n",
        "print(square_list)"
      ],
      "metadata": {
        "colab": {
          "base_uri": "https://localhost:8080/"
        },
        "id": "NQCaOT8BSjHh",
        "outputId": "aaec9ffa-13f5-4ad3-9604-e77cae422a36"
      },
      "execution_count": 83,
      "outputs": [
        {
          "output_type": "stream",
          "name": "stdout",
          "text": [
            "[1, 4, 9, 16]\n"
          ]
        }
      ]
    },
    {
      "cell_type": "markdown",
      "source": [
        "# 외장 함수"
      ],
      "metadata": {
        "id": "U8ZR8MWWXxBb"
      }
    },
    {
      "cell_type": "code",
      "source": [
        "import pickle\n",
        "f = open('setting.txt', 'wb') # wb: 바이너리 쓰기\n",
        "setting = [{'title' : 'python program'}, {'author' : 'Kei'}] \n",
        "pickle.dump(setting, f)\n",
        "f.close()\n",
        "\n",
        "f = open('setting.txt', 'rb')\n",
        "setting = pickle.load(f)\n",
        "f.close()\n",
        "print(setting)"
      ],
      "metadata": {
        "colab": {
          "base_uri": "https://localhost:8080/"
        },
        "id": "Qz6NlaRiSoAT",
        "outputId": "9c05633c-8813-4235-ef3d-f29b3c6d628d"
      },
      "execution_count": 84,
      "outputs": [
        {
          "output_type": "stream",
          "name": "stdout",
          "text": [
            "[{'title': 'python program'}, {'author': 'Kei'}]\n"
          ]
        }
      ]
    },
    {
      "cell_type": "code",
      "source": [
        "import pickle\n",
        "f = open('setting.txt', 'wb') # wb: 바이너리 쓰기\n",
        "setting = [{'title' : 'python program'}, {'author' : 'Kei'}] \n",
        "pickle.dump(setting, f)\n",
        "f.close()\n",
        "\n",
        "f = open('setting.txt', 'rb')\n",
        "setting = pickle.load(f)\n",
        "f.close()\n",
        "print(setting)"
      ],
      "metadata": {
        "colab": {
          "base_uri": "https://localhost:8080/"
        },
        "id": "Suqm1uKeX6sX",
        "outputId": "e1ae1489-d9ee-4a42-866f-177a41872bb3"
      },
      "execution_count": 85,
      "outputs": [
        {
          "output_type": "stream",
          "name": "stdout",
          "text": [
            "[{'title': 'python program'}, {'author': 'Kei'}]\n"
          ]
        }
      ]
    },
    {
      "cell_type": "code",
      "source": [
        "import time\n",
        "lt = time.localtime(time.time())\n",
        "time.strftime('%Y/%m/%d %H:%M:%S', lt)"
      ],
      "metadata": {
        "colab": {
          "base_uri": "https://localhost:8080/",
          "height": 35
        },
        "id": "O_Corh-mgATS",
        "outputId": "cd785087-f374-4772-d641-1f80902bc293"
      },
      "execution_count": 86,
      "outputs": [
        {
          "output_type": "execute_result",
          "data": {
            "text/plain": [
              "'2022/07/13 13:11:48'"
            ],
            "application/vnd.google.colaboratory.intrinsic+json": {
              "type": "string"
            }
          },
          "metadata": {},
          "execution_count": 86
        }
      ]
    },
    {
      "cell_type": "code",
      "source": [
        "import time\n",
        "time.strftime('%Y/%m/%d %H:%M:%S', time.localtime(time.time()))"
      ],
      "metadata": {
        "colab": {
          "base_uri": "https://localhost:8080/",
          "height": 35
        },
        "id": "JudUCQrcgArA",
        "outputId": "ce572d82-d2bf-4b5c-f190-7d41811787de"
      },
      "execution_count": 87,
      "outputs": [
        {
          "output_type": "execute_result",
          "data": {
            "text/plain": [
              "'2022/07/13 13:11:48'"
            ],
            "application/vnd.google.colaboratory.intrinsic+json": {
              "type": "string"
            }
          },
          "metadata": {},
          "execution_count": 87
        }
      ]
    },
    {
      "cell_type": "markdown",
      "source": [
        "# 클래스"
      ],
      "metadata": {
        "id": "zxcNGNqQg7Qn"
      }
    },
    {
      "cell_type": "code",
      "source": [
        "class Chatbot:\n",
        "  def sayHello(self):\n",
        "    print(\"say hello\")\n",
        "  def sayMyName(self):\n",
        "    print(\"My name is Kbot :D\")\n",
        "chatbot = Chatbot()  # 인스턴스를 생성함.\n",
        "chatbot.sayHello()\n",
        "chatbot.sayMyName()"
      ],
      "metadata": {
        "colab": {
          "base_uri": "https://localhost:8080/"
        },
        "id": "2X0qMPXkg-Lv",
        "outputId": "24fd6b31-7ee0-45dd-bb5f-52f661cd913d"
      },
      "execution_count": 88,
      "outputs": [
        {
          "output_type": "stream",
          "name": "stdout",
          "text": [
            "say hello\n",
            "My name is Kbot :D\n"
          ]
        }
      ]
    },
    {
      "cell_type": "code",
      "source": [
        "class Chatbot:\n",
        "  def sayHello(f):\n",
        "    print(\"say hello\")\n",
        "  def sayMyName(x):\n",
        "    print(\"My name is Kbot :D\")\n",
        "chatbot = Chatbot()  # 인스턴스를 생성함.\n",
        "chatbot.sayHello()\n",
        "chatbot.sayMyName()\n",
        "\n",
        "#?????????????????????????????????????????????????????????? self를 안썼는데. "
      ],
      "metadata": {
        "colab": {
          "base_uri": "https://localhost:8080/"
        },
        "id": "jK7as7SQi60j",
        "outputId": "77a7b0f7-9d1a-47f5-9b79-28384c6cec13"
      },
      "execution_count": 89,
      "outputs": [
        {
          "output_type": "stream",
          "name": "stdout",
          "text": [
            "say hello\n",
            "My name is Kbot :D\n"
          ]
        }
      ]
    },
    {
      "cell_type": "markdown",
      "source": [
        "# 생성자 및 소멸자"
      ],
      "metadata": {
        "id": "fPhstD_Sprsf"
      }
    },
    {
      "cell_type": "code",
      "source": [
        "class SimpleObj:\n",
        "  def __init__(self):\n",
        "    print('call __init__()')\n",
        "  def __del__(self):\n",
        "    print('call__del__()')\n",
        "obj = SimpleObj()\n",
        "print('obj instance is alive...')\n",
        "del obj"
      ],
      "metadata": {
        "colab": {
          "base_uri": "https://localhost:8080/"
        },
        "id": "hl_lO0aAi_PB",
        "outputId": "cc58dff4-d076-44ad-8467-37deec02c78c"
      },
      "execution_count": 90,
      "outputs": [
        {
          "output_type": "stream",
          "name": "stdout",
          "text": [
            "call __init__()\n",
            "obj instance is alive...\n",
            "call__del__()\n"
          ]
        }
      ]
    },
    {
      "cell_type": "code",
      "source": [
        "class SimpleObj:\n",
        "  def __init__(k):\n",
        "    print('call __init__()')\n",
        "  def __del__(k):\n",
        "    print('call__del__()')\n",
        "obj = SimpleObj()\n",
        "print('obj instance is alive...')\n",
        "del obj\n",
        "#?????????????????????????????????????????????????????????? self를 안썼는데. "
      ],
      "metadata": {
        "colab": {
          "base_uri": "https://localhost:8080/"
        },
        "id": "cf3E3mzbmGtB",
        "outputId": "64f07096-dcce-4a1d-9407-2f4fefb8daa6"
      },
      "execution_count": 91,
      "outputs": [
        {
          "output_type": "stream",
          "name": "stdout",
          "text": [
            "call __init__()\n",
            "obj instance is alive...\n",
            "call__del__()\n"
          ]
        }
      ]
    },
    {
      "cell_type": "markdown",
      "source": [
        "# 메서드와 인스턴스 변수"
      ],
      "metadata": {
        "id": "EOa6__4gpwQO"
      }
    },
    {
      "cell_type": "code",
      "source": [
        "class Calc:\n",
        "  def __init__(self, init_value):  #입력값이 self가 아닌 init_value에 저장됨. self는 인스턴스 내부에서 자신을 참조하기 위해 사용하는 용도이기 때문.\n",
        "    self.value = init_value  #인스턴스 변수로 사용하기 위해서는 self 키워드를 사용해야 함.\n",
        "  def add(self, n): \n",
        "    return self.value + n\n",
        "  def sub(self, n):\n",
        "    return self.value - n\n",
        "  def mul(self, n):\n",
        "    return self.value * n\n",
        "  def div(self, n):\n",
        "    return self.value / n\n",
        "cal = Calc(100)\n",
        "print(\"value = {0}\".format(cal.value))\n",
        "a = cal.add(100)\n",
        "b = cal.sub(50)\n",
        "c = cal.mul(2)\n",
        "d = cal.div(2)\n",
        "print(\"a={0}, b={1}, c={2}, d={3}\".format(a, b, c, d))"
      ],
      "metadata": {
        "colab": {
          "base_uri": "https://localhost:8080/"
        },
        "id": "Dt1lM2tzmLab",
        "outputId": "ec66272a-77f0-49a1-83ad-70833c508c88"
      },
      "execution_count": 92,
      "outputs": [
        {
          "output_type": "stream",
          "name": "stdout",
          "text": [
            "value = 100\n",
            "a=200, b=50, c=200, d=50.0\n"
          ]
        }
      ]
    },
    {
      "cell_type": "code",
      "source": [
        "class Calc:\n",
        "  def __init__(f, init_value):  #입력값이 self가 아닌 init_value에 저장됨. self는 인스턴스 내부에서 자신을 참조하기 위해 사용하는 용도이기 때문.\n",
        "    f.value = init_value  #인스턴스 변수로 사용하기 위해서는 self 키워드를 사용해야 함.\n",
        "  def add(f, n): \n",
        "    return f.value + n\n",
        "  def sub(f, n):\n",
        "    return f.value - n\n",
        "  def mul(f, n):\n",
        "    return f.value * n\n",
        "  def div(f, n):\n",
        "    return f.value / n\n",
        "cal = Calc(100)\n",
        "print(\"value = {0}\".format(cal.value))\n",
        "a = cal.add(100)\n",
        "b = cal.sub(50)\n",
        "c = cal.mul(2)\n",
        "d = cal.div(2)\n",
        "print(\"a={0}, b={1}, c={2}, d={3}\".format(a, b, c, d))\n",
        "\n",
        "#?????????????????????????????????????????????????????????????????????????????????????????????????????????????????????????????????????????????????????????????????????\n",
        "#!!!!!!!!!!!!!!!!!!!!!!!!!!!!!!!!!!!!!!!!!!!!!!!!!!!!!!!!!!!!!!!!!!!!!!!!!!!!!!!!!!: 파이썬에서는 다른 문자가 self와 같은 역할을 함. "
      ],
      "metadata": {
        "colab": {
          "base_uri": "https://localhost:8080/"
        },
        "id": "CljGvcOrp0u6",
        "outputId": "552aad18-b05c-4ebb-af20-27dc887609de"
      },
      "execution_count": 93,
      "outputs": [
        {
          "output_type": "stream",
          "name": "stdout",
          "text": [
            "value = 100\n",
            "a=200, b=50, c=200, d=50.0\n"
          ]
        }
      ]
    },
    {
      "cell_type": "code",
      "source": [
        ""
      ],
      "metadata": {
        "id": "yjtUBzIGp5UD"
      },
      "execution_count": 93,
      "outputs": []
    }
  ]
}