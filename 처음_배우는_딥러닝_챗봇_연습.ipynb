{
  "nbformat": 4,
  "nbformat_minor": 0,
  "metadata": {
    "colab": {
      "name": "처음 배우는 딥러닝 챗봇_연습.ipynb",
      "provenance": [],
      "collapsed_sections": [
        "iwgGiixnDvRM",
        "SDRYis3-Dy7R",
        "KalAiiHaD3pv",
        "t0CzxpoMD7jj",
        "t0SOvxPXD_vW",
        "FiOjG8lDEDcA",
        "NyRTLQ0YEH6R",
        "L0tF7Ls8EL_l",
        "BVZdrqE9EXI9",
        "ZgVqCWMZF4S3",
        "U8ZR8MWWXxBb",
        "zxcNGNqQg7Qn",
        "fPhstD_Sprsf",
        "EOa6__4gpwQO"
      ],
      "authorship_tag": "ABX9TyONxs/pJFK9CtzN/uR/Hr3S",
      "include_colab_link": true
    },
    "kernelspec": {
      "name": "python3",
      "display_name": "Python 3"
    },
    "language_info": {
      "name": "python"
    }
  },
  "cells": [
    {
      "cell_type": "markdown",
      "metadata": {
        "id": "view-in-github",
        "colab_type": "text"
      },
      "source": [
        "<a href=\"https://colab.research.google.com/github/dlrjswn179/dlrjswn179/blob/main/%EC%B2%98%EC%9D%8C_%EB%B0%B0%EC%9A%B0%EB%8A%94_%EB%94%A5%EB%9F%AC%EB%8B%9D_%EC%B1%97%EB%B4%87_%EC%97%B0%EC%8A%B5.ipynb\" target=\"_parent\"><img src=\"https://colab.research.google.com/assets/colab-badge.svg\" alt=\"Open In Colab\"/></a>"
      ]
    },
    {
      "cell_type": "markdown",
      "source": [
        "# 숫자"
      ],
      "metadata": {
        "id": "iwgGiixnDvRM"
      }
    },
    {
      "cell_type": "code",
      "source": [
        "type(0*8)"
      ],
      "metadata": {
        "id": "hd6vwwynJ_DE"
      },
      "execution_count": null,
      "outputs": []
    },
    {
      "cell_type": "code",
      "source": [
        "type(0/8)"
      ],
      "metadata": {
        "id": "nqL5TLrXKEAv"
      },
      "execution_count": null,
      "outputs": []
    },
    {
      "cell_type": "code",
      "source": [
        "type(1.0*5)"
      ],
      "metadata": {
        "id": "EckpFd4xKIgr"
      },
      "execution_count": null,
      "outputs": []
    },
    {
      "cell_type": "code",
      "source": [
        "type(3/1)"
      ],
      "metadata": {
        "id": "C3jhcD2eKf8w"
      },
      "execution_count": null,
      "outputs": []
    },
    {
      "cell_type": "code",
      "source": [
        "type(3//1)"
      ],
      "metadata": {
        "id": "WpQ0OSKSKkdQ"
      },
      "execution_count": null,
      "outputs": []
    },
    {
      "cell_type": "code",
      "source": [
        "type(3%1)"
      ],
      "metadata": {
        "id": "9lJsxHMYKlYg"
      },
      "execution_count": null,
      "outputs": []
    },
    {
      "cell_type": "markdown",
      "source": [
        "#문자열"
      ],
      "metadata": {
        "id": "SDRYis3-Dy7R"
      }
    },
    {
      "cell_type": "code",
      "source": [
        "'\"Nice to meet you\", chatbot says'"
      ],
      "metadata": {
        "id": "vCp2I24WJI7p"
      },
      "execution_count": null,
      "outputs": []
    },
    {
      "cell_type": "code",
      "source": [
        "\"I'm programming now\""
      ],
      "metadata": {
        "id": "Rk8neOo-KnY5"
      },
      "execution_count": null,
      "outputs": []
    },
    {
      "cell_type": "code",
      "source": [
        "'Hello\\nbro!!'"
      ],
      "metadata": {
        "id": "rb3rWHL6JEMy"
      },
      "execution_count": null,
      "outputs": []
    },
    {
      "cell_type": "code",
      "source": [
        "print('Hello\\nbro!!')"
      ],
      "metadata": {
        "id": "ARtrxFcFJQpR"
      },
      "execution_count": null,
      "outputs": []
    },
    {
      "cell_type": "code",
      "source": [
        "'''Hello\n",
        "bro!!'''"
      ],
      "metadata": {
        "id": "v2RuzAf7Jwbm"
      },
      "execution_count": null,
      "outputs": []
    },
    {
      "cell_type": "code",
      "source": [
        "print('''Hello\n",
        "bro!!''')"
      ],
      "metadata": {
        "id": "tRMGKjOnJzH6"
      },
      "execution_count": null,
      "outputs": []
    },
    {
      "cell_type": "markdown",
      "source": [
        "#리스트"
      ],
      "metadata": {
        "id": "KalAiiHaD3pv"
      }
    },
    {
      "cell_type": "code",
      "source": [
        "list = [1,2]\n",
        "list.append(1)\n",
        "print(list)"
      ],
      "metadata": {
        "id": "w9JZTvQBJ1p0"
      },
      "execution_count": null,
      "outputs": []
    },
    {
      "cell_type": "code",
      "source": [
        "list.insert(1,3)\n",
        "print(list)"
      ],
      "metadata": {
        "id": "f5AbpLdVPDO0"
      },
      "execution_count": null,
      "outputs": []
    },
    {
      "cell_type": "code",
      "source": [
        "list.pop(1)"
      ],
      "metadata": {
        "id": "uN-apVK-PFzf"
      },
      "execution_count": null,
      "outputs": []
    },
    {
      "cell_type": "code",
      "source": [
        "print(list)"
      ],
      "metadata": {
        "id": "QIo_RBckPiZB"
      },
      "execution_count": null,
      "outputs": []
    },
    {
      "cell_type": "code",
      "source": [
        "del list[1]\n",
        "print(list)"
      ],
      "metadata": {
        "id": "Z4iyVYS0PWIG"
      },
      "execution_count": null,
      "outputs": []
    },
    {
      "cell_type": "code",
      "source": [
        "len(list)"
      ],
      "metadata": {
        "id": "0-6PTwRLPcKa"
      },
      "execution_count": null,
      "outputs": []
    },
    {
      "cell_type": "markdown",
      "source": [
        "#튜플"
      ],
      "metadata": {
        "id": "t0CzxpoMD7jj"
      }
    },
    {
      "cell_type": "code",
      "source": [
        "tuple = (1, 2)\n",
        "tuple + (1,)"
      ],
      "metadata": {
        "id": "VanOt9KDPpF1"
      },
      "execution_count": null,
      "outputs": []
    },
    {
      "cell_type": "code",
      "source": [
        "tuple + (2.00,)"
      ],
      "metadata": {
        "id": "EQp9IP6vP-o8"
      },
      "execution_count": null,
      "outputs": []
    },
    {
      "cell_type": "markdown",
      "source": [
        "#딕셔너리"
      ],
      "metadata": {
        "id": "t0SOvxPXD_vW"
      }
    },
    {
      "cell_type": "code",
      "source": [
        "user1 = {'name' : '홍길동', 'age' : 30, 'email' : 'hong@hanbit.co.kr'}"
      ],
      "metadata": {
        "id": "PAFBRcURQLfV"
      },
      "execution_count": null,
      "outputs": []
    },
    {
      "cell_type": "code",
      "source": [
        "user1 = {'name' : \"홍길동\", 'age' : 30, 'email' : 'hong@hanbit.co.kr'}"
      ],
      "metadata": {
        "id": "orTcp55LSxlV"
      },
      "execution_count": null,
      "outputs": []
    },
    {
      "cell_type": "code",
      "source": [
        "user1 = {\"name\" : '홍길동', 'age' : 30, 'email' : \"hong@hanbit.co.kr\"}"
      ],
      "metadata": {
        "id": "h3bVgST_Szho"
      },
      "execution_count": null,
      "outputs": []
    },
    {
      "cell_type": "code",
      "source": [
        "user1"
      ],
      "metadata": {
        "id": "zjsvpQwWS2lI"
      },
      "execution_count": null,
      "outputs": []
    },
    {
      "cell_type": "code",
      "source": [
        "dict1 = {'a':'a'}\n",
        "dict1"
      ],
      "metadata": {
        "id": "w3P7uWj8S4FD"
      },
      "execution_count": null,
      "outputs": []
    },
    {
      "cell_type": "code",
      "source": [
        "dict2 = {1:1}\n",
        "dict2"
      ],
      "metadata": {
        "id": "aOAzVDsSTRLb"
      },
      "execution_count": null,
      "outputs": []
    },
    {
      "cell_type": "markdown",
      "source": [
        "#if 조건문"
      ],
      "metadata": {
        "id": "FiOjG8lDEDcA"
      }
    },
    {
      "cell_type": "code",
      "source": [
        "check = True\n",
        "if check:\n",
        "  print('-' * 13)\n",
        "  print('check is true')\n",
        "  print('-' * 13)\n",
        "check = True\n",
        "if check:\n",
        "  print('-' * 13)\n",
        "  print('check is true')\n",
        "  print('-' * 13)"
      ],
      "metadata": {
        "id": "q9fDbUQhTXwz"
      },
      "execution_count": null,
      "outputs": []
    },
    {
      "cell_type": "code",
      "source": [
        "check = True\n",
        "if check is True:\n",
        "  print('-' * 13)\n",
        "  print('check is true')\n",
        "  print('-' * 13)"
      ],
      "metadata": {
        "id": "vElh7hEoW4A2"
      },
      "execution_count": null,
      "outputs": []
    },
    {
      "cell_type": "code",
      "source": [
        "check = True\n",
        "if check == True:\n",
        "  print('-' * 13)\n",
        "  print('check is true')\n",
        "  print('-' * 13)"
      ],
      "metadata": {
        "id": "rwAzjzTxXATN"
      },
      "execution_count": null,
      "outputs": []
    },
    {
      "cell_type": "code",
      "source": [
        "check = True\n",
        "if check is False:\n",
        "  print('-' * 13)\n",
        "  print('check is true')\n",
        "  print('-' * 13)"
      ],
      "metadata": {
        "id": "W0I5SPZZXCDG"
      },
      "execution_count": null,
      "outputs": []
    },
    {
      "cell_type": "code",
      "source": [
        "check = True\n",
        "if check is True or False:\n",
        "  print('-' * 13)\n",
        "  print('check is true')\n",
        "  print('-' * 13)"
      ],
      "metadata": {
        "id": "fUlRkDNkXDyB"
      },
      "execution_count": null,
      "outputs": []
    },
    {
      "cell_type": "code",
      "source": [
        "check = True\n",
        "if check is True and False:\n",
        "  print('-' * 13)\n",
        "  print('check is true')\n",
        "  print('-' * 13)"
      ],
      "metadata": {
        "id": "uoNSkznbXOq1"
      },
      "execution_count": null,
      "outputs": []
    },
    {
      "cell_type": "code",
      "source": [
        "check = True\n",
        "if check >= 0:\n",
        "  print('-' * 13)\n",
        "  print('check is true')\n",
        "  print('-' * 13)\n",
        "#?????????????????????????????????????????????????????????????????"
      ],
      "metadata": {
        "id": "C682I_eyXRWe"
      },
      "execution_count": null,
      "outputs": []
    },
    {
      "cell_type": "code",
      "source": [
        "check = True\n",
        "if check <0:\n",
        "  print('-' * 13)\n",
        "  print('check is true')\n",
        "  print('-' * 13)"
      ],
      "metadata": {
        "id": "h8EK8HrdXTez"
      },
      "execution_count": null,
      "outputs": []
    },
    {
      "cell_type": "code",
      "source": [
        "check = True\n",
        "if check ==0:\n",
        "  print('-' * 13)\n",
        "  print('check is true')\n",
        "  print('-' * 13)"
      ],
      "metadata": {
        "id": "KF8hq7o-XZJO"
      },
      "execution_count": null,
      "outputs": []
    },
    {
      "cell_type": "code",
      "source": [
        "check = True\n",
        "if check >0:\n",
        "  print('-' * 13)\n",
        "  print('check is true')\n",
        "  print('-' * 13)"
      ],
      "metadata": {
        "id": "k851gjw4XdRd"
      },
      "execution_count": null,
      "outputs": []
    },
    {
      "cell_type": "code",
      "source": [
        "int(True)"
      ],
      "metadata": {
        "id": "SpNwBsWcXrNO"
      },
      "execution_count": null,
      "outputs": []
    },
    {
      "cell_type": "code",
      "source": [
        "int(False)\n",
        "#!!!!!!!!!!!!!!!!!!!!!!!!!!!!!!!!!!!!!!!!!!!!!!!!!!!!!!!!!!!!!!!!!"
      ],
      "metadata": {
        "id": "q0UMTJxfXtdk"
      },
      "execution_count": null,
      "outputs": []
    },
    {
      "cell_type": "code",
      "source": [
        "float(False)"
      ],
      "metadata": {
        "id": "aJt9iBJxXvf_"
      },
      "execution_count": null,
      "outputs": []
    },
    {
      "cell_type": "code",
      "source": [
        "score = 84\n",
        "if score >= 90:\n",
        "  print('Grade A')\n",
        "elif score >= 80:\n",
        "  print('Grade B')\n",
        "elif score >= 70:\n",
        "  print('Grade C')\n",
        "else:\n",
        "  print('Grade D')"
      ],
      "metadata": {
        "id": "fzHFtoERX3Yk"
      },
      "execution_count": null,
      "outputs": []
    },
    {
      "cell_type": "code",
      "source": [
        "score = 100\n",
        "if score >= 90:\n",
        "  print('Grade A')\n",
        "elif score >= 80:\n",
        "  print('Grade B')\n",
        "elif score >= 70:\n",
        "  print('Grade C')\n",
        "else:\n",
        "  print('Grade D')"
      ],
      "metadata": {
        "id": "61KXpla1ZO2T"
      },
      "execution_count": null,
      "outputs": []
    },
    {
      "cell_type": "markdown",
      "source": [
        "#while 반복문"
      ],
      "metadata": {
        "id": "NyRTLQ0YEH6R"
      }
    },
    {
      "cell_type": "code",
      "source": [
        "while True:\n",
        "  print('input number : ')\n",
        "  menu = int(input())\n",
        "  if menu == 0: \n",
        "    break\n",
        "  elif menu == 1:\n",
        "    print('number one')\n",
        "  elif menu == 99:\n",
        "    continue\n",
        "  elif menu == 2:\n",
        "    print('number two')\n",
        "  else:\n",
        "    print('another number')"
      ],
      "metadata": {
        "id": "Gpskm7feZQgd"
      },
      "execution_count": null,
      "outputs": []
    },
    {
      "cell_type": "code",
      "source": [
        "while True:\n",
        "  print('input number : ')\n",
        "  menu = int(input())\n",
        "  if menu == 0:break\n",
        "  elif menu == 1: print('number one')\n",
        "  elif menu == 99: continue\n",
        "  elif menu == 2:  print('number two')\n",
        "  else:    print('another number')"
      ],
      "metadata": {
        "id": "hEzInwf3biBA"
      },
      "execution_count": null,
      "outputs": []
    },
    {
      "cell_type": "markdown",
      "source": [
        "#for 반복문"
      ],
      "metadata": {
        "id": "L0tF7Ls8EL_l"
      }
    },
    {
      "cell_type": "code",
      "source": [
        "coord = [(0,0), (10,15), (20,25)]\n",
        "for x,y in coord:\n",
        "  print(x,y)"
      ],
      "metadata": {
        "id": "T5vNwZ01btMN"
      },
      "execution_count": null,
      "outputs": []
    },
    {
      "cell_type": "code",
      "source": [
        "coord = [(0,0), (10,15), (20,25)]\n",
        "for x in coord:\n",
        "  print(x)"
      ],
      "metadata": {
        "id": "bm4IyjBGdQxi"
      },
      "execution_count": null,
      "outputs": []
    },
    {
      "cell_type": "code",
      "source": [
        "coord = [(0,0), (10,15), (20,25)]\n",
        "for x,y in coord:\n",
        "  print(x)"
      ],
      "metadata": {
        "id": "l-4JX6YHdTfS"
      },
      "execution_count": null,
      "outputs": []
    },
    {
      "cell_type": "code",
      "source": [
        "coord = [0, 10, 20]\n",
        "for x in coord:\n",
        "  print(x,333333333)"
      ],
      "metadata": {
        "id": "gGU22AGIdXuO"
      },
      "execution_count": null,
      "outputs": []
    },
    {
      "cell_type": "code",
      "source": [
        "user = {'name' : 'Kei', 'age' : 35, 'nationality' : 'Korea'}\n",
        "for k, v in user.items():\n",
        "  print(k,v)"
      ],
      "metadata": {
        "id": "s0CsYadndbTQ"
      },
      "execution_count": null,
      "outputs": []
    },
    {
      "cell_type": "code",
      "source": [
        "for k, v in user.items():\n",
        "  print(k,':',v)"
      ],
      "metadata": {
        "id": "FuEfaVyAfCkp"
      },
      "execution_count": null,
      "outputs": []
    },
    {
      "cell_type": "markdown",
      "source": [
        "#사용자 정의 함수"
      ],
      "metadata": {
        "id": "BVZdrqE9EXI9"
      }
    },
    {
      "cell_type": "code",
      "source": [
        "def add(a,b):\n",
        "  return a + b\n",
        "a = 1\n",
        "b = -2\n",
        "add(a,b)"
      ],
      "metadata": {
        "id": "HEtgI6ggETEL"
      },
      "execution_count": null,
      "outputs": []
    },
    {
      "cell_type": "code",
      "source": [
        "def print_user(a,b):\n",
        "  print(\"name : %s\" % user['name'])\n",
        "  print(\"age : %d\" % user['age'])\n",
        "  print(\"score : %d\" %score)\n",
        "user = {'name' : 'Kei' , 'age' : 35 }\n",
        "score = 85\n",
        "print_user(user, score)"
      ],
      "metadata": {
        "id": "rpnAwrPaEnz4"
      },
      "execution_count": null,
      "outputs": []
    },
    {
      "cell_type": "code",
      "source": [
        "def print_user(a,b):\n",
        "  print(\"name : %s\" % user['name'])\n",
        "  print(\"age : %d\" % user['age'])\n",
        "  print(\"score : %d\" %score)\n",
        "ran = {'name' : 'Kei' , 'age' : 35 }\n",
        "dom = 85\n",
        "print_user(ran, dom)"
      ],
      "metadata": {
        "id": "THpJErYCE2mk"
      },
      "execution_count": null,
      "outputs": []
    },
    {
      "cell_type": "markdown",
      "source": [
        "# 내장 함수"
      ],
      "metadata": {
        "id": "ZgVqCWMZF4S3"
      }
    },
    {
      "cell_type": "code",
      "source": [
        "print('integer : {} / float : {} / string : {}'.format(10, 3.14, \"hello\"))"
      ],
      "metadata": {
        "id": "L941DEh5E9Ho"
      },
      "execution_count": null,
      "outputs": []
    },
    {
      "cell_type": "code",
      "source": [
        "print('integer : {} , float : {} , string : {}'.format(10, 3.14, \"hello\"))"
      ],
      "metadata": {
        "id": "wU9zDtHVF751"
      },
      "execution_count": null,
      "outputs": []
    },
    {
      "cell_type": "code",
      "source": [
        "print('integer : {} / float : {} / string : {}'.format(10, 3.14, 'hello'))"
      ],
      "metadata": {
        "id": "sdZSOQ70F_QF"
      },
      "execution_count": null,
      "outputs": []
    },
    {
      "cell_type": "code",
      "source": [
        "print('integer : {0} / float : {1} / string : {2}'.format(10, 3.14, \"hello\"))"
      ],
      "metadata": {
        "id": "HheDWGbLGEbn"
      },
      "execution_count": null,
      "outputs": []
    },
    {
      "cell_type": "code",
      "source": [
        "print('integer : {0} / float : {0} / string : {0}'.format(10, 3.14, \"hello\"))"
      ],
      "metadata": {
        "id": "6_MIMDmYGSBq"
      },
      "execution_count": null,
      "outputs": []
    },
    {
      "cell_type": "code",
      "source": [
        "numbers = [10, 11, 12, 13, 14]\n",
        "for idx, value in enumerate(numbers):\n",
        "  print('index:{}, value:{}'.format(idx, value))"
      ],
      "metadata": {
        "id": "Z5h3oPa7GYOy"
      },
      "execution_count": null,
      "outputs": []
    },
    {
      "cell_type": "code",
      "source": [
        "enumerate(numbers)"
      ],
      "metadata": {
        "id": "DTxAXArXHpuR"
      },
      "execution_count": null,
      "outputs": []
    },
    {
      "cell_type": "code",
      "source": [
        "print(enumerate(numbers))"
      ],
      "metadata": {
        "id": "Z5MjsvifHsHv"
      },
      "execution_count": null,
      "outputs": []
    },
    {
      "cell_type": "code",
      "source": [
        "x = enumerate(numbers)"
      ],
      "metadata": {
        "id": "8Qip670oHvJd"
      },
      "execution_count": null,
      "outputs": []
    },
    {
      "cell_type": "code",
      "source": [
        "x"
      ],
      "metadata": {
        "id": "b61wD4RwHyaR"
      },
      "execution_count": null,
      "outputs": []
    },
    {
      "cell_type": "code",
      "source": [
        "str(\"hello\".upper())\n"
      ],
      "metadata": {
        "id": "hXC_LGY_IB7b"
      },
      "execution_count": null,
      "outputs": []
    },
    {
      "cell_type": "code",
      "source": [
        "str(\"HELLO\".lower())"
      ],
      "metadata": {
        "id": "Fb9MiPeFIHOF"
      },
      "execution_count": null,
      "outputs": []
    },
    {
      "cell_type": "code",
      "source": [
        "'1'.lower()"
      ],
      "metadata": {
        "id": "EXgY9fqMIHpH"
      },
      "execution_count": null,
      "outputs": []
    },
    {
      "cell_type": "code",
      "source": [
        "'100'.lower()"
      ],
      "metadata": {
        "id": "xRwCIPOhILVY"
      },
      "execution_count": null,
      "outputs": []
    },
    {
      "cell_type": "code",
      "source": [
        "'Hello'.lower()"
      ],
      "metadata": {
        "id": "pCfqeCi7IQ7U"
      },
      "execution_count": null,
      "outputs": []
    },
    {
      "cell_type": "code",
      "source": [
        "'hELLO'.upper()"
      ],
      "metadata": {
        "id": "nqx5DEZBIVuu"
      },
      "execution_count": null,
      "outputs": []
    },
    {
      "cell_type": "code",
      "source": [
        "names =  ['Kei', 'Tonny', 'Grace', 'Jenny', 'Jaeyoo']\n",
        "','.join(names)"
      ],
      "metadata": {
        "id": "uDf1fdPoIXwF"
      },
      "execution_count": null,
      "outputs": []
    },
    {
      "cell_type": "code",
      "source": [
        "names =  ['Kei', 'Tonny', 'Grace', 'Jenny', 'Jaeyoo']\n",
        "''.join(names)"
      ],
      "metadata": {
        "id": "xkEfQmMKJx7Z"
      },
      "execution_count": null,
      "outputs": []
    },
    {
      "cell_type": "code",
      "source": [
        "names_str = ','.join(names)\n",
        "names_split = names_str.split(',')\n",
        "names_split"
      ],
      "metadata": {
        "id": "BekNBqkiJ0Z6"
      },
      "execution_count": null,
      "outputs": []
    },
    {
      "cell_type": "code",
      "source": [
        "names_str = ','.join(names)\n",
        "names_split = names_str.split('J')\n",
        "names_split"
      ],
      "metadata": {
        "id": "i5ua1lhaJ64j"
      },
      "execution_count": null,
      "outputs": []
    },
    {
      "cell_type": "code",
      "source": [
        "str = \"I want to be a great programmer.\"\n",
        "str.find(\"be\")"
      ],
      "metadata": {
        "id": "vCf1Wzg7J86v"
      },
      "execution_count": null,
      "outputs": []
    },
    {
      "cell_type": "code",
      "source": [
        "str = \"I want to be a great programmer.\"\n",
        "str.find(\"\")"
      ],
      "metadata": {
        "id": "QS3vAOl7KngY"
      },
      "execution_count": null,
      "outputs": []
    },
    {
      "cell_type": "code",
      "source": [
        "str = \"I want to be a great programmer.\"\n",
        "str.find('  ')"
      ],
      "metadata": {
        "id": "39kL6_ndKrPt"
      },
      "execution_count": null,
      "outputs": []
    },
    {
      "cell_type": "code",
      "source": [
        "str = \" I want to be a great programmer. \"\n",
        "new_str = str.strip()\n",
        "new_str"
      ],
      "metadata": {
        "id": "7RAe_E7lKvx6"
      },
      "execution_count": null,
      "outputs": []
    },
    {
      "cell_type": "code",
      "source": [
        "str = \"I want to be a great programmer.           \"\n",
        "new_str = str.strip()\n",
        "new_str"
      ],
      "metadata": {
        "id": "0RRnBUASLdUf"
      },
      "execution_count": null,
      "outputs": []
    },
    {
      "cell_type": "code",
      "source": [
        "del(list)\n",
        "#map() 함수와 lambda 함수 사용\n",
        "numbers = range(1,5)\n",
        "square_list = list(map(lambda x : x**2, numbers))\n",
        "print(square_list)"
      ],
      "metadata": {
        "id": "umStCMx5Lekp"
      },
      "execution_count": null,
      "outputs": []
    },
    {
      "cell_type": "code",
      "source": [
        "#filter() 함수와 lambda 함수 사용\n",
        "numbers = range(1,21)\n",
        "even_list = list(filter(lambda n:n%2==0, numbers))\n",
        "print(even_list)"
      ],
      "metadata": {
        "id": "lqOl7LjdSqnT"
      },
      "execution_count": null,
      "outputs": []
    },
    {
      "cell_type": "code",
      "source": [
        "#filter() 함수와 lambda 함수 사용\n",
        "numbers = range(1,21)\n",
        "even_list = list(filter(lambda n:n%22==0, numbers))\n",
        "print(even_list)"
      ],
      "metadata": {
        "id": "9K_aAr05S70Y"
      },
      "execution_count": null,
      "outputs": []
    },
    {
      "cell_type": "code",
      "source": [
        "#map() 함수와 lambda 함수 사용\n",
        "numbers = range(1,5)\n",
        "square_list = list(map(lambda x : x**2, numbers))\n",
        "print(square_list)"
      ],
      "metadata": {
        "id": "vDTN9ugIScs-"
      },
      "execution_count": null,
      "outputs": []
    },
    {
      "cell_type": "code",
      "source": [
        "#map() 함수와 lambda 함수 사용\n",
        "numbers = range(1,5)\n",
        "square_list = list(map(lambda numbers : numbers**2, numbers))\n",
        "print(square_list)"
      ],
      "metadata": {
        "id": "NQCaOT8BSjHh"
      },
      "execution_count": null,
      "outputs": []
    },
    {
      "cell_type": "markdown",
      "source": [
        "# 외장 함수"
      ],
      "metadata": {
        "id": "U8ZR8MWWXxBb"
      }
    },
    {
      "cell_type": "code",
      "source": [
        "import pickle\n",
        "f = open('setting.txt', 'wb') # wb: 바이너리 쓰기\n",
        "setting = [{'title' : 'python program'}, {'author' : 'Kei'}] \n",
        "pickle.dump(setting, f)\n",
        "f.close()\n",
        "\n",
        "f = open('setting.txt', 'rb')\n",
        "setting = pickle.load(f)\n",
        "f.close()\n",
        "print(setting)"
      ],
      "metadata": {
        "id": "Qz6NlaRiSoAT"
      },
      "execution_count": null,
      "outputs": []
    },
    {
      "cell_type": "code",
      "source": [
        "import pickle\n",
        "f = open('setting.txt', 'wb') # wb: 바이너리 쓰기\n",
        "setting = [{'title' : 'python program'}, {'author' : 'Kei'}] \n",
        "pickle.dump(setting, f)\n",
        "f.close()\n",
        "\n",
        "f = open('setting.txt', 'rb')\n",
        "setting = pickle.load(f)\n",
        "f.close()\n",
        "print(setting)"
      ],
      "metadata": {
        "id": "Suqm1uKeX6sX"
      },
      "execution_count": null,
      "outputs": []
    },
    {
      "cell_type": "code",
      "source": [
        "import time\n",
        "lt = time.localtime(time.time())\n",
        "time.strftime('%Y/%m/%d %H:%M:%S', lt)"
      ],
      "metadata": {
        "id": "O_Corh-mgATS"
      },
      "execution_count": null,
      "outputs": []
    },
    {
      "cell_type": "code",
      "source": [
        "import time\n",
        "time.strftime('%Y/%m/%d %H:%M:%S', time.localtime(time.time()))"
      ],
      "metadata": {
        "id": "JudUCQrcgArA"
      },
      "execution_count": null,
      "outputs": []
    },
    {
      "cell_type": "markdown",
      "source": [
        "# 클래스"
      ],
      "metadata": {
        "id": "zxcNGNqQg7Qn"
      }
    },
    {
      "cell_type": "code",
      "source": [
        "class Chatbot:\n",
        "  def sayHello(self):\n",
        "    print(\"say hello\")\n",
        "  def sayMyName(self):\n",
        "    print(\"My name is Kbot :D\")\n",
        "chatbot = Chatbot()  # 인스턴스를 생성함.\n",
        "chatbot.sayHello()\n",
        "chatbot.sayMyName()"
      ],
      "metadata": {
        "id": "2X0qMPXkg-Lv"
      },
      "execution_count": null,
      "outputs": []
    },
    {
      "cell_type": "code",
      "source": [
        "class Chatbot:\n",
        "  def sayHello(f):\n",
        "    print(\"say hello\")\n",
        "  def sayMyName(x):\n",
        "    print(\"My name is Kbot :D\")\n",
        "chatbot = Chatbot()  # 인스턴스를 생성함.\n",
        "chatbot.sayHello()\n",
        "chatbot.sayMyName()\n",
        "\n",
        "#?????????????????????????????????????????????????????????? self를 안썼는데. "
      ],
      "metadata": {
        "id": "jK7as7SQi60j"
      },
      "execution_count": null,
      "outputs": []
    },
    {
      "cell_type": "markdown",
      "source": [
        "# 생성자 및 소멸자"
      ],
      "metadata": {
        "id": "fPhstD_Sprsf"
      }
    },
    {
      "cell_type": "code",
      "source": [
        "class SimpleObj:\n",
        "  def __init__(self):\n",
        "    print('call __init__()')\n",
        "  def __del__(self):\n",
        "    print('call__del__()')\n",
        "obj = SimpleObj()\n",
        "print('obj instance is alive...')\n",
        "del obj"
      ],
      "metadata": {
        "id": "hl_lO0aAi_PB"
      },
      "execution_count": null,
      "outputs": []
    },
    {
      "cell_type": "code",
      "source": [
        "class SimpleObj:\n",
        "  def __init__(k):\n",
        "    print('call __init__()')\n",
        "  def __del__(k):\n",
        "    print('call__del__()')\n",
        "obj = SimpleObj()\n",
        "print('obj instance is alive...')\n",
        "del obj\n",
        "#?????????????????????????????????????????????????????????? self를 안썼는데. "
      ],
      "metadata": {
        "id": "cf3E3mzbmGtB"
      },
      "execution_count": null,
      "outputs": []
    },
    {
      "cell_type": "markdown",
      "source": [
        "# 메서드와 인스턴스 변수"
      ],
      "metadata": {
        "id": "EOa6__4gpwQO"
      }
    },
    {
      "cell_type": "code",
      "source": [
        "class Calc:\n",
        "  def __init__(self, init_value):  #입력값이 self가 아닌 init_value에 저장됨. self는 인스턴스 내부에서 자신을 참조하기 위해 사용하는 용도이기 때문.\n",
        "    self.value = init_value  #인스턴스 변수로 사용하기 위해서는 self 키워드를 사용해야 함.\n",
        "  def add(self, n): \n",
        "    return self.value + n\n",
        "  def sub(self, n):\n",
        "    return self.value - n\n",
        "  def mul(self, n):\n",
        "    return self.value * n\n",
        "  def div(self, n):\n",
        "    return self.value / n\n",
        "cal = Calc(100)\n",
        "print(\"value = {0}\".format(cal.value))\n",
        "a = cal.add(100)\n",
        "b = cal.sub(50)\n",
        "c = cal.mul(2)\n",
        "d = cal.div(2)\n",
        "print(\"a={0}, b={1}, c={2}, d={3}\".format(a, b, c, d))"
      ],
      "metadata": {
        "id": "Dt1lM2tzmLab"
      },
      "execution_count": null,
      "outputs": []
    },
    {
      "cell_type": "code",
      "source": [
        "class Calc:\n",
        "  def __init__(f, init_value):  #입력값이 self가 아닌 init_value에 저장됨. self는 인스턴스 내부에서 자신을 참조하기 위해 사용하는 용도이기 때문.\n",
        "    f.value = init_value  #인스턴스 변수로 사용하기 위해서는 self 키워드를 사용해야 함.\n",
        "  def add(f, n): \n",
        "    return f.value + n\n",
        "  def sub(f, n):\n",
        "    return f.value - n\n",
        "  def mul(f, n):\n",
        "    return f.value * n\n",
        "  def div(f, n):\n",
        "    return f.value / n\n",
        "cal = Calc(100)\n",
        "print(\"value = {0}\".format(cal.value))\n",
        "a = cal.add(100)\n",
        "b = cal.sub(50)\n",
        "c = cal.mul(2)\n",
        "d = cal.div(2)\n",
        "print(\"a={0}, b={1}, c={2}, d={3}\".format(a, b, c, d))\n",
        "\n",
        "#?????????????????????????????????????????????????????????????????????????????????????????????????????????????????????????????????????????????????????????????????????\n",
        "#!!!!!!!!!!!!!!!!!!!!!!!!!!!!!!!!!!!!!!!!!!!!!!!!!!!!!!!!!!!!!!!!!!!!!!!!!!!!!!!!!!: 파이썬에서는 다른 문자가 self와 같은 역할을 함. "
      ],
      "metadata": {
        "id": "CljGvcOrp0u6"
      },
      "execution_count": null,
      "outputs": []
    },
    {
      "cell_type": "code",
      "source": [
        ""
      ],
      "metadata": {
        "id": "yjtUBzIGp5UD"
      },
      "execution_count": null,
      "outputs": []
    },
    {
      "cell_type": "markdown",
      "source": [
        "# 예외처리"
      ],
      "metadata": {
        "id": "ZxJ79Y8ax9ES"
      }
    },
    {
      "cell_type": "code",
      "source": [
        "try:\n",
        "  a = 10\n",
        "  b = 0\n",
        "  c = a / b\n",
        "  print(c)\n",
        "except Exception as e:\n",
        "  print(e)"
      ],
      "metadata": {
        "id": "FfexQr2oyDVb"
      },
      "execution_count": null,
      "outputs": []
    },
    {
      "cell_type": "code",
      "source": [
        "try:\n",
        "  a = 10\n",
        "  b = 0\n",
        "  c = a / b\n",
        "  print(c)\n",
        "except Exception:\n",
        "  a-b"
      ],
      "metadata": {
        "id": "6A2-0syDyuE8"
      },
      "execution_count": null,
      "outputs": []
    },
    {
      "cell_type": "markdown",
      "source": [
        "# KoNLpy"
      ],
      "metadata": {
        "id": "aDNePiohzUO_"
      }
    },
    {
      "cell_type": "code",
      "source": [
        "!pip install koNLpy"
      ],
      "metadata": {
        "id": "rdZFqM9xyzZX"
      },
      "execution_count": null,
      "outputs": []
    },
    {
      "cell_type": "code",
      "source": [
        "# 꼬꼬마 형태소 분석기 사용\n",
        "from konlpy.tag import Kkma\n",
        "kkma = Kkma()\n",
        "text = \"아버지가 방에 들어갑니다.\"\n",
        "morphs = kkma.morphs(text)  # 인자로 입력한 문장을 형태소 단위로 토크나이징함. \n",
        "print(morphs)\n",
        "pos = kkma.pos(text)  # 형태소와 품사 태그 추출\n",
        "print(pos)\n",
        "nouns = kkma.nouns(text)  # 명사만 추출\n",
        "print(nouns)\n",
        "sentences = \"오늘 날씨는 어때요? 내일은 덥다던데.\"\n",
        "s = kkma.sentences(sentences)  # 문장 분리\n",
        "print(s)"
      ],
      "metadata": {
        "id": "q5Yo6XTgzWU-"
      },
      "execution_count": null,
      "outputs": []
    },
    {
      "cell_type": "code",
      "source": [
        "#Komoran 형태소 분석기 사용\n",
        "from konlpy.tag import Komoran\n",
        "komoran = Komoran()\n",
        "text = \"아버지가 방에 들어갑니다.\"\n",
        "morphs = komoran.morphs(text)\n",
        "print(morphs)\n",
        "pos = komoran.pos(text)  # 형태소와 품사 태그 추출\n",
        "print(pos)\n",
        "nouns = komoran.nouns(text)  # 명사만 추출\n",
        "print(nouns)"
      ],
      "metadata": {
        "id": "bEJhBPK1zW8e"
      },
      "execution_count": null,
      "outputs": []
    },
    {
      "cell_type": "code",
      "source": [
        "#Okt 형태소 분석기 사용\n",
        "from konlpy.tag import Okt\n",
        "okt = Okt()\n",
        "text = \"아버지가 방에 들어갑니다.\"\n",
        "morphs = okt.morphs(text)\n",
        "print(morphs)\n",
        "pos = okt.pos(text)  # 형태소와 품사 태그 추출\n",
        "print(pos)\n",
        "nouns = okt.nouns(text)  # 명사만 추출\n",
        "print(nouns)\n",
        "\n",
        "text = '오늘 날씨가 좋아욬ㅋㅋ'\n",
        "print(okt.normalize(text))\n",
        "print(okt.phrases(text))"
      ],
      "metadata": {
        "id": "-8KfweI8zlJo"
      },
      "execution_count": null,
      "outputs": []
    },
    {
      "cell_type": "code",
      "source": [
        "kkma.morphs('메롱')"
      ],
      "metadata": {
        "id": "rMlPWqamznPy"
      },
      "execution_count": null,
      "outputs": []
    },
    {
      "cell_type": "code",
      "source": [
        "kkma.morphs('어라미ㅜㅇ차ㅣㄴ어림')"
      ],
      "metadata": {
        "id": "cSSqMBlSz0zZ"
      },
      "execution_count": null,
      "outputs": []
    },
    {
      "cell_type": "code",
      "source": [
        "kkma.morphs('안                     녕')"
      ],
      "metadata": {
        "id": "ktVi78Bpz35J"
      },
      "execution_count": null,
      "outputs": []
    },
    {
      "cell_type": "code",
      "source": [
        "komoran.morphs('안                  녕')"
      ],
      "metadata": {
        "id": "C2wUPoDlz80Q"
      },
      "execution_count": null,
      "outputs": []
    },
    {
      "cell_type": "code",
      "source": [
        "okt.morphs('안                     녕')"
      ],
      "metadata": {
        "id": "LvO7XMn_0A0G"
      },
      "execution_count": null,
      "outputs": []
    },
    {
      "cell_type": "code",
      "source": [
        "kkma.morphs('안녕')"
      ],
      "metadata": {
        "id": "lMYLFYK20EFA"
      },
      "execution_count": null,
      "outputs": []
    },
    {
      "cell_type": "code",
      "source": [
        "okt.normalize('안뇽')"
      ],
      "metadata": {
        "id": "rjKOF3zj0HEc"
      },
      "execution_count": null,
      "outputs": []
    },
    {
      "cell_type": "code",
      "source": [
        "okt.normalize('아닝')"
      ],
      "metadata": {
        "id": "LLeoKtD40N2q"
      },
      "execution_count": null,
      "outputs": []
    },
    {
      "cell_type": "code",
      "source": [
        "okt.normalize('아니용')"
      ],
      "metadata": {
        "id": "Etv_aY100Qlo"
      },
      "execution_count": null,
      "outputs": []
    },
    {
      "cell_type": "code",
      "source": [
        "okt.normalize('아니욬')"
      ],
      "metadata": {
        "id": "sysqtKqF0TaY"
      },
      "execution_count": null,
      "outputs": []
    },
    {
      "cell_type": "code",
      "source": [
        "okt.normalize('아니욬ㅋㅋ')"
      ],
      "metadata": {
        "id": "bqLTy9EP0WRK"
      },
      "execution_count": null,
      "outputs": []
    },
    {
      "cell_type": "code",
      "source": [
        "kkma.morphs('아닝')"
      ],
      "metadata": {
        "id": "d0rbLkGG0X_S"
      },
      "execution_count": null,
      "outputs": []
    },
    {
      "cell_type": "code",
      "source": [
        "kkma.morphs('아니용')"
      ],
      "metadata": {
        "id": "-jyDXuJc0dMh"
      },
      "execution_count": null,
      "outputs": []
    },
    {
      "cell_type": "code",
      "source": [
        "kkma.morphs('아니욬ㅋ')"
      ],
      "metadata": {
        "id": "YrKHeGZu0hmc"
      },
      "execution_count": null,
      "outputs": []
    }
  ]
}