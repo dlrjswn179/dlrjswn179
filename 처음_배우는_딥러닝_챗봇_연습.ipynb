{
  "nbformat": 4,
  "nbformat_minor": 0,
  "metadata": {
    "colab": {
      "name": "처음 배우는 딥러닝 챗봇_연습.ipynb",
      "provenance": [],
      "collapsed_sections": [],
      "authorship_tag": "ABX9TyMlR8dLIjUbX/uNZdAj4qUK",
      "include_colab_link": true
    },
    "kernelspec": {
      "name": "python3",
      "display_name": "Python 3"
    },
    "language_info": {
      "name": "python"
    }
  },
  "cells": [
    {
      "cell_type": "markdown",
      "metadata": {
        "id": "view-in-github",
        "colab_type": "text"
      },
      "source": [
        "<a href=\"https://colab.research.google.com/github/dlrjswn179/dlrjswn179/blob/main/%EC%B2%98%EC%9D%8C_%EB%B0%B0%EC%9A%B0%EB%8A%94_%EB%94%A5%EB%9F%AC%EB%8B%9D_%EC%B1%97%EB%B4%87_%EC%97%B0%EC%8A%B5.ipynb\" target=\"_parent\"><img src=\"https://colab.research.google.com/assets/colab-badge.svg\" alt=\"Open In Colab\"/></a>"
      ]
    },
    {
      "cell_type": "markdown",
      "source": [
        "숫자"
      ],
      "metadata": {
        "id": "ZG2mnifmKrwV"
      }
    },
    {
      "cell_type": "code",
      "source": [
        "type(0*8)"
      ],
      "metadata": {
        "id": "hd6vwwynJ_DE"
      },
      "execution_count": null,
      "outputs": []
    },
    {
      "cell_type": "code",
      "source": [
        "type(0/8)"
      ],
      "metadata": {
        "id": "nqL5TLrXKEAv"
      },
      "execution_count": null,
      "outputs": []
    },
    {
      "cell_type": "code",
      "source": [
        "type(1.0*5)"
      ],
      "metadata": {
        "id": "EckpFd4xKIgr"
      },
      "execution_count": null,
      "outputs": []
    },
    {
      "cell_type": "code",
      "source": [
        "type(3/1)"
      ],
      "metadata": {
        "id": "C3jhcD2eKf8w"
      },
      "execution_count": null,
      "outputs": []
    },
    {
      "cell_type": "code",
      "source": [
        "type(3//1)"
      ],
      "metadata": {
        "id": "WpQ0OSKSKkdQ"
      },
      "execution_count": null,
      "outputs": []
    },
    {
      "cell_type": "code",
      "source": [
        "type(3%1)"
      ],
      "metadata": {
        "id": "9lJsxHMYKlYg"
      },
      "execution_count": null,
      "outputs": []
    },
    {
      "cell_type": "markdown",
      "source": [
        "문자열"
      ],
      "metadata": {
        "id": "dD0ktMEsI_xx"
      }
    },
    {
      "cell_type": "code",
      "source": [
        "'\"Nice to meet you\", chatbot says'"
      ],
      "metadata": {
        "id": "vCp2I24WJI7p"
      },
      "execution_count": null,
      "outputs": []
    },
    {
      "cell_type": "code",
      "source": [
        "\"I'm programming now\""
      ],
      "metadata": {
        "id": "Rk8neOo-KnY5"
      },
      "execution_count": null,
      "outputs": []
    },
    {
      "cell_type": "code",
      "source": [
        "'Hello\\nbro!!'"
      ],
      "metadata": {
        "id": "rb3rWHL6JEMy"
      },
      "execution_count": null,
      "outputs": []
    },
    {
      "cell_type": "code",
      "source": [
        "print('Hello\\nbro!!')"
      ],
      "metadata": {
        "id": "ARtrxFcFJQpR"
      },
      "execution_count": null,
      "outputs": []
    },
    {
      "cell_type": "code",
      "source": [
        "'''Hello\n",
        "bro!!'''"
      ],
      "metadata": {
        "id": "v2RuzAf7Jwbm"
      },
      "execution_count": null,
      "outputs": []
    },
    {
      "cell_type": "code",
      "source": [
        "print('''Hello\n",
        "bro!!''')"
      ],
      "metadata": {
        "id": "tRMGKjOnJzH6"
      },
      "execution_count": null,
      "outputs": []
    },
    {
      "cell_type": "markdown",
      "source": [
        "리스트"
      ],
      "metadata": {
        "id": "-lwTTkSmO9eo"
      }
    },
    {
      "cell_type": "code",
      "source": [
        "list = [1,2]\n",
        "list.append(1)\n",
        "print(list)"
      ],
      "metadata": {
        "id": "w9JZTvQBJ1p0"
      },
      "execution_count": null,
      "outputs": []
    },
    {
      "cell_type": "code",
      "source": [
        "list.insert(1,3)\n",
        "print(list)"
      ],
      "metadata": {
        "id": "f5AbpLdVPDO0"
      },
      "execution_count": null,
      "outputs": []
    },
    {
      "cell_type": "code",
      "source": [
        "list.pop(1)"
      ],
      "metadata": {
        "id": "uN-apVK-PFzf"
      },
      "execution_count": null,
      "outputs": []
    },
    {
      "cell_type": "code",
      "source": [
        "print(list)"
      ],
      "metadata": {
        "id": "QIo_RBckPiZB"
      },
      "execution_count": null,
      "outputs": []
    },
    {
      "cell_type": "code",
      "source": [
        "del list[1]\n",
        "print(list)"
      ],
      "metadata": {
        "id": "Z4iyVYS0PWIG"
      },
      "execution_count": null,
      "outputs": []
    },
    {
      "cell_type": "code",
      "source": [
        "len(list)"
      ],
      "metadata": {
        "id": "0-6PTwRLPcKa"
      },
      "execution_count": null,
      "outputs": []
    },
    {
      "cell_type": "markdown",
      "source": [
        "튜플"
      ],
      "metadata": {
        "id": "70CAXP82PqF_"
      }
    },
    {
      "cell_type": "code",
      "source": [
        "tuple = (1, 2)\n",
        "tuple + (1,)"
      ],
      "metadata": {
        "id": "VanOt9KDPpF1"
      },
      "execution_count": null,
      "outputs": []
    },
    {
      "cell_type": "code",
      "source": [
        "tuple + (2.00,)"
      ],
      "metadata": {
        "id": "EQp9IP6vP-o8"
      },
      "execution_count": null,
      "outputs": []
    },
    {
      "cell_type": "markdown",
      "source": [
        "딕셔너리"
      ],
      "metadata": {
        "id": "DegLIPwGSufH"
      }
    },
    {
      "cell_type": "code",
      "source": [
        "user1 = {'name' : '홍길동', 'age' : 30, 'email' : 'hong@hanbit.co.kr'}"
      ],
      "metadata": {
        "id": "PAFBRcURQLfV"
      },
      "execution_count": null,
      "outputs": []
    },
    {
      "cell_type": "code",
      "source": [
        "user1 = {'name' : \"홍길동\", 'age' : 30, 'email' : 'hong@hanbit.co.kr'}"
      ],
      "metadata": {
        "id": "orTcp55LSxlV"
      },
      "execution_count": null,
      "outputs": []
    },
    {
      "cell_type": "code",
      "source": [
        "user1 = {\"name\" : '홍길동', 'age' : 30, 'email' : \"hong@hanbit.co.kr\"}"
      ],
      "metadata": {
        "id": "h3bVgST_Szho"
      },
      "execution_count": null,
      "outputs": []
    },
    {
      "cell_type": "code",
      "source": [
        "user1"
      ],
      "metadata": {
        "id": "zjsvpQwWS2lI"
      },
      "execution_count": null,
      "outputs": []
    },
    {
      "cell_type": "code",
      "source": [
        "dict1 = {'a':'a'}\n",
        "dict1"
      ],
      "metadata": {
        "id": "w3P7uWj8S4FD"
      },
      "execution_count": null,
      "outputs": []
    },
    {
      "cell_type": "code",
      "source": [
        "dict2 = {1:1}\n",
        "dict2"
      ],
      "metadata": {
        "id": "aOAzVDsSTRLb"
      },
      "execution_count": null,
      "outputs": []
    },
    {
      "cell_type": "markdown",
      "source": [
        "if 조건문"
      ],
      "metadata": {
        "id": "NSFgSJMMW1WL"
      }
    },
    {
      "cell_type": "code",
      "source": [
        "check = True\n",
        "if check:\n",
        "  print('-' * 13)\n",
        "  print('check is true')\n",
        "  print('-' * 13)\n",
        "check = True\n",
        "if check:\n",
        "  print('-' * 13)\n",
        "  print('check is true')\n",
        "  print('-' * 13)"
      ],
      "metadata": {
        "id": "q9fDbUQhTXwz"
      },
      "execution_count": null,
      "outputs": []
    },
    {
      "cell_type": "code",
      "source": [
        "check = True\n",
        "if check is True:\n",
        "  print('-' * 13)\n",
        "  print('check is true')\n",
        "  print('-' * 13)"
      ],
      "metadata": {
        "id": "vElh7hEoW4A2"
      },
      "execution_count": null,
      "outputs": []
    },
    {
      "cell_type": "code",
      "source": [
        "check = True\n",
        "if check == True:\n",
        "  print('-' * 13)\n",
        "  print('check is true')\n",
        "  print('-' * 13)"
      ],
      "metadata": {
        "id": "rwAzjzTxXATN"
      },
      "execution_count": null,
      "outputs": []
    },
    {
      "cell_type": "code",
      "source": [
        "check = True\n",
        "if check is False:\n",
        "  print('-' * 13)\n",
        "  print('check is true')\n",
        "  print('-' * 13)"
      ],
      "metadata": {
        "id": "W0I5SPZZXCDG"
      },
      "execution_count": null,
      "outputs": []
    },
    {
      "cell_type": "code",
      "source": [
        "check = True\n",
        "if check is True or False:\n",
        "  print('-' * 13)\n",
        "  print('check is true')\n",
        "  print('-' * 13)"
      ],
      "metadata": {
        "id": "fUlRkDNkXDyB"
      },
      "execution_count": null,
      "outputs": []
    },
    {
      "cell_type": "code",
      "source": [
        "check = True\n",
        "if check is True and False:\n",
        "  print('-' * 13)\n",
        "  print('check is true')\n",
        "  print('-' * 13)"
      ],
      "metadata": {
        "id": "uoNSkznbXOq1"
      },
      "execution_count": null,
      "outputs": []
    },
    {
      "cell_type": "code",
      "source": [
        "check = True\n",
        "if check >= 0:\n",
        "  print('-' * 13)\n",
        "  print('check is true')\n",
        "  print('-' * 13)\n",
        "#?????????????????????????????????????????????????????????????????"
      ],
      "metadata": {
        "id": "C682I_eyXRWe"
      },
      "execution_count": null,
      "outputs": []
    },
    {
      "cell_type": "code",
      "source": [
        "check = True\n",
        "if check <0:\n",
        "  print('-' * 13)\n",
        "  print('check is true')\n",
        "  print('-' * 13)"
      ],
      "metadata": {
        "id": "h8EK8HrdXTez"
      },
      "execution_count": null,
      "outputs": []
    },
    {
      "cell_type": "code",
      "source": [
        "check = True\n",
        "if check ==0:\n",
        "  print('-' * 13)\n",
        "  print('check is true')\n",
        "  print('-' * 13)"
      ],
      "metadata": {
        "id": "KF8hq7o-XZJO"
      },
      "execution_count": null,
      "outputs": []
    },
    {
      "cell_type": "code",
      "source": [
        "check = True\n",
        "if check >0:\n",
        "  print('-' * 13)\n",
        "  print('check is true')\n",
        "  print('-' * 13)"
      ],
      "metadata": {
        "id": "k851gjw4XdRd"
      },
      "execution_count": null,
      "outputs": []
    },
    {
      "cell_type": "code",
      "source": [
        "int(True)"
      ],
      "metadata": {
        "id": "SpNwBsWcXrNO"
      },
      "execution_count": null,
      "outputs": []
    },
    {
      "cell_type": "code",
      "source": [
        "int(False)\n",
        "#!!!!!!!!!!!!!!!!!!!!!!!!!!!!!!!!!!!!!!!!!!!!!!!!!!!!!!!!!!!!!!!!!"
      ],
      "metadata": {
        "id": "q0UMTJxfXtdk"
      },
      "execution_count": null,
      "outputs": []
    },
    {
      "cell_type": "code",
      "source": [
        "float(False)"
      ],
      "metadata": {
        "id": "aJt9iBJxXvf_"
      },
      "execution_count": null,
      "outputs": []
    },
    {
      "cell_type": "code",
      "source": [
        "score = 84\n",
        "if score >= 90:\n",
        "  print('Grade A')\n",
        "elif score >= 80:\n",
        "  print('Grade B')\n",
        "elif score >= 70:\n",
        "  print('Grade C')\n",
        "else:\n",
        "  print('Grade D')"
      ],
      "metadata": {
        "colab": {
          "base_uri": "https://localhost:8080/"
        },
        "id": "fzHFtoERX3Yk",
        "outputId": "82e38be1-e9e7-4c43-be30-2a0a85e20a99"
      },
      "execution_count": 77,
      "outputs": [
        {
          "output_type": "stream",
          "name": "stdout",
          "text": [
            "Grade B\n"
          ]
        }
      ]
    },
    {
      "cell_type": "code",
      "source": [
        "score = 100\n",
        "if score >= 90:\n",
        "  print('Grade A')\n",
        "elif score >= 80:\n",
        "  print('Grade B')\n",
        "elif score >= 70:\n",
        "  print('Grade C')\n",
        "else:\n",
        "  print('Grade D')"
      ],
      "metadata": {
        "colab": {
          "base_uri": "https://localhost:8080/"
        },
        "id": "61KXpla1ZO2T",
        "outputId": "6602d5d1-7588-41b6-bb85-71a77be4f740"
      },
      "execution_count": 78,
      "outputs": [
        {
          "output_type": "stream",
          "name": "stdout",
          "text": [
            "Grade A\n"
          ]
        }
      ]
    },
    {
      "cell_type": "markdown",
      "source": [
        "while 반복문"
      ],
      "metadata": {
        "id": "NYM6b9lGbaNE"
      }
    },
    {
      "cell_type": "code",
      "source": [
        "while True:\n",
        "  print('input number : ')\n",
        "  menu = int(input())\n",
        "  if menu == 0: \n",
        "    break\n",
        "  elif menu == 1:\n",
        "    print('number one')\n",
        "  elif menu == 99:\n",
        "    continue\n",
        "  elif menu == 2:\n",
        "    print('number two')\n",
        "  else:\n",
        "    print('another number')"
      ],
      "metadata": {
        "colab": {
          "base_uri": "https://localhost:8080/"
        },
        "id": "Gpskm7feZQgd",
        "outputId": "168cb3e3-ae4c-44f4-eff7-c8e00e032645"
      },
      "execution_count": 82,
      "outputs": [
        {
          "name": "stdout",
          "output_type": "stream",
          "text": [
            "input number : \n",
            "0\n"
          ]
        }
      ]
    },
    {
      "cell_type": "code",
      "source": [
        "while True:\n",
        "  print('input number : ')\n",
        "  menu = int(input())\n",
        "  if menu == 0:break\n",
        "  elif menu == 1: print('number one')\n",
        "  elif menu == 99: continue\n",
        "  elif menu == 2:  print('number two')\n",
        "  else:    print('another number')"
      ],
      "metadata": {
        "colab": {
          "base_uri": "https://localhost:8080/"
        },
        "id": "hEzInwf3biBA",
        "outputId": "e3d9e308-358b-41a1-acd2-a9d56f269615"
      },
      "execution_count": 85,
      "outputs": [
        {
          "name": "stdout",
          "output_type": "stream",
          "text": [
            "input number : \n",
            "2\n",
            "number two\n",
            "input number : \n",
            "0\n"
          ]
        }
      ]
    },
    {
      "cell_type": "markdown",
      "source": [
        "for 반복문"
      ],
      "metadata": {
        "id": "Uk3yy3_ub3Gb"
      }
    },
    {
      "cell_type": "code",
      "source": [
        "coord = [(0,0), (10,15), (20,25)]\n",
        "for x,y in coord:\n",
        "  print(x,y)"
      ],
      "metadata": {
        "colab": {
          "base_uri": "https://localhost:8080/"
        },
        "id": "T5vNwZ01btMN",
        "outputId": "4ea59346-32ad-4ffc-efef-3d27462210b8"
      },
      "execution_count": 86,
      "outputs": [
        {
          "output_type": "stream",
          "name": "stdout",
          "text": [
            "0 0\n",
            "10 15\n",
            "20 25\n"
          ]
        }
      ]
    },
    {
      "cell_type": "code",
      "source": [
        "coord = [(0,0), (10,15), (20,25)]\n",
        "for x in coord:\n",
        "  print(x)"
      ],
      "metadata": {
        "colab": {
          "base_uri": "https://localhost:8080/"
        },
        "id": "bm4IyjBGdQxi",
        "outputId": "d3a10c22-4f92-42db-c84b-d414ab3df05e"
      },
      "execution_count": 87,
      "outputs": [
        {
          "output_type": "stream",
          "name": "stdout",
          "text": [
            "(0, 0)\n",
            "(10, 15)\n",
            "(20, 25)\n"
          ]
        }
      ]
    },
    {
      "cell_type": "code",
      "source": [
        "coord = [(0,0), (10,15), (20,25)]\n",
        "for x,y in coord:\n",
        "  print(x)"
      ],
      "metadata": {
        "colab": {
          "base_uri": "https://localhost:8080/"
        },
        "id": "l-4JX6YHdTfS",
        "outputId": "5e35eafb-9bda-41b3-bf6f-c6c1d939311d"
      },
      "execution_count": 88,
      "outputs": [
        {
          "output_type": "stream",
          "name": "stdout",
          "text": [
            "0\n",
            "10\n",
            "20\n"
          ]
        }
      ]
    },
    {
      "cell_type": "code",
      "source": [
        "coord = [0, 10, 20]\n",
        "for x in coord:\n",
        "  print(x,333333333)"
      ],
      "metadata": {
        "colab": {
          "base_uri": "https://localhost:8080/"
        },
        "id": "gGU22AGIdXuO",
        "outputId": "8a981ff6-cacc-4889-947e-a082dd99e9e3"
      },
      "execution_count": 5,
      "outputs": [
        {
          "output_type": "stream",
          "name": "stdout",
          "text": [
            "0 333333333\n",
            "10 333333333\n",
            "20 333333333\n"
          ]
        }
      ]
    },
    {
      "cell_type": "code",
      "source": [
        "user = {'name' : 'Kei', 'age' : 35, 'nationality' : 'Korea'}\n",
        "for k, v in user.items():\n",
        "  print(k,v)"
      ],
      "metadata": {
        "colab": {
          "base_uri": "https://localhost:8080/"
        },
        "id": "s0CsYadndbTQ",
        "outputId": "2f25943e-1323-4400-94ab-7013a644d45c"
      },
      "execution_count": 3,
      "outputs": [
        {
          "output_type": "stream",
          "name": "stdout",
          "text": [
            "name Kei\n",
            "age 35\n",
            "nationality Korea\n"
          ]
        }
      ]
    },
    {
      "cell_type": "code",
      "source": [
        "for k, v in user.items():\n",
        "  print(k,':',v)"
      ],
      "metadata": {
        "colab": {
          "base_uri": "https://localhost:8080/"
        },
        "id": "FuEfaVyAfCkp",
        "outputId": "f9a835b2-e124-40c3-89ad-e52ee7b7e635"
      },
      "execution_count": 4,
      "outputs": [
        {
          "output_type": "stream",
          "name": "stdout",
          "text": [
            "name : Kei\n",
            "age : 35\n",
            "nationality : Korea\n"
          ]
        }
      ]
    },
    {
      "cell_type": "code",
      "source": [
        ""
      ],
      "metadata": {
        "id": "14yd4mRlfFGl"
      },
      "execution_count": null,
      "outputs": []
    }
  ]
}