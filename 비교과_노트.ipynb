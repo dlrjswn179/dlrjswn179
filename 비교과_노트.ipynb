{
  "nbformat": 4,
  "nbformat_minor": 0,
  "metadata": {
    "colab": {
      "name": "비교과 노트.ipynb",
      "provenance": [],
      "collapsed_sections": [],
      "mount_file_id": "1kedm25P6dk0oNsC34w0XsETaNtDb2wJE",
      "authorship_tag": "ABX9TyOYqaL1gsP0l/XQIB3X9/5/",
      "include_colab_link": true
    },
    "kernelspec": {
      "name": "python3",
      "display_name": "Python 3"
    },
    "language_info": {
      "name": "python"
    }
  },
  "cells": [
    {
      "cell_type": "markdown",
      "metadata": {
        "id": "view-in-github",
        "colab_type": "text"
      },
      "source": [
        "<a href=\"https://colab.research.google.com/github/dlrjswn179/dlrjswn179/blob/main/%EB%B9%84%EA%B5%90%EA%B3%BC_%EB%85%B8%ED%8A%B8.ipynb\" target=\"_parent\"><img src=\"https://colab.research.google.com/assets/colab-badge.svg\" alt=\"Open In Colab\"/></a>"
      ]
    },
    {
      "cell_type": "markdown",
      "source": [
        "**기초**"
      ],
      "metadata": {
        "id": "cHDLIzdZKJuU"
      }
    },
    {
      "cell_type": "code",
      "execution_count": null,
      "metadata": {
        "id": "EbUUE_d_2lci"
      },
      "outputs": [],
      "source": [
        "print(\"Hello World\")"
      ]
    },
    {
      "cell_type": "code",
      "source": [
        "a = 123"
      ],
      "metadata": {
        "id": "yKs4qaxX4-Tu"
      },
      "execution_count": null,
      "outputs": []
    },
    {
      "cell_type": "code",
      "source": [
        "a"
      ],
      "metadata": {
        "id": "DPjrG49k5MAu"
      },
      "execution_count": null,
      "outputs": []
    },
    {
      "cell_type": "code",
      "source": [
        "type(a)"
      ],
      "metadata": {
        "id": "QClDZc7P5PPT"
      },
      "execution_count": null,
      "outputs": []
    },
    {
      "cell_type": "code",
      "source": [
        "a = \"123\""
      ],
      "metadata": {
        "id": "ulvvZsql5RNe"
      },
      "execution_count": null,
      "outputs": []
    },
    {
      "cell_type": "code",
      "source": [
        "a"
      ],
      "metadata": {
        "id": "ZArwKloM5RjT"
      },
      "execution_count": null,
      "outputs": []
    },
    {
      "cell_type": "code",
      "source": [
        "type(a)"
      ],
      "metadata": {
        "id": "nJpzyXBN5kAD"
      },
      "execution_count": null,
      "outputs": []
    },
    {
      "cell_type": "code",
      "source": [
        "#List\n",
        "a = [1,2,3]\n",
        "b = [\"1\",\"2\",\"3\"]\n",
        "c = [1,\"1\",a]"
      ],
      "metadata": {
        "id": "bartrB1V5lV3"
      },
      "execution_count": null,
      "outputs": []
    },
    {
      "cell_type": "code",
      "source": [
        "#Tuple(수정불가능)\n",
        "d = (1,2,3)\n",
        "e = \"1\",\"2\",\"3\"\n",
        "f = (1,\"1\",a)"
      ],
      "metadata": {
        "id": "yxZQuILF6A2z"
      },
      "execution_count": null,
      "outputs": []
    },
    {
      "cell_type": "code",
      "source": [
        "#Set(순서없음)\n",
        "g = {1,2,3}"
      ],
      "metadata": {
        "id": "UmNPzPAM6NP3"
      },
      "execution_count": null,
      "outputs": []
    },
    {
      "cell_type": "code",
      "source": [
        "c[2]"
      ],
      "metadata": {
        "id": "2HntcZWo6sHs"
      },
      "execution_count": null,
      "outputs": []
    },
    {
      "cell_type": "code",
      "source": [
        "e"
      ],
      "metadata": {
        "id": "8RRZAl7q6tZk"
      },
      "execution_count": null,
      "outputs": []
    },
    {
      "cell_type": "code",
      "source": [
        "g[2]"
      ],
      "metadata": {
        "id": "d77l8IQ06vcv"
      },
      "execution_count": null,
      "outputs": []
    },
    {
      "cell_type": "code",
      "source": [
        "#Dictionary\n",
        "h = {'a':1,'b':2,'c':3}"
      ],
      "metadata": {
        "id": "Ho7uDThY6xrp"
      },
      "execution_count": null,
      "outputs": []
    },
    {
      "cell_type": "code",
      "source": [
        "h[0]"
      ],
      "metadata": {
        "id": "L7b09iFi7Bp0"
      },
      "execution_count": null,
      "outputs": []
    },
    {
      "cell_type": "code",
      "source": [
        "h[a]"
      ],
      "metadata": {
        "id": "Wzmyqexh7EFI"
      },
      "execution_count": null,
      "outputs": []
    },
    {
      "cell_type": "code",
      "source": [
        "h['a']"
      ],
      "metadata": {
        "id": "h42ybKMK7FqU"
      },
      "execution_count": null,
      "outputs": []
    },
    {
      "cell_type": "code",
      "source": [
        "1+1"
      ],
      "metadata": {
        "id": "GjMaQzdX7G1J"
      },
      "execution_count": null,
      "outputs": []
    },
    {
      "cell_type": "code",
      "source": [
        "2-1"
      ],
      "metadata": {
        "id": "Khg-X-fE7R6p"
      },
      "execution_count": null,
      "outputs": []
    },
    {
      "cell_type": "code",
      "source": [
        "1*1"
      ],
      "metadata": {
        "id": "C9pXixLJ7WH9"
      },
      "execution_count": null,
      "outputs": []
    },
    {
      "cell_type": "code",
      "source": [
        "2/1"
      ],
      "metadata": {
        "id": "xK8VdrhE7c46"
      },
      "execution_count": null,
      "outputs": []
    },
    {
      "cell_type": "code",
      "source": [
        "2>1"
      ],
      "metadata": {
        "id": "w2I4zAK87dru"
      },
      "execution_count": null,
      "outputs": []
    },
    {
      "cell_type": "code",
      "source": [
        "2<1"
      ],
      "metadata": {
        "id": "cVTLl8bf7gBF"
      },
      "execution_count": null,
      "outputs": []
    },
    {
      "cell_type": "code",
      "source": [
        "2>=1"
      ],
      "metadata": {
        "id": "mmbBqZYY7g6h"
      },
      "execution_count": null,
      "outputs": []
    },
    {
      "cell_type": "code",
      "source": [
        "2<=1"
      ],
      "metadata": {
        "id": "nqXVLK1Y7izd"
      },
      "execution_count": null,
      "outputs": []
    },
    {
      "cell_type": "code",
      "source": [
        "2==1"
      ],
      "metadata": {
        "id": "F_9iEaB27j79"
      },
      "execution_count": null,
      "outputs": []
    },
    {
      "cell_type": "code",
      "source": [
        "2!=1"
      ],
      "metadata": {
        "id": "KXS99kLf7mgN"
      },
      "execution_count": null,
      "outputs": []
    },
    {
      "cell_type": "code",
      "source": [
        "1 in a"
      ],
      "metadata": {
        "id": "XCytVl0c7ph8"
      },
      "execution_count": null,
      "outputs": []
    },
    {
      "cell_type": "code",
      "source": [
        "1 in d"
      ],
      "metadata": {
        "id": "tuL7Dz7l7uDo"
      },
      "execution_count": null,
      "outputs": []
    },
    {
      "cell_type": "code",
      "source": [
        "1 in g"
      ],
      "metadata": {
        "id": "JHUcfz2l7vI1"
      },
      "execution_count": null,
      "outputs": []
    },
    {
      "cell_type": "code",
      "source": [
        "1 in e"
      ],
      "metadata": {
        "id": "ppX2HI287wT3"
      },
      "execution_count": null,
      "outputs": []
    },
    {
      "cell_type": "markdown",
      "source": [
        "**데이터 분석에 적용**\n"
      ],
      "metadata": {
        "id": "C9HPnqWHKCdz"
      }
    },
    {
      "cell_type": "code",
      "source": [
        "import os\n",
        "os.getcwd()"
      ],
      "metadata": {
        "id": "uevFrtRF7y3b"
      },
      "execution_count": null,
      "outputs": []
    },
    {
      "cell_type": "code",
      "source": [
        "import pandas as pd"
      ],
      "metadata": {
        "id": "VRP9F7NA8nBY"
      },
      "execution_count": null,
      "outputs": []
    },
    {
      "cell_type": "code",
      "source": [
        "bike_data = pd.read_csv('bike_usage_0.csv',encoding='cp949')"
      ],
      "metadata": {
        "id": "AK4dXXAZDkkV"
      },
      "execution_count": null,
      "outputs": []
    },
    {
      "cell_type": "code",
      "source": [
        "bike_data"
      ],
      "metadata": {
        "id": "SioFuevhDxY0"
      },
      "execution_count": null,
      "outputs": []
    },
    {
      "cell_type": "code",
      "source": [
        "print(bike_data)"
      ],
      "metadata": {
        "id": "FcribUfDEjho"
      },
      "execution_count": null,
      "outputs": []
    },
    {
      "cell_type": "code",
      "source": [
        "bike_data.isnull()"
      ],
      "metadata": {
        "id": "ynNgn-ELGJ_k"
      },
      "execution_count": null,
      "outputs": []
    },
    {
      "cell_type": "code",
      "source": [
        "bike_data.isnull().sum()"
      ],
      "metadata": {
        "id": "bok6mGfdGnaB"
      },
      "execution_count": null,
      "outputs": []
    },
    {
      "cell_type": "code",
      "source": [
        "population = pd.read_csv('population_by_Gu.txt')"
      ],
      "metadata": {
        "id": "7O-iV_-BGuI8"
      },
      "execution_count": null,
      "outputs": []
    },
    {
      "cell_type": "code",
      "source": [
        "population"
      ],
      "metadata": {
        "id": "XHQIZVDmG925"
      },
      "execution_count": null,
      "outputs": []
    },
    {
      "cell_type": "code",
      "source": [
        "population = pd.read_csv('population_by_Gu.txt',sep = '\\t')"
      ],
      "metadata": {
        "id": "aJvDzYZjHH84"
      },
      "execution_count": null,
      "outputs": []
    },
    {
      "cell_type": "code",
      "source": [
        "population"
      ],
      "metadata": {
        "id": "n4zNcQr9HSEe"
      },
      "execution_count": null,
      "outputs": []
    },
    {
      "cell_type": "code",
      "source": [
        "weather = pd.read_csv('weather.csv')"
      ],
      "metadata": {
        "id": "p_tarwJZHTAo"
      },
      "execution_count": null,
      "outputs": []
    },
    {
      "cell_type": "code",
      "source": [
        "weather"
      ],
      "metadata": {
        "id": "epg2TTeuHbhF"
      },
      "execution_count": null,
      "outputs": []
    },
    {
      "cell_type": "code",
      "source": [
        "bike_data.describe()"
      ],
      "metadata": {
        "id": "U5KUbvg8Hp9v"
      },
      "execution_count": null,
      "outputs": []
    },
    {
      "cell_type": "code",
      "source": [
        "type(bike_data)"
      ],
      "metadata": {
        "id": "6wPQVPDrH9dH"
      },
      "execution_count": null,
      "outputs": []
    },
    {
      "cell_type": "code",
      "source": [
        "bike_data.columns"
      ],
      "metadata": {
        "id": "fJ1g7Ku6IMr-"
      },
      "execution_count": null,
      "outputs": []
    },
    {
      "cell_type": "code",
      "source": [
        "bike_data.head()"
      ],
      "metadata": {
        "id": "h6CzseapIR2j"
      },
      "execution_count": null,
      "outputs": []
    },
    {
      "cell_type": "code",
      "source": [
        "bike_data.tail()"
      ],
      "metadata": {
        "id": "9dFaziuVIUhF"
      },
      "execution_count": null,
      "outputs": []
    },
    {
      "cell_type": "code",
      "source": [
        "bike_data.shape"
      ],
      "metadata": {
        "id": "d3fJkJZIIY4G"
      },
      "execution_count": null,
      "outputs": []
    },
    {
      "cell_type": "code",
      "source": [
        "bike_data.info()"
      ],
      "metadata": {
        "id": "UXs9t2mvIcw7"
      },
      "execution_count": null,
      "outputs": []
    },
    {
      "cell_type": "code",
      "source": [
        "bike_data.sum()"
      ],
      "metadata": {
        "id": "ytWpoD9aIgz9"
      },
      "execution_count": null,
      "outputs": []
    },
    {
      "cell_type": "code",
      "source": [
        "bike_data.Distance"
      ],
      "metadata": {
        "id": "_5g-G7NFIl-I"
      },
      "execution_count": null,
      "outputs": []
    },
    {
      "cell_type": "code",
      "source": [
        "bike_data['Distance']"
      ],
      "metadata": {
        "id": "bUu75zZZItRf"
      },
      "execution_count": null,
      "outputs": []
    },
    {
      "cell_type": "code",
      "source": [
        "bike_data['Distance'].sum()"
      ],
      "metadata": {
        "id": "Um90HmGJI1H4"
      },
      "execution_count": null,
      "outputs": []
    },
    {
      "cell_type": "code",
      "source": [
        "bike_data['Membership_type'].unique()"
      ],
      "metadata": {
        "id": "qATXKC6tI9q3"
      },
      "execution_count": null,
      "outputs": []
    },
    {
      "cell_type": "code",
      "source": [
        "bike_data['Membership_type'].value_counts()"
      ],
      "metadata": {
        "id": "qJEIQn1zJDq6"
      },
      "execution_count": null,
      "outputs": []
    },
    {
      "cell_type": "code",
      "source": [
        "bike_data['Membership_type'].value_counts(normalize = 'True')"
      ],
      "metadata": {
        "id": "7NwRrrYpJJOk"
      },
      "execution_count": null,
      "outputs": []
    },
    {
      "cell_type": "code",
      "source": [
        "bike_data.info()"
      ],
      "metadata": {
        "id": "lPV_6DOxJPgA"
      },
      "execution_count": null,
      "outputs": []
    },
    {
      "cell_type": "code",
      "source": [
        "bike_data.Momentum.isnull().sum()"
      ],
      "metadata": {
        "id": "OtUbjNjcJTxe"
      },
      "execution_count": null,
      "outputs": []
    },
    {
      "cell_type": "code",
      "source": [
        "bike_data.Momentum.min()"
      ],
      "metadata": {
        "id": "OIdGc-xDJacl"
      },
      "execution_count": null,
      "outputs": []
    },
    {
      "cell_type": "code",
      "source": [
        "bike_data.Momentum.max()"
      ],
      "metadata": {
        "id": "8_y98rpCJgcM"
      },
      "execution_count": null,
      "outputs": []
    },
    {
      "cell_type": "code",
      "source": [
        "bike_data[bike_data.Momentum=='\\\\N']"
      ],
      "metadata": {
        "id": "-GrNQ-iVJnCo"
      },
      "execution_count": null,
      "outputs": []
    },
    {
      "cell_type": "code",
      "source": [
        ""
      ],
      "metadata": {
        "id": "YsF8gggyJ51X"
      },
      "execution_count": null,
      "outputs": []
    }
  ]
}