{
  "nbformat": 4,
  "nbformat_minor": 0,
  "metadata": {
    "colab": {
      "name": "처음 배우는 딥러닝 챗봇.ipynb",
      "provenance": [],
      "collapsed_sections": [
        "GK4ZZVvinsLF"
      ],
      "authorship_tag": "ABX9TyNyc/+H3pl+bnnVMkaH9arB",
      "include_colab_link": true
    },
    "kernelspec": {
      "name": "python3",
      "display_name": "Python 3"
    },
    "language_info": {
      "name": "python"
    }
  },
  "cells": [
    {
      "cell_type": "markdown",
      "metadata": {
        "id": "view-in-github",
        "colab_type": "text"
      },
      "source": [
        "<a href=\"https://colab.research.google.com/github/dlrjswn179/dlrjswn179/blob/main/%EC%B2%98%EC%9D%8C_%EB%B0%B0%EC%9A%B0%EB%8A%94_%EB%94%A5%EB%9F%AC%EB%8B%9D_%EC%B1%97%EB%B4%87.ipynb\" target=\"_parent\"><img src=\"https://colab.research.google.com/assets/colab-badge.svg\" alt=\"Open In Colab\"/></a>"
      ]
    },
    {
      "cell_type": "markdown",
      "source": [
        "# CHAPTER 1 챗봇 입문하기\n"
      ],
      "metadata": {
        "id": "GK4ZZVvinsLF"
      }
    },
    {
      "cell_type": "code",
      "source": [
        "#챗봇은 채터와 로봇의 합성어로, 대화하는 로봇이라고 정의할 수 있습니다."
      ],
      "metadata": {
        "id": "P57pJJxZn0ox"
      },
      "execution_count": null,
      "outputs": []
    },
    {
      "cell_type": "code",
      "source": [
        "#범용 챗봇 개발은 기술적 어려움이 많은 분야입니다. 따라서 챗봇 개발 전에 어떤 분야에서 어떤 목적으로 사용할 챗봇인지 명확하게 정의해야 합니다."
      ],
      "metadata": {
        "id": "zdJ7BuNdpNJa"
      },
      "execution_count": null,
      "outputs": []
    },
    {
      "cell_type": "code",
      "source": [
        "#국내에서는 의료, 상담, 금융, 쇼핑, 마케팅 등 많은 분야에서 챗봇을 사용하고 있으며 챗봇 사용 비중이 점차 늘어나고 있는 추세입니다.\n",
        "#카카오 챗봇 사례, 대학병원 챗봇 사례, 제약회사 챗봇 사례"
      ],
      "metadata": {
        "id": "jKQInRs6pPlS"
      },
      "execution_count": null,
      "outputs": []
    },
    {
      "cell_type": "markdown",
      "source": [
        "#CHAPTER 2 파이썬 시작하기"
      ],
      "metadata": {
        "id": "ABeYIEvSosXz"
      }
    },
    {
      "cell_type": "code",
      "source": [
        "#파이썬은 전 세계적으로 가장 많이 사용하고 있는 언어 Top 3에 랭크될 만큼 넓은 사용자 층을 보유하고 있는 언어입니다.\n",
        "#파이썬 3은 2 버전과는 다르게 모든 변수를 객체로 처리하며, 모든 문자열을 유니코드인 str 객체로 통일했습니다. 그 외에도 내부적으로 많은 변화가 있습니다. 이 책에서는 3 버전을 사용할 것입니다."
      ],
      "metadata": {
        "id": "qikhArMwov-e"
      },
      "execution_count": null,
      "outputs": []
    },
    {
      "cell_type": "code",
      "source": [
        "#일반적으로 프로그램 내부 코드는 동작 행위와 데이터 상태로 구분되어 있습니다."
      ],
      "metadata": {
        "id": "06hetZ_ipXBm"
      },
      "execution_count": null,
      "outputs": []
    },
    {
      "cell_type": "code",
      "source": [
        "#자료형이란 프로그램 내부에서 사용하는 데이터의 형태를 의미합니다.\n",
        "#프로그램 개발 시 필요한 데이터를 어떤 자료형 변수에 보관할 것인지 알아야 하기 때문에 자료형은 매우 기본적이면서도 중요한 내용입니다."
      ],
      "metadata": {
        "id": "ZgGXwUBdpY2O"
      },
      "execution_count": null,
      "outputs": []
    },
    {
      "cell_type": "code",
      "source": [
        "#숫자\n",
        "\n",
        "#정수계산 #소수점을 사용하지 않는 한 기본적으로 int형으로 처리.\n",
        "10 + 5\n",
        "\n",
        "#실수계산 #소수점을 사용하거나 계산 결과가 실수인 경우에는 float형으로 처리. #나눗셈(/) 연산의 결과는 항상 float형. #나눗셈 결과를 정수 형태로 얻기 위해서는 // 연산자를 사용해야 하며, 나머지를 계산하기 위해서는 % 연산자를 사용해야 함.\n",
        "2.2 * 5\n",
        "3 / 2\n",
        "3 // 2 \n",
        "3 % 2\n",
        "\n",
        "#거듭제곱 계산\n",
        "2 ** 5\n",
        "\n",
        "#변수 사용\n",
        "a = 10\n",
        "b = 20\n",
        "a * b\n"
      ],
      "metadata": {
        "id": "oOFN5lPKp4Ot"
      },
      "execution_count": null,
      "outputs": []
    },
    {
      "cell_type": "code",
      "source": [
        "#문자열\n",
        "\n",
        "#문자열 사용\n",
        "'1234'\n",
        "\n",
        "#문자열 변수 사용(1)\n",
        "msg = 'Hello'\n",
        "error = \"err 404\"\n",
        "\n",
        "#문자열 변수 사용(2)\n",
        "msg1 = '\"Nice to meet you\", chatbot says'\n",
        "msg2 = \"I'm programming now\"\n",
        "\n",
        "#멀티라인 문자열(1) #간단한 문장인 경우에는 이스케이프 코드 \\n을 사용함.\n",
        "msg3 = 'Hello\\nbro!!'\n",
        "\n",
        "#멀티라인 문자열(2) #복잡한 문장인 경우에는 작은따옴표 3개 또는 큰따옴표 3개를 연속적으로 사용함.\n",
        "msg4 = '''Hello\n",
        "bro!!'''\n",
        "\n",
        "#멀티라인 문자열(3) \n",
        "msg4 = \"\"\"Hello\n",
        "bro!!\"\"\"\n",
        "\n",
        "#이스케이프 코드 #이스케이프 코드란 프로그래밍할 때 사용할 수 있도록 시스템에 미리 정의해놓은 코드. 주로 출력 메시지를 정렬하거나 기호를 출력하는 데 사용함.\n",
        "#\\n(줄바꿈), \\t(탭), \\\\(문자\\출력), \\'(문자'출력), \\\"(문자\"출력)\n"
      ],
      "metadata": {
        "id": "UWfCUqEfG0n2"
      },
      "execution_count": null,
      "outputs": []
    },
    {
      "cell_type": "code",
      "source": [
        "#리스트\n",
        "\n",
        "#리스트 정의 #대괄호[]를 사용하며, 데이터 요소들을 쉼표(,)로 구분. #숫자 및 문자열뿐만 아니라 객체 형태의 데이터도 추가할 수 있음.\n",
        "numbers = [1,2,3,4,5]\n",
        "real_numbers = [1.0, 2.0, 3.0, 4, 5]\n",
        "\n",
        "#리스트 인덱싱 및 슬라이싱 #인덱싱은 리스트에 접근하려면 대괄호를 사용하며, 첫 번째 요소는 0부터 시작함. #슬라이싱은 시작 위치와 끝 위치, 쌍점(:)을 사용해 새로운 리스트 생성함. 원본 리스트를 훼손하지 않음.\n",
        "numbers[0]\n",
        "numbers[-1]\n",
        "numbers[2:]\n",
        "numbers[-2:]\n",
        "numbers[1:-2]\n",
        "\n",
        "#리스트 요소 수정\n",
        "numbers[0] = 9\n",
        "\n",
        "#리스트 요소 추가 #변수.append(): 리스트의 마지막에 요소를 추가하는 함수\n",
        "numbers.append(9)\n",
        "\n",
        "#리스트 요소 삽입 #변수.insert(): 원하는 위치에 데이터를 삽입하는 함수\n",
        "numbers.insert(1,1.5)\n",
        "\n",
        "#리스트 요소 꺼내고 삭제(1) #변수.pop(): 리스트의 맨 마지막 요소나 원하는 위치의 요소를 꺼내면서 삭제하는 함수\n",
        "numbers.pop()\n",
        "\n",
        "#리스트 요소 꺼내고 삭제(2)\n",
        "numbers.pop(2)\n",
        "a = numbers.pop(3)\n",
        "\n",
        "#del 키워드로 리스트 요소 삭제 #del 리스트요소: 요소를 꺼내지 않고 바로 삭제하는 키워드\n",
        "del numbers[2]\n",
        "\n",
        "#리스트 요소 개수 구하기 #len(변수)\n",
        "len(numbers)\n"
      ],
      "metadata": {
        "id": "cYf0zU17Ksci"
      },
      "execution_count": null,
      "outputs": []
    },
    {
      "cell_type": "code",
      "source": [
        "#튜플\n",
        "\n",
        "#튜플 정의 #소괄호()를 사용함\n",
        "numbers = (1, 2, 3, 4, 5)\n",
        "numbers = (1.0, 2.0, 3.0, 4, 5, 'six')\n",
        "\n",
        "#튜플 인덱싱 및 슬라이싱 #인덱싱은 리스트와 마찬가지로 대괄호를 사용함. #슬라이싱은 기존 튜플에서 잘라낼 시작위치와 끝 위치, 쌍점을 사용해 새로운 튜플을 생성함. #요소를 변경하지 못하는 점만 빼면 리스트와 동일함.\n",
        "numbers[1]\n",
        "numbers[-1]\n",
        "numbers[2:]\n",
        "numbers[-2:]\n",
        "numbers[1:-2]\n",
        "\n",
        "#튜플 요소 수정 #튜플의 요소는 수정할 수 없음. 오류를 출력함.\n",
        "numbers[0] = 9 #오류를 출력함.\n",
        "\n",
        "#튜플 덧셈 연산(1) #덧셈 연산을 이용해서 데이터를 추가한듯한 효과를 만들 수는 있음. #튜플 객체끼리만 가능함.\n",
        "new_numbers = numbers + (6,7)\n",
        "\n",
        "#튜플 덧셈 연산(2) #int형 숫자 1을 기존 튜플과 덧셈 연산을 했을 땐 오류를 출력함. #소괄호 내에 있는 데이터가 튜플 요소임을 쉼표로 알려주어야 함.\n",
        "numbers + (1) #오류를 출력함\n",
        "\n",
        "#튜플 덧셈 연산(3) \n",
        "numbers + (1,)\n"
      ],
      "metadata": {
        "id": "3duew3lGNN3H"
      },
      "execution_count": null,
      "outputs": []
    },
    {
      "cell_type": "code",
      "source": [
        "#딕셔너리\n",
        "\n",
        "#딕셔너리 기본 #중괄호{}를 사용함. #key와 value를 한 쌍으로 가지는 해시 형태의 자료형. #key에는 숫자와 문자열만 사용가능하며, value에는 데이터의 형태제한이 없음. #key는 한 번 정의되면 변경 불가능하지만, value는 변경 가능.\n",
        "user1 = {'name' : '홍길동', 'age' : 30, 'email' : 'hong@hanbit.co.kr'}\n",
        "\n",
        "#딕셔너리의 키가 문자열\n",
        "dict1 = {'Kei' : [100, 'hi', 4.5]}\n",
        "dict1['Kei'][1]\n",
        "\n",
        "#딕셔너리의 키가 숫자 #딕셔너리는 순서 없는 자료형이기 때문에 인덱스로 value에 접근할 수 없음. 딕셔너리의 key가 숫자인 경우에는 인덱스처럼 보이기 때문에 헷갈리지 않게 주의해야함.\n",
        "dict2 = {10 : 'ten'}\n",
        "dict2[10]\n",
        "\n",
        "#딕셔너리 데이터 쌍 추가(1) #대괄호를 이용해 원하는 key와 value를 저장함.\n",
        "dict3 = {}\n",
        "dict3['a'] = 'A'\n",
        "dict3['b'] = 'B'\n",
        "\n",
        "#딕셔너리 데이터 쌍 추가(2) #value에도 다양한 형태의 자료형을 추가할 수 있음.\n",
        "dict3[3] = [1,2,3]\n",
        "dict3[4] = {'name' : 'Kei', 'age' : 35}\n",
        "\n",
        "#딕셔너리 데이터 쌍 삭제 #특정 key를 가지는 데이터 쌍을 삭제하기 위해서는 del 키워드를 사용함. #모든 데이터 쌍을 한 번에 삭제하기 위해서는 clear() 함수를 사용함.\n",
        "del dict3['a']\n",
        "dict3.clear()\n"
      ],
      "metadata": {
        "id": "i5p8L4_oO59A"
      },
      "execution_count": null,
      "outputs": []
    },
    {
      "cell_type": "code",
      "source": [
        "#불리언\n",
        "\n",
        "#불리언 자료형 사용 #불리언은 참과 거짓을 나타내는 자료형으로, 해당 조건이 참인지 거짓인지 논리적으로 판별하는데 사용함. #첫 문자는 항상 대문자를 사용해야 함.\n",
        "check = True\n",
        "uncheck = False\n",
        "type(check)\n",
        "uncheck\n"
      ],
      "metadata": {
        "id": "aq6uP06mQ-iu"
      },
      "execution_count": null,
      "outputs": []
    },
    {
      "cell_type": "code",
      "source": [
        "#if 조건문\n",
        "\n",
        "#if 제어문 사용(1) #if 조건문은 해당 조건을 판단했을 때 논리적으로 참인 경우에만 조건문에 포함되어 있는 코드를 수행함.\n",
        "check = True\n",
        "if check:\n",
        "  print('-' * 13)\n",
        "  print('check is true')\n",
        "  print('-' * 13) #곱셈 연산을 이용해서 동일한 문자를 n번 출력할 수 있음.\n",
        "\n",
        "#if 제어문 사용(2)\n",
        "check = False\n",
        "if not check:\n",
        "  print('-' * 14)\n",
        "  print('check is false')\n",
        "  print('-' * 14)\n",
        "\n",
        "#if 제어문 사용(3) #검사할 때 == 혹은 !=을 이용할 수 있음.\n",
        "check = False\n",
        "if check == False:\n",
        "  print('-' * 14)\n",
        "  print('check is false')\n",
        "  print('-' * 14)\n",
        "if check != True:\n",
        "  print('-' * 14)\n",
        "  print('check is false')\n",
        "  print('-' * 14)\n",
        "\n",
        "#조건문에 사용하는 연산자\n",
        "#==, !=, and, or, not, >, >=, <, <=, 그리고 그냥 A만 적는 것.\n",
        "\n",
        "#if 제어문 사용(4)\n",
        "age = 15\n",
        "if age >= 19:\n",
        "  print('You are an adult')\n",
        "else:\n",
        "  print('You are not an adult')  \n",
        "score = 84\n",
        "if score >= 90:\n",
        "  print('Grade A')\n",
        "elif score >= 80:\n",
        "  print('Grade B')\n",
        "elif score >= 70:\n",
        "  print('Grade C')\n",
        "else:\n",
        "  print('Grade D')\n"
      ],
      "metadata": {
        "id": "fVpAVqEVT0uK"
      },
      "execution_count": null,
      "outputs": []
    },
    {
      "cell_type": "code",
      "source": [
        "#while 반복문 \n",
        "\n",
        "#while 반복문 사용(1) #while 반복문은 해당 조건이 거짓이 될 때까지 반복해서 코드를 수행합니다. 조건이 False가 되면 무한루프에 빠졌다고 표현함. Ctrl+C.\n",
        "i=1\n",
        "while i <= 10:\n",
        "  print('i=%d' %i) #문자열 포매팅\n",
        "  i = i + 1\n",
        "\n",
        "#문자열 포매팅 종류\n",
        "#%d(10진수 출력), %x(16진수 출력), %o(8진수 출력), %f(실수 출력), %s(문자열 출력)\n",
        "\n",
        "#while 반복문 사용(2) #input() 함수를 통해 입력되는 키보드값은 문자열 데이터임. #실제 숫자로 변환해야 하는데 이때 int() 함수를 사용함.\n",
        "while True:\n",
        "  print('input number : ')\n",
        "  menu = int(input())\n",
        "  if menu == 0: \n",
        "    break\n",
        "  elif menu == 1:\n",
        "    print('number one')\n",
        "  elif menu == 99:\n",
        "    continue\n",
        "  elif menu == 2:\n",
        "    print('number two')\n",
        "  else:\n",
        "    print('another number')\n"
      ],
      "metadata": {
        "id": "CRKksUPZVpQo"
      },
      "execution_count": null,
      "outputs": []
    },
    {
      "cell_type": "code",
      "source": [
        "#for 반복문\n",
        "\n",
        "#for 반복문 사용 #조건을 이용해 반복적으로 작업을 수행할 때는 while 반복문, 앞서 배운 리스트나 튜플, 문자열에서 요소를 하나씩 꺼내서 사용할 땐 for 반복문. \n",
        "numbers = [1,2,3,4,5]\n",
        "for n in numbers:\n",
        "  print(n)\n",
        "\n",
        "#range()함수와 for 반복문 사용 #인자로 사용되는 시작값을 생략하는 경우 0부터 시작함.\n",
        "numbers = range(1,6)\n",
        "for n in numbers:\n",
        "  print(n)\n",
        "\n",
        "#여러 개의 변수에 자동 대입되는 for 반복문 #루프를 돌 때마다 자동으로 변수 x,y에 대입됨. #여러개의 요소를 가지는 자료형이면 자동으로 변수에 대입 가능함. #단, 요소 수와 자동으로 대입될 변수의 개수는 같아야 함.\n",
        "coord = [(0,0), (10,15), (20,25)]\n",
        "for x,y in coord:\n",
        "  print(x,y)\n",
        "\n",
        "#딕셔너리의 keys() 함수 #keys 리스트의 경우 딕셔너리 내부의 keys() 함수 이용.\n",
        "user = {'name' : 'Kei', 'age' : 35, 'nationality' : 'Korea'}\n",
        "user.keys()\n",
        "\n",
        "#딕셔너리의 key 리스트 출력\n",
        "for k in user.keys():\n",
        "  print(k)\n",
        "\n",
        "#딕셔너리의 values() 함수 사용 #value 리스트의 경우 딕셔너리 내부의 values() 함수 이용.\n",
        "user.values()\n",
        "\n",
        "#딕셔너리의 value 리스트 출력\n",
        "for v in user.values():\n",
        "  print(v)\n",
        "\n",
        "#딕셔너리의 items() 함수 사용 #데이터 쌍 리스트의 경우 딕셔너리 내부의 items() 함수 이용.\n",
        "user.items()\n",
        "\n",
        "#딕셔너리의 key/value 리스트 출력\n",
        "for k, v in user.items():\n",
        "  print(k,v)"
      ],
      "metadata": {
        "id": "Uncgt0G3Z-dO"
      },
      "execution_count": null,
      "outputs": []
    },
    {
      "cell_type": "code",
      "source": [
        ""
      ],
      "metadata": {
        "id": "aQimsNgscgLj"
      },
      "execution_count": null,
      "outputs": []
    }
  ]
}