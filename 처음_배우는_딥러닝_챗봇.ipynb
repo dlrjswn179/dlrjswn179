{
  "nbformat": 4,
  "nbformat_minor": 0,
  "metadata": {
    "colab": {
      "name": "처음 배우는 딥러닝 챗봇.ipynb",
      "provenance": [],
      "collapsed_sections": [
        "GK4ZZVvinsLF",
        "WST8c8kYDhSG"
      ],
      "authorship_tag": "ABX9TyNWqgHxzih0xLBq/d7Iy++m",
      "include_colab_link": true
    },
    "kernelspec": {
      "name": "python3",
      "display_name": "Python 3"
    },
    "language_info": {
      "name": "python"
    }
  },
  "cells": [
    {
      "cell_type": "markdown",
      "metadata": {
        "id": "view-in-github",
        "colab_type": "text"
      },
      "source": [
        "<a href=\"https://colab.research.google.com/github/dlrjswn179/dlrjswn179/blob/main/%EC%B2%98%EC%9D%8C_%EB%B0%B0%EC%9A%B0%EB%8A%94_%EB%94%A5%EB%9F%AC%EB%8B%9D_%EC%B1%97%EB%B4%87.ipynb\" target=\"_parent\"><img src=\"https://colab.research.google.com/assets/colab-badge.svg\" alt=\"Open In Colab\"/></a>"
      ]
    },
    {
      "cell_type": "markdown",
      "source": [
        "# CHAPTER 1 챗봇 입문하기\n"
      ],
      "metadata": {
        "id": "GK4ZZVvinsLF"
      }
    },
    {
      "cell_type": "code",
      "source": [
        "#챗봇은 채터와 로봇의 합성어로, 대화하는 로봇이라고 정의할 수 있습니다."
      ],
      "metadata": {
        "id": "P57pJJxZn0ox"
      },
      "execution_count": null,
      "outputs": []
    },
    {
      "cell_type": "code",
      "source": [
        "#범용 챗봇 개발은 기술적 어려움이 많은 분야입니다. 따라서 챗봇 개발 전에 어떤 분야에서 어떤 목적으로 사용할 챗봇인지 명확하게 정의해야 합니다."
      ],
      "metadata": {
        "id": "zdJ7BuNdpNJa"
      },
      "execution_count": null,
      "outputs": []
    },
    {
      "cell_type": "code",
      "source": [
        "#국내에서는 의료, 상담, 금융, 쇼핑, 마케팅 등 많은 분야에서 챗봇을 사용하고 있으며 챗봇 사용 비중이 점차 늘어나고 있는 추세입니다.\n",
        "#카카오 챗봇 사례, 대학병원 챗봇 사례, 제약회사 챗봇 사례"
      ],
      "metadata": {
        "id": "jKQInRs6pPlS"
      },
      "execution_count": null,
      "outputs": []
    },
    {
      "cell_type": "markdown",
      "source": [
        "#CHAPTER 2 파이썬 시작하기"
      ],
      "metadata": {
        "id": "ABeYIEvSosXz"
      }
    },
    {
      "cell_type": "code",
      "source": [
        "#파이썬은 전 세계적으로 가장 많이 사용하고 있는 언어 Top 3에 랭크될 만큼 넓은 사용자 층을 보유하고 있는 언어입니다.\n",
        "#파이썬 3은 2 버전과는 다르게 모든 변수를 객체로 처리하며, 모든 문자열을 유니코드인 str 객체로 통일했습니다. 그 외에도 내부적으로 많은 변화가 있습니다. 이 책에서는 3 버전을 사용할 것입니다."
      ],
      "metadata": {
        "id": "qikhArMwov-e"
      },
      "execution_count": null,
      "outputs": []
    },
    {
      "cell_type": "code",
      "source": [
        "#일반적으로 프로그램 내부 코드는 동작 행위와 데이터 상태로 구분되어 있습니다."
      ],
      "metadata": {
        "id": "06hetZ_ipXBm"
      },
      "execution_count": null,
      "outputs": []
    },
    {
      "cell_type": "code",
      "source": [
        "#자료형이란 프로그램 내부에서 사용하는 데이터의 형태를 의미합니다.\n",
        "#프로그램 개발 시 필요한 데이터를 어떤 자료형 변수에 보관할 것인지 알아야 하기 때문에 자료형은 매우 기본적이면서도 중요한 내용입니다."
      ],
      "metadata": {
        "id": "ZgGXwUBdpY2O"
      },
      "execution_count": null,
      "outputs": []
    },
    {
      "cell_type": "code",
      "source": [
        "#숫자\n",
        "\n",
        "#정수계산 #소수점을 사용하지 않는 한 기본적으로 int형으로 처리.\n",
        "10 + 5\n",
        "\n",
        "#실수계산 #소수점을 사용하거나 계산 결과가 실수인 경우에는 float형으로 처리. #나눗셈(/) 연산의 결과는 항상 float형. #나눗셈 결과를 정수 형태로 얻기 위해서는 // 연산자를 사용해야 하며, 나머지를 계산하기 위해서는 % 연산자를 사용해야 함.\n",
        "2.2 * 5\n",
        "3 / 2\n",
        "3 // 2 \n",
        "3 % 2\n",
        "\n",
        "#거듭제곱 계산\n",
        "2 ** 5\n",
        "\n",
        "#변수 사용\n",
        "a = 10\n",
        "b = 20\n",
        "a * b\n"
      ],
      "metadata": {
        "id": "oOFN5lPKp4Ot"
      },
      "execution_count": null,
      "outputs": []
    },
    {
      "cell_type": "code",
      "source": [
        "#문자열\n",
        "\n",
        "#문자열 사용\n",
        "'1234'\n",
        "\n",
        "#문자열 변수 사용(1)\n",
        "msg = 'Hello'\n",
        "error = \"err 404\"\n",
        "\n",
        "#문자열 변수 사용(2)\n",
        "msg1 = '\"Nice to meet you\", chatbot says'\n",
        "msg2 = \"I'm programming now\"\n",
        "\n",
        "#멀티라인 문자열(1) #간단한 문장인 경우에는 이스케이프 코드 \\n을 사용함.\n",
        "msg3 = 'Hello\\nbro!!'\n",
        "\n",
        "#멀티라인 문자열(2) #복잡한 문장인 경우에는 작은따옴표 3개 또는 큰따옴표 3개를 연속적으로 사용함.\n",
        "msg4 = '''Hello\n",
        "bro!!'''\n",
        "\n",
        "#멀티라인 문자열(3) \n",
        "msg4 = \"\"\"Hello\n",
        "bro!!\"\"\"\n",
        "\n",
        "#이스케이프 코드 #이스케이프 코드란 프로그래밍할 때 사용할 수 있도록 시스템에 미리 정의해놓은 코드. 주로 출력 메시지를 정렬하거나 기호를 출력하는 데 사용함.\n",
        "#\\n(줄바꿈), \\t(탭), \\\\(문자\\출력), \\'(문자'출력), \\\"(문자\"출력)\n"
      ],
      "metadata": {
        "id": "UWfCUqEfG0n2"
      },
      "execution_count": null,
      "outputs": []
    },
    {
      "cell_type": "code",
      "source": [
        "#리스트\n",
        "\n",
        "#리스트 정의 #대괄호[]를 사용하며, 데이터 요소들을 쉼표(,)로 구분. #숫자 및 문자열뿐만 아니라 객체 형태의 데이터도 추가할 수 있음.\n",
        "numbers = [1,2,3,4,5]\n",
        "real_numbers = [1.0, 2.0, 3.0, 4, 5]\n",
        "\n",
        "#리스트 인덱싱 및 슬라이싱 #인덱싱은 리스트에 접근하려면 대괄호를 사용하며, 첫 번째 요소는 0부터 시작함. #슬라이싱은 시작 위치와 끝 위치, 쌍점(:)을 사용해 새로운 리스트 생성함. 원본 리스트를 훼손하지 않음.\n",
        "numbers[0]\n",
        "numbers[-1]\n",
        "numbers[2:]\n",
        "numbers[-2:]\n",
        "numbers[1:-2]\n",
        "\n",
        "#리스트 요소 수정\n",
        "numbers[0] = 9\n",
        "\n",
        "#리스트 요소 추가 #변수.append(): 리스트의 마지막에 요소를 추가하는 함수\n",
        "numbers.append(9)\n",
        "\n",
        "#리스트 요소 삽입 #변수.insert(): 원하는 위치에 데이터를 삽입하는 함수\n",
        "numbers.insert(1,1.5)\n",
        "\n",
        "#리스트 요소 꺼내고 삭제(1) #변수.pop(): 리스트의 맨 마지막 요소나 원하는 위치의 요소를 꺼내면서 삭제하는 함수\n",
        "numbers.pop()\n",
        "\n",
        "#리스트 요소 꺼내고 삭제(2)\n",
        "numbers.pop(2)\n",
        "a = numbers.pop(3)\n",
        "\n",
        "#del 키워드로 리스트 요소 삭제 #del 리스트요소: 요소를 꺼내지 않고 바로 삭제하는 키워드\n",
        "del numbers[2]\n",
        "\n",
        "#리스트 요소 개수 구하기 #len(변수)\n",
        "len(numbers)\n"
      ],
      "metadata": {
        "id": "cYf0zU17Ksci"
      },
      "execution_count": null,
      "outputs": []
    },
    {
      "cell_type": "code",
      "source": [
        "#튜플\n",
        "\n",
        "#튜플 정의 #소괄호()를 사용함\n",
        "numbers = (1, 2, 3, 4, 5)\n",
        "numbers = (1.0, 2.0, 3.0, 4, 5, 'six')\n",
        "\n",
        "#튜플 인덱싱 및 슬라이싱 #인덱싱은 리스트와 마찬가지로 대괄호를 사용함. #슬라이싱은 기존 튜플에서 잘라낼 시작위치와 끝 위치, 쌍점을 사용해 새로운 튜플을 생성함. #요소를 변경하지 못하는 점만 빼면 리스트와 동일함.\n",
        "numbers[1]\n",
        "numbers[-1]\n",
        "numbers[2:]\n",
        "numbers[-2:]\n",
        "numbers[1:-2]\n",
        "\n",
        "#튜플 요소 수정 #튜플의 요소는 수정할 수 없음. 오류를 출력함.\n",
        "numbers[0] = 9 #오류를 출력함.\n",
        "\n",
        "#튜플 덧셈 연산(1) #덧셈 연산을 이용해서 데이터를 추가한듯한 효과를 만들 수는 있음. #튜플 객체끼리만 가능함.\n",
        "new_numbers = numbers + (6,7)\n",
        "\n",
        "#튜플 덧셈 연산(2) #int형 숫자 1을 기존 튜플과 덧셈 연산을 했을 땐 오류를 출력함. #소괄호 내에 있는 데이터가 튜플 요소임을 쉼표로 알려주어야 함.\n",
        "numbers + (1) #오류를 출력함\n",
        "\n",
        "#튜플 덧셈 연산(3) \n",
        "numbers + (1,)\n"
      ],
      "metadata": {
        "id": "3duew3lGNN3H"
      },
      "execution_count": null,
      "outputs": []
    },
    {
      "cell_type": "code",
      "source": [
        "#딕셔너리\n",
        "\n",
        "#딕셔너리 기본 #중괄호{}를 사용함. #key와 value를 한 쌍으로 가지는 해시 형태의 자료형. #key에는 숫자와 문자열만 사용가능하며, value에는 데이터의 형태제한이 없음. #key는 한 번 정의되면 변경 불가능하지만, value는 변경 가능.\n",
        "user1 = {'name' : '홍길동', 'age' : 30, 'email' : 'hong@hanbit.co.kr'}\n",
        "\n",
        "#딕셔너리의 키가 문자열\n",
        "dict1 = {'Kei' : [100, 'hi', 4.5]}\n",
        "dict1['Kei'][1]\n",
        "\n",
        "#딕셔너리의 키가 숫자 #딕셔너리는 순서 없는 자료형이기 때문에 인덱스로 value에 접근할 수 없음. 딕셔너리의 key가 숫자인 경우에는 인덱스처럼 보이기 때문에 헷갈리지 않게 주의해야함.\n",
        "dict2 = {10 : 'ten'}\n",
        "dict2[10]\n",
        "\n",
        "#딕셔너리 데이터 쌍 추가(1) #대괄호를 이용해 원하는 key와 value를 저장함.\n",
        "dict3 = {}\n",
        "dict3['a'] = 'A'\n",
        "dict3['b'] = 'B'\n",
        "\n",
        "#딕셔너리 데이터 쌍 추가(2) #value에도 다양한 형태의 자료형을 추가할 수 있음.\n",
        "dict3[3] = [1,2,3]\n",
        "dict3[4] = {'name' : 'Kei', 'age' : 35}\n",
        "\n",
        "#딕셔너리 데이터 쌍 삭제 #특정 key를 가지는 데이터 쌍을 삭제하기 위해서는 del 키워드를 사용함. #모든 데이터 쌍을 한 번에 삭제하기 위해서는 clear() 함수를 사용함.\n",
        "del dict3['a']\n",
        "dict3.clear()\n"
      ],
      "metadata": {
        "id": "i5p8L4_oO59A"
      },
      "execution_count": null,
      "outputs": []
    },
    {
      "cell_type": "code",
      "source": [
        "#불리언\n",
        "\n",
        "#불리언 자료형 사용 #불리언은 참과 거짓을 나타내는 자료형으로, 해당 조건이 참인지 거짓인지 논리적으로 판별하는데 사용함. #첫 문자는 항상 대문자를 사용해야 함.\n",
        "check = True\n",
        "uncheck = False\n",
        "type(check)\n",
        "uncheck\n"
      ],
      "metadata": {
        "id": "aq6uP06mQ-iu"
      },
      "execution_count": null,
      "outputs": []
    },
    {
      "cell_type": "code",
      "source": [
        "#if 조건문\n",
        "\n",
        "#if 제어문 사용(1) #if 조건문은 해당 조건을 판단했을 때 논리적으로 참인 경우에만 조건문에 포함되어 있는 코드를 수행함.\n",
        "check = True\n",
        "if check:\n",
        "  print('-' * 13)\n",
        "  print('check is true')\n",
        "  print('-' * 13) #곱셈 연산을 이용해서 동일한 문자를 n번 출력할 수 있음.\n",
        "\n",
        "#if 제어문 사용(2)\n",
        "check = False\n",
        "if not check:\n",
        "  print('-' * 14)\n",
        "  print('check is false')\n",
        "  print('-' * 14)\n",
        "\n",
        "#if 제어문 사용(3) #검사할 때 == 혹은 !=을 이용할 수 있음.\n",
        "check = False\n",
        "if check == False:\n",
        "  print('-' * 14)\n",
        "  print('check is false')\n",
        "  print('-' * 14)\n",
        "if check != True:\n",
        "  print('-' * 14)\n",
        "  print('check is false')\n",
        "  print('-' * 14)\n",
        "\n",
        "#조건문에 사용하는 연산자\n",
        "#==, !=, and, or, not, >, >=, <, <=, 그리고 그냥 A만 적는 것.\n",
        "\n",
        "#if 제어문 사용(4)\n",
        "age = 15\n",
        "if age >= 19:\n",
        "  print('You are an adult')\n",
        "else:\n",
        "  print('You are not an adult')  \n",
        "score = 84\n",
        "if score >= 90:\n",
        "  print('Grade A')\n",
        "elif score >= 80:\n",
        "  print('Grade B')\n",
        "elif score >= 70:\n",
        "  print('Grade C')\n",
        "else:\n",
        "  print('Grade D')\n"
      ],
      "metadata": {
        "id": "fVpAVqEVT0uK"
      },
      "execution_count": null,
      "outputs": []
    },
    {
      "cell_type": "code",
      "source": [
        "#while 반복문 \n",
        "\n",
        "#while 반복문 사용(1) #while 반복문은 해당 조건이 거짓이 될 때까지 반복해서 코드를 수행합니다. 조건이 False가 되면 무한루프에 빠졌다고 표현함. Ctrl+C.\n",
        "i=1\n",
        "while i <= 10:\n",
        "  print('i=%d' %i) #문자열 포매팅\n",
        "  i = i + 1\n",
        "\n",
        "#문자열 포매팅 종류\n",
        "#%d(10진수 출력), %x(16진수 출력), %o(8진수 출력), %f(실수 출력), %s(문자열 출력)\n",
        "\n",
        "#while 반복문 사용(2) #input() 함수를 통해 입력되는 키보드값은 문자열 데이터임. #실제 숫자로 변환해야 하는데 이때 int() 함수를 사용함.\n",
        "while True:\n",
        "  print('input number : ')\n",
        "  menu = int(input())\n",
        "  if menu == 0: \n",
        "    break\n",
        "  elif menu == 1:\n",
        "    print('number one')\n",
        "  elif menu == 99:\n",
        "    continue\n",
        "  elif menu == 2:\n",
        "    print('number two')\n",
        "  else:\n",
        "    print('another number')\n"
      ],
      "metadata": {
        "id": "CRKksUPZVpQo"
      },
      "execution_count": null,
      "outputs": []
    },
    {
      "cell_type": "code",
      "source": [
        "#for 반복문\n",
        "\n",
        "#for 반복문 사용 #조건을 이용해 반복적으로 작업을 수행할 때는 while 반복문, 앞서 배운 리스트나 튜플, 문자열에서 요소를 하나씩 꺼내서 사용할 땐 for 반복문. \n",
        "numbers = [1,2,3,4,5]\n",
        "for n in numbers:\n",
        "  print(n)\n",
        "\n",
        "#range()함수와 for 반복문 사용 #인자로 사용되는 시작값을 생략하는 경우 0부터 시작함.\n",
        "numbers = range(1,6)\n",
        "for n in numbers:\n",
        "  print(n)\n",
        "\n",
        "#여러 개의 변수에 자동 대입되는 for 반복문 #루프를 돌 때마다 자동으로 변수 x,y에 대입됨. #여러개의 요소를 가지는 자료형이면 자동으로 변수에 대입 가능함. #단, 요소 수와 자동으로 대입될 변수의 개수는 같아야 함.\n",
        "coord = [(0,0), (10,15), (20,25)]\n",
        "for x,y in coord:\n",
        "  print(x,y)\n",
        "\n",
        "#딕셔너리의 keys() 함수 #keys 리스트의 경우 딕셔너리 내부의 keys() 함수 이용.\n",
        "user = {'name' : 'Kei', 'age' : 35, 'nationality' : 'Korea'}\n",
        "user.keys()\n",
        "\n",
        "#딕셔너리의 key 리스트 출력\n",
        "for k in user.keys():\n",
        "  print(k)\n",
        "\n",
        "#딕셔너리의 values() 함수 사용 #value 리스트의 경우 딕셔너리 내부의 values() 함수 이용.\n",
        "user.values()\n",
        "\n",
        "#딕셔너리의 value 리스트 출력\n",
        "for v in user.values():\n",
        "  print(v)\n",
        "\n",
        "#딕셔너리의 items() 함수 사용 #데이터 쌍 리스트의 경우 딕셔너리 내부의 items() 함수 이용.\n",
        "user.items()\n",
        "\n",
        "#딕셔너리의 key/value 리스트 출력\n",
        "for k, v in user.items():\n",
        "  print(k,v)"
      ],
      "metadata": {
        "id": "Uncgt0G3Z-dO"
      },
      "execution_count": null,
      "outputs": []
    },
    {
      "cell_type": "code",
      "source": [
        "#함수\n",
        "\n",
        "#함수란 하나의 기능을 수행하는 코드들의 집합입니다.\n",
        "#잘 짜인 함수는 단 하나의 목적을 가지며, 함수명으로 그 함수의 역할을 유추할 수 있어야 합니다.\n",
        "#물론 입력값과 결괏값이 없는 함수도 존재합니다.\n",
        "\n",
        "#우리가 만든 사용자 정의 함수, 시스템에 내장되어 바로 사용할 수 있는 내장 함수, 다른 개발자들이 라이브러리 형태로 모듈화 시켜 놓은 외장 함수가 있습니다. 3가지로 분류했지만 기본적으로 동일한 형태의 함수입니다.\n"
      ],
      "metadata": {
        "id": "aQimsNgscgLj"
      },
      "execution_count": null,
      "outputs": []
    },
    {
      "cell_type": "code",
      "source": [
        "#사용자 정의 함수\n",
        "\n",
        "#add() 함수 사용 #함수명은 변수명과 동일한 명명 규칙을 가지고 있음. \n",
        "def add(a,b):\n",
        "  return a+b\n",
        "add(10,20)\n",
        "\n",
        "#print_user() 함수 사용\n",
        "def print_user(user, score):\n",
        "  print(\"name : %s\" % user['name'])\n",
        "  print(\"age : %d\" % user['age'])\n",
        "  print(\"score : %d\" %score)\n",
        "user = {'name' : 'Kei' , 'age' : 35 }\n",
        "score = 85\n",
        "print_user(user, score)\n"
      ],
      "metadata": {
        "id": "PkNRE0bGCJZl"
      },
      "execution_count": null,
      "outputs": []
    },
    {
      "cell_type": "code",
      "source": [
        "#내장 함수\n",
        "\n",
        "#format() 함수 사용 #중괄호 사용. #별도로 모듈을 import하거나 함수를 정의하지 않아도 사용할 수 있음. #파이썬에서는 2가지 문자열 포매팅 방법을 제공함. #%d를 이용한 문자열 포매팅 방법과 format() 함수를 이용하는 방법임.\n",
        "print('integer : {} / float : {} / string : {}'.format(10, 3.14, \"hello\"))\n",
        "print('integer : {0} / float : {1} / string : {2}'.format(10, 3.14, \"hello\"))\n",
        "print('integer : {1} / float : {0} / string : {2}'.format(10, 3.14, \"hello\"))\n",
        "\n",
        "#enumerate() 함수 사용 #순서가 있는 자료형을 입력하면 인덱스를 포함한 요솟값을 반환함.\n",
        "numbers = [10, 11, 12, 13, 14]\n",
        "for idx, value in enumerate(numbers):\n",
        "  print('index:{}, value:{}'.format(idx, value))\n",
        "\n",
        "#str() 함수 사용 #입력으로 들어온 데이터를 문자열 객체로 반환함.\n",
        "str(10)\n",
        "type(str(10))\n",
        "str(\"hello\")\n",
        "str(\"hello\".upper()) #모든 문자를 대문자로 바꿈.\n",
        "str(\"HELLO\".lower()) #모든 문자를 소문자로 바꿈.\n",
        "str([1,2,3])\n",
        "\n",
        "#join() 함수 사용 #리스트에 포함되어 있는 요소들을 지정한 구분자로 구분해 문자열로 반환하는 함수.\n",
        "names =  ['Kei', 'Tonny', 'Grace', 'Jenny', 'Jaeyoo']\n",
        "','.join(names)\n",
        "\n",
        "#split() 함수 사용 #join() 함수와 반대로 문자열을 특정 구분자를 기준으로 분리해 리스트로 반환하는 함수.\n",
        "names_str = ','.join(names)\n",
        "names_split = names_str.split(',')\n",
        "names_split\n",
        "\n",
        "#id() 함수 사용 #객체를 입력받아 객체의 고유 주솟값(레퍼런스)을 반환하는 함수. #고유 주소값은 컴퓨터나 운영체제에 따라 달라질 수 있으니 다음 결과와 다르게 나온다고 실망할 필요는 없음.\n",
        "a = 10\n",
        "id(a)\n",
        "b = a\n",
        "id(b) # 주소가 동일하기 때문에 a와 b는 동일한 객체\n",
        "\n",
        "#find() 함수 사용 #특정 문자열을 찾기 위해 사용하는 함수. 찾으려는 문자열을 입력받으면 그 문자열의 시작 위치를 반환함. #해당 문자열을 찾지 못하면 -1을 반환함.\n",
        "str1 = \"I want to be a great programmer.\"\n",
        "str1.find(\"be\")\n",
        "str1.find(\"I\")\n",
        "str1.find(\"i\")\n",
        "\n",
        "#strip() 함수 사용 #주어진 문자열 양쪽 긑의 공백을 제거하는 함수.\n",
        "str1 = \" I want to be a great programmer. \"\n",
        "new_str = str1.strip()\n",
        "new_str\n",
        "\n",
        "#filter() 함수 사용 #개별 요소를 반복적으로 셀 수 있는 객체를 입력받아 각 요소를 함수로 수행한 후 결과가 True인 것만 묶어서 반환함.\n",
        "def is_even(number):\n",
        "  return number % 2 == 0 \n",
        "numbers = range(1, 21)\n",
        "even_list = list(filter(is_even, numbers)) # filter () 함수는 filter 객체 형태로 반환하기 때문에, 리스트 형태로 사용하려면 list 생성자를 사용해야 함.\n",
        "print(even_list)\n",
        "\n",
        "#lambda 함수 사용 #def보다 간결하게 함수를 정의할 수 있으며, 익명 함수이기 때문에 한 번 사용되고 나면 heap 메모리 영역에서 삭제되어 메모리 관리에 효율적인 장점이 있음. #내용과 구성이 간단한 함수의 경우 lambda 함수를 사용하는 것이 편리함.\n",
        "f = lambda x:x+2\n",
        "f(2)\n",
        "f(4)\n",
        "\n",
        "#filter() 함수와 lambda 함수 사용\n",
        "numbers = range(1,21)\n",
        "even_list = list(filter(lambda n:n%2==0, numbers))\n",
        "print(even_list)\n",
        "\n",
        "#map() 함수 사용 #개별 요소를 반복적으로 셀 수 있는 객체를 입력받아 각 요소를 함수로 수행한 후 결과를 묶어서 반환함. #게으른 연산을 함. 계산이 필요할 때만 메모리를 사용하기 때문에 메모리 절약 효과는 있음.\n",
        "def square(number):\n",
        "  return number ** 2\n",
        "numbers = range(1,5)\n",
        "square_list = list(map(square, numbers))\n",
        "print(square_list)\n",
        "\n",
        "#map() 함수와 lambda 함수 사용\n",
        "numbers = range(1,5)\n",
        "square_list = list(map(lambda x : x**2, numbers))\n",
        "print(square_list)\n"
      ],
      "metadata": {
        "id": "eBT2ozgvCWGO"
      },
      "execution_count": null,
      "outputs": []
    },
    {
      "cell_type": "code",
      "source": [
        "#외장 함수     #외장 함수는 클래스와 모듈 형태로 묶여 있습니다. #외장 함수를 사용하기 위해서는 import 키워드를 사용하여 해당 모듈을 불러와야 합니다.\n",
        "\n",
        "#sys.argv 사용 #sys는 파이썬 인터프리터와 관련된 정보와 기능을 제공하는 모듈. 특히 명령행에서 인수를 전달받기 위해 많이 사용함.\n",
        "#python 'hello' 10\n",
        "#import sys\n",
        "#print(sys.argv)\n",
        "#msg = sys.argv[1]\n",
        "#cnt = int(sys.argv[2])\n",
        "#\n",
        "#for i in range(cnt):\n",
        "#  print(i, msg)\n",
        "\n",
        "#sys.exit() 함수 사용\n",
        "#import sys\n",
        "#for n in range(100):\n",
        "#  print(n)\n",
        "#  if n == 10:\n",
        "#    sys.exit()\n",
        "\n",
        "#(pickle) 객체를 파일로 저장하는 예 #pickle 모듈은 파이썬 객체를 파일로 저장하고 메모리로 읽어올 수 있도록 도와주는 모듈. #dump() 함수를 이용해 리스트와 딕셔너리 객체를 파일로 저장하는 예제.\n",
        "import pickle\n",
        "f = open('setting.txt', 'wb') # wb: 바이너리 쓰기\n",
        "setting = [{'title' : 'python program'}, {'author' : 'Kei'}] \n",
        "pickle.dump(setting, f)\n",
        "f.close()\n",
        "\n",
        "#(pickle) 파일로 저장된 객체를 읽어오는 예 #load() 함수를 이용해 파일로 저장되어 있는 리스트와 딕셔너리 객체를 메모리로 읽어와 출력하는 예제\n",
        "import pickle \n",
        "f = open('setting.txt', 'rb')\n",
        "setting = pickle.load(f)\n",
        "f.close()\n",
        "print(setting)\n",
        "\n",
        "#time.time() 함수 사용 #time 모듈은 시스템이 제공하는 시간과 관련된 유용한 함수들을 포함하고 있음. #UTC 시간대를 사용해 현재 시간을 실수 형태로 반환. 1970년 1월 1일 0시 0분 0초를 기준으로 경과한 시간을 초 단위로 반환.\n",
        "import time\n",
        "time.time()\n",
        "\n",
        "#time.localtime() 함수 사용\n",
        "import time\n",
        "time.localtime(time.time())\n",
        "\n",
        "#time.strftime() 함수 사용\n",
        "import time\n",
        "lt = time.localtime(time.time())\n",
        "time.strftime('%Y/%m/%d %H:%M:%S', lt)\n",
        "\n",
        "#시간 관련 포매팅 문자 : %(Y, m, d, B, b, A, a, H, l, p, M, S)\n",
        "\n",
        "#random.random() 함수 사용 #random 모듈은 난숫값을 생성하는 기능과 다양한 랜덤 관련 함수를 제공함. #random() 함수를 사용하면 0에서 1사이의 실숫값을 랜덤으로 반환함.\n",
        "import random\n",
        "random.random()\n",
        "\n",
        "#time.uniform() #uniform() 함수를 사용하면 임의로 생성되는 실수의 범위를 정할 수 있음. #두번째 인잣값은 난수 생성 범위에 들어가지 않음.\n",
        "import random\n",
        "random.uniform(1, 2)\n",
        "\n",
        "#time.randint() #randint() 함수는 2개 인자로 난수 범위를 지정해서 정수 난수를 생성함. #두번째 인잣값이 난수 생성 범위에 들어감.\n",
        "import random\n",
        "random.randint(1, 5)\n"
      ],
      "metadata": {
        "id": "kcn8J__sF1Ab"
      },
      "execution_count": null,
      "outputs": []
    },
    {
      "cell_type": "code",
      "source": [
        "#클래스\n",
        "\n",
        "#클래스를 정의하기 위해서는 class 키워드를 사용하며, 내부에 메서드와 인스턴스 변수를 정의해서 사용할 수 있습니다.\n",
        "\n",
        "#챗봇 객체 생성 #클래스명의 첫 글자는 대문자를 사용함. #함수(메서드)의 첫 번째 인자로 반드시 self 키워드를 사용해야 함.\n",
        "class Chatbot:\n",
        "  def sayHello(self):\n",
        "    print(\"say hello\")\n",
        "  def sayMyName(self):\n",
        "    print(\"My name is Kbot :D\")\n",
        "chatbot = Chatbot()  # 인스턴스를 생성함.\n",
        "chatbot.sayHello()\n",
        "chatbot.sayMyName()\n"
      ],
      "metadata": {
        "id": "FN1VNR-PU40q"
      },
      "execution_count": null,
      "outputs": []
    },
    {
      "cell_type": "code",
      "source": [
        "#생성자 및 소멸자\n",
        "\n",
        "#파이썬에서는 인스턴트가 생성될 때 자동으로 호출되는 생성자라는 메서드를 제공합니다.\n",
        "#생성자 메서드명은 사용자가 임의로 변경할 수 없으며, 생성자 메서드로 __init__을 사용합니다.\n",
        "#생성자는 인스턴스가 생성되는 시점에 실행되기 때문에 해당 객체를 동작시키기 위한 사전 작업을 하게 됩니다.\n",
        "\n",
        "#파이썬은 인스턴트가 소멸될 때 자동으로 호출되는 소멸자라는 메서드를 제공합니다.\n",
        "#생성자와 마찬가지로 메서드명이 정해져 있으며, __del__을 사용하며, 생성자와 다르게 인자를 사용할 수 없습니다.\n",
        "#주로 객체가 사용하고 남은 메모리를 깨끗하게 청소하는 작업을 합니다.\n",
        "\n",
        "#생성자 및 소멸자 호출\n",
        "class SimpleObj:\n",
        "  def __init__(self):\n",
        "    print('call __init__()')\n",
        "  def __del__(self):\n",
        "    print('call__del__()')\n",
        "obj = SimpleObj()\n",
        "print('obj instance is alive...')\n",
        "del obj  #del로 해당 인스턴스 객체를 해제할 수 있음.\n"
      ],
      "metadata": {
        "id": "AJbZQN4jiKbm"
      },
      "execution_count": null,
      "outputs": []
    },
    {
      "cell_type": "code",
      "source": [
        "#메서드와 인스턴스 변수\n",
        "\n",
        "#일반 함수와 동일하지만, 인스턴스 객체가 갖고 있는 메서드에 접근하기 위해 첫 번째 인자는 반드시 self 키워드를 사용해야 합니다.\n",
        "\n",
        "#사칙 연산 클래스\n",
        "class Calc:\n",
        "  def __init__(self, init_value):  #입력값이 self가 아닌 init_value에 저장됨. self는 인스턴스 내부에서 자신을 참조하기 위해 사용하는 용도이기 때문.\n",
        "    self.value = init_value  #인스턴스 변수로 사용하기 위해서는 self 키워드를 사용해야 함.\n",
        "  def add(self, n): \n",
        "    return self.value + n\n",
        "  def sub(self, n):\n",
        "    return self.value - n\n",
        "  def mul(self, n):\n",
        "    return self.value * n\n",
        "  def div(self, n):\n",
        "    return self.value / n\n",
        "cal = Calc(100)\n",
        "print(\"value = {0}\".format(cal.value))\n",
        "a = cal.add(100)\n",
        "b = cal.sub(50)\n",
        "c = cal.mul(2)\n",
        "d = cal.div(2)\n",
        "print(\"a={0}, b={1}, c={2}, d={3}\".format(a, b, c, d))\n"
      ],
      "metadata": {
        "id": "_EpIeA79mD9-"
      },
      "execution_count": null,
      "outputs": []
    },
    {
      "cell_type": "code",
      "source": [
        "# 모듈\n",
        "\n",
        "# 모듈이란 여러 가지 함수나 클래스 등을 기능이나 목적별로 모아놓은 파일입니다.\n",
        "\n",
        "#calc 모듈(calc.py)\n",
        "def add(a, b): return a + b\n",
        "def sub(a, b): return a - b\n",
        "def mul(a, b): return a * b\n",
        "def div(a, b): return a / b\n",
        "\n",
        "#calc 모듈 사용 #직접 만든 모듈이므로 모듈 파일과 실행하는 소스 파일이 동일한 경로에 있어야 함.\n",
        "#import calc\n",
        "#a = calc.add(10, 20)\n",
        "#print(\"add = {}\".format(a))\n",
        "#b = calc.mul(10,2)\n",
        "#print(\"mul = {}\".format(b))\n",
        "\n",
        "#calc 모듈 사용 #모듈에서 불러올 함수를 직접 지정하는 방법 #from 키워드와 import 키워드를 함께 사용\n",
        "#from calc import add, mul\n",
        "a = add(10, 20)\n",
        "print(\"add = {}\".format(a))\n",
        "b = mul(10, 2)\n",
        "print(\"add = {}\".format(b))\n"
      ],
      "metadata": {
        "id": "cP5Agjy0oswZ"
      },
      "execution_count": null,
      "outputs": []
    },
    {
      "cell_type": "code",
      "source": [
        "#예외 처리\n",
        "\n",
        "#기본적인 오류 처리만 잘해도 예외 상황으로 프로그램이 죽어버리는 현상을 많이 줄일 수 있습니다.\n",
        "#파이썬에서는 이런 예외 처리를 할 수 있도록 try-except 구문을 문법적으로 제공하고 있습니다.\n",
        "#예외가 발생하면 그 즉시 except 구문으로 코드 흐름이 점프하게 됩니다. 보통 except 구문에는 예외가 발생했을 때 예외 처리를 할 수 있는 코드가 들어있습니다.\n",
        "#finally 구문은 try 구문 수행 도중 예외 발생 여부와 상관없이 항상 실행되기 때문에 리소스 해제를 위해 많이 사용합니다. 리소스 해제가 필요 없는 경우에는 finally 구문을 생략할 수 있습니다.\n",
        "\n",
        "#division by zero 예외 처리 #최상위 오류 내용인 Exception을 사용하면 모든 오류 내용의 예외 처리가 가능합니다.\n",
        "try:\n",
        "  a = 10\n",
        "  b = 0\n",
        "  c = a / b\n",
        "  print(c)\n",
        "except Exception as e:\n",
        "  print(e)\n",
        "\n",
        "#여러 개의 예외 처리 #오류 내용에 따라 예외 처리를 다르게 하고 싶은 경우\n",
        "try:\n",
        "  a = 10\n",
        "  b = 'zero'\n",
        "  c = a / b\n",
        "except ZeroDivisionError as e:\n",
        "  print(e)\n",
        "except TypeError as e:\n",
        "  print(e)\n",
        "\n",
        "#파일을 안전하게 사용하는 예\n",
        "import pickle \n",
        "f = open('setting.txt','wb')\n",
        "try:\n",
        "  setting = [ {'title' : 'python program'}, {'author' : 'Kei'}]\n",
        "  pickle.dump(setting, f)\n",
        "except Exception as e:\n",
        "  print(e)\n",
        "finally:\n",
        "  f.close()\n",
        "  "
      ],
      "metadata": {
        "id": "8foaSRpKDhtn"
      },
      "execution_count": null,
      "outputs": []
    },
    {
      "cell_type": "code",
      "source": [
        "# 엑셀 파일을 읽고 쓰는 방법\n",
        "\n",
        "# 챗봇의 학습 데이터를 데이터베이스에 저장하기 위해 학습 프로그램을 만드는 것도 좋지만 우리는 간편하게 정해진 엑셀 양식에 질문과 답변을 정리해서 데이터베이스에 저장할 것입니다.\n",
        "# OpenPyXL 모듈을 사용하면 엑셀 2010 파일을 읽고 쓸 수 있습니다. 하지만 파이썬에서 기본적으로 제공하지 않기 때문에 모듈을 직접 설치해야 합니다.\n",
        "# 워크북: 엑셀 문서, 하나 이상의 워크시트를 가지고 있으며, 파일명이 워크북의 이름이 됩니다. \n",
        "# 현재 활성화되어 있는 워크시트인 경우 액티브시트라고 합니다.\n",
        "\n",
        "#엑셀 파일의 특정 셀 내용 읽어오기\n",
        "import openpyxl\n",
        "#wb = openpyxl.load_workbook('./sample.xlsx')\n",
        "#sheet = wb['Sheet1']\n",
        "#print(sheet.max_column, sheet.max_row)\n",
        "#print(sheet.cell(row=1, column=1).value)  # cell() 함수에서 셀의 위치는 반드시 1부터 시작해야 합니다. \n",
        "#print(sheet.cell(row=2, column=1).value)   # 함수를 호출할 때 인자 이름을 명시적으로 지정할 수 있습니다. 프로그램의 가독성이 높아지는 장점이 있습니다.\n",
        "#wb.close()    # 사용을 완료한 리소스는 반드시 닫아야 함.\n",
        "\n",
        "# 엑셀 파일의 모든 셀 내용 읽어오기\n",
        "import openpyxl\n",
        "#wb = openpyxl.load_workbook('./sample.xlsx')\n",
        "#sheet = wb['Sheet1']\n",
        "#for row in sheet.iter_rows(min_rows=2):         #iter_rows 함수를 이용해 워크시트 내의 모든 row 데이터를 탐색함. min_row 인자는 초기 탐색 시작 위치를 설정함.\n",
        "#  for cell in row:                              # 텍스트 헤더로 사용되는 첫 번째 행은 탐색하지 않습니다. min_row 인자를 생략하면 첫 번째 행부터 탐색을 시작함.\n",
        "#     print(cell_value)\n",
        "#  print('-'*10)\n",
        "#wb.close()\n",
        "\n",
        "# 엑셀 파일에서 지정한 셀 내용 읽어오기 # OpenPyXL모듈은 여러 셀에 접근할 때 슬라이싱 기능을 이용해 특정 범위를 지정할 수 있음.\n",
        "import openpyxl\n",
        "#wb = openpyxl.load_workbook('./sample.xlsx')\n",
        "#sheet = wb['Sheet1']\n",
        "#cells = sheet['A2':'C3']\n",
        "#for row in cells:\n",
        "#   for cell in row:      #열단위 데이터를 출력하기 위해 for 루프를 시작함.\n",
        "#     print(cell.value)\n",
        "#   print('-' * 10)\n",
        "#wb.close()\n",
        "\n",
        "#회원정보를 엑셀에 저장\n",
        "import openpyxl\n",
        "wb = openpyxl.Workbook()\n",
        "sheet = wb.active\n",
        "sheet.title = '회원정보'\n",
        "\n",
        "header_titles = ['이름', '전화번호']   # 표 헤더 컬럼 저장\n",
        "for idx, title in enumerate(header_titles):\n",
        "  sheet.cell(row=1, column=idx+1, value=title)   #cell() 함수는 셀 데이터를 가져와 출력할 수도 있지만, 원하는 셀에 데이터를 저장할 수도 있음.\n",
        "\n",
        "members = [('kei', '010-1234-1234'), ('hong', '010-4321-1234')]\n",
        "row_num = 2\n",
        "for r, member in enumerate(members):   # 회원정보 목록 탐색\n",
        "  for c,v in enumerate(member):    # 이름, 전화번호 컬럼 탐색\n",
        "    sheet.cell(row=row_num+r, column=c+1, value=v)\n",
        "wb.save('./members.xlsx')\n",
        "wb.close()\n"
      ],
      "metadata": {
        "id": "13FnTGQ0ENC3"
      },
      "execution_count": null,
      "outputs": []
    },
    {
      "cell_type": "code",
      "source": [
        "# 데이터 분석을 위한 라이브러리\n",
        "# 넘파이\n",
        "\n",
        "# 넘파이 라이브러리는 C언어로 구현되어 있기 때문에 빠른 배열 처리와 고성능 수치 계산을 지원합니다.\n",
        "\n",
        "#넘파이 배열 생성 #배열을 생성하려면 넘파이 라이브러리의 array() 함수를 이용함.\n",
        "import numpy as np\n",
        "arr = np.array([1,2,3])\n",
        "print(arr)\n",
        "print(type(arr)) # numpy.ndarray 객체로 배열을 만들어 반환함.\n",
        "\n",
        "# 2*3 행렬 표현\n",
        "import numpy as np \n",
        "matrix = np.array([ [1,2,3], [4,5,6] ])\n",
        "print(matrix)\n",
        "\n",
        "# 2*3 행렬 덧셈 연산 # 행렬의 크기가 반드시 같아야 함.\n",
        "import numpy as numpy\n",
        "A = np.array([ [1,2], [3,4] ])\n",
        "B = np.array([ [1,1], [1,1] ])\n",
        "C = A + B\n",
        "print(C)\n",
        "\n",
        "# 3*2 행렬과 2*2 행렬의 곱셈 # matmul()함수를 제공함. # 배열의 크기가 서로 같아야 *와 + 연산자를 사용할 수 있음.\n",
        "import numpy as np\n",
        "A = np.array([ [1,2], [3,4], [5,6] ])\n",
        "B = np.array([ [2,3], [2,3] ])\n",
        "C = np.matmul(A, B)\n",
        "print(C)\n",
        "\n",
        "# 스칼라곱 \n",
        "import numpy as np\n",
        "A = np.array([ [1,2], [3,4] ])\n",
        "k = 10\n",
        "C = k * A\n",
        "print(C)\n"
      ],
      "metadata": {
        "id": "pqWfSCPDN6Sr"
      },
      "execution_count": null,
      "outputs": []
    },
    {
      "cell_type": "code",
      "source": [
        "# 팬더스\n",
        "\n",
        "#시리즈, 데이터 프레임, 패널 등 세 가지 데이터 구조를 가지고 있습니다.\n",
        "\n",
        "# Series 객체 사용 # 1차원 데이터로서 각 데이터값과 대응하는 인덱스 지정 가능 #인덱스를 생략할 경우 인덱스 번호가 자동으로 할당됨.\n",
        "import pandas as pd\n",
        "numbers = pd.Series( [100, 200, 300])\n",
        "print(numbers)\n",
        "scores = pd.Series([90, 80, 99], index=['국어', '수학', '영어'])  # 이때 데이터로 사용될 리스트와 인덱스로 사용될 리스트의 크기가 동일해야 합니다.\n",
        "print(scores)\n",
        "print(scores.index)\n",
        "print(scores.values)\n",
        "print(scores.index[1], scores.values[1])\n",
        "\n",
        "#DataFrame 객체 사용 # 2차원 자료구조 # 실제로 딥러닝 모델의 학습 데이터는 2차원 구조로 구성되는 경우가 많아 데이터프레임을 많이 사용\n",
        "import pandas as pd\n",
        "temperatures = [[3.3, 34.5, 14.2, -10], [7.1, 32.1, 10.7, 2]]\n",
        "seasons = ['Spring', 'Summer', 'Fall', 'Winter']\n",
        "regions = ['Seoul', 'Pusan']\n",
        "data = pd.DataFrame(temperatures, index=regions, columns=seasons)\n",
        "print(data)\n",
        "print(\"=\"*50)\n",
        "print(data.index) # 행 방향 인덱스의 내용과 인덱스의 데이터 타입이 출력됨.\n",
        "print(data.columns) # 열 방향 인덱스의 내용과 인덱스의 데이터 타입이 출력됨.\n",
        "print(data.values) # 생성된 DataFrame 객체의 2차원 데이터 리스트를 출력함.\n",
        "print(\"=\"*50)\n",
        "print(data['Spring']['Seoul'])\n",
        "print(\"=\"*50)\n",
        "print(data.head(2))\n",
        "print(\"=\"*50)\n",
        "print(data.tail(1))\n",
        "\n",
        "#엑셀 파일 읽기\n",
        "import pandas as pd\n",
        "user_list = pd.read_excel('members.xlsx')\n",
        "print(user_list)\n"
      ],
      "metadata": {
        "id": "yXxm5Mq68CB1"
      },
      "execution_count": null,
      "outputs": []
    },
    {
      "cell_type": "code",
      "source": [
        "# 맷플롯립\n",
        "\n",
        "# 데이터를 플롯이나 차트로 시각화할 수 있도록 도와주는 도구입니다.\n",
        "\n",
        "# 직선그래프\n",
        "import matplotlib.pyplot as plt\n",
        "x = [a for a in range(0, 11)]  # 리스트 내포: 리스트 안에 for 구문을 이용해서 직관적으로 리스트를 생성할 수 있음.\n",
        "y = list(range(0,11))  # 윗줄과 결과 동일\n",
        "print('x축', x)\n",
        "print('y축', y)\n",
        "plt.plot(x,y)\n",
        "plt.show()\n",
        "\n",
        "# 2차 함수 그래프\n",
        "import matplotlib.pyplot as plt\n",
        "f = lambda x: x**2\n",
        "x = [x for x in range(-10,10)]\n",
        "y = [f(y) for y in range(-10,10)]\n",
        "print('x축', x)\n",
        "print('y축', y)\n",
        "plt.plot(x, y)\n",
        "plt.show()\n",
        "\n",
        "# 계절별 온도 바차트 # barh(): 가로방향 바차트\n",
        "import matplotlib.pyplot as plt\n",
        "temperatures = [3.3, 34.5, 14.2, -10]\n",
        "x = list(range(4))\n",
        "x_labels = ['Spring', 'Summer', 'Fall', 'Winter']\n",
        "plt.title('Bar Chart')\n",
        "plt.bar(x, temperatures)\n",
        "plt.xticks(x,x_labels)\n",
        "plt.yticks(sorted(temperatures))  # sorted() 함수는 인자로 들어온 리스트 요소를 오름차순으로 정렬해주는 역할을 함.\n",
        "plt.xlabel('season')\n",
        "plt.ylabel('temperature')\n",
        "plt.show()\n"
      ],
      "metadata": {
        "id": "MKEsXbd8-XlZ"
      },
      "execution_count": null,
      "outputs": []
    },
    {
      "cell_type": "markdown",
      "source": [
        "# CHAPTER 3 토크나이징"
      ],
      "metadata": {
        "id": "WST8c8kYDhSG"
      }
    },
    {
      "cell_type": "code",
      "source": [
        "#토크나이징\n",
        "\n",
        "#우리가 일상에서 사용하는 언어를 자연어라고 합니다. 컴퓨터 분야에서는 자연어 의미를 분석해 컴퓨터가 처리할 수 있도록 하는 일을 자연어 처리 혹은 NLP라고 합니다.\n",
        "#가장 기본이 되는 단어들을 토큰이라고 합니다. 토큰의 단위는 토크나이징 방법에 따라 달라질 수 있지만 일반적으로 일정한 의미가 있는 가장 작은 정보 단위로 결정됩니다.\n",
        "#토크나이징은 문장 형태의 데이터를 처리하기 위해 제일 처음 수행해야 하는 기본적인 작업이며, 주로 텍스트 전처리 과정에서 사용됩니다.\n"
      ],
      "metadata": {
        "id": "TyTcrTZrDk_1"
      },
      "execution_count": null,
      "outputs": []
    },
    {
      "cell_type": "code",
      "source": [
        "# KoNLPy\n",
        "\n",
        "#KoNLPy는 기본적인 한국어 자연어 처리를 위한 파이썬 라이브러리입니다.\n",
        "#형태소는 일정한 의미가 있는 작은 말의 단위입니다. 형태소를 토큰 단위로 사용할 경우 단어와 품사 정보를 같이 활용할 수 있기 때문에 효과적입니다.\n",
        "#한국어의 복잡한 특성에 따라 문장에서 형태소를 분석할 수 있는 도구인, 형태소 분석기가 필요합니다. 이는 다양한 언어적 속성의 구조를 파악해줍니다.\n",
        "#한국어의 복잡한 문법적인 구조 때문에 완벽한 형태소 분석기를 개발하는 일은 쉽지 않습니다. 다행히 KoNLPy의 내부 모듈에서는 사용하기 좋은 몇 가지 형태소 분석기를 통합해 라이브러리 형태로 제공합니다.\n",
        "\n",
        "!pip install koNLpy\n",
        "\n"
      ],
      "metadata": {
        "id": "Pe-pbShspKjo"
      },
      "execution_count": null,
      "outputs": []
    },
    {
      "cell_type": "code",
      "source": [
        "# KKMa\n",
        "\n",
        "# '꼬꼬마'라 발음하며, GPL v2라이선스를 따릅니다.\n",
        "# 함수 설명: morphs(), nouns(), pos(phrase, flatten=True), sentences()\n",
        "\n",
        "# 꼬꼬마 형태소 분석기 사용\n",
        "from konlpy.tag import Kkma\n",
        "kkma = Kkma()\n",
        "text = \"아버지가 방에 들어갑니다.\"\n",
        "morphs = kkma.morphs(text)  # 인자로 입력한 문장을 형태소 단위로 토크나이징함. \n",
        "print(morphs)\n",
        "pos = kkma.pos(text)  # 형태소와 품사 태그 추출\n",
        "print(pos)\n",
        "nouns = kkma.nouns(text)  # 명사만 추출\n",
        "print(nouns)\n",
        "sentences = \"오늘 날씨는 어때요? 내일은 덥다던데.\"\n",
        "s = kkma.sentences(sentences)  # 문장 분리\n",
        "print(s)\n"
      ],
      "metadata": {
        "id": "CDAwUYVyqEhg"
      },
      "execution_count": null,
      "outputs": []
    },
    {
      "cell_type": "code",
      "source": [
        "#Komoran\n",
        "\n",
        "#다른 형태소 분석기와 다르게 공백이 포함된 형태소 단위로도 분석이 가능해 많이 사용합니다.\n",
        "\n",
        "#Komoran 형태소 분석기 사용\n",
        "from konlpy.tag import Komoran\n",
        "komoran = Komoran()\n",
        "text = \"아버지가 방에 들어갑니다.\"\n",
        "morphs = komoran.morphs(text)\n",
        "print(morphs)\n",
        "pos = komoran.pos(text)  # 형태소와 품사 태그 추출\n",
        "print(pos)\n",
        "nouns = komoran.nouns(text)  # 명사만 추출\n",
        "print(nouns)\n"
      ],
      "metadata": {
        "id": "_nAGx_sNspPa"
      },
      "execution_count": null,
      "outputs": []
    },
    {
      "cell_type": "code",
      "source": [
        "#Okt\n",
        "\n",
        "#Okt는 빅데이터에서 간단한 한국어 처리를 통해 색인어를 추출하는 목표를 갖고 있기 때문에 완전한 수준의 형태소 분석을 지향하지 않습니다.\n",
        "\n",
        "#Okt 형태소 분석기 사용\n",
        "from konlpy.tag import Okt\n",
        "okt = Okt()\n",
        "text = \"아버지가 방에 들어갑니다.\"\n",
        "morphs = okt.morphs(text)\n",
        "print(morphs)\n",
        "pos = okt.pos(text)  # 형태소와 품사 태그 추출\n",
        "print(pos)\n",
        "nouns = okt.nouns(text)  # 명사만 추출\n",
        "print(nouns)\n",
        "\n",
        "text = '오늘 날씨가 좋아욬ㅋㅋ'\n",
        "print(okt.normalize(text))\n",
        "print(okt.phrases(text))"
      ],
      "metadata": {
        "id": "jayHm3KMvIy4"
      },
      "execution_count": null,
      "outputs": []
    },
    {
      "cell_type": "code",
      "source": [
        "from locale import nl_langinfo\n",
        "# 사용자 사전 구축\n",
        "\n",
        "#새롭게 생겨나는 단어나 문장은 형태소 분석기에서 인식이 안 되는 경우가 많습니다. 이는 인식률 저하의 원인이 됩니다.\n",
        "#최근에는 사람이 일일이 사용자 사전을 구축하지 않더라고 데이터 기반으로 새로운 단어를 추출해 적용하는 기술이 개발되고 있지만 난이도가 맞지 않기 때문에 설명은 생략.\n",
        "\n",
        "#미등록 단어 형태소 분석\n",
        "komoran = Komoran()\n",
        "text = '우리 챗봇은 엔엘피를 좋아해.'\n",
        "pos = komoran.pos(text)\n",
        "print(pos)\n",
        "\n",
        "#단어 Tab 품사\n",
        "#엔엘피  NNG -> user_disc.tsv 파일에 저장\n",
        "\n",
        "text = '우리 챗봇은 엔엘피를 좋아해.'\n",
        "pos = komoran.pos(text)\n",
        "print(pos)\n"
      ],
      "metadata": {
        "id": "Vu_Se6DNv66u"
      },
      "execution_count": null,
      "outputs": []
    },
    {
      "cell_type": "markdown",
      "source": [
        "#CHAPTER 4 임베딩"
      ],
      "metadata": {
        "id": "aV6EgEp2xGcD"
      }
    }
  ]
}