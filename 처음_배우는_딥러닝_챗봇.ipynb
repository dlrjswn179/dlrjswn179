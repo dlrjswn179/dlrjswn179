{
  "nbformat": 4,
  "nbformat_minor": 0,
  "metadata": {
    "colab": {
      "name": "처음 배우는 딥러닝 챗봇.ipynb",
      "provenance": [],
      "collapsed_sections": [
        "GK4ZZVvinsLF"
      ],
      "authorship_tag": "ABX9TyMDcl6wrDvgmH8xakNOoXfi",
      "include_colab_link": true
    },
    "kernelspec": {
      "name": "python3",
      "display_name": "Python 3"
    },
    "language_info": {
      "name": "python"
    }
  },
  "cells": [
    {
      "cell_type": "markdown",
      "metadata": {
        "id": "view-in-github",
        "colab_type": "text"
      },
      "source": [
        "<a href=\"https://colab.research.google.com/github/dlrjswn179/dlrjswn179/blob/main/%EC%B2%98%EC%9D%8C_%EB%B0%B0%EC%9A%B0%EB%8A%94_%EB%94%A5%EB%9F%AC%EB%8B%9D_%EC%B1%97%EB%B4%87.ipynb\" target=\"_parent\"><img src=\"https://colab.research.google.com/assets/colab-badge.svg\" alt=\"Open In Colab\"/></a>"
      ]
    },
    {
      "cell_type": "markdown",
      "source": [
        "# CHAPTER 1 챗봇 입문하기\n"
      ],
      "metadata": {
        "id": "GK4ZZVvinsLF"
      }
    },
    {
      "cell_type": "code",
      "source": [
        "#챗봇은 채터와 로봇의 합성어로, 대화하는 로봇이라고 정의할 수 있습니다."
      ],
      "metadata": {
        "id": "P57pJJxZn0ox"
      },
      "execution_count": 1,
      "outputs": []
    },
    {
      "cell_type": "code",
      "source": [
        "#범용 챗봇 개발은 기술적 어려움이 많은 분야입니다. 따라서 챗봇 개발 전에 어떤 분야에서 어떤 목적으로 사용할 챗봇인지 명확하게 정의해야 합니다."
      ],
      "metadata": {
        "id": "zdJ7BuNdpNJa"
      },
      "execution_count": 2,
      "outputs": []
    },
    {
      "cell_type": "code",
      "source": [
        "#국내에서는 의료, 상담, 금융, 쇼핑, 마케팅 등 많은 분야에서 챗봇을 사용하고 있으며 챗봇 사용 비중이 점차 늘어나고 있는 추세입니다.\n",
        "#카카오 챗봇 사례, 대학병원 챗봇 사례, 제약회사 챗봇 사례"
      ],
      "metadata": {
        "id": "jKQInRs6pPlS"
      },
      "execution_count": 3,
      "outputs": []
    },
    {
      "cell_type": "markdown",
      "source": [
        "#CHAPTER 2 파이썬 시작하기"
      ],
      "metadata": {
        "id": "ABeYIEvSosXz"
      }
    },
    {
      "cell_type": "code",
      "source": [
        "#파이썬은 전 세계적으로 가장 많이 사용하고 있는 언어 Top 3에 랭크될 만큼 넓은 사용자 층을 보유하고 있는 언어입니다.\n",
        "#파이썬 3은 2 버전과는 다르게 모든 변수를 객체로 처리하며, 모든 문자열을 유니코드인 str 객체로 통일했습니다. 그 외에도 내부적으로 많은 변화가 있습니다. 이 책에서는 3 버전을 사용할 것입니다."
      ],
      "metadata": {
        "id": "qikhArMwov-e"
      },
      "execution_count": 4,
      "outputs": []
    },
    {
      "cell_type": "code",
      "source": [
        "#일반적으로 프로그램 내부 코드는 동작 행위와 데이터 상태로 구분되어 있습니다."
      ],
      "metadata": {
        "id": "06hetZ_ipXBm"
      },
      "execution_count": 5,
      "outputs": []
    },
    {
      "cell_type": "code",
      "source": [
        "#자료형이란 프로그램 내부에서 사용하는 데이터의 형태를 의미합니다.\n",
        "#프로그램 개발 시 필요한 데이터를 어떤 자료형 변수에 보관할 것인지 알아야 하기 때문에 자료형은 매우 기본적이면서도 중요한 내용입니다."
      ],
      "metadata": {
        "id": "ZgGXwUBdpY2O"
      },
      "execution_count": 6,
      "outputs": []
    },
    {
      "cell_type": "code",
      "source": [
        "#숫자\n",
        "\n",
        "#정수계산 #소수점을 사용하지 않는 한 기본적으로 int형으로 처리.\n",
        "10 + 5\n",
        "\n",
        "#실수계산 #소수점을 사용하거나 계산 결과가 실수인 경우에는 float형으로 처리. #나눗셈(/) 연산의 결과는 항상 float형. #나눗셈 결과를 정수 형태로 얻기 위해서는 // 연산자를 사용해야 하며, 나머지를 계산하기 위해서는 % 연산자를 사용해야 함.\n",
        "2.2 * 5\n",
        "3 / 2\n",
        "3 // 2 \n",
        "3 % 2\n",
        "\n",
        "#거듭제곱 계산\n",
        "2 ** 5\n",
        "\n",
        "#변수 사용\n",
        "a = 10\n",
        "b = 20\n",
        "a * b\n"
      ],
      "metadata": {
        "id": "oOFN5lPKp4Ot",
        "colab": {
          "base_uri": "https://localhost:8080/"
        },
        "outputId": "05005505-a79f-4d5f-f23e-a7ec4c8d234e"
      },
      "execution_count": 7,
      "outputs": [
        {
          "output_type": "execute_result",
          "data": {
            "text/plain": [
              "200"
            ]
          },
          "metadata": {},
          "execution_count": 7
        }
      ]
    },
    {
      "cell_type": "code",
      "source": [
        "#문자열\n",
        "\n",
        "#문자열 사용\n",
        "'1234'\n",
        "\n",
        "#문자열 변수 사용(1)\n",
        "msg = 'Hello'\n",
        "error = \"err 404\"\n",
        "\n",
        "#문자열 변수 사용(2)\n",
        "msg1 = '\"Nice to meet you\", chatbot says'\n",
        "msg2 = \"I'm programming now\"\n",
        "\n",
        "#멀티라인 문자열(1) #간단한 문장인 경우에는 이스케이프 코드 \\n을 사용함.\n",
        "msg3 = 'Hello\\nbro!!'\n",
        "\n",
        "#멀티라인 문자열(2) #복잡한 문장인 경우에는 작은따옴표 3개 또는 큰따옴표 3개를 연속적으로 사용함.\n",
        "msg4 = '''Hello\n",
        "bro!!'''\n",
        "\n",
        "#멀티라인 문자열(3) \n",
        "msg4 = \"\"\"Hello\n",
        "bro!!\"\"\"\n",
        "\n",
        "#이스케이프 코드 #이스케이프 코드란 프로그래밍할 때 사용할 수 있도록 시스템에 미리 정의해놓은 코드. 주로 출력 메시지를 정렬하거나 기호를 출력하는 데 사용함.\n",
        "#\\n(줄바꿈), \\t(탭), \\\\(문자\\출력), \\'(문자'출력), \\\"(문자\"출력)\n"
      ],
      "metadata": {
        "id": "UWfCUqEfG0n2"
      },
      "execution_count": 8,
      "outputs": []
    },
    {
      "cell_type": "code",
      "source": [
        "#리스트\n",
        "\n",
        "#리스트 정의 #대괄호[]를 사용하며, 데이터 요소들을 쉼표(,)로 구분. #숫자 및 문자열뿐만 아니라 객체 형태의 데이터도 추가할 수 있음.\n",
        "numbers = [1,2,3,4,5]\n",
        "real_numbers = [1.0, 2.0, 3.0, 4, 5]\n",
        "\n",
        "#리스트 인덱싱 및 슬라이싱 #인덱싱은 리스트에 접근하려면 대괄호를 사용하며, 첫 번째 요소는 0부터 시작함. #슬라이싱은 시작 위치와 끝 위치, 쌍점(:)을 사용해 새로운 리스트 생성함. 원본 리스트를 훼손하지 않음.\n",
        "numbers[0]\n",
        "numbers[-1]\n",
        "numbers[2:]\n",
        "numbers[-2:]\n",
        "numbers[1:-2]\n",
        "\n",
        "#리스트 요소 수정\n",
        "numbers[0] = 9\n",
        "\n",
        "#리스트 요소 추가 #변수.append(): 리스트의 마지막에 요소를 추가하는 함수\n",
        "numbers.append(9)\n",
        "\n",
        "#리스트 요소 삽입 #변수.insert(): 원하는 위치에 데이터를 삽입하는 함수\n",
        "numbers.insert(1,1.5)\n",
        "\n",
        "#리스트 요소 꺼내고 삭제(1) #변수.pop(): 리스트의 맨 마지막 요소나 원하는 위치의 요소를 꺼내면서 삭제하는 함수\n",
        "numbers.pop()\n",
        "\n",
        "#리스트 요소 꺼내고 삭제(2)\n",
        "numbers.pop(2)\n",
        "a = numbers.pop(3)\n",
        "\n",
        "#del 키워드로 리스트 요소 삭제 #del 리스트요소: 요소를 꺼내지 않고 바로 삭제하는 키워드\n",
        "del numbers[2]\n",
        "\n",
        "#리스트 요소 개수 구하기 #len(변수)\n",
        "len(numbers)\n"
      ],
      "metadata": {
        "id": "cYf0zU17Ksci",
        "colab": {
          "base_uri": "https://localhost:8080/"
        },
        "outputId": "316ac785-54ca-49d7-ad0e-572a91195e7a"
      },
      "execution_count": 9,
      "outputs": [
        {
          "output_type": "execute_result",
          "data": {
            "text/plain": [
              "3"
            ]
          },
          "metadata": {},
          "execution_count": 9
        }
      ]
    },
    {
      "cell_type": "code",
      "source": [
        "#튜플\n",
        "\n",
        "#튜플 정의 #소괄호()를 사용함\n",
        "numbers = (1, 2, 3, 4, 5)\n",
        "numbers = (1.0, 2.0, 3.0, 4, 5, 'six')\n",
        "\n",
        "#튜플 인덱싱 및 슬라이싱 #인덱싱은 리스트와 마찬가지로 대괄호를 사용함. #슬라이싱은 기존 튜플에서 잘라낼 시작위치와 끝 위치, 쌍점을 사용해 새로운 튜플을 생성함. #요소를 변경하지 못하는 점만 빼면 리스트와 동일함.\n",
        "numbers[1]\n",
        "numbers[-1]\n",
        "numbers[2:]\n",
        "numbers[-2:]\n",
        "numbers[1:-2]\n",
        "\n",
        "#튜플 요소 수정 #튜플의 요소는 수정할 수 없음. 오류를 출력함.\n",
        "numbers[0] = 9 #오류를 출력함.\n",
        "\n",
        "#튜플 덧셈 연산(1) #덧셈 연산을 이용해서 데이터를 추가한듯한 효과를 만들 수는 있음. #튜플 객체끼리만 가능함.\n",
        "new_numbers = numbers + (6,7)\n",
        "\n",
        "#튜플 덧셈 연산(2) #int형 숫자 1을 기존 튜플과 덧셈 연산을 했을 땐 오류를 출력함. #소괄호 내에 있는 데이터가 튜플 요소임을 쉼표로 알려주어야 함.\n",
        "numbers + (1) #오류를 출력함\n",
        "\n",
        "#튜플 덧셈 연산(3) \n",
        "numbers + (1,)\n"
      ],
      "metadata": {
        "id": "3duew3lGNN3H",
        "colab": {
          "base_uri": "https://localhost:8080/",
          "height": 246
        },
        "outputId": "d433fc11-7410-4552-e3ea-24215d637583"
      },
      "execution_count": 10,
      "outputs": [
        {
          "output_type": "error",
          "ename": "TypeError",
          "evalue": "ignored",
          "traceback": [
            "\u001b[0;31m---------------------------------------------------------------------------\u001b[0m",
            "\u001b[0;31mTypeError\u001b[0m                                 Traceback (most recent call last)",
            "\u001b[0;32m<ipython-input-10-5707e8efee70>\u001b[0m in \u001b[0;36m<module>\u001b[0;34m()\u001b[0m\n\u001b[1;32m     13\u001b[0m \u001b[0;34m\u001b[0m\u001b[0m\n\u001b[1;32m     14\u001b[0m \u001b[0;31m#튜플 요소 수정 #튜플의 요소는 수정할 수 없음. 오류를 출력함.\u001b[0m\u001b[0;34m\u001b[0m\u001b[0;34m\u001b[0m\u001b[0;34m\u001b[0m\u001b[0m\n\u001b[0;32m---> 15\u001b[0;31m \u001b[0mnumbers\u001b[0m\u001b[0;34m[\u001b[0m\u001b[0;36m0\u001b[0m\u001b[0;34m]\u001b[0m \u001b[0;34m=\u001b[0m \u001b[0;36m9\u001b[0m \u001b[0;31m#오류를 출력함.\u001b[0m\u001b[0;34m\u001b[0m\u001b[0;34m\u001b[0m\u001b[0m\n\u001b[0m\u001b[1;32m     16\u001b[0m \u001b[0;34m\u001b[0m\u001b[0m\n\u001b[1;32m     17\u001b[0m \u001b[0;31m#튜플 덧셈 연산(1) #덧셈 연산을 이용해서 데이터를 추가한듯한 효과를 만들 수는 있음. #튜플 객체끼리만 가능함.\u001b[0m\u001b[0;34m\u001b[0m\u001b[0;34m\u001b[0m\u001b[0;34m\u001b[0m\u001b[0m\n",
            "\u001b[0;31mTypeError\u001b[0m: 'tuple' object does not support item assignment"
          ]
        }
      ]
    },
    {
      "cell_type": "code",
      "source": [
        "#딕셔너리\n",
        "\n",
        "#딕셔너리 기본 #중괄호{}를 사용함. #key와 value를 한 쌍으로 가지는 해시 형태의 자료형. #key에는 숫자와 문자열만 사용가능하며, value에는 데이터의 형태제한이 없음. #key는 한 번 정의되면 변경 불가능하지만, value는 변경 가능.\n",
        "user1 = {'name' : '홍길동', 'age' : 30, 'email' : 'hong@hanbit.co.kr'}\n",
        "\n",
        "#딕셔너리의 키가 문자열\n",
        "dict1 = {'Kei' : [100, 'hi', 4.5]}\n",
        "dict1['Kei'][1]\n",
        "\n",
        "#딕셔너리의 키가 숫자 #딕셔너리는 순서 없는 자료형이기 때문에 인덱스로 value에 접근할 수 없음. 딕셔너리의 key가 숫자인 경우에는 인덱스처럼 보이기 때문에 헷갈리지 않게 주의해야함.\n",
        "dict2 = {10 : 'ten'}\n",
        "dict2[10]\n",
        "\n",
        "#딕셔너리 데이터 쌍 추가(1) #대괄호를 이용해 원하는 key와 value를 저장함.\n",
        "dict3 = {}\n",
        "dict3['a'] = 'A'\n",
        "dict3['b'] = 'B'\n",
        "\n",
        "#딕셔너리 데이터 쌍 추가(2) #value에도 다양한 형태의 자료형을 추가할 수 있음.\n",
        "dict3[3] = [1,2,3]\n",
        "dict3[4] = {'name' : 'Kei', 'age' : 35}\n",
        "\n",
        "#딕셔너리 데이터 쌍 삭제 #특정 key를 가지는 데이터 쌍을 삭제하기 위해서는 del 키워드를 사용함. #모든 데이터 쌍을 한 번에 삭제하기 위해서는 clear() 함수를 사용함.\n",
        "del dict3['a']\n",
        "dict3.clear()\n"
      ],
      "metadata": {
        "id": "i5p8L4_oO59A"
      },
      "execution_count": 11,
      "outputs": []
    },
    {
      "cell_type": "code",
      "source": [
        "#불리언\n",
        "\n",
        "#불리언 자료형 사용 #불리언은 참과 거짓을 나타내는 자료형으로, 해당 조건이 참인지 거짓인지 논리적으로 판별하는데 사용함. #첫 문자는 항상 대문자를 사용해야 함.\n",
        "check = True\n",
        "uncheck = False\n",
        "type(check)\n",
        "uncheck\n"
      ],
      "metadata": {
        "id": "aq6uP06mQ-iu",
        "colab": {
          "base_uri": "https://localhost:8080/"
        },
        "outputId": "ef10f02b-65a7-4c04-a40a-f5c2912b509e"
      },
      "execution_count": 12,
      "outputs": [
        {
          "output_type": "execute_result",
          "data": {
            "text/plain": [
              "False"
            ]
          },
          "metadata": {},
          "execution_count": 12
        }
      ]
    },
    {
      "cell_type": "code",
      "source": [
        "#if 조건문\n",
        "\n",
        "#if 제어문 사용(1) #if 조건문은 해당 조건을 판단했을 때 논리적으로 참인 경우에만 조건문에 포함되어 있는 코드를 수행함.\n",
        "check = True\n",
        "if check:\n",
        "  print('-' * 13)\n",
        "  print('check is true')\n",
        "  print('-' * 13) #곱셈 연산을 이용해서 동일한 문자를 n번 출력할 수 있음.\n",
        "\n",
        "#if 제어문 사용(2)\n",
        "check = False\n",
        "if not check:\n",
        "  print('-' * 14)\n",
        "  print('check is false')\n",
        "  print('-' * 14)\n",
        "\n",
        "#if 제어문 사용(3) #검사할 때 == 혹은 !=을 이용할 수 있음.\n",
        "check = False\n",
        "if check == False:\n",
        "  print('-' * 14)\n",
        "  print('check is false')\n",
        "  print('-' * 14)\n",
        "if check != True:\n",
        "  print('-' * 14)\n",
        "  print('check is false')\n",
        "  print('-' * 14)\n",
        "\n",
        "#조건문에 사용하는 연산자\n",
        "#==, !=, and, or, not, >, >=, <, <=, 그리고 그냥 A만 적는 것.\n",
        "\n",
        "#if 제어문 사용(4)\n",
        "age = 15\n",
        "if age >= 19:\n",
        "  print('You are an adult')\n",
        "else:\n",
        "  print('You are not an adult')  \n",
        "score = 84\n",
        "if score >= 90:\n",
        "  print('Grade A')\n",
        "elif score >= 80:\n",
        "  print('Grade B')\n",
        "elif score >= 70:\n",
        "  print('Grade C')\n",
        "else:\n",
        "  print('Grade D')\n"
      ],
      "metadata": {
        "id": "fVpAVqEVT0uK",
        "colab": {
          "base_uri": "https://localhost:8080/"
        },
        "outputId": "1fa718b5-b7d7-4630-c667-6bf6688ef2e2"
      },
      "execution_count": 13,
      "outputs": [
        {
          "output_type": "stream",
          "name": "stdout",
          "text": [
            "-------------\n",
            "check is true\n",
            "-------------\n",
            "--------------\n",
            "check is false\n",
            "--------------\n",
            "--------------\n",
            "check is false\n",
            "--------------\n",
            "--------------\n",
            "check is false\n",
            "--------------\n",
            "You are not an adult\n",
            "Grade B\n"
          ]
        }
      ]
    },
    {
      "cell_type": "code",
      "source": [
        "#while 반복문 \n",
        "\n",
        "#while 반복문 사용(1) #while 반복문은 해당 조건이 거짓이 될 때까지 반복해서 코드를 수행합니다. 조건이 False가 되면 무한루프에 빠졌다고 표현함. Ctrl+C.\n",
        "i=1\n",
        "while i <= 10:\n",
        "  print('i=%d' %i) #문자열 포매팅\n",
        "  i = i + 1\n",
        "\n",
        "#문자열 포매팅 종류\n",
        "#%d(10진수 출력), %x(16진수 출력), %o(8진수 출력), %f(실수 출력), %s(문자열 출력)\n",
        "\n",
        "#while 반복문 사용(2) #input() 함수를 통해 입력되는 키보드값은 문자열 데이터임. #실제 숫자로 변환해야 하는데 이때 int() 함수를 사용함.\n",
        "while True:\n",
        "  print('input number : ')\n",
        "  menu = int(input())\n",
        "  if menu == 0: \n",
        "    break\n",
        "  elif menu == 1:\n",
        "    print('number one')\n",
        "  elif menu == 99:\n",
        "    continue\n",
        "  elif menu == 2:\n",
        "    print('number two')\n",
        "  else:\n",
        "    print('another number')\n"
      ],
      "metadata": {
        "id": "CRKksUPZVpQo",
        "colab": {
          "base_uri": "https://localhost:8080/",
          "height": 464
        },
        "outputId": "4b33bdef-1e14-4961-9561-62718e4e446b"
      },
      "execution_count": 14,
      "outputs": [
        {
          "name": "stdout",
          "output_type": "stream",
          "text": [
            "i=1\n",
            "i=2\n",
            "i=3\n",
            "i=4\n",
            "i=5\n",
            "i=6\n",
            "i=7\n",
            "i=8\n",
            "i=9\n",
            "i=10\n",
            "input number : \n",
            "\n"
          ]
        },
        {
          "output_type": "error",
          "ename": "ValueError",
          "evalue": "ignored",
          "traceback": [
            "\u001b[0;31m---------------------------------------------------------------------------\u001b[0m",
            "\u001b[0;31mValueError\u001b[0m                                Traceback (most recent call last)",
            "\u001b[0;32m<ipython-input-14-b9936557a0c6>\u001b[0m in \u001b[0;36m<module>\u001b[0;34m()\u001b[0m\n\u001b[1;32m     13\u001b[0m \u001b[0;32mwhile\u001b[0m \u001b[0;32mTrue\u001b[0m\u001b[0;34m:\u001b[0m\u001b[0;34m\u001b[0m\u001b[0;34m\u001b[0m\u001b[0m\n\u001b[1;32m     14\u001b[0m   \u001b[0mprint\u001b[0m\u001b[0;34m(\u001b[0m\u001b[0;34m'input number : '\u001b[0m\u001b[0;34m)\u001b[0m\u001b[0;34m\u001b[0m\u001b[0;34m\u001b[0m\u001b[0m\n\u001b[0;32m---> 15\u001b[0;31m   \u001b[0mmenu\u001b[0m \u001b[0;34m=\u001b[0m \u001b[0mint\u001b[0m\u001b[0;34m(\u001b[0m\u001b[0minput\u001b[0m\u001b[0;34m(\u001b[0m\u001b[0;34m)\u001b[0m\u001b[0;34m)\u001b[0m\u001b[0;34m\u001b[0m\u001b[0;34m\u001b[0m\u001b[0m\n\u001b[0m\u001b[1;32m     16\u001b[0m   \u001b[0;32mif\u001b[0m \u001b[0mmenu\u001b[0m \u001b[0;34m==\u001b[0m \u001b[0;36m0\u001b[0m\u001b[0;34m:\u001b[0m\u001b[0;34m\u001b[0m\u001b[0;34m\u001b[0m\u001b[0m\n\u001b[1;32m     17\u001b[0m     \u001b[0;32mbreak\u001b[0m\u001b[0;34m\u001b[0m\u001b[0;34m\u001b[0m\u001b[0m\n",
            "\u001b[0;31mValueError\u001b[0m: invalid literal for int() with base 10: ''"
          ]
        }
      ]
    },
    {
      "cell_type": "code",
      "source": [
        "#for 반복문\n",
        "\n",
        "#for 반복문 사용 #조건을 이용해 반복적으로 작업을 수행할 때는 while 반복문, 앞서 배운 리스트나 튜플, 문자열에서 요소를 하나씩 꺼내서 사용할 땐 for 반복문. \n",
        "numbers = [1,2,3,4,5]\n",
        "for n in numbers:\n",
        "  print(n)\n",
        "\n",
        "#range()함수와 for 반복문 사용 #인자로 사용되는 시작값을 생략하는 경우 0부터 시작함.\n",
        "numbers = range(1,6)\n",
        "for n in numbers:\n",
        "  print(n)\n",
        "\n",
        "#여러 개의 변수에 자동 대입되는 for 반복문 #루프를 돌 때마다 자동으로 변수 x,y에 대입됨. #여러개의 요소를 가지는 자료형이면 자동으로 변수에 대입 가능함. #단, 요소 수와 자동으로 대입될 변수의 개수는 같아야 함.\n",
        "coord = [(0,0), (10,15), (20,25)]\n",
        "for x,y in coord:\n",
        "  print(x,y)\n",
        "\n",
        "#딕셔너리의 keys() 함수 #keys 리스트의 경우 딕셔너리 내부의 keys() 함수 이용.\n",
        "user = {'name' : 'Kei', 'age' : 35, 'nationality' : 'Korea'}\n",
        "user.keys()\n",
        "\n",
        "#딕셔너리의 key 리스트 출력\n",
        "for k in user.keys():\n",
        "  print(k)\n",
        "\n",
        "#딕셔너리의 values() 함수 사용 #value 리스트의 경우 딕셔너리 내부의 values() 함수 이용.\n",
        "user.values()\n",
        "\n",
        "#딕셔너리의 value 리스트 출력\n",
        "for v in user.values():\n",
        "  print(v)\n",
        "\n",
        "#딕셔너리의 items() 함수 사용 #데이터 쌍 리스트의 경우 딕셔너리 내부의 items() 함수 이용.\n",
        "user.items()\n",
        "\n",
        "#딕셔너리의 key/value 리스트 출력\n",
        "for k, v in user.items():\n",
        "  print(k,v)"
      ],
      "metadata": {
        "id": "Uncgt0G3Z-dO",
        "colab": {
          "base_uri": "https://localhost:8080/"
        },
        "outputId": "3cfd9a13-73fd-4c10-b63e-f987f44b1850"
      },
      "execution_count": 15,
      "outputs": [
        {
          "output_type": "stream",
          "name": "stdout",
          "text": [
            "1\n",
            "2\n",
            "3\n",
            "4\n",
            "5\n",
            "1\n",
            "2\n",
            "3\n",
            "4\n",
            "5\n",
            "0 0\n",
            "10 15\n",
            "20 25\n",
            "name\n",
            "age\n",
            "nationality\n",
            "Kei\n",
            "35\n",
            "Korea\n",
            "name Kei\n",
            "age 35\n",
            "nationality Korea\n"
          ]
        }
      ]
    },
    {
      "cell_type": "code",
      "source": [
        "#함수\n",
        "\n",
        "#함수란 하나의 기능을 수행하는 코드들의 집합입니다.\n",
        "#잘 짜인 함수는 단 하나의 목적을 가지며, 함수명으로 그 함수의 역할을 유추할 수 있어야 합니다.\n",
        "#물론 입력값과 결괏값이 없는 함수도 존재합니다.\n",
        "\n",
        "#우리가 만든 사용자 정의 함수, 시스템에 내장되어 바로 사용할 수 있는 내장 함수, 다른 개발자들이 라이브러리 형태로 모듈화 시켜 놓은 외장 함수가 있습니다. 3가지로 분류했지만 기본적으로 동일한 형태의 함수입니다.\n"
      ],
      "metadata": {
        "id": "aQimsNgscgLj"
      },
      "execution_count": 16,
      "outputs": []
    },
    {
      "cell_type": "code",
      "source": [
        "#사용자 정의 함수\n",
        "\n",
        "#add() 함수 사용 #함수명은 변수명과 동일한 명명 규칙을 가지고 있음. \n",
        "def add(a,b):\n",
        "  return a+b\n",
        "add(10,20)\n",
        "\n",
        "#print_user() 함수 사용\n",
        "def print_user(user, score):\n",
        "  print(\"name : %s\" % user['name'])\n",
        "  print(\"age : %d\" % user['age'])\n",
        "  print(\"score : %d\" %score)\n",
        "user = {'name' : 'Kei' , 'age' : 35 }\n",
        "score = 85\n",
        "print_user(user, score)\n"
      ],
      "metadata": {
        "colab": {
          "base_uri": "https://localhost:8080/"
        },
        "id": "PkNRE0bGCJZl",
        "outputId": "0205d0ad-39dc-429c-fa4d-35de29663852"
      },
      "execution_count": 17,
      "outputs": [
        {
          "output_type": "stream",
          "name": "stdout",
          "text": [
            "name : Kei\n",
            "age : 35\n",
            "score : 85\n"
          ]
        }
      ]
    },
    {
      "cell_type": "code",
      "source": [
        "#내장 함수\n",
        "\n",
        "#format() 함수 사용 #중괄호 사용. #별도로 모듈을 import하거나 함수를 정의하지 않아도 사용할 수 있음. #파이썬에서는 2가지 문자열 포매팅 방법을 제공함. #%d를 이용한 문자열 포매팅 방법과 format() 함수를 이용하는 방법임.\n",
        "print('integer : {} / float : {} / string : {}'.format(10, 3.14, \"hello\"))\n",
        "print('integer : {0} / float : {1} / string : {2}'.format(10, 3.14, \"hello\"))\n",
        "print('integer : {1} / float : {0} / string : {2}'.format(10, 3.14, \"hello\"))\n",
        "\n",
        "#enumerate() 함수 사용 #순서가 있는 자료형을 입력하면 인덱스를 포함한 요솟값을 반환함.\n",
        "numbers = [10, 11, 12, 13, 14]\n",
        "for idx, value in enumerate(numbers):\n",
        "  print('index:{}, value:{}'.format(idx, value))\n",
        "\n",
        "#str() 함수 사용 #입력으로 들어온 데이터를 문자열 객체로 반환함.\n",
        "str(10)\n",
        "type(str(10))\n",
        "str(\"hello\")\n",
        "str(\"hello\".upper()) #모든 문자를 대문자로 바꿈.\n",
        "str(\"HELLO\".lower()) #모든 문자를 소문자로 바꿈.\n",
        "str([1,2,3])\n",
        "\n",
        "#join() 함수 사용 #리스트에 포함되어 있는 요소들을 지정한 구분자로 구분해 문자열로 반환하는 함수.\n",
        "names =  ['Kei', 'Tonny', 'Grace', 'Jenny', 'Jaeyoo']\n",
        "','.join(names)\n",
        "\n",
        "#split() 함수 사용 #join() 함수와 반대로 문자열을 특정 구분자를 기준으로 분리해 리스트로 반환하는 함수.\n",
        "names_str = ','.join(names)\n",
        "names_split = names_str.split(',')\n",
        "names_split\n",
        "\n",
        "#id() 함수 사용 #객체를 입력받아 객체의 고유 주솟값(레퍼런스)을 반환하는 함수. #고유 주소값은 컴퓨터나 운영체제에 따라 달라질 수 있으니 다음 결과와 다르게 나온다고 실망할 필요는 없음.\n",
        "a = 10\n",
        "id(a)\n",
        "b = a\n",
        "id(b) # 주소가 동일하기 때문에 a와 b는 동일한 객체\n",
        "\n",
        "#find() 함수 사용 #특정 문자열을 찾기 위해 사용하는 함수. 찾으려는 문자열을 입력받으면 그 문자열의 시작 위치를 반환함. #해당 문자열을 찾지 못하면 -1을 반환함.\n",
        "str1 = \"I want to be a great programmer.\"\n",
        "str1.find(\"be\")\n",
        "str1.find(\"I\")\n",
        "str1.find(\"i\")\n",
        "\n",
        "#strip() 함수 사용 #주어진 문자열 양쪽 긑의 공백을 제거하는 함수.\n",
        "str1 = \" I want to be a great programmer. \"\n",
        "new_str = str1.strip()\n",
        "new_str\n",
        "\n",
        "#filter() 함수 사용 #개별 요소를 반복적으로 셀 수 있는 객체를 입력받아 각 요소를 함수로 수행한 후 결과가 True인 것만 묶어서 반환함.\n",
        "def is_even(number):\n",
        "  return number % 2 == 0 \n",
        "numbers = range(1, 21)\n",
        "even_list = list(filter(is_even, numbers)) # filter () 함수는 filter 객체 형태로 반환하기 때문에, 리스트 형태로 사용하려면 list 생성자를 사용해야 함.\n",
        "print(even_list)\n",
        "\n",
        "#lambda 함수 사용 #def보다 간결하게 함수를 정의할 수 있으며, 익명 함수이기 때문에 한 번 사용되고 나면 heap 메모리 영역에서 삭제되어 메모리 관리에 효율적인 장점이 있음. #내용과 구성이 간단한 함수의 경우 lambda 함수를 사용하는 것이 편리함.\n",
        "f = lambda x:x+2\n",
        "f(2)\n",
        "f(4)\n",
        "\n",
        "#filter() 함수와 lambda 함수 사용\n",
        "numbers = range(1,21)\n",
        "even_list = list(filter(lambda n:n%2==0, numbers))\n",
        "print(even_list)\n",
        "\n",
        "#map() 함수 사용 #개별 요소를 반복적으로 셀 수 있는 객체를 입력받아 각 요소를 함수로 수행한 후 결과를 묶어서 반환함. #게으른 연산을 함. 계산이 필요할 때만 메모리를 사용하기 때문에 메모리 절약 효과는 있음.\n",
        "def square(number):\n",
        "  return number ** 2\n",
        "numbers = range(1,5)\n",
        "square_list = list(map(square, numbers))\n",
        "print(square_list)\n",
        "\n",
        "#map() 함수와 lambda 함수 사용\n",
        "numbers = range(1,5)\n",
        "square_list = list(map(lambda x : x**2, numbers))\n",
        "print(square_list)\n"
      ],
      "metadata": {
        "colab": {
          "base_uri": "https://localhost:8080/"
        },
        "id": "eBT2ozgvCWGO",
        "outputId": "c3a3da61-128b-48f1-e9e4-23f7c1acf5f2"
      },
      "execution_count": 18,
      "outputs": [
        {
          "output_type": "stream",
          "name": "stdout",
          "text": [
            "integer : 10 / float : 3.14 / string : hello\n",
            "integer : 10 / float : 3.14 / string : hello\n",
            "integer : 3.14 / float : 10 / string : hello\n",
            "index:0, value:10\n",
            "index:1, value:11\n",
            "index:2, value:12\n",
            "index:3, value:13\n",
            "index:4, value:14\n",
            "[2, 4, 6, 8, 10, 12, 14, 16, 18, 20]\n",
            "[2, 4, 6, 8, 10, 12, 14, 16, 18, 20]\n",
            "[1, 4, 9, 16]\n",
            "[1, 4, 9, 16]\n"
          ]
        }
      ]
    },
    {
      "cell_type": "code",
      "source": [
        "#외장 함수     #외장 함수는 클래스와 모듈 형태로 묶여 있습니다. #외장 함수를 사용하기 위해서는 import 키워드를 사용하여 해당 모듈을 불러와야 합니다.\n",
        "\n",
        "#sys.argv 사용 #sys는 파이썬 인터프리터와 관련된 정보와 기능을 제공하는 모듈. 특히 명령행에서 인수를 전달받기 위해 많이 사용함.\n",
        "#python 'hello' 10\n",
        "#import sys\n",
        "#print(sys.argv)\n",
        "#msg = sys.argv[1]\n",
        "#cnt = int(sys.argv[2])\n",
        "#\n",
        "#for i in range(cnt):\n",
        "#  print(i, msg)\n",
        "\n",
        "#sys.exit() 함수 사용\n",
        "#import sys\n",
        "#for n in range(100):\n",
        "#  print(n)\n",
        "#  if n == 10:\n",
        "#    sys.exit()\n",
        "\n",
        "#(pickle) 객체를 파일로 저장하는 예 #pickle 모듈은 파이썬 객체를 파일로 저장하고 메모리로 읽어올 수 있도록 도와주는 모듈. #dump() 함수를 이용해 리스트와 딕셔너리 객체를 파일로 저장하는 예제.\n",
        "import pickle\n",
        "f = open('setting.txt', 'wb') # wb: 바이너리 쓰기\n",
        "setting = [{'title' : 'python program'}, {'author' : 'Kei'}] \n",
        "pickle.dump(setting, f)\n",
        "f.close()\n",
        "\n",
        "#(pickle) 파일로 저장된 객체를 읽어오는 예 #load() 함수를 이용해 파일로 저장되어 있는 리스트와 딕셔너리 객체를 메모리로 읽어와 출력하는 예제\n",
        "import pickle \n",
        "f = open('setting.txt', 'rb')\n",
        "setting = pickle.load(f)\n",
        "f.close()\n",
        "print(setting)\n",
        "\n",
        "#time.time() 함수 사용 #time 모듈은 시스템이 제공하는 시간과 관련된 유용한 함수들을 포함하고 있음. #UTC 시간대를 사용해 현재 시간을 실수 형태로 반환. 1970년 1월 1일 0시 0분 0초를 기준으로 경과한 시간을 초 단위로 반환.\n",
        "import time\n",
        "time.time()\n",
        "\n",
        "#time.localtime() 함수 사용\n",
        "import time\n",
        "time.localtime(time.time())\n",
        "\n",
        "#time.strftime() 함수 사용\n",
        "import time\n",
        "lt = time.localtime(time.time())\n",
        "time.strftime('%Y/%m/%d %H:%M:%S', lt)\n",
        "\n",
        "#시간 관련 포매팅 문자 : %(Y, m, d, B, b, A, a, H, l, p, M, S)\n",
        "\n",
        "#random.random() 함수 사용 #random 모듈은 난숫값을 생성하는 기능과 다양한 랜덤 관련 함수를 제공함. #random() 함수를 사용하면 0에서 1사이의 실숫값을 랜덤으로 반환함.\n",
        "import random\n",
        "random.random()\n",
        "\n",
        "#time.uniform() #uniform() 함수를 사용하면 임의로 생성되는 실수의 범위를 정할 수 있음. #두번째 인잣값은 난수 생성 범위에 들어가지 않음.\n",
        "import random\n",
        "random.uniform(1, 2)\n",
        "\n",
        "#time.randint() #randint() 함수는 2개 인자로 난수 범위를 지정해서 정수 난수를 생성함. #두번째 인잣값이 난수 생성 범위에 들어감.\n",
        "import random\n",
        "random.randint(1, 5)\n"
      ],
      "metadata": {
        "colab": {
          "base_uri": "https://localhost:8080/"
        },
        "id": "kcn8J__sF1Ab",
        "outputId": "418d4da6-c62d-4572-8027-75c7e45725e8"
      },
      "execution_count": 19,
      "outputs": [
        {
          "output_type": "stream",
          "name": "stdout",
          "text": [
            "[{'title': 'python program'}, {'author': 'Kei'}]\n"
          ]
        },
        {
          "output_type": "execute_result",
          "data": {
            "text/plain": [
              "4"
            ]
          },
          "metadata": {},
          "execution_count": 19
        }
      ]
    },
    {
      "cell_type": "code",
      "source": [
        "#클래스\n",
        "\n",
        "#클래스를 정의하기 위해서는 class 키워드를 사용하며, 내부에 메서드와 인스턴스 변수를 정의해서 사용할 수 있습니다.\n",
        "\n",
        "#챗봇 객체 생성 #클래스명의 첫 글자는 대문자를 사용함. #함수(메서드)의 첫 번째 인자로 반드시 self 키워드를 사용해야 함.\n",
        "class Chatbot:\n",
        "  def sayHello(self):\n",
        "    print(\"say hello\")\n",
        "  def sayMyName(self):\n",
        "    print(\"My name is Kbot :D\")\n",
        "chatbot = Chatbot()  # 인스턴스를 생성함.\n",
        "chatbot.sayHello()\n",
        "chatbot.sayMyName()\n"
      ],
      "metadata": {
        "colab": {
          "base_uri": "https://localhost:8080/"
        },
        "id": "FN1VNR-PU40q",
        "outputId": "90fc96d5-9b1b-4a8e-fa29-1de9379524bc"
      },
      "execution_count": 20,
      "outputs": [
        {
          "output_type": "stream",
          "name": "stdout",
          "text": [
            "say hello\n",
            "My name is Kbot :D\n"
          ]
        }
      ]
    },
    {
      "cell_type": "code",
      "source": [
        "#생성자 및 소멸자\n",
        "\n",
        "#파이썬에서는 인스턴트가 생성될 때 자동으로 호출되는 생성자라는 메서드를 제공합니다.\n",
        "#생성자 메서드명은 사용자가 임의로 변경할 수 없으며, 생성자 메서드로 __init__을 사용합니다.\n",
        "#생성자는 인스턴스가 생성되는 시점에 실행되기 때문에 해당 객체를 동작시키기 위한 사전 작업을 하게 됩니다.\n",
        "\n",
        "#파이썬은 인스턴트가 소멸될 때 자동으로 호출되는 소멸자라는 메서드를 제공합니다.\n",
        "#생성자와 마찬가지로 메서드명이 정해져 있으며, __del__을 사용하며, 생성자와 다르게 인자를 사용할 수 없습니다.\n",
        "#주로 객체가 사용하고 남은 메모리를 깨끗하게 청소하는 작업을 합니다.\n",
        "\n",
        "#생성자 및 소멸자 호출\n",
        "class SimpleObj:\n",
        "  def __init__(self):\n",
        "    print('call __init__()')\n",
        "  def __del__(self):\n",
        "    print('call__del__()')\n",
        "obj = SimpleObj()\n",
        "print('obj instance is alive...')\n",
        "del obj  #del로 해당 인스턴스 객체를 해제할 수 있음.\n"
      ],
      "metadata": {
        "colab": {
          "base_uri": "https://localhost:8080/"
        },
        "id": "AJbZQN4jiKbm",
        "outputId": "3757e0c8-3500-48e2-82fb-6c6ae317ece3"
      },
      "execution_count": 21,
      "outputs": [
        {
          "output_type": "stream",
          "name": "stdout",
          "text": [
            "call __init__()\n",
            "obj instance is alive...\n",
            "call__del__()\n"
          ]
        }
      ]
    },
    {
      "cell_type": "code",
      "source": [
        "#메서드와 인스턴스 변수\n",
        "\n",
        "#일반 함수와 동일하지만, 인스턴스 객체가 갖고 있는 메서드에 접근하기 위해 첫 번째 인자는 반드시 self 키워드를 사용해야 합니다.\n",
        "\n",
        "#사칙 연산 클래스\n",
        "class Calc:\n",
        "  def __init__(self, init_value):  #입력값이 self가 아닌 init_value에 저장됨. self는 인스턴스 내부에서 자신을 참조하기 위해 사용하는 용도이기 때문.\n",
        "    self.value = init_value  #인스턴스 변수로 사용하기 위해서는 self 키워드를 사용해야 함.\n",
        "  def add(self, n): \n",
        "    return self.value + n\n",
        "  def sub(self, n):\n",
        "    return self.value - n\n",
        "  def mul(self, n):\n",
        "    return self.value * n\n",
        "  def div(self, n):\n",
        "    return self.value / n\n",
        "cal = Calc(100)\n",
        "print(\"value = {0}\".format(cal.value))\n",
        "a = cal.add(100)\n",
        "b = cal.sub(50)\n",
        "c = cal.mul(2)\n",
        "d = cal.div(2)\n",
        "print(\"a={0}, b={1}, c={2}, d={3}\".format(a, b, c, d))\n"
      ],
      "metadata": {
        "colab": {
          "base_uri": "https://localhost:8080/"
        },
        "id": "_EpIeA79mD9-",
        "outputId": "3fb5957f-6fde-4baf-ee19-2e8a4c80f147"
      },
      "execution_count": 22,
      "outputs": [
        {
          "output_type": "stream",
          "name": "stdout",
          "text": [
            "value = 100\n",
            "a=200, b=50, c=200, d=50.0\n"
          ]
        }
      ]
    },
    {
      "cell_type": "code",
      "source": [
        ""
      ],
      "metadata": {
        "id": "cP5Agjy0oswZ"
      },
      "execution_count": 22,
      "outputs": []
    }
  ]
}