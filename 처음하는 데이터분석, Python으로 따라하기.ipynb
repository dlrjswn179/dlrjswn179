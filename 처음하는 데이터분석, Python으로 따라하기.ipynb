{
  "nbformat": 4,
  "nbformat_minor": 0,
  "metadata": {
    "colab": {
      "name": "비교과 노트.ipynb",
      "provenance": [],
      "collapsed_sections": [],
      "mount_file_id": "1kedm25P6dk0oNsC34w0XsETaNtDb2wJE",
      "authorship_tag": "ABX9TyNp2Jo4i8O5V3RCUmmWDjWg",
      "include_colab_link": true
    },
    "kernelspec": {
      "name": "python3",
      "display_name": "Python 3"
    },
    "language_info": {
      "name": "python"
    }
  },
  "cells": [
    {
      "cell_type": "markdown",
      "metadata": {
        "id": "view-in-github",
        "colab_type": "text"
      },
      "source": [
        "<a href=\"https://colab.research.google.com/github/dlrjswn179/dlrjswn179/blob/main/%EB%B9%84%EA%B5%90%EA%B3%BC_%EB%85%B8%ED%8A%B8.ipynb\" target=\"_parent\"><img src=\"https://colab.research.google.com/assets/colab-badge.svg\" alt=\"Open In Colab\"/></a>"
      ]
    },
    {
      "cell_type": "markdown",
      "source": [
        "#1주차"
      ],
      "metadata": {
        "id": "ybJ2CIyBlPwZ"
      }
    },
    {
      "cell_type": "markdown",
      "source": [
        "**기초**"
      ],
      "metadata": {
        "id": "cHDLIzdZKJuU"
      }
    },
    {
      "cell_type": "code",
      "execution_count": null,
      "metadata": {
        "id": "EbUUE_d_2lci"
      },
      "outputs": [],
      "source": [
        "print(\"Hello World\")"
      ]
    },
    {
      "cell_type": "code",
      "source": [
        "a = 123"
      ],
      "metadata": {
        "id": "yKs4qaxX4-Tu"
      },
      "execution_count": null,
      "outputs": []
    },
    {
      "cell_type": "code",
      "source": [
        "a"
      ],
      "metadata": {
        "id": "DPjrG49k5MAu"
      },
      "execution_count": null,
      "outputs": []
    },
    {
      "cell_type": "code",
      "source": [
        "type(a)"
      ],
      "metadata": {
        "id": "QClDZc7P5PPT"
      },
      "execution_count": null,
      "outputs": []
    },
    {
      "cell_type": "code",
      "source": [
        "a = \"123\""
      ],
      "metadata": {
        "id": "ulvvZsql5RNe"
      },
      "execution_count": null,
      "outputs": []
    },
    {
      "cell_type": "code",
      "source": [
        "a"
      ],
      "metadata": {
        "id": "ZArwKloM5RjT"
      },
      "execution_count": null,
      "outputs": []
    },
    {
      "cell_type": "code",
      "source": [
        "type(a)"
      ],
      "metadata": {
        "id": "nJpzyXBN5kAD"
      },
      "execution_count": null,
      "outputs": []
    },
    {
      "cell_type": "code",
      "source": [
        "#List\n",
        "a = [1,2,3]\n",
        "b = [\"1\",\"2\",\"3\"]\n",
        "c = [1,\"1\",a]\n",
        "\n",
        "#Tuple(수정불가능)\n",
        "d = (1,2,3)\n",
        "e = \"1\",\"2\",\"3\"\n",
        "f = (1,\"1\",a)\n",
        "\n",
        "#Set(순서없음)\n",
        "g = {1,2,3}\n",
        "\n",
        "#Dictionary\n",
        "h = {'a':1,'b':2,'c':3}"
      ],
      "metadata": {
        "id": "bartrB1V5lV3"
      },
      "execution_count": null,
      "outputs": []
    },
    {
      "cell_type": "code",
      "source": [
        "c[2]"
      ],
      "metadata": {
        "id": "2HntcZWo6sHs"
      },
      "execution_count": null,
      "outputs": []
    },
    {
      "cell_type": "code",
      "source": [
        "e"
      ],
      "metadata": {
        "id": "8RRZAl7q6tZk"
      },
      "execution_count": null,
      "outputs": []
    },
    {
      "cell_type": "code",
      "source": [
        "g[2]\n",
        "#Set은 순서가 없기 때문"
      ],
      "metadata": {
        "id": "d77l8IQ06vcv"
      },
      "execution_count": null,
      "outputs": []
    },
    {
      "cell_type": "code",
      "source": [
        "h[0]"
      ],
      "metadata": {
        "id": "L7b09iFi7Bp0"
      },
      "execution_count": null,
      "outputs": []
    },
    {
      "cell_type": "code",
      "source": [
        "h[a]"
      ],
      "metadata": {
        "id": "Wzmyqexh7EFI"
      },
      "execution_count": null,
      "outputs": []
    },
    {
      "cell_type": "code",
      "source": [
        "h['a']"
      ],
      "metadata": {
        "id": "h42ybKMK7FqU"
      },
      "execution_count": null,
      "outputs": []
    },
    {
      "cell_type": "code",
      "source": [
        "1+1"
      ],
      "metadata": {
        "id": "GjMaQzdX7G1J"
      },
      "execution_count": null,
      "outputs": []
    },
    {
      "cell_type": "code",
      "source": [
        "2-1"
      ],
      "metadata": {
        "id": "Khg-X-fE7R6p"
      },
      "execution_count": null,
      "outputs": []
    },
    {
      "cell_type": "code",
      "source": [
        "1*1"
      ],
      "metadata": {
        "id": "C9pXixLJ7WH9"
      },
      "execution_count": null,
      "outputs": []
    },
    {
      "cell_type": "code",
      "source": [
        "2/1"
      ],
      "metadata": {
        "id": "xK8VdrhE7c46"
      },
      "execution_count": null,
      "outputs": []
    },
    {
      "cell_type": "code",
      "source": [
        "2>1"
      ],
      "metadata": {
        "id": "w2I4zAK87dru"
      },
      "execution_count": null,
      "outputs": []
    },
    {
      "cell_type": "code",
      "source": [
        "2<1"
      ],
      "metadata": {
        "id": "cVTLl8bf7gBF"
      },
      "execution_count": null,
      "outputs": []
    },
    {
      "cell_type": "code",
      "source": [
        "2>=1"
      ],
      "metadata": {
        "id": "mmbBqZYY7g6h"
      },
      "execution_count": null,
      "outputs": []
    },
    {
      "cell_type": "code",
      "source": [
        "2<=1"
      ],
      "metadata": {
        "id": "nqXVLK1Y7izd"
      },
      "execution_count": null,
      "outputs": []
    },
    {
      "cell_type": "code",
      "source": [
        "2==1"
      ],
      "metadata": {
        "id": "F_9iEaB27j79"
      },
      "execution_count": null,
      "outputs": []
    },
    {
      "cell_type": "code",
      "source": [
        "2!=1"
      ],
      "metadata": {
        "id": "KXS99kLf7mgN"
      },
      "execution_count": null,
      "outputs": []
    },
    {
      "cell_type": "code",
      "source": [
        "1 in a"
      ],
      "metadata": {
        "id": "XCytVl0c7ph8"
      },
      "execution_count": null,
      "outputs": []
    },
    {
      "cell_type": "code",
      "source": [
        "1 in d"
      ],
      "metadata": {
        "id": "tuL7Dz7l7uDo"
      },
      "execution_count": null,
      "outputs": []
    },
    {
      "cell_type": "code",
      "source": [
        "1 in g"
      ],
      "metadata": {
        "id": "JHUcfz2l7vI1"
      },
      "execution_count": null,
      "outputs": []
    },
    {
      "cell_type": "code",
      "source": [
        "1 in e"
      ],
      "metadata": {
        "id": "ppX2HI287wT3"
      },
      "execution_count": null,
      "outputs": []
    },
    {
      "cell_type": "markdown",
      "source": [
        "**데이터 분석에 적용**\n"
      ],
      "metadata": {
        "id": "C9HPnqWHKCdz"
      }
    },
    {
      "cell_type": "code",
      "source": [
        "#데이터 업로드\n",
        "import os\n",
        "os.getcwd()"
      ],
      "metadata": {
        "id": "uevFrtRF7y3b"
      },
      "execution_count": null,
      "outputs": []
    },
    {
      "cell_type": "code",
      "source": [
        "import pandas as pd"
      ],
      "metadata": {
        "id": "VRP9F7NA8nBY"
      },
      "execution_count": null,
      "outputs": []
    },
    {
      "cell_type": "code",
      "source": [
        "bike_data = pd.read_csv('bike_usage_0.csv',encoding='cp949')\n",
        "#원래는 ansi를 utf-8으로."
      ],
      "metadata": {
        "id": "AK4dXXAZDkkV"
      },
      "execution_count": null,
      "outputs": []
    },
    {
      "cell_type": "code",
      "source": [
        "bike_data"
      ],
      "metadata": {
        "id": "SioFuevhDxY0"
      },
      "execution_count": null,
      "outputs": []
    },
    {
      "cell_type": "code",
      "source": [
        "print(bike_data)"
      ],
      "metadata": {
        "id": "FcribUfDEjho"
      },
      "execution_count": null,
      "outputs": []
    },
    {
      "cell_type": "code",
      "source": [
        "bike_data.isnull()"
      ],
      "metadata": {
        "id": "ynNgn-ELGJ_k"
      },
      "execution_count": null,
      "outputs": []
    },
    {
      "cell_type": "code",
      "source": [
        "bike_data.isnull().sum()"
      ],
      "metadata": {
        "id": "bok6mGfdGnaB"
      },
      "execution_count": null,
      "outputs": []
    },
    {
      "cell_type": "code",
      "source": [
        "population = pd.read_csv('population_by_Gu.txt')"
      ],
      "metadata": {
        "id": "7O-iV_-BGuI8"
      },
      "execution_count": null,
      "outputs": []
    },
    {
      "cell_type": "code",
      "source": [
        "population"
      ],
      "metadata": {
        "id": "XHQIZVDmG925"
      },
      "execution_count": null,
      "outputs": []
    },
    {
      "cell_type": "code",
      "source": [
        "population = pd.read_csv('population_by_Gu.txt',sep = '\\t')\n",
        "#tap을 기준으로 seperate시킴."
      ],
      "metadata": {
        "id": "aJvDzYZjHH84"
      },
      "execution_count": null,
      "outputs": []
    },
    {
      "cell_type": "code",
      "source": [
        "population"
      ],
      "metadata": {
        "id": "n4zNcQr9HSEe"
      },
      "execution_count": null,
      "outputs": []
    },
    {
      "cell_type": "code",
      "source": [
        "weather = pd.read_csv('weather.csv')"
      ],
      "metadata": {
        "id": "p_tarwJZHTAo"
      },
      "execution_count": null,
      "outputs": []
    },
    {
      "cell_type": "code",
      "source": [
        "weather"
      ],
      "metadata": {
        "id": "epg2TTeuHbhF"
      },
      "execution_count": null,
      "outputs": []
    },
    {
      "cell_type": "code",
      "source": [
        "bike_data.describe()\n",
        "#평균 등 간단한 값 설명"
      ],
      "metadata": {
        "id": "U5KUbvg8Hp9v"
      },
      "execution_count": null,
      "outputs": []
    },
    {
      "cell_type": "code",
      "source": [
        "type(bike_data)"
      ],
      "metadata": {
        "id": "6wPQVPDrH9dH"
      },
      "execution_count": null,
      "outputs": []
    },
    {
      "cell_type": "code",
      "source": [
        "bike_data.columns"
      ],
      "metadata": {
        "id": "fJ1g7Ku6IMr-"
      },
      "execution_count": null,
      "outputs": []
    },
    {
      "cell_type": "code",
      "source": [
        "bike_data.head()"
      ],
      "metadata": {
        "id": "h6CzseapIR2j"
      },
      "execution_count": null,
      "outputs": []
    },
    {
      "cell_type": "code",
      "source": [
        "bike_data.tail()"
      ],
      "metadata": {
        "id": "9dFaziuVIUhF"
      },
      "execution_count": null,
      "outputs": []
    },
    {
      "cell_type": "code",
      "source": [
        "bike_data.shape"
      ],
      "metadata": {
        "id": "d3fJkJZIIY4G"
      },
      "execution_count": null,
      "outputs": []
    },
    {
      "cell_type": "code",
      "source": [
        "bike_data.info()"
      ],
      "metadata": {
        "id": "UXs9t2mvIcw7"
      },
      "execution_count": null,
      "outputs": []
    },
    {
      "cell_type": "code",
      "source": [
        "bike_data.sum()"
      ],
      "metadata": {
        "id": "ytWpoD9aIgz9"
      },
      "execution_count": null,
      "outputs": []
    },
    {
      "cell_type": "code",
      "source": [
        "bike_data.Distance"
      ],
      "metadata": {
        "id": "_5g-G7NFIl-I"
      },
      "execution_count": null,
      "outputs": []
    },
    {
      "cell_type": "code",
      "source": [
        "bike_data['Distance']"
      ],
      "metadata": {
        "id": "bUu75zZZItRf"
      },
      "execution_count": null,
      "outputs": []
    },
    {
      "cell_type": "code",
      "source": [
        "bike_data['Distance'].sum()"
      ],
      "metadata": {
        "id": "Um90HmGJI1H4"
      },
      "execution_count": null,
      "outputs": []
    },
    {
      "cell_type": "code",
      "source": [
        "bike_data['Membership_type'].unique()"
      ],
      "metadata": {
        "id": "qATXKC6tI9q3"
      },
      "execution_count": null,
      "outputs": []
    },
    {
      "cell_type": "code",
      "source": [
        "bike_data['Membership_type'].value_counts()"
      ],
      "metadata": {
        "id": "qJEIQn1zJDq6"
      },
      "execution_count": null,
      "outputs": []
    },
    {
      "cell_type": "code",
      "source": [
        "bike_data['Membership_type'].value_counts(normalize = 'True')"
      ],
      "metadata": {
        "id": "7NwRrrYpJJOk"
      },
      "execution_count": null,
      "outputs": []
    },
    {
      "cell_type": "code",
      "source": [
        "bike_data.info()"
      ],
      "metadata": {
        "id": "lPV_6DOxJPgA"
      },
      "execution_count": null,
      "outputs": []
    },
    {
      "cell_type": "code",
      "source": [
        "bike_data.Momentum.isnull().sum()"
      ],
      "metadata": {
        "id": "OtUbjNjcJTxe"
      },
      "execution_count": null,
      "outputs": []
    },
    {
      "cell_type": "code",
      "source": [
        "bike_data.Momentum.min()"
      ],
      "metadata": {
        "id": "OIdGc-xDJacl"
      },
      "execution_count": null,
      "outputs": []
    },
    {
      "cell_type": "code",
      "source": [
        "bike_data.Momentum.max()"
      ],
      "metadata": {
        "id": "8_y98rpCJgcM"
      },
      "execution_count": null,
      "outputs": []
    },
    {
      "cell_type": "code",
      "source": [
        "bike_data[bike_data.Momentum=='\\\\N']"
      ],
      "metadata": {
        "id": "-GrNQ-iVJnCo"
      },
      "execution_count": null,
      "outputs": []
    },
    {
      "cell_type": "markdown",
      "source": [
        "**데이터** **정제** (정제, 통합, 축소, 변환)\n"
      ],
      "metadata": {
        "id": "4rHv1K3rCauQ"
      }
    },
    {
      "cell_type": "code",
      "source": [
        "bike_data[bike_data.Gender.isnull()]"
      ],
      "metadata": {
        "id": "YsF8gggyJ51X"
      },
      "execution_count": null,
      "outputs": []
    },
    {
      "cell_type": "code",
      "source": [
        "bike_data.loc[bike_data.Gender.isnull(),'Gender'] = 'U'"
      ],
      "metadata": {
        "id": "LESu5G6wECvz"
      },
      "execution_count": null,
      "outputs": []
    },
    {
      "cell_type": "code",
      "source": [
        "bike_data[bike_data.Gender.isnull()]"
      ],
      "metadata": {
        "id": "kfZ4EcgUc976"
      },
      "execution_count": null,
      "outputs": []
    },
    {
      "cell_type": "code",
      "source": [
        "bike_data.Gender.value_counts()"
      ],
      "metadata": {
        "id": "w89Y5YPHdBUg"
      },
      "execution_count": null,
      "outputs": []
    },
    {
      "cell_type": "code",
      "source": [
        "bike_data[bike_data.Momentum == '\\\\N']"
      ],
      "metadata": {
        "id": "guAPx63MdJT-"
      },
      "execution_count": null,
      "outputs": []
    },
    {
      "cell_type": "code",
      "source": [
        "import numpy as np\n",
        "\n",
        "bike_data.loc[bike_data.Momentum=='\\\\N','Momentum'] = np.nan"
      ],
      "metadata": {
        "id": "pUgzkn0NdUN7"
      },
      "execution_count": null,
      "outputs": []
    },
    {
      "cell_type": "code",
      "source": [
        "bike_data[bike_data.Momentum == '\\\\N']"
      ],
      "metadata": {
        "id": "-qpvaY5_doAv"
      },
      "execution_count": null,
      "outputs": []
    },
    {
      "cell_type": "code",
      "source": [
        "bike_data.dropna()"
      ],
      "metadata": {
        "id": "EaNjgUWqdwDF"
      },
      "execution_count": null,
      "outputs": []
    },
    {
      "cell_type": "code",
      "source": [
        "bike_data.info()"
      ],
      "metadata": {
        "id": "lfjF5ZHVd09X"
      },
      "execution_count": null,
      "outputs": []
    },
    {
      "cell_type": "code",
      "source": [
        "bike_data.dropna(inplace = True)"
      ],
      "metadata": {
        "id": "UC9qNLkYd6y_"
      },
      "execution_count": null,
      "outputs": []
    },
    {
      "cell_type": "code",
      "source": [
        "bike_data.info()"
      ],
      "metadata": {
        "id": "UJ0A2LYieANH"
      },
      "execution_count": null,
      "outputs": []
    },
    {
      "cell_type": "code",
      "source": [
        "bike_data[['Momentum','Carbon_amount']].dtypes"
      ],
      "metadata": {
        "id": "2jqZWCT7eFfG"
      },
      "execution_count": null,
      "outputs": []
    },
    {
      "cell_type": "code",
      "source": [
        "bike_data[['Momentum','Carbon_amount']] = bike_data[['Momentum','Carbon_amount']].astype(float)"
      ],
      "metadata": {
        "id": "sRZTzBmneQbF"
      },
      "execution_count": null,
      "outputs": []
    },
    {
      "cell_type": "code",
      "source": [
        "bike_data[['Momentum','Carbon_amount']].dtypes"
      ],
      "metadata": {
        "id": "Y6Jujzv8eZJg"
      },
      "execution_count": null,
      "outputs": []
    },
    {
      "cell_type": "code",
      "source": [
        "bike_data.info()"
      ],
      "metadata": {
        "id": "aKdlXQyrecJ5"
      },
      "execution_count": null,
      "outputs": []
    },
    {
      "cell_type": "code",
      "source": [
        "#이상값. Tukey 함수 구현!\n",
        "import numpy as np\n",
        "def outliers_iqr(data):\n",
        "  q1,q3 = np.percentile(data,[25,75])\n",
        "  iqr = q3 - q1\n",
        "  lower_bound = q1 - (iqr*1.5)\n",
        "  upper_bound = q3 + (iqr*1.5)\n",
        "  return np.where((data > upper_bound) | (data < lower_bound))\n",
        "\n",
        "outliers = outliers_iqr(bike_data.Distance)"
      ],
      "metadata": {
        "id": "J0jayALXefVX"
      },
      "execution_count": null,
      "outputs": []
    },
    {
      "cell_type": "code",
      "source": [
        "np.size(outliers)"
      ],
      "metadata": {
        "id": "_rDdnryUgNVE"
      },
      "execution_count": null,
      "outputs": []
    },
    {
      "cell_type": "code",
      "source": [
        "outliers"
      ],
      "metadata": {
        "id": "EtmQnYsZiApj"
      },
      "execution_count": null,
      "outputs": []
    },
    {
      "cell_type": "code",
      "source": [
        "bike_data.iloc[outliers]"
      ],
      "metadata": {
        "id": "7OPt-eD5iCO2"
      },
      "execution_count": null,
      "outputs": []
    },
    {
      "cell_type": "markdown",
      "source": [
        "**데이터 결합**"
      ],
      "metadata": {
        "id": "8FPYyq7siQvp"
      }
    },
    {
      "cell_type": "code",
      "source": [
        "bike_data.info()"
      ],
      "metadata": {
        "id": "Wn_d58x1iUNv"
      },
      "execution_count": null,
      "outputs": []
    },
    {
      "cell_type": "code",
      "source": [
        "bike_data"
      ],
      "metadata": {
        "id": "SvZx14uxiawU"
      },
      "execution_count": null,
      "outputs": []
    },
    {
      "cell_type": "code",
      "source": [
        "stations = pd.read_csv('stations.csv')"
      ],
      "metadata": {
        "id": "pgPc6UcOiYO2"
      },
      "execution_count": null,
      "outputs": []
    },
    {
      "cell_type": "code",
      "source": [
        "stations"
      ],
      "metadata": {
        "id": "5j6j5ugvimUQ"
      },
      "execution_count": null,
      "outputs": []
    },
    {
      "cell_type": "code",
      "source": [
        "bike_data2 = pd.merge(bike_data, stations, left_on = 'Station_no_out', right_on = 'ID')"
      ],
      "metadata": {
        "id": "pJ02iU_eiq38"
      },
      "execution_count": null,
      "outputs": []
    },
    {
      "cell_type": "code",
      "source": [
        "bike_data.info()"
      ],
      "metadata": {
        "id": "g0eS5-4EjDeI"
      },
      "execution_count": null,
      "outputs": []
    },
    {
      "cell_type": "code",
      "source": [
        "#데이터 통합 연습하기\n",
        "df1 = pd.DataFrame({'a':['a','b','c'], 'b':[1,2,3]})\n",
        "df2 = pd.DataFrame({'a':['a','b','d'], 'c':['가','나','다']})"
      ],
      "metadata": {
        "id": "aQ-Q1xhzjcLk"
      },
      "execution_count": null,
      "outputs": []
    },
    {
      "cell_type": "code",
      "source": [
        "df1"
      ],
      "metadata": {
        "id": "l8AMe7JNj5q6"
      },
      "execution_count": null,
      "outputs": []
    },
    {
      "cell_type": "code",
      "source": [
        "df2"
      ],
      "metadata": {
        "id": "2or7mOTej6be"
      },
      "execution_count": null,
      "outputs": []
    },
    {
      "cell_type": "code",
      "source": [
        "pd.merge(df1, df2, how = 'inner', on='a')"
      ],
      "metadata": {
        "id": "ccM6oxjmj7UZ"
      },
      "execution_count": null,
      "outputs": []
    },
    {
      "cell_type": "code",
      "source": [
        "pd.merge(df1, df2, how = 'outer', on='a')"
      ],
      "metadata": {
        "id": "pooCrFLJkB9K"
      },
      "execution_count": null,
      "outputs": []
    },
    {
      "cell_type": "code",
      "source": [
        "pd.merge(df1, df2, how = 'left', on='a')"
      ],
      "metadata": {
        "id": "mUvKL4TrkMcf"
      },
      "execution_count": null,
      "outputs": []
    },
    {
      "cell_type": "code",
      "source": [
        "pd.merge(df1, df2, how = 'right', on='a')"
      ],
      "metadata": {
        "id": "7PIdJWyUkUwH"
      },
      "execution_count": null,
      "outputs": []
    },
    {
      "cell_type": "code",
      "source": [
        "#이로써 데이터 준비 끝!"
      ],
      "metadata": {
        "id": "VR1kT0qDkYND"
      },
      "execution_count": null,
      "outputs": []
    },
    {
      "cell_type": "markdown",
      "source": [
        "#2주차"
      ],
      "metadata": {
        "id": "-M72zo1BlLvF"
      }
    },
    {
      "cell_type": "markdown",
      "source": [
        "**시각화**"
      ],
      "metadata": {
        "id": "ieJhwsvkjmXm"
      }
    },
    {
      "cell_type": "code",
      "source": [
        "import matplotlib.pyplot as plt"
      ],
      "metadata": {
        "id": "5aMK9PgGHEuM"
      },
      "execution_count": null,
      "outputs": []
    },
    {
      "cell_type": "code",
      "source": [
        "#히스토그램\n",
        "plt.hist(bike_data2.Distance, color= 'blue')\n",
        "plt.show()"
      ],
      "metadata": {
        "id": "-8fHjMrSgCj6"
      },
      "execution_count": null,
      "outputs": []
    },
    {
      "cell_type": "code",
      "source": [
        "plt.hist(bike_data2.Distance, color= 'blue', bins=1000)\n",
        "plt.show()"
      ],
      "metadata": {
        "id": "nfOAFtr1gwBh"
      },
      "execution_count": null,
      "outputs": []
    },
    {
      "cell_type": "code",
      "source": [
        "#boxplot\n",
        "plt.boxplot(bike_data2.Distance)\n",
        "plt.show()"
      ],
      "metadata": {
        "id": "Ljrlx6RWg8iy"
      },
      "execution_count": null,
      "outputs": []
    },
    {
      "cell_type": "code",
      "source": [
        "under_5000= bike_data2[bike_data2.Distance<5000]\n",
        "plt.boxplot(under_5000.Distance)\n",
        "plt.show()"
      ],
      "metadata": {
        "id": "wSQPKJAKhH7B"
      },
      "execution_count": null,
      "outputs": []
    },
    {
      "cell_type": "code",
      "source": [
        "under_5000= bike_data2[bike_data2.Distance<5000]\n",
        "plt.boxplot([under_5000.Distance[under_5000.Gender=='F'],under_5000.Distance[under_5000.Gender=='M']])\n",
        "plt.xticks([1,2],['Female','Male'])\n",
        "plt.show()"
      ],
      "metadata": {
        "id": "w1LidzY2hJKB"
      },
      "execution_count": null,
      "outputs": []
    },
    {
      "cell_type": "code",
      "source": [
        "#선그래프\n",
        "plt.plot(bike_data['Distance'].groupby(bike_data['Date_out']).sum())\n",
        "plt.show()"
      ],
      "metadata": {
        "id": "ERqMgHK9iFPO"
      },
      "execution_count": null,
      "outputs": []
    },
    {
      "cell_type": "code",
      "source": [
        "#바그래프\n",
        "plt.bar(labels,height=sizes,color='blue')\n",
        "plt.show()"
      ],
      "metadata": {
        "id": "6IQpegP4i3EJ"
      },
      "execution_count": null,
      "outputs": []
    },
    {
      "cell_type": "code",
      "source": [
        "bike_data2['Gender'].value_counts().plot(kind='bar')\n",
        "plt.show()"
      ],
      "metadata": {
        "id": "gu9Ik8ktjHOg"
      },
      "execution_count": null,
      "outputs": []
    },
    {
      "cell_type": "markdown",
      "source": [
        "**데이터 전처리**"
      ],
      "metadata": {
        "id": "_ynZSRR8jo2P"
      }
    },
    {
      "cell_type": "code",
      "source": [
        " bike_data2.Gender.value_counts()"
      ],
      "metadata": {
        "id": "OMueqPt3jwL4"
      },
      "execution_count": null,
      "outputs": []
    },
    {
      "cell_type": "code",
      "source": [
        "bike_data2[bike_data2.Gender=='f']"
      ],
      "metadata": {
        "id": "91lrx9VGj1Ik"
      },
      "execution_count": null,
      "outputs": []
    },
    {
      "cell_type": "code",
      "source": [
        "bike_data2.loc[bike_data2.Gender=='f','Gender']\n",
        "#우리는 F가 문제없음"
      ],
      "metadata": {
        "id": "z_ShHUCJj_M-"
      },
      "execution_count": null,
      "outputs": []
    },
    {
      "cell_type": "code",
      "source": [
        "bike_data2[bike_data2.Gender=='m']='M'"
      ],
      "metadata": {
        "id": "ivZUCorfkaMw"
      },
      "execution_count": null,
      "outputs": []
    },
    {
      "cell_type": "code",
      "source": [
        "bike_data2.Gender.value_counts()"
      ],
      "metadata": {
        "id": "40qDSjhAkji5"
      },
      "execution_count": null,
      "outputs": []
    },
    {
      "cell_type": "code",
      "source": [
        "#duration\n",
        "bike_data2[bike_data2.Distance==0]"
      ],
      "metadata": {
        "id": "IoRyHUIMkoYF"
      },
      "execution_count": null,
      "outputs": []
    },
    {
      "cell_type": "code",
      "source": [
        "bike_data2.loc[bike_data2.Distance==0,'Duration'].max()"
      ],
      "metadata": {
        "id": "Xr7j-MFekwp5"
      },
      "execution_count": null,
      "outputs": []
    },
    {
      "cell_type": "code",
      "source": [
        "bike_data2=bike_data2[bike_data2.Distance!=0]"
      ],
      "metadata": {
        "id": "Y18K2f6mk70_"
      },
      "execution_count": null,
      "outputs": []
    },
    {
      "cell_type": "code",
      "source": [
        "bike_data2[bike_data2.Duration==0]"
      ],
      "metadata": {
        "id": "ddxtxygolAH5"
      },
      "execution_count": null,
      "outputs": []
    },
    {
      "cell_type": "code",
      "source": [
        "#데이터 요약\n",
        "pd.pivot_table(bike_data2, index='Age_Group', columns='Membership_type', values='Distance', aggfunc=np.sum)"
      ],
      "metadata": {
        "id": "OMoQhOWmlHC1"
      },
      "execution_count": null,
      "outputs": []
    },
    {
      "cell_type": "code",
      "source": [
        "bike_pivot= pd.pivot_table(bike_data2, index='Age_Group', columns='Membership_type', values='Distance', aggfunc=np.sum)"
      ],
      "metadata": {
        "id": "hcn8omtzldUJ"
      },
      "execution_count": null,
      "outputs": []
    },
    {
      "cell_type": "code",
      "source": [
        "bike_pivot"
      ],
      "metadata": {
        "id": "5Q7-95l5llZP"
      },
      "execution_count": null,
      "outputs": []
    },
    {
      "cell_type": "code",
      "source": [
        "bike_pivot= bike_pivot.reset_index()"
      ],
      "metadata": {
        "id": "-pLB3OXyltbb"
      },
      "execution_count": null,
      "outputs": []
    },
    {
      "cell_type": "code",
      "source": [
        "pd.melt(bike_pivot, id_vars='Age_Group', value_vars=['단체권','일일권','정기권'],var_name='Membership_type',value_name='Total_Dist')"
      ],
      "metadata": {
        "id": "McUQrrJcl0Ix"
      },
      "execution_count": null,
      "outputs": []
    },
    {
      "cell_type": "markdown",
      "source": [
        "**정규분포**"
      ],
      "metadata": {
        "id": "DBTzahBBmpYa"
      }
    },
    {
      "cell_type": "code",
      "source": [
        "import matplotlib.pyplot as plt\n",
        "import numpy as np\n",
        "#히스토그램\n",
        "random_sample = np.random.normal(loc=10,scale=2,size=1000)\n",
        "plt.hist(random_sample,bins=100)\n",
        "plt.show()"
      ],
      "metadata": {
        "id": "tRB6Sax6lkbu"
      },
      "execution_count": null,
      "outputs": []
    },
    {
      "cell_type": "code",
      "source": [
        "#QQPlot\n",
        "import numpy as np\n",
        "import pylab\n",
        "import scipy.stats as stats\n",
        "\n",
        "norm_sample = np.random.normal(loc=20, scale=5, size=100)\n",
        "stats.probplot(norm_sample, dist='norm', plot=pylab)\n",
        "pylab.show()"
      ],
      "metadata": {
        "id": "Sabm8zrUnRmU"
      },
      "execution_count": null,
      "outputs": []
    },
    {
      "cell_type": "code",
      "source": [
        "import random\n",
        "avg_values = []\n",
        "for i in range (1,11):\n",
        "  random_sample = random.sample(range(1,1000),100)\n",
        "  x=np.mean(random_sample)\n",
        "  avg_values.append(x)\n",
        "\n",
        "plt.hist(avg_values, bins=100)\n",
        "plt.show()"
      ],
      "metadata": {
        "id": "XivS6jpanx2c"
      },
      "execution_count": null,
      "outputs": []
    },
    {
      "cell_type": "code",
      "source": [
        "import random\n",
        "avg_values = []\n",
        "for i in range (1,101):\n",
        "  random_sample = random.sample(range(1,1000),100)\n",
        "  x=np.mean(random_sample)\n",
        "  avg_values.append(x)\n",
        "\n",
        "plt.hist(avg_values, bins=100)\n",
        "plt.show()"
      ],
      "metadata": {
        "id": "kDaKWsmqoS6t"
      },
      "execution_count": null,
      "outputs": []
    },
    {
      "cell_type": "code",
      "source": [
        "import random\n",
        "avg_values = []\n",
        "for i in range (1,1001):\n",
        "  random_sample = random.sample(range(1,1000),100)\n",
        "  x=np.mean(random_sample)\n",
        "  avg_values.append(x)\n",
        "\n",
        "plt.hist(avg_values, bins=100)\n",
        "plt.show()"
      ],
      "metadata": {
        "id": "vGQfkKgYoU66"
      },
      "execution_count": null,
      "outputs": []
    },
    {
      "cell_type": "code",
      "source": [
        "import random\n",
        "avg_values = []\n",
        "for i in range (1,10001):\n",
        "  random_sample = random.sample(range(1,1000),100)\n",
        "  x=np.mean(random_sample)\n",
        "  avg_values.append(x)\n",
        "\n",
        "plt.hist(avg_values, bins=100)\n",
        "plt.show()"
      ],
      "metadata": {
        "id": "OKRLIUNvoZog"
      },
      "execution_count": null,
      "outputs": []
    },
    {
      "cell_type": "markdown",
      "source": [
        "**가설검정과 t-검정**"
      ],
      "metadata": {
        "id": "SaBIVLz5ohvl"
      }
    },
    {
      "cell_type": "code",
      "source": [
        "bike_data2.Gu.value_counts()"
      ],
      "metadata": {
        "id": "_6JtUu_apqLL"
      },
      "execution_count": null,
      "outputs": []
    },
    {
      "cell_type": "code",
      "source": [
        "y_gu=bike_data2[bike_data2.Gu=='영등포구']\n",
        "m_gu=bike_data2[bike_data2.Gu=='마포구']"
      ],
      "metadata": {
        "id": "mgiJZIz5p1_9"
      },
      "execution_count": null,
      "outputs": []
    },
    {
      "cell_type": "code",
      "source": [
        "from scipy import stats\n",
        "stats.levene[y_gu.Distance, m_gu.Distance]"
      ],
      "metadata": {
        "id": "4afV1CGWqDaw"
      },
      "execution_count": null,
      "outputs": []
    },
    {
      "cell_type": "code",
      "source": [
        "np.mean(y_gu.Distance)"
      ],
      "metadata": {
        "id": "VzTHaWq_qRd5"
      },
      "execution_count": null,
      "outputs": []
    },
    {
      "cell_type": "code",
      "source": [
        "np.mean(m_gu.Distance)"
      ],
      "metadata": {
        "id": "t2D_f13jqWw1"
      },
      "execution_count": null,
      "outputs": []
    },
    {
      "cell_type": "code",
      "source": [
        "stats.ttest_ind(y_gu.Distance, m_gu.Distance, equal_var=True)\n",
        "#등분산이라고 판정했으므로 True라 설정."
      ],
      "metadata": {
        "id": "mSBsY03oq4pX"
      },
      "execution_count": null,
      "outputs": []
    },
    {
      "cell_type": "code",
      "source": [
        "s_gu=bike_data2[bike_data2.Gu=='서초구']\n",
        "d_gu=bike_data2[bike_data2.Gu=='동대문구']\n",
        "e_gu=bike_data2[bike_data2.Gu=='은평구']"
      ],
      "metadata": {
        "id": "eqkle7Bds38L"
      },
      "execution_count": null,
      "outputs": []
    },
    {
      "cell_type": "code",
      "source": [
        "from scipy import stats\n",
        "stats.bartlett(y_gu.Distance, m_gu.Distance, s_gu.Distance,d_gu.Distance,e_gu.Distance ) "
      ],
      "metadata": {
        "id": "e3Hqv3g_uH-_"
      },
      "execution_count": null,
      "outputs": []
    },
    {
      "cell_type": "code",
      "source": [
        "stats.f_oneway(y_gu.Distance,m_gu.Distance, s_gu.Distance,d_gu.Distance,e_gu.Distance)"
      ],
      "metadata": {
        "id": "yOX1_u8juc7A"
      },
      "execution_count": null,
      "outputs": []
    },
    {
      "cell_type": "code",
      "source": [
        "plot_data=[y_gu.Distance, m_gu.Distance, s_gu.Distance,d_gu.Distance,e_gu.Distance]\n",
        "plt.boxplot(plot_data)\n",
        "plt.show()"
      ],
      "metadata": {
        "id": "661rEtUGun4d"
      },
      "execution_count": null,
      "outputs": []
    },
    {
      "cell_type": "code",
      "source": [
        "from statsmodels.stats.multicomp import pairwise_tukeyhsd\n",
        "hsd= pairwise_tukeyhsd(bike_data2.Distance,bike_data2.Gu)\n",
        "hsd.summary()"
      ],
      "metadata": {
        "id": "su0lDi8Ju-6g"
      },
      "execution_count": null,
      "outputs": []
    },
    {
      "cell_type": "markdown",
      "source": [
        "**카이제곱검정**"
      ],
      "metadata": {
        "id": "W07si_kCv0kY"
      }
    },
    {
      "cell_type": "code",
      "source": [
        "from scipy.stats import chi2_contingency\n",
        "crosstab=pd.crosstab(bike_data2.Age_Group,bike_data2.Membership_type)\n",
        "chi2_contingency(crosstab)"
      ],
      "metadata": {
        "id": "7PiUzlhlv2FE"
      },
      "execution_count": null,
      "outputs": []
    },
    {
      "cell_type": "code",
      "source": [
        "result=chi2_contingency(crosstab)\n",
        "print('Chi2 Statistic : {}, p-value:{}'.format(result[0],result[1]))"
      ],
      "metadata": {
        "id": "5EMhVjamwZWj"
      },
      "execution_count": null,
      "outputs": []
    },
    {
      "cell_type": "markdown",
      "source": [
        "#3주차"
      ],
      "metadata": {
        "id": "kZKI6oH7k61u"
      }
    },
    {
      "cell_type": "markdown",
      "source": [
        "**상관분석**"
      ],
      "metadata": {
        "id": "--Yfxura0iDh"
      }
    },
    {
      "cell_type": "code",
      "source": [
        "dist_by_gu = pd.pivot_table(bike_data2, index='Gu', values='Distance', aggfunc=len)\n",
        "dist_by_gu"
      ],
      "metadata": {
        "id": "B7o9wu1L0biJ"
      },
      "execution_count": null,
      "outputs": []
    },
    {
      "cell_type": "code",
      "source": [
        "by_gu = pd.merge(dist_by_gu, population, on='Gu')\n",
        "by_gu"
      ],
      "metadata": {
        "id": "93q92t-gf9Vb"
      },
      "execution_count": null,
      "outputs": []
    },
    {
      "cell_type": "code",
      "source": [
        "import matplotlib.pyplot as plt\n",
        "plt.scatter(by_gu.Distance, by_gu.Population)\n",
        "plt.show()"
      ],
      "metadata": {
        "id": "rQ_9AozDgIZS"
      },
      "execution_count": null,
      "outputs": []
    },
    {
      "cell_type": "code",
      "source": [
        "from scipy import stats\n",
        "stats.pearsonr(by_gu.Distance, by_gu.Population)"
      ],
      "metadata": {
        "id": "4QeziaoNgPZY"
      },
      "execution_count": null,
      "outputs": []
    },
    {
      "cell_type": "code",
      "source": [
        "by_gu = pd.merge(dist_by_gu, population, on='Gu')[['Gu','Distance','Population']]\n",
        "by_gu.corr()"
      ],
      "metadata": {
        "id": "RptFwnbqgh2S"
      },
      "execution_count": null,
      "outputs": []
    },
    {
      "cell_type": "markdown",
      "source": [
        "**회귀분석**"
      ],
      "metadata": {
        "id": "fiJc9TE7hUOE"
      }
    },
    {
      "cell_type": "code",
      "source": [
        "weather"
      ],
      "metadata": {
        "id": "r5bEEZ7Cg0p_"
      },
      "execution_count": null,
      "outputs": []
    },
    {
      "cell_type": "code",
      "source": [
        "bike_data2"
      ],
      "metadata": {
        "id": "58mb2H3NiVr1"
      },
      "execution_count": null,
      "outputs": []
    },
    {
      "cell_type": "code",
      "source": [
        "new_weather = pd.pivot_table(weather, index=['date','time'],values=['temp','cum_precipitation','humidity','insolation','sunshine','wind','wind_direction','sea_lvl_pressure','pressure'],aggfunc=np.mean)\n",
        "new_weather"
      ],
      "metadata": {
        "id": "-FQcmmWniXFm"
      },
      "execution_count": null,
      "outputs": []
    },
    {
      "cell_type": "code",
      "source": [
        "new_weather.reset_index()"
      ],
      "metadata": {
        "id": "xMB4ZLU8i8H3"
      },
      "execution_count": null,
      "outputs": []
    },
    {
      "cell_type": "code",
      "source": [
        "new_bike=pd.pivot_table(bike_data2, index=['Date_out','Time_out'], values=['Distance'], aggfunc=len)\n",
        "new_bike=new_bike.reset_index()\n",
        "new_bike"
      ],
      "metadata": {
        "id": "ZpVS8ijEjfsU"
      },
      "execution_count": null,
      "outputs": []
    },
    {
      "cell_type": "code",
      "source": [
        "new_bike.rename(columns={'Distance':'Count'},inplace=True)\n",
        "new_bike.columns"
      ],
      "metadata": {
        "id": "pkVOGEbHkCQA"
      },
      "execution_count": null,
      "outputs": []
    },
    {
      "cell_type": "code",
      "source": [
        "bike_weather=pd.merge(new_bike, new_weather, left_on=['Date_out','Time_out'], right_on=['date','time'])\n",
        "bike_weather"
      ],
      "metadata": {
        "id": "W-UauAUskSyy"
      },
      "execution_count": null,
      "outputs": []
    },
    {
      "cell_type": "code",
      "source": [
        "stats.linregress(bike_weather.temp, bike_weather.Count)"
      ],
      "metadata": {
        "id": "EaU8Nh0KkoJk"
      },
      "execution_count": null,
      "outputs": []
    },
    {
      "cell_type": "code",
      "source": [
        "slop, intercept, r_value, p_value, std_err = stats.linregress(bike_weather.temp, bike_weather.Count)\n",
        "print(\"R-squared:%f\"%r_value**2)"
      ],
      "metadata": {
        "id": "YYw0c57rlVbJ"
      },
      "execution_count": null,
      "outputs": []
    },
    {
      "cell_type": "code",
      "source": [
        "import statsmodels.api as sm\n",
        "X0=bike_weather.temp\n",
        "X1=sm.add_constant(X0)\n",
        "y=bike_weather.Count\n",
        "model=sm.OLS(y,X1)\n",
        "result=model.fit()\n",
        "print(result.summary())"
      ],
      "metadata": {
        "id": "AUsDuyPnmafo"
      },
      "execution_count": null,
      "outputs": []
    },
    {
      "cell_type": "markdown",
      "source": [
        "**다중회귀분석**"
      ],
      "metadata": {
        "id": "fsqtD0Ymo8oJ"
      }
    },
    {
      "cell_type": "code",
      "source": [
        "bike_weather['Rain_YN']='N'\n",
        "bike_weather.loc[bike_weather.cum_precipitation>0,'Rain_YN']='Y'\n",
        "bike_weather"
      ],
      "metadata": {
        "id": "7eVtLsZjqgQ1"
      },
      "execution_count": null,
      "outputs": []
    },
    {
      "cell_type": "code",
      "source": [
        "ohe = pd.get_dummies(bike_weather['Rain_YN'])\n",
        "ohe"
      ],
      "metadata": {
        "id": "L-JuNPGxqv9M"
      },
      "execution_count": null,
      "outputs": []
    },
    {
      "cell_type": "code",
      "source": [
        "bike_weather = pd.concat([bike_weather, ohe],axis=1, sort= False)\n",
        "bike_weather"
      ],
      "metadata": {
        "id": "0Fqh2GpWq3qC"
      },
      "execution_count": null,
      "outputs": []
    },
    {
      "cell_type": "code",
      "source": [
        "from sklearn.model_selection import train_test_split\n",
        "\n",
        "X=bike_weather[['humidity','temp','wind','N','Y']]\n",
        "y=bike_weather.Count\n",
        "X_train, X_test, y_train, y_test = train_test_split(X,y,test_size=0.3, random_state=123)\n",
        "\n",
        "import statsmodels.api as sm\n",
        "\n",
        "X1 = sm.add_constant(X_train)\n",
        "model = sm.OLS(y_train, X1)\n",
        "result = model.fit()\n",
        "print(result.summary())\n",
        "\n",
        "X1 = sm.add_constant(X_test)\n",
        "pred = result.predict(X1)\n",
        "\n",
        "from sklearn import metrics\n",
        "\n",
        "print('MAE :', metrics.mean_absolute_error(y_test,pred))\n",
        "print('MSE :', metrics.mean_squared_error(y_test,pred))\n",
        "print('MAE :', np.sqrt(metrics.mean_absolute_error(y_test,pred)))\n",
        "print('MAE :', np.mean(np.abs((y_test-pred)/y_test))*100)"
      ],
      "metadata": {
        "id": "RGQt58vmpAUW"
      },
      "execution_count": null,
      "outputs": []
    },
    {
      "cell_type": "markdown",
      "source": [
        "**로지스틱 회귀분석**"
      ],
      "metadata": {
        "id": "x13JnBHWrYsI"
      }
    },
    {
      "cell_type": "code",
      "source": [
        "bike_weather['over_500']=1\n",
        "bike_weather.loc[bike_weather.Count<500,'over_500']=0"
      ],
      "metadata": {
        "id": "skahcYrpphvT"
      },
      "execution_count": null,
      "outputs": []
    },
    {
      "cell_type": "code",
      "source": [
        "from sklearn.model_selection import train_test_split\n",
        "\n",
        "X=bike_weather[['cum_precipitation','humidity','temp','wind']]\n",
        "y=bike_weather.over_500\n",
        "X_train, X_test, y_train, y_test = train_test_split(X,y,test_size=0.3, random_state=123)\n",
        "\n",
        "import statsmodels.api as sm\n",
        "\n",
        "X1 = sm.add_constant(X_train)\n",
        "logit_model = sm.Logit(y_train, X1)\n",
        "result = logit_model.fit()\n",
        "print(result.summary())\n",
        "\n",
        "from sklearn.linear_model import LogisticRegression\n",
        "\n",
        "log_reg=LogisticRegression()\n",
        "log_reg.fit(X_train, y_train)\n",
        "print('Train set 정확도 : %.2f'%log_reg.score(X_train, y_train))\n",
        "print('Test set 정확도 : %.2f'%log_reg.score(X_test, y_test))\n",
        "\n",
        "from sklearn.metrics import classification_report\n",
        "\n",
        "y_pred = log_reg.predict(X_test)\n",
        "print(classification_report(y_test, y_pred))"
      ],
      "metadata": {
        "id": "eGJAUeoErlfU"
      },
      "execution_count": null,
      "outputs": []
    },
    {
      "cell_type": "markdown",
      "source": [
        "**의사결정나무**"
      ],
      "metadata": {
        "id": "14obfQaXs-ZQ"
      }
    },
    {
      "cell_type": "code",
      "source": [
        "from sklearn import tree\n",
        "\n",
        "X=X_train\n",
        "y=y_train\n",
        "dTree=tree.DecisionTreeClassifier()\n",
        "dTreeModel=dTree.fit(X,y)\n",
        "dTreeModel"
      ],
      "metadata": {
        "id": "_L81M3igsqsX"
      },
      "execution_count": null,
      "outputs": []
    },
    {
      "cell_type": "code",
      "source": [
        "from sklearn.tree import export_graphviz\n",
        "import pydotplus\n",
        "from IPython.display import Image\n",
        "\n",
        "dot_data = export_graphviz(dTreeModel, out_file=None, feature_names=['cum_precipitation','humidity','temp','wind'], class_names=('Y','N'), filled=True, rounded=True, special_characters=True)\n",
        "graph=pydotplus.graph_from_dot_data(dot_data)\n",
        "Image(graph.create_png())"
      ],
      "metadata": {
        "id": "abd6ZtK0tfHV"
      },
      "execution_count": null,
      "outputs": []
    },
    {
      "cell_type": "code",
      "source": [
        "dTreeModel.predict(X_test)"
      ],
      "metadata": {
        "id": "_eukeenNuq8z"
      },
      "execution_count": null,
      "outputs": []
    },
    {
      "cell_type": "code",
      "source": [
        "from sklearn.metrics import accuracy_score\n",
        "y_pred=dTreeModel.predict(X_test)\n",
        "print('Accuracy : %.2f'%accuracy_score(y_test,y_pred))"
      ],
      "metadata": {
        "id": "pGHP3xcduvsX"
      },
      "execution_count": null,
      "outputs": []
    },
    {
      "cell_type": "code",
      "source": [
        "y_pred=dTreeModel.predict(X_test)\n",
        "print(classification_report(y_test,y_pred))"
      ],
      "metadata": {
        "id": "Q602wzHXu0HX"
      },
      "execution_count": null,
      "outputs": []
    },
    {
      "cell_type": "markdown",
      "source": [
        "**머신러닝: 군집분석**"
      ],
      "metadata": {
        "id": "l3IUsDqFvRBl"
      }
    },
    {
      "cell_type": "code",
      "source": [
        "weather=pd.read_csv('weather.csv')"
      ],
      "metadata": {
        "id": "wAaS9FL1zWuZ"
      },
      "execution_count": null,
      "outputs": []
    },
    {
      "cell_type": "code",
      "source": [
        "from sklearn.preprocessing import MinMaxScaler\n",
        "import pandas as pd\n",
        "import numpy as np\n",
        "\n",
        "X=np.array(weather.humidity).reshape(-1,1)\n",
        "scaler=MinMaxScaler()\n",
        "X_scaled=scaler.fit_transform(X)\n",
        "X_scaled"
      ],
      "metadata": {
        "id": "fEkxNCVkvJNq"
      },
      "execution_count": null,
      "outputs": []
    },
    {
      "cell_type": "code",
      "source": [
        "n_bike = pd.pivot_table(bike_data2, index=['Gu','Date_out','Time_out'], values='Distance',aggfunc=len)\n",
        "n_bike = n_bike.reset_index()\n",
        "n_bike.rename(columns={'Distance':'Count'}, inplace=True)\n",
        "n_bike"
      ],
      "metadata": {
        "id": "Y9gi5g4_wnnh"
      },
      "execution_count": null,
      "outputs": []
    },
    {
      "cell_type": "code",
      "source": [
        "n_bike2 = pd.pivot_table(n_bike, index='Gu', columns='Time_out', values='Count',aggfunc=np.mean)\n",
        "n_bike2 = n_bike2.reset_index()\n",
        "n_bike2"
      ],
      "metadata": {
        "id": "olWlgyL5xL2j"
      },
      "execution_count": null,
      "outputs": []
    },
    {
      "cell_type": "code",
      "source": [
        "from sklearn import cluster\n",
        "X=n_bike2.iloc[0:5, 1:25]\n",
        "y=n_bike2.Gu\n",
        "km2=cluster.KMeans(n_clusters = 2).fit(X)\n",
        "km3=cluster.KMeans(n_clusters = 3).fit(X)\n",
        "km4=cluster.KMeans(n_clusters = 4).fit(X)\n",
        "\n",
        "n_bike2['2_Cluster']=km2.labels_\n",
        "n_bike2['3_Cluster']=km3.labels_\n",
        "n_bike2['4_Cluster']=km4.labels_\n",
        "n_bike2[['Gu','2_Cluster','3_Cluster','4_Cluster']]"
      ],
      "metadata": {
        "id": "DEWwjmjExfN5"
      },
      "execution_count": null,
      "outputs": []
    },
    {
      "cell_type": "markdown",
      "source": [
        "# 딥러닝을 활용한 부동산 가격 이상치 분석"
      ],
      "metadata": {
        "id": "elv5beFGF_-s"
      }
    },
    {
      "cell_type": "markdown",
      "source": [
        "데이터 업로드\n"
      ],
      "metadata": {
        "id": "50aHJ7cxWVN6"
      }
    },
    {
      "cell_type": "code",
      "source": [
        "#데이터 업로드\n",
        "import os\n",
        "os.getcwd()\n",
        "import pandas as pd\n",
        "import numpy as np\n",
        "data = pd.read_csv('DATASET_1.CSV')"
      ],
      "metadata": {
        "id": "xZ_4DCnAkf5P"
      },
      "execution_count": null,
      "outputs": []
    },
    {
      "cell_type": "markdown",
      "source": [
        "데이터 탐색"
      ],
      "metadata": {
        "id": "mEsqDX-kWZvj"
      }
    },
    {
      "cell_type": "code",
      "source": [
        "#데이터 탐색\n",
        "data"
      ],
      "metadata": {
        "id": "OWkaa5DVGkIN",
        "colab": {
          "base_uri": "https://localhost:8080/",
          "height": 1000
        },
        "outputId": "de3c15eb-0537-4276-e57a-0cadd9224916"
      },
      "execution_count": null,
      "outputs": [
        {
          "output_type": "execute_result",
          "data": {
            "text/plain": [
              "      지역별    시점     건축착공면적[㎡]  건축허가면적증감률[%]  고용률(시도)[%]   실업률(시도)  \\\n",
              "0   서울특별시  2015  9.990358e+05     34.233333   59.975000  4.191667   \n",
              "1   서울특별시  2016  7.569943e+05     -6.433333   59.966667  4.200000   \n",
              "2   서울특별시  2017  9.388596e+05     76.783333   60.216667  4.525000   \n",
              "3   서울특별시  2018  8.309937e+05    -31.483333   59.625000  4.758333   \n",
              "4   서울특별시  2019  8.475622e+05     22.400000   60.008333  4.383333   \n",
              "5   서울특별시  2020  1.023473e+06     18.300000   59.316667  4.558333   \n",
              "6     경기도  2015  4.370644e+06     72.750000   61.675000  3.933333   \n",
              "7     경기도  2016  4.290225e+06     -1.408333   61.650000  3.908333   \n",
              "8     경기도  2017  3.626390e+06    -10.616667   62.133333  3.866667   \n",
              "9     경기도  2018  3.320257e+06      0.641667   61.966667  3.808333   \n",
              "10    경기도  2019  2.921253e+06    -12.283333   61.875000  3.800000   \n",
              "11    경기도  2020  3.637314e+06     26.108333   60.300000  3.950000   \n",
              "12    강원도  2015  3.732079e+05     63.283333   57.858333  3.258333   \n",
              "13    강원도  2016  5.238752e+05     40.608333   58.200000  2.858333   \n",
              "14    강원도  2017  4.359049e+05     14.083333   61.000000  2.641667   \n",
              "15    강원도  2018  4.272390e+05     25.483333   60.683333  2.933333   \n",
              "16    강원도  2019  3.361618e+05    -22.966667   62.250000  3.641667   \n",
              "17    강원도  2020  3.363109e+05     -2.433333   60.775000  3.966667   \n",
              "18   충청북도  2015  5.942882e+05     56.183333   62.375000  2.616667   \n",
              "19   충청북도  2016  5.008348e+05     16.225000   61.975000  2.616667   \n",
              "20   충청북도  2017  5.063485e+05      4.508333   62.575000  2.241667   \n",
              "21   충청북도  2018  5.042866e+05     29.550000   63.283333  2.450000   \n",
              "22   충청북도  2019  4.081815e+05    -26.025000   62.875000  3.050000   \n",
              "23   충청북도  2020  4.673488e+05     10.416667   63.183333  3.191667   \n",
              "24   충청남도  2015  8.638992e+05     31.883333   62.250000  3.441667   \n",
              "25   충청남도  2016  6.471958e+05     -4.583333   61.700000  3.183333   \n",
              "26   충청남도  2017  6.561369e+05      1.650000   62.283333  2.858333   \n",
              "27   충청남도  2018  6.697135e+05     24.941667   63.541667  3.083333   \n",
              "28   충청남도  2019  5.829403e+05    -15.108333   63.650000  2.866667   \n",
              "29   충청남도  2020  6.767966e+05      0.208333   62.408333  3.466667   \n",
              "30   전라북도  2015  3.712731e+05     45.175000   59.158333  1.700000   \n",
              "31   전라북도  2016  4.003409e+05     30.775000   59.941667  2.066667   \n",
              "32   전라북도  2017  4.553888e+05     -5.358333   58.608333  2.508333   \n",
              "33   전라북도  2018  4.102458e+05     15.308333   58.300000  2.716667   \n",
              "34   전라북도  2019  4.175473e+05      1.450000   59.341667  2.700000   \n",
              "35   전라북도  2020  4.092442e+05      0.125000   59.933333  2.483333   \n",
              "36   전라남도  2015  4.382910e+05     12.533333   62.816667  2.550000   \n",
              "37   전라남도  2016  4.558101e+05     29.708333   62.666667  3.008333   \n",
              "38   전라남도  2017  5.391183e+05      7.100000   62.100000  3.183333   \n",
              "39   전라남도  2018  5.117058e+05     16.025000   62.425000  2.775000   \n",
              "40   전라남도  2019  5.869337e+05     19.308333   63.416667  2.550000   \n",
              "41   전라남도  2020  6.180840e+05     -4.583333   63.866667  2.366667   \n",
              "42   경상북도  2015  8.890608e+05     30.583333   62.358333  3.041667   \n",
              "43   경상북도  2016  7.793237e+05    -12.000000   62.400000  3.166667   \n",
              "44   경상북도  2017  5.833502e+05    -13.916667   62.458333  2.766667   \n",
              "45   경상북도  2018  7.301129e+05     27.983333   61.591667  4.125000   \n",
              "46   경상북도  2019  5.341937e+05    -21.800000   61.675000  3.916667   \n",
              "47   경상북도  2020  6.214121e+05     -8.516667   61.133333  4.041667   \n",
              "48   경상남도  2015  8.552295e+05      4.741667   60.575000  2.641667   \n",
              "49   경상남도  2016  1.115110e+06     36.108333   60.591667  3.350000   \n",
              "50   경상남도  2017  6.576056e+05    -25.291667   60.883333  2.933333   \n",
              "51   경상남도  2018  4.908927e+05    -18.966667   61.383333  3.025000   \n",
              "52   경상남도  2019  4.166644e+05      6.591667   61.275000  3.766667   \n",
              "53   경상남도  2020  4.896362e+05     -1.025000   60.583333  4.008333   \n",
              "\n",
              "    소비자물가지수[2015=100]   아파트매매가격지수  아파트전세가격지수[2017.11 = 100.0]     주민등록인구[명]  \\\n",
              "0           99.999167   90.327285                   90.627635  1.007213e+07   \n",
              "1          101.179167   94.417340                   96.636442  9.981397e+06   \n",
              "2          103.200000   98.287321                   99.020183  9.904795e+06   \n",
              "3          104.581667  106.075241                  100.132139  9.810326e+06   \n",
              "4          105.198333  107.857566                   98.473586  9.752326e+06   \n",
              "5          105.852500  111.775293                  101.871732  9.711380e+06   \n",
              "6          100.000833   94.717789                   92.272267  1.244098e+07   \n",
              "7          100.940833   97.632423                   97.651872  1.262367e+07   \n",
              "8          102.968333   99.096961                   99.484540  1.279610e+07   \n",
              "9          104.498333  100.799990                   97.317569  1.298467e+07   \n",
              "10         104.922500  100.344617                   93.802619  1.316750e+07   \n",
              "11         105.560000  107.797299                   98.358040  1.334418e+07   \n",
              "12         100.000000   94.081121                   93.712401  1.546441e+06   \n",
              "13         100.785833   96.586087                   96.324618  1.548971e+06   \n",
              "14         102.801667   99.013094                   98.851318  1.548180e+06   \n",
              "15         104.438333   98.036467                   98.008606  1.544819e+06   \n",
              "16         105.315000   91.626780                   92.115447  1.540922e+06   \n",
              "17         105.967500   89.204083                   90.595167  1.540273e+06   \n",
              "18          99.999167  102.913861                   94.523241  1.581035e+06   \n",
              "19         100.566667  102.591642                   97.404140  1.587192e+06   \n",
              "20         102.575833  100.894610                   99.321451  1.592853e+06   \n",
              "21         104.257500   96.775039                   98.277412  1.596150e+06   \n",
              "22         104.640833   90.140151                   91.795661  1.599421e+06   \n",
              "23         105.180833   90.017912                   91.935346  1.598400e+06   \n",
              "24          99.999167  105.811339                  102.868107  2.069171e+06   \n",
              "25         100.686667  103.982314                  103.152494  2.086576e+06   \n",
              "26         102.638333  101.009602                  100.912599  2.108164e+06   \n",
              "27         104.105000   97.191945                   97.162911  2.122137e+06   \n",
              "28         104.007500   93.105587                   94.164703  2.125203e+06   \n",
              "29         104.695000   93.705527                   96.547186  2.120308e+06   \n",
              "30          99.999167   98.432431                   96.308044  1.869795e+06   \n",
              "31         100.538333   98.563329                   97.468212  1.865765e+06   \n",
              "32         102.401667   99.320066                   99.069543  1.857810e+06   \n",
              "33         104.151667   98.985654                   99.368427  1.843866e+06   \n",
              "34         104.475833   95.945041                   97.107699  1.826241e+06   \n",
              "35         105.035833   94.673389                   95.856158  1.809391e+06   \n",
              "36          99.999167   95.668991                   95.827335  1.903999e+06   \n",
              "37         100.940833   97.217369                   97.247105  1.904031e+06   \n",
              "38         103.079167   98.986156                   99.055767  1.897816e+06   \n",
              "39         104.625000  101.062052                  100.934074  1.886869e+06   \n",
              "40         104.973333  101.992318                  101.890763  1.870477e+06   \n",
              "41         105.713333  102.436557                  102.934179  1.855231e+06   \n",
              "42          99.999167  107.450245                  103.702223  2.699296e+06   \n",
              "43         100.685000  106.295373                  103.736001  2.701337e+06   \n",
              "44         102.550833  101.728304                  101.167271  2.693050e+06   \n",
              "45         104.078333   96.689845                   97.045357  2.680889e+06   \n",
              "46         104.257500   90.391717                   92.010851  2.668963e+06   \n",
              "47         104.388333   87.921273                   90.652576  2.647046e+06   \n",
              "48         100.000833  103.954397                  102.329314  3.357028e+06   \n",
              "49         100.926667  104.398335                  103.698261  3.368510e+06   \n",
              "50         102.545833  101.999781                  102.439652  3.374759e+06   \n",
              "51         103.960833   95.216515                   96.030725  3.376880e+06   \n",
              "52         104.045833   87.848255                   89.308667  3.366940e+06   \n",
              "53         104.690000   86.972006                   88.489610  3.349198e+06   \n",
              "\n",
              "    ...    녹지  유원지  공공공지  교통문화지수  종합의료시설  인구십만명당 문화기반시설수(A÷B×100,000) (개)  \\\n",
              "0   ...  1028    3   820   83.12      21                              3.6   \n",
              "1   ...  1039    3   838   86.19      21                              3.7   \n",
              "2   ...  1040    3   854   84.80      21                              3.9   \n",
              "3   ...  1023    3   848   75.09      21                              4.1   \n",
              "4   ...  1017    3   847   76.50      21                              4.2   \n",
              "5   ...   992    2   844   78.28      20                              4.4   \n",
              "6   ...  6050   21  1672   81.27      48                              3.9   \n",
              "7   ...  6093   19  1770   84.40      48                              4.0   \n",
              "8   ...  6380   19  1879   83.81      50                              4.1   \n",
              "9   ...  6836   19  2027   76.43      47                              4.1   \n",
              "10  ...  7010   19  2065   78.78      48                              4.3   \n",
              "11  ...  7034   18  2089   80.38      47                              4.2   \n",
              "12  ...   759   32   113   78.87      11                             13.3   \n",
              "13  ...   694   32   117   81.99      10                             13.6   \n",
              "14  ...   678   31   117   81.12      10                             14.1   \n",
              "15  ...   676   31   129   74.21      10                             13.9   \n",
              "16  ...   683   31   132   77.31      10                             15.1   \n",
              "17  ...   668   30   127   78.40      10                             15.2   \n",
              "18  ...  1150    9    96   80.10      10                              8.0   \n",
              "19  ...  1193    8    95   83.78      10                              7.9   \n",
              "20  ...  1201    8    95   80.03      10                              8.0   \n",
              "21  ...  1268    7    95   75.21      10                              8.1   \n",
              "22  ...  1325    7    95   78.02      10                              8.5   \n",
              "23  ...  1347    7    97   78.13       9                              8.6   \n",
              "24  ...  1492   13   234   75.77       9                              7.4   \n",
              "25  ...  1617   13   236   81.17       9                              7.5   \n",
              "26  ...  1635   12   252   80.80       9                              7.6   \n",
              "27  ...  1657   12   262   74.35       9                              7.8   \n",
              "28  ...  1704   12   266   75.54       9                              8.3   \n",
              "29  ...  1667   10   266   76.68      10                              8.3   \n",
              "30  ...   673   15    81   77.11       6                              8.0   \n",
              "31  ...   675   14    83   79.80       6                              8.4   \n",
              "32  ...   705   15    85   80.68       6                              8.7   \n",
              "33  ...   699   15    96   75.33       6                              8.6   \n",
              "34  ...   713   15    97   76.84       6                              9.6   \n",
              "35  ...   734   14   106   75.48       6                             10.0   \n",
              "36  ...  1359   35   146   75.44      13                              9.5   \n",
              "37  ...  1336   36   212   82.77      14                             10.0   \n",
              "38  ...  1333   36   210   82.56      15                             10.5   \n",
              "39  ...  1547   36   283   73.96      15                             10.9   \n",
              "40  ...  1544   38   282   79.19      15                             11.9   \n",
              "41  ...  1666   39   358   77.66      15                             12.3   \n",
              "42  ...  1975   30   182   76.28       7                              7.3   \n",
              "43  ...  2123   31   208   79.11       7                              7.2   \n",
              "44  ...  2180   30   213   77.23       8                              7.4   \n",
              "45  ...  2252   30   225   73.37      10                              7.5   \n",
              "46  ...  2283   30   228   74.69      10                              7.9   \n",
              "47  ...  1957   27   243   78.33       8                              8.3   \n",
              "48  ...  1608   31   248   79.84      13                              5.6   \n",
              "49  ...  1598   32   243   82.75      14                              5.7   \n",
              "50  ...  1651   32   260   80.45      15                              5.8   \n",
              "51  ...  1703   36   266   74.02      15                              6.1   \n",
              "52  ...  1845   38   280   77.95      15                              6.6   \n",
              "53  ...  1827   36   285   77.61      15                              6.8   \n",
              "\n",
              "    중대형 상가  소규모 상가  집합 상가  Class.1  \n",
              "0      159     276   4933        1  \n",
              "1      159     276   4933        1  \n",
              "2      218     517   4740        1  \n",
              "3      265     555   4740        1  \n",
              "4      378     626   4740        1  \n",
              "5      497     719   4740        1  \n",
              "6      159     142   3677        2  \n",
              "7      159     142   3677        2  \n",
              "8      218     180   4243        2  \n",
              "9      265     221   4243        2  \n",
              "10     378     292   4243        2  \n",
              "11     497     399   4243        2  \n",
              "12     102      79    731        0  \n",
              "13     102      79    731        0  \n",
              "14     112     135    663        0  \n",
              "15     118     142    663        0  \n",
              "16     142     180    663        0  \n",
              "17     196     206    663        0  \n",
              "18      72      94    999        0  \n",
              "19      72      94    999        0  \n",
              "20      91     107    967        0  \n",
              "21      95     144    967        0  \n",
              "22     106     125    967        0  \n",
              "23     132     154    967        0  \n",
              "24      70     154   1057        0  \n",
              "25      70     154   1057        0  \n",
              "26      99     158    930        0  \n",
              "27     119     179    930        0  \n",
              "28     147     227     93        0  \n",
              "29     185     260     93        0  \n",
              "30     121     146    900        0  \n",
              "31     121     146    900        0  \n",
              "32     119     165    832        0  \n",
              "33     132     196    832        0  \n",
              "34     171     233    832        0  \n",
              "35     177     251    832        0  \n",
              "36     103     129    619        0  \n",
              "37     103     129    619        0  \n",
              "38     118     142    616        0  \n",
              "39     129     169    616        0  \n",
              "40     149     223    616        0  \n",
              "41     195     312    616        0  \n",
              "42     131     101   1114        0  \n",
              "43     131     101   1114        0  \n",
              "44     115     121   1127        0  \n",
              "45     156     185   1127        0  \n",
              "46     200     262   1127        0  \n",
              "47     270     344   1127        0  \n",
              "48     109     110   1304        0  \n",
              "49     109     110   1304        0  \n",
              "50     135     149   1401        0  \n",
              "51     151     174   1401        0  \n",
              "52     212     232   1401        0  \n",
              "53     276     305   1401        0  \n",
              "\n",
              "[54 rows x 46 columns]"
            ],
            "text/html": [
              "\n",
              "  <div id=\"df-c1b4626e-f924-4fbd-814f-ad1c0229e915\">\n",
              "    <div class=\"colab-df-container\">\n",
              "      <div>\n",
              "<style scoped>\n",
              "    .dataframe tbody tr th:only-of-type {\n",
              "        vertical-align: middle;\n",
              "    }\n",
              "\n",
              "    .dataframe tbody tr th {\n",
              "        vertical-align: top;\n",
              "    }\n",
              "\n",
              "    .dataframe thead th {\n",
              "        text-align: right;\n",
              "    }\n",
              "</style>\n",
              "<table border=\"1\" class=\"dataframe\">\n",
              "  <thead>\n",
              "    <tr style=\"text-align: right;\">\n",
              "      <th></th>\n",
              "      <th>지역별</th>\n",
              "      <th>시점</th>\n",
              "      <th>건축착공면적[㎡]</th>\n",
              "      <th>건축허가면적증감률[%]</th>\n",
              "      <th>고용률(시도)[%]</th>\n",
              "      <th>실업률(시도)</th>\n",
              "      <th>소비자물가지수[2015=100]</th>\n",
              "      <th>아파트매매가격지수</th>\n",
              "      <th>아파트전세가격지수[2017.11 = 100.0]</th>\n",
              "      <th>주민등록인구[명]</th>\n",
              "      <th>...</th>\n",
              "      <th>녹지</th>\n",
              "      <th>유원지</th>\n",
              "      <th>공공공지</th>\n",
              "      <th>교통문화지수</th>\n",
              "      <th>종합의료시설</th>\n",
              "      <th>인구십만명당 문화기반시설수(A÷B×100,000) (개)</th>\n",
              "      <th>중대형 상가</th>\n",
              "      <th>소규모 상가</th>\n",
              "      <th>집합 상가</th>\n",
              "      <th>Class.1</th>\n",
              "    </tr>\n",
              "  </thead>\n",
              "  <tbody>\n",
              "    <tr>\n",
              "      <th>0</th>\n",
              "      <td>서울특별시</td>\n",
              "      <td>2015</td>\n",
              "      <td>9.990358e+05</td>\n",
              "      <td>34.233333</td>\n",
              "      <td>59.975000</td>\n",
              "      <td>4.191667</td>\n",
              "      <td>99.999167</td>\n",
              "      <td>90.327285</td>\n",
              "      <td>90.627635</td>\n",
              "      <td>1.007213e+07</td>\n",
              "      <td>...</td>\n",
              "      <td>1028</td>\n",
              "      <td>3</td>\n",
              "      <td>820</td>\n",
              "      <td>83.12</td>\n",
              "      <td>21</td>\n",
              "      <td>3.6</td>\n",
              "      <td>159</td>\n",
              "      <td>276</td>\n",
              "      <td>4933</td>\n",
              "      <td>1</td>\n",
              "    </tr>\n",
              "    <tr>\n",
              "      <th>1</th>\n",
              "      <td>서울특별시</td>\n",
              "      <td>2016</td>\n",
              "      <td>7.569943e+05</td>\n",
              "      <td>-6.433333</td>\n",
              "      <td>59.966667</td>\n",
              "      <td>4.200000</td>\n",
              "      <td>101.179167</td>\n",
              "      <td>94.417340</td>\n",
              "      <td>96.636442</td>\n",
              "      <td>9.981397e+06</td>\n",
              "      <td>...</td>\n",
              "      <td>1039</td>\n",
              "      <td>3</td>\n",
              "      <td>838</td>\n",
              "      <td>86.19</td>\n",
              "      <td>21</td>\n",
              "      <td>3.7</td>\n",
              "      <td>159</td>\n",
              "      <td>276</td>\n",
              "      <td>4933</td>\n",
              "      <td>1</td>\n",
              "    </tr>\n",
              "    <tr>\n",
              "      <th>2</th>\n",
              "      <td>서울특별시</td>\n",
              "      <td>2017</td>\n",
              "      <td>9.388596e+05</td>\n",
              "      <td>76.783333</td>\n",
              "      <td>60.216667</td>\n",
              "      <td>4.525000</td>\n",
              "      <td>103.200000</td>\n",
              "      <td>98.287321</td>\n",
              "      <td>99.020183</td>\n",
              "      <td>9.904795e+06</td>\n",
              "      <td>...</td>\n",
              "      <td>1040</td>\n",
              "      <td>3</td>\n",
              "      <td>854</td>\n",
              "      <td>84.80</td>\n",
              "      <td>21</td>\n",
              "      <td>3.9</td>\n",
              "      <td>218</td>\n",
              "      <td>517</td>\n",
              "      <td>4740</td>\n",
              "      <td>1</td>\n",
              "    </tr>\n",
              "    <tr>\n",
              "      <th>3</th>\n",
              "      <td>서울특별시</td>\n",
              "      <td>2018</td>\n",
              "      <td>8.309937e+05</td>\n",
              "      <td>-31.483333</td>\n",
              "      <td>59.625000</td>\n",
              "      <td>4.758333</td>\n",
              "      <td>104.581667</td>\n",
              "      <td>106.075241</td>\n",
              "      <td>100.132139</td>\n",
              "      <td>9.810326e+06</td>\n",
              "      <td>...</td>\n",
              "      <td>1023</td>\n",
              "      <td>3</td>\n",
              "      <td>848</td>\n",
              "      <td>75.09</td>\n",
              "      <td>21</td>\n",
              "      <td>4.1</td>\n",
              "      <td>265</td>\n",
              "      <td>555</td>\n",
              "      <td>4740</td>\n",
              "      <td>1</td>\n",
              "    </tr>\n",
              "    <tr>\n",
              "      <th>4</th>\n",
              "      <td>서울특별시</td>\n",
              "      <td>2019</td>\n",
              "      <td>8.475622e+05</td>\n",
              "      <td>22.400000</td>\n",
              "      <td>60.008333</td>\n",
              "      <td>4.383333</td>\n",
              "      <td>105.198333</td>\n",
              "      <td>107.857566</td>\n",
              "      <td>98.473586</td>\n",
              "      <td>9.752326e+06</td>\n",
              "      <td>...</td>\n",
              "      <td>1017</td>\n",
              "      <td>3</td>\n",
              "      <td>847</td>\n",
              "      <td>76.50</td>\n",
              "      <td>21</td>\n",
              "      <td>4.2</td>\n",
              "      <td>378</td>\n",
              "      <td>626</td>\n",
              "      <td>4740</td>\n",
              "      <td>1</td>\n",
              "    </tr>\n",
              "    <tr>\n",
              "      <th>5</th>\n",
              "      <td>서울특별시</td>\n",
              "      <td>2020</td>\n",
              "      <td>1.023473e+06</td>\n",
              "      <td>18.300000</td>\n",
              "      <td>59.316667</td>\n",
              "      <td>4.558333</td>\n",
              "      <td>105.852500</td>\n",
              "      <td>111.775293</td>\n",
              "      <td>101.871732</td>\n",
              "      <td>9.711380e+06</td>\n",
              "      <td>...</td>\n",
              "      <td>992</td>\n",
              "      <td>2</td>\n",
              "      <td>844</td>\n",
              "      <td>78.28</td>\n",
              "      <td>20</td>\n",
              "      <td>4.4</td>\n",
              "      <td>497</td>\n",
              "      <td>719</td>\n",
              "      <td>4740</td>\n",
              "      <td>1</td>\n",
              "    </tr>\n",
              "    <tr>\n",
              "      <th>6</th>\n",
              "      <td>경기도</td>\n",
              "      <td>2015</td>\n",
              "      <td>4.370644e+06</td>\n",
              "      <td>72.750000</td>\n",
              "      <td>61.675000</td>\n",
              "      <td>3.933333</td>\n",
              "      <td>100.000833</td>\n",
              "      <td>94.717789</td>\n",
              "      <td>92.272267</td>\n",
              "      <td>1.244098e+07</td>\n",
              "      <td>...</td>\n",
              "      <td>6050</td>\n",
              "      <td>21</td>\n",
              "      <td>1672</td>\n",
              "      <td>81.27</td>\n",
              "      <td>48</td>\n",
              "      <td>3.9</td>\n",
              "      <td>159</td>\n",
              "      <td>142</td>\n",
              "      <td>3677</td>\n",
              "      <td>2</td>\n",
              "    </tr>\n",
              "    <tr>\n",
              "      <th>7</th>\n",
              "      <td>경기도</td>\n",
              "      <td>2016</td>\n",
              "      <td>4.290225e+06</td>\n",
              "      <td>-1.408333</td>\n",
              "      <td>61.650000</td>\n",
              "      <td>3.908333</td>\n",
              "      <td>100.940833</td>\n",
              "      <td>97.632423</td>\n",
              "      <td>97.651872</td>\n",
              "      <td>1.262367e+07</td>\n",
              "      <td>...</td>\n",
              "      <td>6093</td>\n",
              "      <td>19</td>\n",
              "      <td>1770</td>\n",
              "      <td>84.40</td>\n",
              "      <td>48</td>\n",
              "      <td>4.0</td>\n",
              "      <td>159</td>\n",
              "      <td>142</td>\n",
              "      <td>3677</td>\n",
              "      <td>2</td>\n",
              "    </tr>\n",
              "    <tr>\n",
              "      <th>8</th>\n",
              "      <td>경기도</td>\n",
              "      <td>2017</td>\n",
              "      <td>3.626390e+06</td>\n",
              "      <td>-10.616667</td>\n",
              "      <td>62.133333</td>\n",
              "      <td>3.866667</td>\n",
              "      <td>102.968333</td>\n",
              "      <td>99.096961</td>\n",
              "      <td>99.484540</td>\n",
              "      <td>1.279610e+07</td>\n",
              "      <td>...</td>\n",
              "      <td>6380</td>\n",
              "      <td>19</td>\n",
              "      <td>1879</td>\n",
              "      <td>83.81</td>\n",
              "      <td>50</td>\n",
              "      <td>4.1</td>\n",
              "      <td>218</td>\n",
              "      <td>180</td>\n",
              "      <td>4243</td>\n",
              "      <td>2</td>\n",
              "    </tr>\n",
              "    <tr>\n",
              "      <th>9</th>\n",
              "      <td>경기도</td>\n",
              "      <td>2018</td>\n",
              "      <td>3.320257e+06</td>\n",
              "      <td>0.641667</td>\n",
              "      <td>61.966667</td>\n",
              "      <td>3.808333</td>\n",
              "      <td>104.498333</td>\n",
              "      <td>100.799990</td>\n",
              "      <td>97.317569</td>\n",
              "      <td>1.298467e+07</td>\n",
              "      <td>...</td>\n",
              "      <td>6836</td>\n",
              "      <td>19</td>\n",
              "      <td>2027</td>\n",
              "      <td>76.43</td>\n",
              "      <td>47</td>\n",
              "      <td>4.1</td>\n",
              "      <td>265</td>\n",
              "      <td>221</td>\n",
              "      <td>4243</td>\n",
              "      <td>2</td>\n",
              "    </tr>\n",
              "    <tr>\n",
              "      <th>10</th>\n",
              "      <td>경기도</td>\n",
              "      <td>2019</td>\n",
              "      <td>2.921253e+06</td>\n",
              "      <td>-12.283333</td>\n",
              "      <td>61.875000</td>\n",
              "      <td>3.800000</td>\n",
              "      <td>104.922500</td>\n",
              "      <td>100.344617</td>\n",
              "      <td>93.802619</td>\n",
              "      <td>1.316750e+07</td>\n",
              "      <td>...</td>\n",
              "      <td>7010</td>\n",
              "      <td>19</td>\n",
              "      <td>2065</td>\n",
              "      <td>78.78</td>\n",
              "      <td>48</td>\n",
              "      <td>4.3</td>\n",
              "      <td>378</td>\n",
              "      <td>292</td>\n",
              "      <td>4243</td>\n",
              "      <td>2</td>\n",
              "    </tr>\n",
              "    <tr>\n",
              "      <th>11</th>\n",
              "      <td>경기도</td>\n",
              "      <td>2020</td>\n",
              "      <td>3.637314e+06</td>\n",
              "      <td>26.108333</td>\n",
              "      <td>60.300000</td>\n",
              "      <td>3.950000</td>\n",
              "      <td>105.560000</td>\n",
              "      <td>107.797299</td>\n",
              "      <td>98.358040</td>\n",
              "      <td>1.334418e+07</td>\n",
              "      <td>...</td>\n",
              "      <td>7034</td>\n",
              "      <td>18</td>\n",
              "      <td>2089</td>\n",
              "      <td>80.38</td>\n",
              "      <td>47</td>\n",
              "      <td>4.2</td>\n",
              "      <td>497</td>\n",
              "      <td>399</td>\n",
              "      <td>4243</td>\n",
              "      <td>2</td>\n",
              "    </tr>\n",
              "    <tr>\n",
              "      <th>12</th>\n",
              "      <td>강원도</td>\n",
              "      <td>2015</td>\n",
              "      <td>3.732079e+05</td>\n",
              "      <td>63.283333</td>\n",
              "      <td>57.858333</td>\n",
              "      <td>3.258333</td>\n",
              "      <td>100.000000</td>\n",
              "      <td>94.081121</td>\n",
              "      <td>93.712401</td>\n",
              "      <td>1.546441e+06</td>\n",
              "      <td>...</td>\n",
              "      <td>759</td>\n",
              "      <td>32</td>\n",
              "      <td>113</td>\n",
              "      <td>78.87</td>\n",
              "      <td>11</td>\n",
              "      <td>13.3</td>\n",
              "      <td>102</td>\n",
              "      <td>79</td>\n",
              "      <td>731</td>\n",
              "      <td>0</td>\n",
              "    </tr>\n",
              "    <tr>\n",
              "      <th>13</th>\n",
              "      <td>강원도</td>\n",
              "      <td>2016</td>\n",
              "      <td>5.238752e+05</td>\n",
              "      <td>40.608333</td>\n",
              "      <td>58.200000</td>\n",
              "      <td>2.858333</td>\n",
              "      <td>100.785833</td>\n",
              "      <td>96.586087</td>\n",
              "      <td>96.324618</td>\n",
              "      <td>1.548971e+06</td>\n",
              "      <td>...</td>\n",
              "      <td>694</td>\n",
              "      <td>32</td>\n",
              "      <td>117</td>\n",
              "      <td>81.99</td>\n",
              "      <td>10</td>\n",
              "      <td>13.6</td>\n",
              "      <td>102</td>\n",
              "      <td>79</td>\n",
              "      <td>731</td>\n",
              "      <td>0</td>\n",
              "    </tr>\n",
              "    <tr>\n",
              "      <th>14</th>\n",
              "      <td>강원도</td>\n",
              "      <td>2017</td>\n",
              "      <td>4.359049e+05</td>\n",
              "      <td>14.083333</td>\n",
              "      <td>61.000000</td>\n",
              "      <td>2.641667</td>\n",
              "      <td>102.801667</td>\n",
              "      <td>99.013094</td>\n",
              "      <td>98.851318</td>\n",
              "      <td>1.548180e+06</td>\n",
              "      <td>...</td>\n",
              "      <td>678</td>\n",
              "      <td>31</td>\n",
              "      <td>117</td>\n",
              "      <td>81.12</td>\n",
              "      <td>10</td>\n",
              "      <td>14.1</td>\n",
              "      <td>112</td>\n",
              "      <td>135</td>\n",
              "      <td>663</td>\n",
              "      <td>0</td>\n",
              "    </tr>\n",
              "    <tr>\n",
              "      <th>15</th>\n",
              "      <td>강원도</td>\n",
              "      <td>2018</td>\n",
              "      <td>4.272390e+05</td>\n",
              "      <td>25.483333</td>\n",
              "      <td>60.683333</td>\n",
              "      <td>2.933333</td>\n",
              "      <td>104.438333</td>\n",
              "      <td>98.036467</td>\n",
              "      <td>98.008606</td>\n",
              "      <td>1.544819e+06</td>\n",
              "      <td>...</td>\n",
              "      <td>676</td>\n",
              "      <td>31</td>\n",
              "      <td>129</td>\n",
              "      <td>74.21</td>\n",
              "      <td>10</td>\n",
              "      <td>13.9</td>\n",
              "      <td>118</td>\n",
              "      <td>142</td>\n",
              "      <td>663</td>\n",
              "      <td>0</td>\n",
              "    </tr>\n",
              "    <tr>\n",
              "      <th>16</th>\n",
              "      <td>강원도</td>\n",
              "      <td>2019</td>\n",
              "      <td>3.361618e+05</td>\n",
              "      <td>-22.966667</td>\n",
              "      <td>62.250000</td>\n",
              "      <td>3.641667</td>\n",
              "      <td>105.315000</td>\n",
              "      <td>91.626780</td>\n",
              "      <td>92.115447</td>\n",
              "      <td>1.540922e+06</td>\n",
              "      <td>...</td>\n",
              "      <td>683</td>\n",
              "      <td>31</td>\n",
              "      <td>132</td>\n",
              "      <td>77.31</td>\n",
              "      <td>10</td>\n",
              "      <td>15.1</td>\n",
              "      <td>142</td>\n",
              "      <td>180</td>\n",
              "      <td>663</td>\n",
              "      <td>0</td>\n",
              "    </tr>\n",
              "    <tr>\n",
              "      <th>17</th>\n",
              "      <td>강원도</td>\n",
              "      <td>2020</td>\n",
              "      <td>3.363109e+05</td>\n",
              "      <td>-2.433333</td>\n",
              "      <td>60.775000</td>\n",
              "      <td>3.966667</td>\n",
              "      <td>105.967500</td>\n",
              "      <td>89.204083</td>\n",
              "      <td>90.595167</td>\n",
              "      <td>1.540273e+06</td>\n",
              "      <td>...</td>\n",
              "      <td>668</td>\n",
              "      <td>30</td>\n",
              "      <td>127</td>\n",
              "      <td>78.40</td>\n",
              "      <td>10</td>\n",
              "      <td>15.2</td>\n",
              "      <td>196</td>\n",
              "      <td>206</td>\n",
              "      <td>663</td>\n",
              "      <td>0</td>\n",
              "    </tr>\n",
              "    <tr>\n",
              "      <th>18</th>\n",
              "      <td>충청북도</td>\n",
              "      <td>2015</td>\n",
              "      <td>5.942882e+05</td>\n",
              "      <td>56.183333</td>\n",
              "      <td>62.375000</td>\n",
              "      <td>2.616667</td>\n",
              "      <td>99.999167</td>\n",
              "      <td>102.913861</td>\n",
              "      <td>94.523241</td>\n",
              "      <td>1.581035e+06</td>\n",
              "      <td>...</td>\n",
              "      <td>1150</td>\n",
              "      <td>9</td>\n",
              "      <td>96</td>\n",
              "      <td>80.10</td>\n",
              "      <td>10</td>\n",
              "      <td>8.0</td>\n",
              "      <td>72</td>\n",
              "      <td>94</td>\n",
              "      <td>999</td>\n",
              "      <td>0</td>\n",
              "    </tr>\n",
              "    <tr>\n",
              "      <th>19</th>\n",
              "      <td>충청북도</td>\n",
              "      <td>2016</td>\n",
              "      <td>5.008348e+05</td>\n",
              "      <td>16.225000</td>\n",
              "      <td>61.975000</td>\n",
              "      <td>2.616667</td>\n",
              "      <td>100.566667</td>\n",
              "      <td>102.591642</td>\n",
              "      <td>97.404140</td>\n",
              "      <td>1.587192e+06</td>\n",
              "      <td>...</td>\n",
              "      <td>1193</td>\n",
              "      <td>8</td>\n",
              "      <td>95</td>\n",
              "      <td>83.78</td>\n",
              "      <td>10</td>\n",
              "      <td>7.9</td>\n",
              "      <td>72</td>\n",
              "      <td>94</td>\n",
              "      <td>999</td>\n",
              "      <td>0</td>\n",
              "    </tr>\n",
              "    <tr>\n",
              "      <th>20</th>\n",
              "      <td>충청북도</td>\n",
              "      <td>2017</td>\n",
              "      <td>5.063485e+05</td>\n",
              "      <td>4.508333</td>\n",
              "      <td>62.575000</td>\n",
              "      <td>2.241667</td>\n",
              "      <td>102.575833</td>\n",
              "      <td>100.894610</td>\n",
              "      <td>99.321451</td>\n",
              "      <td>1.592853e+06</td>\n",
              "      <td>...</td>\n",
              "      <td>1201</td>\n",
              "      <td>8</td>\n",
              "      <td>95</td>\n",
              "      <td>80.03</td>\n",
              "      <td>10</td>\n",
              "      <td>8.0</td>\n",
              "      <td>91</td>\n",
              "      <td>107</td>\n",
              "      <td>967</td>\n",
              "      <td>0</td>\n",
              "    </tr>\n",
              "    <tr>\n",
              "      <th>21</th>\n",
              "      <td>충청북도</td>\n",
              "      <td>2018</td>\n",
              "      <td>5.042866e+05</td>\n",
              "      <td>29.550000</td>\n",
              "      <td>63.283333</td>\n",
              "      <td>2.450000</td>\n",
              "      <td>104.257500</td>\n",
              "      <td>96.775039</td>\n",
              "      <td>98.277412</td>\n",
              "      <td>1.596150e+06</td>\n",
              "      <td>...</td>\n",
              "      <td>1268</td>\n",
              "      <td>7</td>\n",
              "      <td>95</td>\n",
              "      <td>75.21</td>\n",
              "      <td>10</td>\n",
              "      <td>8.1</td>\n",
              "      <td>95</td>\n",
              "      <td>144</td>\n",
              "      <td>967</td>\n",
              "      <td>0</td>\n",
              "    </tr>\n",
              "    <tr>\n",
              "      <th>22</th>\n",
              "      <td>충청북도</td>\n",
              "      <td>2019</td>\n",
              "      <td>4.081815e+05</td>\n",
              "      <td>-26.025000</td>\n",
              "      <td>62.875000</td>\n",
              "      <td>3.050000</td>\n",
              "      <td>104.640833</td>\n",
              "      <td>90.140151</td>\n",
              "      <td>91.795661</td>\n",
              "      <td>1.599421e+06</td>\n",
              "      <td>...</td>\n",
              "      <td>1325</td>\n",
              "      <td>7</td>\n",
              "      <td>95</td>\n",
              "      <td>78.02</td>\n",
              "      <td>10</td>\n",
              "      <td>8.5</td>\n",
              "      <td>106</td>\n",
              "      <td>125</td>\n",
              "      <td>967</td>\n",
              "      <td>0</td>\n",
              "    </tr>\n",
              "    <tr>\n",
              "      <th>23</th>\n",
              "      <td>충청북도</td>\n",
              "      <td>2020</td>\n",
              "      <td>4.673488e+05</td>\n",
              "      <td>10.416667</td>\n",
              "      <td>63.183333</td>\n",
              "      <td>3.191667</td>\n",
              "      <td>105.180833</td>\n",
              "      <td>90.017912</td>\n",
              "      <td>91.935346</td>\n",
              "      <td>1.598400e+06</td>\n",
              "      <td>...</td>\n",
              "      <td>1347</td>\n",
              "      <td>7</td>\n",
              "      <td>97</td>\n",
              "      <td>78.13</td>\n",
              "      <td>9</td>\n",
              "      <td>8.6</td>\n",
              "      <td>132</td>\n",
              "      <td>154</td>\n",
              "      <td>967</td>\n",
              "      <td>0</td>\n",
              "    </tr>\n",
              "    <tr>\n",
              "      <th>24</th>\n",
              "      <td>충청남도</td>\n",
              "      <td>2015</td>\n",
              "      <td>8.638992e+05</td>\n",
              "      <td>31.883333</td>\n",
              "      <td>62.250000</td>\n",
              "      <td>3.441667</td>\n",
              "      <td>99.999167</td>\n",
              "      <td>105.811339</td>\n",
              "      <td>102.868107</td>\n",
              "      <td>2.069171e+06</td>\n",
              "      <td>...</td>\n",
              "      <td>1492</td>\n",
              "      <td>13</td>\n",
              "      <td>234</td>\n",
              "      <td>75.77</td>\n",
              "      <td>9</td>\n",
              "      <td>7.4</td>\n",
              "      <td>70</td>\n",
              "      <td>154</td>\n",
              "      <td>1057</td>\n",
              "      <td>0</td>\n",
              "    </tr>\n",
              "    <tr>\n",
              "      <th>25</th>\n",
              "      <td>충청남도</td>\n",
              "      <td>2016</td>\n",
              "      <td>6.471958e+05</td>\n",
              "      <td>-4.583333</td>\n",
              "      <td>61.700000</td>\n",
              "      <td>3.183333</td>\n",
              "      <td>100.686667</td>\n",
              "      <td>103.982314</td>\n",
              "      <td>103.152494</td>\n",
              "      <td>2.086576e+06</td>\n",
              "      <td>...</td>\n",
              "      <td>1617</td>\n",
              "      <td>13</td>\n",
              "      <td>236</td>\n",
              "      <td>81.17</td>\n",
              "      <td>9</td>\n",
              "      <td>7.5</td>\n",
              "      <td>70</td>\n",
              "      <td>154</td>\n",
              "      <td>1057</td>\n",
              "      <td>0</td>\n",
              "    </tr>\n",
              "    <tr>\n",
              "      <th>26</th>\n",
              "      <td>충청남도</td>\n",
              "      <td>2017</td>\n",
              "      <td>6.561369e+05</td>\n",
              "      <td>1.650000</td>\n",
              "      <td>62.283333</td>\n",
              "      <td>2.858333</td>\n",
              "      <td>102.638333</td>\n",
              "      <td>101.009602</td>\n",
              "      <td>100.912599</td>\n",
              "      <td>2.108164e+06</td>\n",
              "      <td>...</td>\n",
              "      <td>1635</td>\n",
              "      <td>12</td>\n",
              "      <td>252</td>\n",
              "      <td>80.80</td>\n",
              "      <td>9</td>\n",
              "      <td>7.6</td>\n",
              "      <td>99</td>\n",
              "      <td>158</td>\n",
              "      <td>930</td>\n",
              "      <td>0</td>\n",
              "    </tr>\n",
              "    <tr>\n",
              "      <th>27</th>\n",
              "      <td>충청남도</td>\n",
              "      <td>2018</td>\n",
              "      <td>6.697135e+05</td>\n",
              "      <td>24.941667</td>\n",
              "      <td>63.541667</td>\n",
              "      <td>3.083333</td>\n",
              "      <td>104.105000</td>\n",
              "      <td>97.191945</td>\n",
              "      <td>97.162911</td>\n",
              "      <td>2.122137e+06</td>\n",
              "      <td>...</td>\n",
              "      <td>1657</td>\n",
              "      <td>12</td>\n",
              "      <td>262</td>\n",
              "      <td>74.35</td>\n",
              "      <td>9</td>\n",
              "      <td>7.8</td>\n",
              "      <td>119</td>\n",
              "      <td>179</td>\n",
              "      <td>930</td>\n",
              "      <td>0</td>\n",
              "    </tr>\n",
              "    <tr>\n",
              "      <th>28</th>\n",
              "      <td>충청남도</td>\n",
              "      <td>2019</td>\n",
              "      <td>5.829403e+05</td>\n",
              "      <td>-15.108333</td>\n",
              "      <td>63.650000</td>\n",
              "      <td>2.866667</td>\n",
              "      <td>104.007500</td>\n",
              "      <td>93.105587</td>\n",
              "      <td>94.164703</td>\n",
              "      <td>2.125203e+06</td>\n",
              "      <td>...</td>\n",
              "      <td>1704</td>\n",
              "      <td>12</td>\n",
              "      <td>266</td>\n",
              "      <td>75.54</td>\n",
              "      <td>9</td>\n",
              "      <td>8.3</td>\n",
              "      <td>147</td>\n",
              "      <td>227</td>\n",
              "      <td>93</td>\n",
              "      <td>0</td>\n",
              "    </tr>\n",
              "    <tr>\n",
              "      <th>29</th>\n",
              "      <td>충청남도</td>\n",
              "      <td>2020</td>\n",
              "      <td>6.767966e+05</td>\n",
              "      <td>0.208333</td>\n",
              "      <td>62.408333</td>\n",
              "      <td>3.466667</td>\n",
              "      <td>104.695000</td>\n",
              "      <td>93.705527</td>\n",
              "      <td>96.547186</td>\n",
              "      <td>2.120308e+06</td>\n",
              "      <td>...</td>\n",
              "      <td>1667</td>\n",
              "      <td>10</td>\n",
              "      <td>266</td>\n",
              "      <td>76.68</td>\n",
              "      <td>10</td>\n",
              "      <td>8.3</td>\n",
              "      <td>185</td>\n",
              "      <td>260</td>\n",
              "      <td>93</td>\n",
              "      <td>0</td>\n",
              "    </tr>\n",
              "    <tr>\n",
              "      <th>30</th>\n",
              "      <td>전라북도</td>\n",
              "      <td>2015</td>\n",
              "      <td>3.712731e+05</td>\n",
              "      <td>45.175000</td>\n",
              "      <td>59.158333</td>\n",
              "      <td>1.700000</td>\n",
              "      <td>99.999167</td>\n",
              "      <td>98.432431</td>\n",
              "      <td>96.308044</td>\n",
              "      <td>1.869795e+06</td>\n",
              "      <td>...</td>\n",
              "      <td>673</td>\n",
              "      <td>15</td>\n",
              "      <td>81</td>\n",
              "      <td>77.11</td>\n",
              "      <td>6</td>\n",
              "      <td>8.0</td>\n",
              "      <td>121</td>\n",
              "      <td>146</td>\n",
              "      <td>900</td>\n",
              "      <td>0</td>\n",
              "    </tr>\n",
              "    <tr>\n",
              "      <th>31</th>\n",
              "      <td>전라북도</td>\n",
              "      <td>2016</td>\n",
              "      <td>4.003409e+05</td>\n",
              "      <td>30.775000</td>\n",
              "      <td>59.941667</td>\n",
              "      <td>2.066667</td>\n",
              "      <td>100.538333</td>\n",
              "      <td>98.563329</td>\n",
              "      <td>97.468212</td>\n",
              "      <td>1.865765e+06</td>\n",
              "      <td>...</td>\n",
              "      <td>675</td>\n",
              "      <td>14</td>\n",
              "      <td>83</td>\n",
              "      <td>79.80</td>\n",
              "      <td>6</td>\n",
              "      <td>8.4</td>\n",
              "      <td>121</td>\n",
              "      <td>146</td>\n",
              "      <td>900</td>\n",
              "      <td>0</td>\n",
              "    </tr>\n",
              "    <tr>\n",
              "      <th>32</th>\n",
              "      <td>전라북도</td>\n",
              "      <td>2017</td>\n",
              "      <td>4.553888e+05</td>\n",
              "      <td>-5.358333</td>\n",
              "      <td>58.608333</td>\n",
              "      <td>2.508333</td>\n",
              "      <td>102.401667</td>\n",
              "      <td>99.320066</td>\n",
              "      <td>99.069543</td>\n",
              "      <td>1.857810e+06</td>\n",
              "      <td>...</td>\n",
              "      <td>705</td>\n",
              "      <td>15</td>\n",
              "      <td>85</td>\n",
              "      <td>80.68</td>\n",
              "      <td>6</td>\n",
              "      <td>8.7</td>\n",
              "      <td>119</td>\n",
              "      <td>165</td>\n",
              "      <td>832</td>\n",
              "      <td>0</td>\n",
              "    </tr>\n",
              "    <tr>\n",
              "      <th>33</th>\n",
              "      <td>전라북도</td>\n",
              "      <td>2018</td>\n",
              "      <td>4.102458e+05</td>\n",
              "      <td>15.308333</td>\n",
              "      <td>58.300000</td>\n",
              "      <td>2.716667</td>\n",
              "      <td>104.151667</td>\n",
              "      <td>98.985654</td>\n",
              "      <td>99.368427</td>\n",
              "      <td>1.843866e+06</td>\n",
              "      <td>...</td>\n",
              "      <td>699</td>\n",
              "      <td>15</td>\n",
              "      <td>96</td>\n",
              "      <td>75.33</td>\n",
              "      <td>6</td>\n",
              "      <td>8.6</td>\n",
              "      <td>132</td>\n",
              "      <td>196</td>\n",
              "      <td>832</td>\n",
              "      <td>0</td>\n",
              "    </tr>\n",
              "    <tr>\n",
              "      <th>34</th>\n",
              "      <td>전라북도</td>\n",
              "      <td>2019</td>\n",
              "      <td>4.175473e+05</td>\n",
              "      <td>1.450000</td>\n",
              "      <td>59.341667</td>\n",
              "      <td>2.700000</td>\n",
              "      <td>104.475833</td>\n",
              "      <td>95.945041</td>\n",
              "      <td>97.107699</td>\n",
              "      <td>1.826241e+06</td>\n",
              "      <td>...</td>\n",
              "      <td>713</td>\n",
              "      <td>15</td>\n",
              "      <td>97</td>\n",
              "      <td>76.84</td>\n",
              "      <td>6</td>\n",
              "      <td>9.6</td>\n",
              "      <td>171</td>\n",
              "      <td>233</td>\n",
              "      <td>832</td>\n",
              "      <td>0</td>\n",
              "    </tr>\n",
              "    <tr>\n",
              "      <th>35</th>\n",
              "      <td>전라북도</td>\n",
              "      <td>2020</td>\n",
              "      <td>4.092442e+05</td>\n",
              "      <td>0.125000</td>\n",
              "      <td>59.933333</td>\n",
              "      <td>2.483333</td>\n",
              "      <td>105.035833</td>\n",
              "      <td>94.673389</td>\n",
              "      <td>95.856158</td>\n",
              "      <td>1.809391e+06</td>\n",
              "      <td>...</td>\n",
              "      <td>734</td>\n",
              "      <td>14</td>\n",
              "      <td>106</td>\n",
              "      <td>75.48</td>\n",
              "      <td>6</td>\n",
              "      <td>10.0</td>\n",
              "      <td>177</td>\n",
              "      <td>251</td>\n",
              "      <td>832</td>\n",
              "      <td>0</td>\n",
              "    </tr>\n",
              "    <tr>\n",
              "      <th>36</th>\n",
              "      <td>전라남도</td>\n",
              "      <td>2015</td>\n",
              "      <td>4.382910e+05</td>\n",
              "      <td>12.533333</td>\n",
              "      <td>62.816667</td>\n",
              "      <td>2.550000</td>\n",
              "      <td>99.999167</td>\n",
              "      <td>95.668991</td>\n",
              "      <td>95.827335</td>\n",
              "      <td>1.903999e+06</td>\n",
              "      <td>...</td>\n",
              "      <td>1359</td>\n",
              "      <td>35</td>\n",
              "      <td>146</td>\n",
              "      <td>75.44</td>\n",
              "      <td>13</td>\n",
              "      <td>9.5</td>\n",
              "      <td>103</td>\n",
              "      <td>129</td>\n",
              "      <td>619</td>\n",
              "      <td>0</td>\n",
              "    </tr>\n",
              "    <tr>\n",
              "      <th>37</th>\n",
              "      <td>전라남도</td>\n",
              "      <td>2016</td>\n",
              "      <td>4.558101e+05</td>\n",
              "      <td>29.708333</td>\n",
              "      <td>62.666667</td>\n",
              "      <td>3.008333</td>\n",
              "      <td>100.940833</td>\n",
              "      <td>97.217369</td>\n",
              "      <td>97.247105</td>\n",
              "      <td>1.904031e+06</td>\n",
              "      <td>...</td>\n",
              "      <td>1336</td>\n",
              "      <td>36</td>\n",
              "      <td>212</td>\n",
              "      <td>82.77</td>\n",
              "      <td>14</td>\n",
              "      <td>10.0</td>\n",
              "      <td>103</td>\n",
              "      <td>129</td>\n",
              "      <td>619</td>\n",
              "      <td>0</td>\n",
              "    </tr>\n",
              "    <tr>\n",
              "      <th>38</th>\n",
              "      <td>전라남도</td>\n",
              "      <td>2017</td>\n",
              "      <td>5.391183e+05</td>\n",
              "      <td>7.100000</td>\n",
              "      <td>62.100000</td>\n",
              "      <td>3.183333</td>\n",
              "      <td>103.079167</td>\n",
              "      <td>98.986156</td>\n",
              "      <td>99.055767</td>\n",
              "      <td>1.897816e+06</td>\n",
              "      <td>...</td>\n",
              "      <td>1333</td>\n",
              "      <td>36</td>\n",
              "      <td>210</td>\n",
              "      <td>82.56</td>\n",
              "      <td>15</td>\n",
              "      <td>10.5</td>\n",
              "      <td>118</td>\n",
              "      <td>142</td>\n",
              "      <td>616</td>\n",
              "      <td>0</td>\n",
              "    </tr>\n",
              "    <tr>\n",
              "      <th>39</th>\n",
              "      <td>전라남도</td>\n",
              "      <td>2018</td>\n",
              "      <td>5.117058e+05</td>\n",
              "      <td>16.025000</td>\n",
              "      <td>62.425000</td>\n",
              "      <td>2.775000</td>\n",
              "      <td>104.625000</td>\n",
              "      <td>101.062052</td>\n",
              "      <td>100.934074</td>\n",
              "      <td>1.886869e+06</td>\n",
              "      <td>...</td>\n",
              "      <td>1547</td>\n",
              "      <td>36</td>\n",
              "      <td>283</td>\n",
              "      <td>73.96</td>\n",
              "      <td>15</td>\n",
              "      <td>10.9</td>\n",
              "      <td>129</td>\n",
              "      <td>169</td>\n",
              "      <td>616</td>\n",
              "      <td>0</td>\n",
              "    </tr>\n",
              "    <tr>\n",
              "      <th>40</th>\n",
              "      <td>전라남도</td>\n",
              "      <td>2019</td>\n",
              "      <td>5.869337e+05</td>\n",
              "      <td>19.308333</td>\n",
              "      <td>63.416667</td>\n",
              "      <td>2.550000</td>\n",
              "      <td>104.973333</td>\n",
              "      <td>101.992318</td>\n",
              "      <td>101.890763</td>\n",
              "      <td>1.870477e+06</td>\n",
              "      <td>...</td>\n",
              "      <td>1544</td>\n",
              "      <td>38</td>\n",
              "      <td>282</td>\n",
              "      <td>79.19</td>\n",
              "      <td>15</td>\n",
              "      <td>11.9</td>\n",
              "      <td>149</td>\n",
              "      <td>223</td>\n",
              "      <td>616</td>\n",
              "      <td>0</td>\n",
              "    </tr>\n",
              "    <tr>\n",
              "      <th>41</th>\n",
              "      <td>전라남도</td>\n",
              "      <td>2020</td>\n",
              "      <td>6.180840e+05</td>\n",
              "      <td>-4.583333</td>\n",
              "      <td>63.866667</td>\n",
              "      <td>2.366667</td>\n",
              "      <td>105.713333</td>\n",
              "      <td>102.436557</td>\n",
              "      <td>102.934179</td>\n",
              "      <td>1.855231e+06</td>\n",
              "      <td>...</td>\n",
              "      <td>1666</td>\n",
              "      <td>39</td>\n",
              "      <td>358</td>\n",
              "      <td>77.66</td>\n",
              "      <td>15</td>\n",
              "      <td>12.3</td>\n",
              "      <td>195</td>\n",
              "      <td>312</td>\n",
              "      <td>616</td>\n",
              "      <td>0</td>\n",
              "    </tr>\n",
              "    <tr>\n",
              "      <th>42</th>\n",
              "      <td>경상북도</td>\n",
              "      <td>2015</td>\n",
              "      <td>8.890608e+05</td>\n",
              "      <td>30.583333</td>\n",
              "      <td>62.358333</td>\n",
              "      <td>3.041667</td>\n",
              "      <td>99.999167</td>\n",
              "      <td>107.450245</td>\n",
              "      <td>103.702223</td>\n",
              "      <td>2.699296e+06</td>\n",
              "      <td>...</td>\n",
              "      <td>1975</td>\n",
              "      <td>30</td>\n",
              "      <td>182</td>\n",
              "      <td>76.28</td>\n",
              "      <td>7</td>\n",
              "      <td>7.3</td>\n",
              "      <td>131</td>\n",
              "      <td>101</td>\n",
              "      <td>1114</td>\n",
              "      <td>0</td>\n",
              "    </tr>\n",
              "    <tr>\n",
              "      <th>43</th>\n",
              "      <td>경상북도</td>\n",
              "      <td>2016</td>\n",
              "      <td>7.793237e+05</td>\n",
              "      <td>-12.000000</td>\n",
              "      <td>62.400000</td>\n",
              "      <td>3.166667</td>\n",
              "      <td>100.685000</td>\n",
              "      <td>106.295373</td>\n",
              "      <td>103.736001</td>\n",
              "      <td>2.701337e+06</td>\n",
              "      <td>...</td>\n",
              "      <td>2123</td>\n",
              "      <td>31</td>\n",
              "      <td>208</td>\n",
              "      <td>79.11</td>\n",
              "      <td>7</td>\n",
              "      <td>7.2</td>\n",
              "      <td>131</td>\n",
              "      <td>101</td>\n",
              "      <td>1114</td>\n",
              "      <td>0</td>\n",
              "    </tr>\n",
              "    <tr>\n",
              "      <th>44</th>\n",
              "      <td>경상북도</td>\n",
              "      <td>2017</td>\n",
              "      <td>5.833502e+05</td>\n",
              "      <td>-13.916667</td>\n",
              "      <td>62.458333</td>\n",
              "      <td>2.766667</td>\n",
              "      <td>102.550833</td>\n",
              "      <td>101.728304</td>\n",
              "      <td>101.167271</td>\n",
              "      <td>2.693050e+06</td>\n",
              "      <td>...</td>\n",
              "      <td>2180</td>\n",
              "      <td>30</td>\n",
              "      <td>213</td>\n",
              "      <td>77.23</td>\n",
              "      <td>8</td>\n",
              "      <td>7.4</td>\n",
              "      <td>115</td>\n",
              "      <td>121</td>\n",
              "      <td>1127</td>\n",
              "      <td>0</td>\n",
              "    </tr>\n",
              "    <tr>\n",
              "      <th>45</th>\n",
              "      <td>경상북도</td>\n",
              "      <td>2018</td>\n",
              "      <td>7.301129e+05</td>\n",
              "      <td>27.983333</td>\n",
              "      <td>61.591667</td>\n",
              "      <td>4.125000</td>\n",
              "      <td>104.078333</td>\n",
              "      <td>96.689845</td>\n",
              "      <td>97.045357</td>\n",
              "      <td>2.680889e+06</td>\n",
              "      <td>...</td>\n",
              "      <td>2252</td>\n",
              "      <td>30</td>\n",
              "      <td>225</td>\n",
              "      <td>73.37</td>\n",
              "      <td>10</td>\n",
              "      <td>7.5</td>\n",
              "      <td>156</td>\n",
              "      <td>185</td>\n",
              "      <td>1127</td>\n",
              "      <td>0</td>\n",
              "    </tr>\n",
              "    <tr>\n",
              "      <th>46</th>\n",
              "      <td>경상북도</td>\n",
              "      <td>2019</td>\n",
              "      <td>5.341937e+05</td>\n",
              "      <td>-21.800000</td>\n",
              "      <td>61.675000</td>\n",
              "      <td>3.916667</td>\n",
              "      <td>104.257500</td>\n",
              "      <td>90.391717</td>\n",
              "      <td>92.010851</td>\n",
              "      <td>2.668963e+06</td>\n",
              "      <td>...</td>\n",
              "      <td>2283</td>\n",
              "      <td>30</td>\n",
              "      <td>228</td>\n",
              "      <td>74.69</td>\n",
              "      <td>10</td>\n",
              "      <td>7.9</td>\n",
              "      <td>200</td>\n",
              "      <td>262</td>\n",
              "      <td>1127</td>\n",
              "      <td>0</td>\n",
              "    </tr>\n",
              "    <tr>\n",
              "      <th>47</th>\n",
              "      <td>경상북도</td>\n",
              "      <td>2020</td>\n",
              "      <td>6.214121e+05</td>\n",
              "      <td>-8.516667</td>\n",
              "      <td>61.133333</td>\n",
              "      <td>4.041667</td>\n",
              "      <td>104.388333</td>\n",
              "      <td>87.921273</td>\n",
              "      <td>90.652576</td>\n",
              "      <td>2.647046e+06</td>\n",
              "      <td>...</td>\n",
              "      <td>1957</td>\n",
              "      <td>27</td>\n",
              "      <td>243</td>\n",
              "      <td>78.33</td>\n",
              "      <td>8</td>\n",
              "      <td>8.3</td>\n",
              "      <td>270</td>\n",
              "      <td>344</td>\n",
              "      <td>1127</td>\n",
              "      <td>0</td>\n",
              "    </tr>\n",
              "    <tr>\n",
              "      <th>48</th>\n",
              "      <td>경상남도</td>\n",
              "      <td>2015</td>\n",
              "      <td>8.552295e+05</td>\n",
              "      <td>4.741667</td>\n",
              "      <td>60.575000</td>\n",
              "      <td>2.641667</td>\n",
              "      <td>100.000833</td>\n",
              "      <td>103.954397</td>\n",
              "      <td>102.329314</td>\n",
              "      <td>3.357028e+06</td>\n",
              "      <td>...</td>\n",
              "      <td>1608</td>\n",
              "      <td>31</td>\n",
              "      <td>248</td>\n",
              "      <td>79.84</td>\n",
              "      <td>13</td>\n",
              "      <td>5.6</td>\n",
              "      <td>109</td>\n",
              "      <td>110</td>\n",
              "      <td>1304</td>\n",
              "      <td>0</td>\n",
              "    </tr>\n",
              "    <tr>\n",
              "      <th>49</th>\n",
              "      <td>경상남도</td>\n",
              "      <td>2016</td>\n",
              "      <td>1.115110e+06</td>\n",
              "      <td>36.108333</td>\n",
              "      <td>60.591667</td>\n",
              "      <td>3.350000</td>\n",
              "      <td>100.926667</td>\n",
              "      <td>104.398335</td>\n",
              "      <td>103.698261</td>\n",
              "      <td>3.368510e+06</td>\n",
              "      <td>...</td>\n",
              "      <td>1598</td>\n",
              "      <td>32</td>\n",
              "      <td>243</td>\n",
              "      <td>82.75</td>\n",
              "      <td>14</td>\n",
              "      <td>5.7</td>\n",
              "      <td>109</td>\n",
              "      <td>110</td>\n",
              "      <td>1304</td>\n",
              "      <td>0</td>\n",
              "    </tr>\n",
              "    <tr>\n",
              "      <th>50</th>\n",
              "      <td>경상남도</td>\n",
              "      <td>2017</td>\n",
              "      <td>6.576056e+05</td>\n",
              "      <td>-25.291667</td>\n",
              "      <td>60.883333</td>\n",
              "      <td>2.933333</td>\n",
              "      <td>102.545833</td>\n",
              "      <td>101.999781</td>\n",
              "      <td>102.439652</td>\n",
              "      <td>3.374759e+06</td>\n",
              "      <td>...</td>\n",
              "      <td>1651</td>\n",
              "      <td>32</td>\n",
              "      <td>260</td>\n",
              "      <td>80.45</td>\n",
              "      <td>15</td>\n",
              "      <td>5.8</td>\n",
              "      <td>135</td>\n",
              "      <td>149</td>\n",
              "      <td>1401</td>\n",
              "      <td>0</td>\n",
              "    </tr>\n",
              "    <tr>\n",
              "      <th>51</th>\n",
              "      <td>경상남도</td>\n",
              "      <td>2018</td>\n",
              "      <td>4.908927e+05</td>\n",
              "      <td>-18.966667</td>\n",
              "      <td>61.383333</td>\n",
              "      <td>3.025000</td>\n",
              "      <td>103.960833</td>\n",
              "      <td>95.216515</td>\n",
              "      <td>96.030725</td>\n",
              "      <td>3.376880e+06</td>\n",
              "      <td>...</td>\n",
              "      <td>1703</td>\n",
              "      <td>36</td>\n",
              "      <td>266</td>\n",
              "      <td>74.02</td>\n",
              "      <td>15</td>\n",
              "      <td>6.1</td>\n",
              "      <td>151</td>\n",
              "      <td>174</td>\n",
              "      <td>1401</td>\n",
              "      <td>0</td>\n",
              "    </tr>\n",
              "    <tr>\n",
              "      <th>52</th>\n",
              "      <td>경상남도</td>\n",
              "      <td>2019</td>\n",
              "      <td>4.166644e+05</td>\n",
              "      <td>6.591667</td>\n",
              "      <td>61.275000</td>\n",
              "      <td>3.766667</td>\n",
              "      <td>104.045833</td>\n",
              "      <td>87.848255</td>\n",
              "      <td>89.308667</td>\n",
              "      <td>3.366940e+06</td>\n",
              "      <td>...</td>\n",
              "      <td>1845</td>\n",
              "      <td>38</td>\n",
              "      <td>280</td>\n",
              "      <td>77.95</td>\n",
              "      <td>15</td>\n",
              "      <td>6.6</td>\n",
              "      <td>212</td>\n",
              "      <td>232</td>\n",
              "      <td>1401</td>\n",
              "      <td>0</td>\n",
              "    </tr>\n",
              "    <tr>\n",
              "      <th>53</th>\n",
              "      <td>경상남도</td>\n",
              "      <td>2020</td>\n",
              "      <td>4.896362e+05</td>\n",
              "      <td>-1.025000</td>\n",
              "      <td>60.583333</td>\n",
              "      <td>4.008333</td>\n",
              "      <td>104.690000</td>\n",
              "      <td>86.972006</td>\n",
              "      <td>88.489610</td>\n",
              "      <td>3.349198e+06</td>\n",
              "      <td>...</td>\n",
              "      <td>1827</td>\n",
              "      <td>36</td>\n",
              "      <td>285</td>\n",
              "      <td>77.61</td>\n",
              "      <td>15</td>\n",
              "      <td>6.8</td>\n",
              "      <td>276</td>\n",
              "      <td>305</td>\n",
              "      <td>1401</td>\n",
              "      <td>0</td>\n",
              "    </tr>\n",
              "  </tbody>\n",
              "</table>\n",
              "<p>54 rows × 46 columns</p>\n",
              "</div>\n",
              "      <button class=\"colab-df-convert\" onclick=\"convertToInteractive('df-c1b4626e-f924-4fbd-814f-ad1c0229e915')\"\n",
              "              title=\"Convert this dataframe to an interactive table.\"\n",
              "              style=\"display:none;\">\n",
              "        \n",
              "  <svg xmlns=\"http://www.w3.org/2000/svg\" height=\"24px\"viewBox=\"0 0 24 24\"\n",
              "       width=\"24px\">\n",
              "    <path d=\"M0 0h24v24H0V0z\" fill=\"none\"/>\n",
              "    <path d=\"M18.56 5.44l.94 2.06.94-2.06 2.06-.94-2.06-.94-.94-2.06-.94 2.06-2.06.94zm-11 1L8.5 8.5l.94-2.06 2.06-.94-2.06-.94L8.5 2.5l-.94 2.06-2.06.94zm10 10l.94 2.06.94-2.06 2.06-.94-2.06-.94-.94-2.06-.94 2.06-2.06.94z\"/><path d=\"M17.41 7.96l-1.37-1.37c-.4-.4-.92-.59-1.43-.59-.52 0-1.04.2-1.43.59L10.3 9.45l-7.72 7.72c-.78.78-.78 2.05 0 2.83L4 21.41c.39.39.9.59 1.41.59.51 0 1.02-.2 1.41-.59l7.78-7.78 2.81-2.81c.8-.78.8-2.07 0-2.86zM5.41 20L4 18.59l7.72-7.72 1.47 1.35L5.41 20z\"/>\n",
              "  </svg>\n",
              "      </button>\n",
              "      \n",
              "  <style>\n",
              "    .colab-df-container {\n",
              "      display:flex;\n",
              "      flex-wrap:wrap;\n",
              "      gap: 12px;\n",
              "    }\n",
              "\n",
              "    .colab-df-convert {\n",
              "      background-color: #E8F0FE;\n",
              "      border: none;\n",
              "      border-radius: 50%;\n",
              "      cursor: pointer;\n",
              "      display: none;\n",
              "      fill: #1967D2;\n",
              "      height: 32px;\n",
              "      padding: 0 0 0 0;\n",
              "      width: 32px;\n",
              "    }\n",
              "\n",
              "    .colab-df-convert:hover {\n",
              "      background-color: #E2EBFA;\n",
              "      box-shadow: 0px 1px 2px rgba(60, 64, 67, 0.3), 0px 1px 3px 1px rgba(60, 64, 67, 0.15);\n",
              "      fill: #174EA6;\n",
              "    }\n",
              "\n",
              "    [theme=dark] .colab-df-convert {\n",
              "      background-color: #3B4455;\n",
              "      fill: #D2E3FC;\n",
              "    }\n",
              "\n",
              "    [theme=dark] .colab-df-convert:hover {\n",
              "      background-color: #434B5C;\n",
              "      box-shadow: 0px 1px 3px 1px rgba(0, 0, 0, 0.15);\n",
              "      filter: drop-shadow(0px 1px 2px rgba(0, 0, 0, 0.3));\n",
              "      fill: #FFFFFF;\n",
              "    }\n",
              "  </style>\n",
              "\n",
              "      <script>\n",
              "        const buttonEl =\n",
              "          document.querySelector('#df-c1b4626e-f924-4fbd-814f-ad1c0229e915 button.colab-df-convert');\n",
              "        buttonEl.style.display =\n",
              "          google.colab.kernel.accessAllowed ? 'block' : 'none';\n",
              "\n",
              "        async function convertToInteractive(key) {\n",
              "          const element = document.querySelector('#df-c1b4626e-f924-4fbd-814f-ad1c0229e915');\n",
              "          const dataTable =\n",
              "            await google.colab.kernel.invokeFunction('convertToInteractive',\n",
              "                                                     [key], {});\n",
              "          if (!dataTable) return;\n",
              "\n",
              "          const docLinkHtml = 'Like what you see? Visit the ' +\n",
              "            '<a target=\"_blank\" href=https://colab.research.google.com/notebooks/data_table.ipynb>data table notebook</a>'\n",
              "            + ' to learn more about interactive tables.';\n",
              "          element.innerHTML = '';\n",
              "          dataTable['output_type'] = 'display_data';\n",
              "          await google.colab.output.renderOutput(dataTable, element);\n",
              "          const docLink = document.createElement('div');\n",
              "          docLink.innerHTML = docLinkHtml;\n",
              "          element.appendChild(docLink);\n",
              "        }\n",
              "      </script>\n",
              "    </div>\n",
              "  </div>\n",
              "  "
            ]
          },
          "metadata": {},
          "execution_count": 3
        }
      ]
    },
    {
      "cell_type": "code",
      "source": [
        "#결측값, 문자로 된 이상값 존재 확인\n",
        "data.info()"
      ],
      "metadata": {
        "id": "RNq-G2hJP558",
        "colab": {
          "base_uri": "https://localhost:8080/"
        },
        "outputId": "6e43dbd6-5080-48c8-e4f1-a622678d1241"
      },
      "execution_count": null,
      "outputs": [
        {
          "output_type": "stream",
          "name": "stdout",
          "text": [
            "<class 'pandas.core.frame.DataFrame'>\n",
            "RangeIndex: 54 entries, 0 to 53\n",
            "Data columns (total 46 columns):\n",
            " #   Column                           Non-Null Count  Dtype  \n",
            "---  ------                           --------------  -----  \n",
            " 0   지역별                              54 non-null     object \n",
            " 1   시점                               54 non-null     int64  \n",
            " 2   건축착공면적[㎡]                        54 non-null     float64\n",
            " 3   건축허가면적증감률[%]                     54 non-null     float64\n",
            " 4   고용률(시도)[%]                       54 non-null     float64\n",
            " 5   실업률(시도)                          54 non-null     float64\n",
            " 6   소비자물가지수[2015=100]                54 non-null     float64\n",
            " 7   아파트매매가격지수                        54 non-null     float64\n",
            " 8   아파트전세가격지수[2017.11 = 100.0]       54 non-null     float64\n",
            " 9   주민등록인구[명]                        54 non-null     float64\n",
            " 10  주택매매가격지수                         54 non-null     float64\n",
            " 11  주택전세가격지수[2017.11 = 100.0]        54 non-null     float64\n",
            " 12  지가변동률[%]                         54 non-null     float64\n",
            " 13  부동산 시장 소비심리지수                    54 non-null     float64\n",
            " 14  토지거래필지수                          54 non-null     float64\n",
            " 15  기준금리                             54 non-null     float64\n",
            " 16  국고채                              54 non-null     float64\n",
            " 17  회사채                              54 non-null     float64\n",
            " 18  가계대출                             54 non-null     float64\n",
            " 19  주택담보대출                           54 non-null     float64\n",
            " 20  아파트매매거래량                         54 non-null     float64\n",
            " 21  PIR                              54 non-null     float64\n",
            " 22  LIR                              54 non-null     float64\n",
            " 23  Class                            54 non-null     int64  \n",
            " 24  강력범죄율(강력범죄수/인구수 *100, 단위 %)      54 non-null     float64\n",
            " 25  연구시설                             54 non-null     int64  \n",
            " 26  사회복지시설                           54 non-null     int64  \n",
            " 27  공공직업훈련시설                         54 non-null     int64  \n",
            " 28  청소년수련시설                          54 non-null     int64  \n",
            " 29  학교                               54 non-null     int64  \n",
            " 30  공공청사                             54 non-null     int64  \n",
            " 31  문화시설                             54 non-null     int64  \n",
            " 32  체육시설                             54 non-null     int64  \n",
            " 33  사회복지시설.1                         54 non-null     int64  \n",
            " 34  광장                               54 non-null     int64  \n",
            " 35  공원                               54 non-null     int64  \n",
            " 36  녹지                               54 non-null     int64  \n",
            " 37  유원지                              54 non-null     int64  \n",
            " 38  공공공지                             54 non-null     int64  \n",
            " 39  교통문화지수                           54 non-null     float64\n",
            " 40  종합의료시설                           54 non-null     int64  \n",
            " 41  인구십만명당 문화기반시설수(A÷B×100,000) (개)  54 non-null     float64\n",
            " 42  중대형 상가                           54 non-null     int64  \n",
            " 43  소규모 상가                           54 non-null     int64  \n",
            " 44  집합 상가                            54 non-null     int64  \n",
            " 45  Class.1                          54 non-null     int64  \n",
            "dtypes: float64(24), int64(21), object(1)\n",
            "memory usage: 19.5+ KB\n"
          ]
        }
      ]
    },
    {
      "cell_type": "code",
      "source": [
        "#결측값 확인(2) (isnull().sum() 사용)\n",
        "data.isnull().sum()\n",
        "#결측값 없음!"
      ],
      "metadata": {
        "id": "WTMnUKChGpND",
        "colab": {
          "base_uri": "https://localhost:8080/"
        },
        "outputId": "c61fbec7-274d-492a-8f0d-b12cccf76cba"
      },
      "execution_count": null,
      "outputs": [
        {
          "output_type": "execute_result",
          "data": {
            "text/plain": [
              "지역별                                0\n",
              "시점                                 0\n",
              "건축착공면적[㎡]                          0\n",
              "건축허가면적증감률[%]                       0\n",
              "고용률(시도)[%]                         0\n",
              "실업률(시도)                            0\n",
              "소비자물가지수[2015=100]                  0\n",
              "아파트매매가격지수                          0\n",
              "아파트전세가격지수[2017.11 = 100.0]         0\n",
              "주민등록인구[명]                          0\n",
              "주택매매가격지수                           0\n",
              "주택전세가격지수[2017.11 = 100.0]          0\n",
              "지가변동률[%]                           0\n",
              "부동산 시장 소비심리지수                      0\n",
              "토지거래필지수                            0\n",
              "기준금리                               0\n",
              "국고채                                0\n",
              "회사채                                0\n",
              "가계대출                               0\n",
              "주택담보대출                             0\n",
              "아파트매매거래량                           0\n",
              "PIR                                0\n",
              "LIR                                0\n",
              "Class                              0\n",
              "강력범죄율(강력범죄수/인구수 *100, 단위 %)        0\n",
              "연구시설                               0\n",
              "사회복지시설                             0\n",
              "공공직업훈련시설                           0\n",
              "청소년수련시설                            0\n",
              "학교                                 0\n",
              "공공청사                               0\n",
              "문화시설                               0\n",
              "체육시설                               0\n",
              "사회복지시설.1                           0\n",
              "광장                                 0\n",
              "공원                                 0\n",
              "녹지                                 0\n",
              "유원지                                0\n",
              "공공공지                               0\n",
              "교통문화지수                             0\n",
              "종합의료시설                             0\n",
              "인구십만명당 문화기반시설수(A÷B×100,000) (개)    0\n",
              "중대형 상가                             0\n",
              "소규모 상가                             0\n",
              "집합 상가                              0\n",
              "Class.1                            0\n",
              "dtype: int64"
            ]
          },
          "metadata": {},
          "execution_count": 5
        }
      ]
    },
    {
      "cell_type": "code",
      "source": [
        "#이상값(극단값) 확인\n",
        "#극단값 판단법: \"Tukey\"법 사용(1사분위수 아래로 IQR*1.5 값보다 작거나, 3사분위수 위로 IQR*1.5값보다 큰 값)\n",
        "#IQR==Q1에서 Q3까지의 값\n",
        "\n",
        "print(data.shape)\n",
        "#column의 개수 확인"
      ],
      "metadata": {
        "id": "ebJsK4-uGuKq",
        "colab": {
          "base_uri": "https://localhost:8080/"
        },
        "outputId": "4e71daa2-8cfd-4391-9488-d0b15bf3e550"
      },
      "execution_count": null,
      "outputs": [
        {
          "output_type": "stream",
          "name": "stdout",
          "text": [
            "(54, 46)\n"
          ]
        }
      ]
    },
    {
      "cell_type": "code",
      "source": [
        "#Tukey함수 구현.\n",
        "def outliers_iqr(data, column):\n",
        "  q1,q3 = np.quantile(data[column], 0.25) ,np.quantile(data[column], 0.75)\n",
        "  iqr = q3 - q1\n",
        "  lower_bound = q1 - (iqr*1.5)\n",
        "  upper_bound = q3 + (iqr*1.5)\n",
        "  data1 = data[data[column] > upper_bound]     \n",
        "  data2 = data[data[column] < lower_bound]\n",
        "  return print(n,'column의 극단값의 개수는', data1.shape[0] + data2.shape[0], '이다.')\n",
        "\n",
        "for n in range(1,46):\n",
        "  outliers_iqr(data, data.columns[n])\n",
        "#이상값이 소수 존재하는 것을 확인. 정제할 필요가 있는지 확인해야함."
      ],
      "metadata": {
        "id": "HPwdwh2-UcSa",
        "colab": {
          "base_uri": "https://localhost:8080/"
        },
        "outputId": "90cf8dda-8c43-4dbc-eeae-530fc5434357"
      },
      "execution_count": null,
      "outputs": [
        {
          "output_type": "stream",
          "name": "stdout",
          "text": [
            "1 column의 극단값의 개수는 0 이다.\n",
            "2 column의 극단값의 개수는 6 이다.\n",
            "3 column의 극단값의 개수는 1 이다.\n",
            "4 column의 극단값의 개수는 0 이다.\n",
            "5 column의 극단값의 개수는 0 이다.\n",
            "6 column의 극단값의 개수는 0 이다.\n",
            "7 column의 극단값의 개수는 0 이다.\n",
            "8 column의 극단값의 개수는 0 이다.\n",
            "9 column의 극단값의 개수는 12 이다.\n",
            "10 column의 극단값의 개수는 1 이다.\n",
            "11 column의 극단값의 개수는 0 이다.\n",
            "12 column의 극단값의 개수는 3 이다.\n",
            "13 column의 극단값의 개수는 0 이다.\n",
            "14 column의 극단값의 개수는 6 이다.\n",
            "15 column의 극단값의 개수는 9 이다.\n",
            "16 column의 극단값의 개수는 0 이다.\n",
            "17 column의 극단값의 개수는 0 이다.\n",
            "18 column의 극단값의 개수는 12 이다.\n",
            "19 column의 극단값의 개수는 12 이다.\n",
            "20 column의 극단값의 개수는 11 이다.\n",
            "21 column의 극단값의 개수는 10 이다.\n",
            "22 column의 극단값의 개수는 5 이다.\n",
            "23 column의 극단값의 개수는 12 이다.\n",
            "24 column의 극단값의 개수는 7 이다.\n",
            "25 column의 극단값의 개수는 6 이다.\n",
            "26 column의 극단값의 개수는 12 이다.\n",
            "27 column의 극단값의 개수는 0 이다.\n",
            "28 column의 극단값의 개수는 6 이다.\n",
            "29 column의 극단값의 개수는 6 이다.\n",
            "30 column의 극단값의 개수는 6 이다.\n",
            "31 column의 극단값의 개수는 5 이다.\n",
            "32 column의 극단값의 개수는 6 이다.\n",
            "33 column의 극단값의 개수는 12 이다.\n",
            "34 column의 극단값의 개수는 6 이다.\n",
            "35 column의 극단값의 개수는 6 이다.\n",
            "36 column의 극단값의 개수는 6 이다.\n",
            "37 column의 극단값의 개수는 0 이다.\n",
            "38 column의 극단값의 개수는 12 이다.\n",
            "39 column의 극단값의 개수는 0 이다.\n",
            "40 column의 극단값의 개수는 6 이다.\n",
            "41 column의 극단값의 개수는 2 이다.\n",
            "42 column의 극단값의 개수는 4 이다.\n",
            "43 column의 극단값의 개수는 4 이다.\n",
            "44 column의 극단값의 개수는 12 이다.\n",
            "45 column의 극단값의 개수는 12 이다.\n"
          ]
        }
      ]
    },
    {
      "cell_type": "code",
      "source": [
        "# 필요한 라이브러리 로드(시각화)\n",
        "import matplotlib.pyplot as plt\n",
        "from scipy import stats"
      ],
      "metadata": {
        "id": "UnbzUnLwfUlP"
      },
      "execution_count": null,
      "outputs": []
    },
    {
      "cell_type": "code",
      "source": [
        "#지역별 데이터 수를 시각화료 표현\n",
        "labels = [\"Others\", \"Seoul\", \"Gyeonggi\"]\n",
        "plt.xticks(range(3), labels)\n",
        "plt.xlabel(\"Region\")\n",
        "plt.ylabel(\"The Number of Data\")\n",
        "data['Class'].value_counts().plot(kind = 'bar')"
      ],
      "metadata": {
        "id": "4RtfBlQz_kJP",
        "colab": {
          "base_uri": "https://localhost:8080/",
          "height": 294
        },
        "outputId": "cb96fc38-1752-43b4-e2db-9eef32e77828"
      },
      "execution_count": null,
      "outputs": [
        {
          "output_type": "execute_result",
          "data": {
            "text/plain": [
              "<matplotlib.axes._subplots.AxesSubplot at 0x7f8ae5b23ed0>"
            ]
          },
          "metadata": {},
          "execution_count": 9
        },
        {
          "output_type": "display_data",
          "data": {
            "text/plain": [
              "<Figure size 432x288 with 1 Axes>"
            ],
            "image/png": "[encoded data removed]"
          },
          "metadata": {
            "needs_background": "light"
          }
        }
      ]
    },
    {
      "cell_type": "code",
      "source": [
        "from sklearn.model_selection import train_test_split"
      ],
      "metadata": {
        "id": "_7fntFRv4j0u"
      },
      "execution_count": null,
      "outputs": []
    },
    {
      "cell_type": "code",
      "source": [
        "del data[\"지역별\"]\n",
        "del data[\"시점\"]"
      ],
      "metadata": {
        "id": "_llT7N-16GGh"
      },
      "execution_count": null,
      "outputs": []
    },
    {
      "cell_type": "code",
      "source": [
        "#정규화\n",
        "\n",
        "data=(data - data.min()) / (data.max() - data.min())"
      ],
      "metadata": {
        "id": "PnyCOaDn5UV3"
      },
      "execution_count": null,
      "outputs": []
    },
    {
      "cell_type": "code",
      "source": [
        "data"
      ],
      "metadata": {
        "colab": {
          "base_uri": "https://localhost:8080/",
          "height": 1000
        },
        "id": "uLFU18Qf6NLB",
        "outputId": "7784c662-71d5-48b7-bcc1-181fb31080be"
      },
      "execution_count": null,
      "outputs": [
        {
          "output_type": "execute_result",
          "data": {
            "text/plain": [
              "    건축착공면적[㎡]  건축허가면적증감률[%]  고용률(시도)[%]   실업률(시도)  소비자물가지수[2015=100]  \\\n",
              "0    0.164302      0.606989    0.352288  0.814714           0.000000   \n",
              "1    0.104309      0.231373    0.350902  0.817439           0.197710   \n",
              "2    0.149387      1.000000    0.392510  0.923706           0.536303   \n",
              "3    0.122651      0.000000    0.294036  1.000000           0.767802   \n",
              "4    0.126757      0.497691    0.357836  0.877384           0.871125   \n",
              "5    0.170359      0.459821    0.242718  0.934605           0.980732   \n",
              "6    1.000000      0.962746    0.635229  0.730245           0.000279   \n",
              "7    0.980067      0.277786    0.631068  0.722071           0.157777   \n",
              "8    0.815527      0.192734    0.711512  0.708447           0.497487   \n",
              "9    0.739648      0.296721    0.683773  0.689373           0.753840   \n",
              "10   0.640749      0.177340    0.668516  0.686649           0.824909   \n",
              "11   0.818234      0.531943    0.406380  0.735695           0.931723   \n",
              "12   0.009182      0.875308    0.000000  0.509537           0.000140   \n",
              "13   0.046527      0.665871    0.056865  0.378747           0.131807   \n",
              "14   0.024723      0.420874    0.522885  0.307902           0.469562   \n",
              "15   0.022575      0.526170    0.470180  0.403270           0.743787   \n",
              "16   0.000000      0.078664    0.730929  0.634877           0.890673   \n",
              "17   0.000037      0.268319    0.485437  0.741144           1.000000   \n",
              "18   0.063980      0.809729    0.751734  0.299728           0.000000   \n",
              "19   0.040816      0.440656    0.685160  0.299728           0.095085   \n",
              "20   0.042183      0.332435    0.785021  0.177112           0.431723   \n",
              "21   0.041672      0.563732    0.902913  0.245232           0.713488   \n",
              "22   0.017851      0.050416    0.834951  0.441417           0.777716   \n",
              "23   0.032516      0.387007    0.886269  0.487738           0.868193   \n",
              "24   0.130807      0.585283    0.730929  0.569482           0.000000   \n",
              "25   0.077094      0.248461    0.639390  0.485014           0.115191   \n",
              "26   0.079310      0.306034    0.736477  0.378747           0.442195   \n",
              "27   0.082675      0.521167    0.945908  0.452316           0.687936   \n",
              "28   0.061167      0.151247    0.963939  0.381471           0.671600   \n",
              "29   0.084431      0.292719    0.757282  0.577657           0.786791   \n",
              "30   0.008703      0.708051    0.216366  0.000000           0.000000   \n",
              "31   0.015908      0.575046    0.346741  0.119891           0.090338   \n",
              "32   0.029552      0.241302    0.124827  0.264305           0.402541   \n",
              "33   0.018363      0.432189    0.073509  0.332425           0.695755   \n",
              "34   0.020172      0.304187    0.246879  0.326975           0.750070   \n",
              "35   0.018114      0.291949    0.345354  0.256131           0.843898   \n",
              "36   0.025314      0.406558    0.825243  0.277929           0.000000   \n",
              "37   0.029656      0.565194    0.800277  0.427793           0.157777   \n",
              "38   0.050305      0.356373    0.705964  0.485014           0.516057   \n",
              "39   0.043511      0.438808    0.760055  0.351499           0.775063   \n",
              "40   0.062157      0.469135    0.925104  0.277929           0.833426   \n",
              "41   0.069878      0.248461    1.000000  0.217984           0.957414   \n",
              "42   0.137043      0.573276    0.748960  0.438692           0.000000   \n",
              "43   0.109844      0.179957    0.755895  0.479564           0.114912   \n",
              "44   0.061269      0.162254    0.765603  0.348774           0.427534   \n",
              "45   0.097646      0.549261    0.621359  0.792916           0.683468   \n",
              "46   0.049085      0.089440    0.635229  0.724796           0.713488   \n",
              "47   0.070703      0.212131    0.545076  0.765668           0.735409   \n",
              "48   0.128658      0.334591    0.452150  0.307902           0.000279   \n",
              "49   0.193073      0.624307    0.454924  0.539510           0.155404   \n",
              "50   0.079674      0.057189    0.503467  0.403270           0.426696   \n",
              "51   0.038352      0.115610    0.586685  0.433243           0.663781   \n",
              "52   0.019954      0.351678    0.568655  0.675749           0.678023   \n",
              "53   0.038041      0.281327    0.453537  0.754768           0.785954   \n",
              "\n",
              "    아파트매매가격지수  아파트전세가격지수[2017.11 = 100.0]  주민등록인구[명]  주택매매가격지수  \\\n",
              "0    0.135276                    0.140232   0.722799  0.029706   \n",
              "1    0.300175                    0.534345   0.715112  0.198167   \n",
              "2    0.456202                    0.690693   0.708623  0.359978   \n",
              "3    0.770190                    0.763625   0.700620  0.696135   \n",
              "4    0.842048                    0.654842   0.695706  0.817100   \n",
              "5    1.000000                    0.877724   0.692237  1.000000   \n",
              "6    0.312289                    0.248102   0.923483  0.193138   \n",
              "7    0.429799                    0.600946   0.938959  0.319812   \n",
              "8    0.488845                    0.721150   0.953567  0.391475   \n",
              "9    0.557506                    0.579020   0.969543  0.495115   \n",
              "10   0.539147                    0.348477   0.985032  0.509457   \n",
              "11   0.839618                    0.647263   1.000000  0.836236   \n",
              "12   0.286620                    0.342559   0.000523  0.167232   \n",
              "13   0.387613                    0.513893   0.000737  0.266029   \n",
              "14   0.485463                    0.679617   0.000670  0.375034   \n",
              "15   0.446088                    0.624344   0.000385  0.409387   \n",
              "16   0.187668                    0.237816   0.000055  0.257751   \n",
              "17   0.089991                    0.138102   0.000000  0.215512   \n",
              "18   0.642732                    0.395742   0.003453  0.487894   \n",
              "19   0.629741                    0.584698   0.003975  0.476462   \n",
              "20   0.561321                    0.710453   0.004454  0.444188   \n",
              "21   0.395231                    0.641975   0.004734  0.365653   \n",
              "22   0.127731                    0.216842   0.005011  0.182219   \n",
              "23   0.122803                    0.226003   0.004924  0.204407   \n",
              "24   0.759550                    0.943075   0.044807  0.547998   \n",
              "25   0.685809                    0.961728   0.046282  0.506898   \n",
              "26   0.565957                    0.814815   0.048110  0.448997   \n",
              "27   0.412040                    0.568876   0.049294  0.376814   \n",
              "28   0.247289                    0.372225   0.049554  0.268086   \n",
              "29   0.271477                    0.528491   0.049139  0.298521   \n",
              "30   0.462053                    0.512806   0.027916  0.316670   \n",
              "31   0.467330                    0.588900   0.027575  0.328048   \n",
              "32   0.497840                    0.693930   0.026901  0.385763   \n",
              "33   0.484357                    0.713534   0.025720  0.442039   \n",
              "34   0.361768                    0.565254   0.024227  0.404177   \n",
              "35   0.310498                    0.483167   0.022799  0.411752   \n",
              "36   0.350638                    0.481276   0.030814  0.219900   \n",
              "37   0.413065                    0.574398   0.030817  0.287689   \n",
              "38   0.484377                    0.693027   0.030290  0.382569   \n",
              "39   0.568072                    0.816224   0.029363  0.516477   \n",
              "40   0.605577                    0.878972   0.027974  0.673336   \n",
              "41   0.623488                    0.947409   0.026683  0.789445   \n",
              "42   0.825626                    0.997784   0.098190  0.523103   \n",
              "43   0.779065                    1.000000   0.098363  0.532575   \n",
              "44   0.594933                    0.831519   0.097661  0.459476   \n",
              "45   0.391796                    0.561165   0.096630  0.379304   \n",
              "46   0.137873                    0.230956   0.095620  0.244916   \n",
              "47   0.038272                    0.141867   0.093763  0.200329   \n",
              "48   0.684683                    0.907736   0.153911  0.518630   \n",
              "49   0.702581                    0.997525   0.154884  0.551393   \n",
              "50   0.605878                    0.914973   0.155413  0.492087   \n",
              "51   0.332396                    0.494616   0.155593  0.290764   \n",
              "52   0.035328                    0.053721   0.154751  0.036371   \n",
              "53   0.000000                    0.000000   0.153248  0.000000   \n",
              "\n",
              "    주택전세가격지수[2017.11 = 100.0]  ...        녹지       유원지      공공공지    교통문화지수  \\\n",
              "0                    0.117380  ...  0.056550  0.027027  0.368028  0.760530   \n",
              "1                    0.523410  ...  0.058278  0.027027  0.376992  1.000000   \n",
              "2                    0.701651  ...  0.058435  0.027027  0.384960  0.891576   \n",
              "3                    0.811882  ...  0.055765  0.027027  0.381972  0.134165   \n",
              "4                    0.718932  ...  0.054822  0.027027  0.381474  0.244150   \n",
              "5                    0.930902  ...  0.050895  0.000000  0.379980  0.382995   \n",
              "6                    0.210036  ...  0.845429  0.513514  0.792331  0.616225   \n",
              "7                    0.599491  ...  0.852183  0.459459  0.841135  0.860374   \n",
              "8                    0.735995  ...  0.897267  0.459459  0.895418  0.814353   \n",
              "9                    0.608552  ...  0.968897  0.459459  0.969124  0.238690   \n",
              "10                   0.361763  ...  0.996230  0.459459  0.988048  0.421997   \n",
              "11                   0.662337  ...  1.000000  0.432432  1.000000  0.546802   \n",
              "12                   0.371193  ...  0.014295  0.810811  0.015936  0.429017   \n",
              "13                   0.541633  ...  0.004084  0.810811  0.017928  0.672387   \n",
              "14                   0.702906  ...  0.001571  0.783784  0.017928  0.604524   \n",
              "15                   0.669462  ...  0.001257  0.783784  0.023904  0.065523   \n",
              "16                   0.321173  ...  0.002356  0.783784  0.025398  0.307332   \n",
              "17                   0.226158  ...  0.000000  0.756757  0.022908  0.392356   \n",
              "18                   0.447216  ...  0.075715  0.189189  0.007470  0.524961   \n",
              "19                   0.614864  ...  0.082469  0.162162  0.006972  0.812012   \n",
              "20                   0.737425  ...  0.083726  0.162162  0.006972  0.519501   \n",
              "21                   0.695478  ...  0.094251  0.135135  0.006972  0.143526   \n",
              "22                   0.313526  ...  0.103205  0.135135  0.006972  0.362715   \n",
              "23                   0.314461  ...  0.106660  0.135135  0.007968  0.371295   \n",
              "24                   0.886751  ...  0.129438  0.297297  0.076195  0.187207   \n",
              "25                   0.926300  ...  0.149073  0.297297  0.077191  0.608424   \n",
              "26                   0.821308  ...  0.151901  0.270270  0.085159  0.579563   \n",
              "27                   0.637319  ...  0.155357  0.270270  0.090139  0.076443   \n",
              "28                   0.444876  ...  0.162740  0.270270  0.092131  0.169267   \n",
              "29                   0.537934  ...  0.156927  0.216216  0.092131  0.258190   \n",
              "30                   0.525511  ...  0.000785  0.351351  0.000000  0.291732   \n",
              "31                   0.607341  ...  0.001100  0.324324  0.000996  0.501560   \n",
              "32                   0.715866  ...  0.005812  0.351351  0.001992  0.570203   \n",
              "33                   0.767135  ...  0.004870  0.351351  0.007470  0.152886   \n",
              "34                   0.659609  ...  0.007069  0.351351  0.007968  0.270671   \n",
              "35                   0.592284  ...  0.010368  0.324324  0.012450  0.164587   \n",
              "36                   0.468905  ...  0.108545  0.891892  0.032371  0.161466   \n",
              "37                   0.595396  ...  0.104932  0.918919  0.065239  0.733229   \n",
              "38                   0.722329  ...  0.104461  0.918919  0.064243  0.716849   \n",
              "39                   0.847757  ...  0.138077  0.918919  0.100598  0.046022   \n",
              "40                   0.920899  ...  0.137606  0.972973  0.100100  0.453978   \n",
              "41                   0.991144  ...  0.156770  1.000000  0.137948  0.334633   \n",
              "42                   0.915178  ...  0.205309  0.756757  0.050299  0.226989   \n",
              "43                   0.943949  ...  0.228558  0.783784  0.063247  0.447738   \n",
              "44                   0.837044  ...  0.237512  0.756757  0.065737  0.301092   \n",
              "45                   0.631900  ...  0.248822  0.756757  0.071713  0.000000   \n",
              "46                   0.361733  ...  0.253691  0.756757  0.073207  0.102964   \n",
              "47                   0.284257  ...  0.202482  0.675676  0.080677  0.386895   \n",
              "48                   0.899494  ...  0.147659  0.783784  0.083167  0.504680   \n",
              "49                   1.000000  ...  0.146089  0.810811  0.080677  0.731669   \n",
              "50                   0.934005  ...  0.154414  0.810811  0.089143  0.552262   \n",
              "51                   0.527014  ...  0.162582  0.918919  0.092131  0.050702   \n",
              "52                   0.072986  ...  0.184888  0.972973  0.099104  0.357254   \n",
              "53                   0.000000  ...  0.182061  0.918919  0.101594  0.330733   \n",
              "\n",
              "      종합의료시설  인구십만명당 문화기반시설수(A÷B×100,000) (개)    중대형 상가    소규모 상가     집합 상가  \\\n",
              "0   0.340909                         0.000000  0.208431  0.307812  1.000000   \n",
              "1   0.340909                         0.008621  0.208431  0.307812  1.000000   \n",
              "2   0.340909                         0.025862  0.346604  0.684375  0.960124   \n",
              "3   0.340909                         0.043103  0.456674  0.743750  0.960124   \n",
              "4   0.340909                         0.051724  0.721311  0.854688  0.960124   \n",
              "5   0.318182                         0.068966  1.000000  1.000000  0.960124   \n",
              "6   0.954545                         0.025862  0.208431  0.098437  0.740496   \n",
              "7   0.954545                         0.034483  0.208431  0.098437  0.740496   \n",
              "8   1.000000                         0.043103  0.346604  0.157812  0.857438   \n",
              "9   0.931818                         0.043103  0.456674  0.221875  0.857438   \n",
              "10  0.954545                         0.060345  0.721311  0.332813  0.857438   \n",
              "11  0.931818                         0.051724  1.000000  0.500000  0.857438   \n",
              "12  0.113636                         0.836207  0.074941  0.000000  0.131818   \n",
              "13  0.090909                         0.862069  0.074941  0.000000  0.131818   \n",
              "14  0.090909                         0.905172  0.098361  0.087500  0.117769   \n",
              "15  0.090909                         0.887931  0.112412  0.098437  0.117769   \n",
              "16  0.090909                         0.991379  0.168618  0.157812  0.117769   \n",
              "17  0.090909                         1.000000  0.295082  0.198437  0.117769   \n",
              "18  0.090909                         0.379310  0.004684  0.023438  0.187190   \n",
              "19  0.090909                         0.370690  0.004684  0.023438  0.187190   \n",
              "20  0.090909                         0.379310  0.049180  0.043750  0.180579   \n",
              "21  0.090909                         0.387931  0.058548  0.101562  0.180579   \n",
              "22  0.090909                         0.422414  0.084309  0.071875  0.180579   \n",
              "23  0.068182                         0.431034  0.145199  0.117188  0.180579   \n",
              "24  0.068182                         0.327586  0.000000  0.117188  0.199174   \n",
              "25  0.068182                         0.336207  0.000000  0.117188  0.199174   \n",
              "26  0.068182                         0.344828  0.067916  0.123438  0.172934   \n",
              "27  0.068182                         0.362069  0.114754  0.156250  0.172934   \n",
              "28  0.068182                         0.405172  0.180328  0.231250  0.000000   \n",
              "29  0.090909                         0.405172  0.269321  0.282813  0.000000   \n",
              "30  0.000000                         0.379310  0.119438  0.104688  0.166736   \n",
              "31  0.000000                         0.413793  0.119438  0.104688  0.166736   \n",
              "32  0.000000                         0.439655  0.114754  0.134375  0.152686   \n",
              "33  0.000000                         0.431034  0.145199  0.182812  0.152686   \n",
              "34  0.000000                         0.517241  0.236534  0.240625  0.152686   \n",
              "35  0.000000                         0.551724  0.250585  0.268750  0.152686   \n",
              "36  0.159091                         0.508621  0.077283  0.078125  0.108678   \n",
              "37  0.181818                         0.551724  0.077283  0.078125  0.108678   \n",
              "38  0.204545                         0.594828  0.112412  0.098437  0.108058   \n",
              "39  0.204545                         0.629310  0.138173  0.140625  0.108058   \n",
              "40  0.204545                         0.715517  0.185012  0.225000  0.108058   \n",
              "41  0.204545                         0.750000  0.292740  0.364063  0.108058   \n",
              "42  0.022727                         0.318966  0.142857  0.034375  0.210950   \n",
              "43  0.022727                         0.310345  0.142857  0.034375  0.210950   \n",
              "44  0.045455                         0.327586  0.105386  0.065625  0.213636   \n",
              "45  0.090909                         0.336207  0.201405  0.165625  0.213636   \n",
              "46  0.090909                         0.370690  0.304450  0.285938  0.213636   \n",
              "47  0.045455                         0.405172  0.468384  0.414062  0.213636   \n",
              "48  0.159091                         0.172414  0.091335  0.048438  0.250207   \n",
              "49  0.181818                         0.181034  0.091335  0.048438  0.250207   \n",
              "50  0.204545                         0.189655  0.152225  0.109375  0.270248   \n",
              "51  0.204545                         0.215517  0.189696  0.148438  0.270248   \n",
              "52  0.204545                         0.258621  0.332553  0.239063  0.270248   \n",
              "53  0.204545                         0.275862  0.482436  0.353125  0.270248   \n",
              "\n",
              "    Class.1  \n",
              "0       0.5  \n",
              "1       0.5  \n",
              "2       0.5  \n",
              "3       0.5  \n",
              "4       0.5  \n",
              "5       0.5  \n",
              "6       1.0  \n",
              "7       1.0  \n",
              "8       1.0  \n",
              "9       1.0  \n",
              "10      1.0  \n",
              "11      1.0  \n",
              "12      0.0  \n",
              "13      0.0  \n",
              "14      0.0  \n",
              "15      0.0  \n",
              "16      0.0  \n",
              "17      0.0  \n",
              "18      0.0  \n",
              "19      0.0  \n",
              "20      0.0  \n",
              "21      0.0  \n",
              "22      0.0  \n",
              "23      0.0  \n",
              "24      0.0  \n",
              "25      0.0  \n",
              "26      0.0  \n",
              "27      0.0  \n",
              "28      0.0  \n",
              "29      0.0  \n",
              "30      0.0  \n",
              "31      0.0  \n",
              "32      0.0  \n",
              "33      0.0  \n",
              "34      0.0  \n",
              "35      0.0  \n",
              "36      0.0  \n",
              "37      0.0  \n",
              "38      0.0  \n",
              "39      0.0  \n",
              "40      0.0  \n",
              "41      0.0  \n",
              "42      0.0  \n",
              "43      0.0  \n",
              "44      0.0  \n",
              "45      0.0  \n",
              "46      0.0  \n",
              "47      0.0  \n",
              "48      0.0  \n",
              "49      0.0  \n",
              "50      0.0  \n",
              "51      0.0  \n",
              "52      0.0  \n",
              "53      0.0  \n",
              "\n",
              "[54 rows x 44 columns]"
            ],
            "text/html": [
              "\n",
              "  <div id=\"df-b0c0b80c-8a10-422d-a336-4b0de00759f8\">\n",
              "    <div class=\"colab-df-container\">\n",
              "      <div>\n",
              "<style scoped>\n",
              "    .dataframe tbody tr th:only-of-type {\n",
              "        vertical-align: middle;\n",
              "    }\n",
              "\n",
              "    .dataframe tbody tr th {\n",
              "        vertical-align: top;\n",
              "    }\n",
              "\n",
              "    .dataframe thead th {\n",
              "        text-align: right;\n",
              "    }\n",
              "</style>\n",
              "<table border=\"1\" class=\"dataframe\">\n",
              "  <thead>\n",
              "    <tr style=\"text-align: right;\">\n",
              "      <th></th>\n",
              "      <th>건축착공면적[㎡]</th>\n",
              "      <th>건축허가면적증감률[%]</th>\n",
              "      <th>고용률(시도)[%]</th>\n",
              "      <th>실업률(시도)</th>\n",
              "      <th>소비자물가지수[2015=100]</th>\n",
              "      <th>아파트매매가격지수</th>\n",
              "      <th>아파트전세가격지수[2017.11 = 100.0]</th>\n",
              "      <th>주민등록인구[명]</th>\n",
              "      <th>주택매매가격지수</th>\n",
              "      <th>주택전세가격지수[2017.11 = 100.0]</th>\n",
              "      <th>...</th>\n",
              "      <th>녹지</th>\n",
              "      <th>유원지</th>\n",
              "      <th>공공공지</th>\n",
              "      <th>교통문화지수</th>\n",
              "      <th>종합의료시설</th>\n",
              "      <th>인구십만명당 문화기반시설수(A÷B×100,000) (개)</th>\n",
              "      <th>중대형 상가</th>\n",
              "      <th>소규모 상가</th>\n",
              "      <th>집합 상가</th>\n",
              "      <th>Class.1</th>\n",
              "    </tr>\n",
              "  </thead>\n",
              "  <tbody>\n",
              "    <tr>\n",
              "      <th>0</th>\n",
              "      <td>0.164302</td>\n",
              "      <td>0.606989</td>\n",
              "      <td>0.352288</td>\n",
              "      <td>0.814714</td>\n",
              "      <td>0.000000</td>\n",
              "      <td>0.135276</td>\n",
              "      <td>0.140232</td>\n",
              "      <td>0.722799</td>\n",
              "      <td>0.029706</td>\n",
              "      <td>0.117380</td>\n",
              "      <td>...</td>\n",
              "      <td>0.056550</td>\n",
              "      <td>0.027027</td>\n",
              "      <td>0.368028</td>\n",
              "      <td>0.760530</td>\n",
              "      <td>0.340909</td>\n",
              "      <td>0.000000</td>\n",
              "      <td>0.208431</td>\n",
              "      <td>0.307812</td>\n",
              "      <td>1.000000</td>\n",
              "      <td>0.5</td>\n",
              "    </tr>\n",
              "    <tr>\n",
              "      <th>1</th>\n",
              "      <td>0.104309</td>\n",
              "      <td>0.231373</td>\n",
              "      <td>0.350902</td>\n",
              "      <td>0.817439</td>\n",
              "      <td>0.197710</td>\n",
              "      <td>0.300175</td>\n",
              "      <td>0.534345</td>\n",
              "      <td>0.715112</td>\n",
              "      <td>0.198167</td>\n",
              "      <td>0.523410</td>\n",
              "      <td>...</td>\n",
              "      <td>0.058278</td>\n",
              "      <td>0.027027</td>\n",
              "      <td>0.376992</td>\n",
              "      <td>1.000000</td>\n",
              "      <td>0.340909</td>\n",
              "      <td>0.008621</td>\n",
              "      <td>0.208431</td>\n",
              "      <td>0.307812</td>\n",
              "      <td>1.000000</td>\n",
              "      <td>0.5</td>\n",
              "    </tr>\n",
              "    <tr>\n",
              "      <th>2</th>\n",
              "      <td>0.149387</td>\n",
              "      <td>1.000000</td>\n",
              "      <td>0.392510</td>\n",
              "      <td>0.923706</td>\n",
              "      <td>0.536303</td>\n",
              "      <td>0.456202</td>\n",
              "      <td>0.690693</td>\n",
              "      <td>0.708623</td>\n",
              "      <td>0.359978</td>\n",
              "      <td>0.701651</td>\n",
              "      <td>...</td>\n",
              "      <td>0.058435</td>\n",
              "      <td>0.027027</td>\n",
              "      <td>0.384960</td>\n",
              "      <td>0.891576</td>\n",
              "      <td>0.340909</td>\n",
              "      <td>0.025862</td>\n",
              "      <td>0.346604</td>\n",
              "      <td>0.684375</td>\n",
              "      <td>0.960124</td>\n",
              "      <td>0.5</td>\n",
              "    </tr>\n",
              "    <tr>\n",
              "      <th>3</th>\n",
              "      <td>0.122651</td>\n",
              "      <td>0.000000</td>\n",
              "      <td>0.294036</td>\n",
              "      <td>1.000000</td>\n",
              "      <td>0.767802</td>\n",
              "      <td>0.770190</td>\n",
              "      <td>0.763625</td>\n",
              "      <td>0.700620</td>\n",
              "      <td>0.696135</td>\n",
              "      <td>0.811882</td>\n",
              "      <td>...</td>\n",
              "      <td>0.055765</td>\n",
              "      <td>0.027027</td>\n",
              "      <td>0.381972</td>\n",
              "      <td>0.134165</td>\n",
              "      <td>0.340909</td>\n",
              "      <td>0.043103</td>\n",
              "      <td>0.456674</td>\n",
              "      <td>0.743750</td>\n",
              "      <td>0.960124</td>\n",
              "      <td>0.5</td>\n",
              "    </tr>\n",
              "    <tr>\n",
              "      <th>4</th>\n",
              "      <td>0.126757</td>\n",
              "      <td>0.497691</td>\n",
              "      <td>0.357836</td>\n",
              "      <td>0.877384</td>\n",
              "      <td>0.871125</td>\n",
              "      <td>0.842048</td>\n",
              "      <td>0.654842</td>\n",
              "      <td>0.695706</td>\n",
              "      <td>0.817100</td>\n",
              "      <td>0.718932</td>\n",
              "      <td>...</td>\n",
              "      <td>0.054822</td>\n",
              "      <td>0.027027</td>\n",
              "      <td>0.381474</td>\n",
              "      <td>0.244150</td>\n",
              "      <td>0.340909</td>\n",
              "      <td>0.051724</td>\n",
              "      <td>0.721311</td>\n",
              "      <td>0.854688</td>\n",
              "      <td>0.960124</td>\n",
              "      <td>0.5</td>\n",
              "    </tr>\n",
              "    <tr>\n",
              "      <th>5</th>\n",
              "      <td>0.170359</td>\n",
              "      <td>0.459821</td>\n",
              "      <td>0.242718</td>\n",
              "      <td>0.934605</td>\n",
              "      <td>0.980732</td>\n",
              "      <td>1.000000</td>\n",
              "      <td>0.877724</td>\n",
              "      <td>0.692237</td>\n",
              "      <td>1.000000</td>\n",
              "      <td>0.930902</td>\n",
              "      <td>...</td>\n",
              "      <td>0.050895</td>\n",
              "      <td>0.000000</td>\n",
              "      <td>0.379980</td>\n",
              "      <td>0.382995</td>\n",
              "      <td>0.318182</td>\n",
              "      <td>0.068966</td>\n",
              "      <td>1.000000</td>\n",
              "      <td>1.000000</td>\n",
              "      <td>0.960124</td>\n",
              "      <td>0.5</td>\n",
              "    </tr>\n",
              "    <tr>\n",
              "      <th>6</th>\n",
              "      <td>1.000000</td>\n",
              "      <td>0.962746</td>\n",
              "      <td>0.635229</td>\n",
              "      <td>0.730245</td>\n",
              "      <td>0.000279</td>\n",
              "      <td>0.312289</td>\n",
              "      <td>0.248102</td>\n",
              "      <td>0.923483</td>\n",
              "      <td>0.193138</td>\n",
              "      <td>0.210036</td>\n",
              "      <td>...</td>\n",
              "      <td>0.845429</td>\n",
              "      <td>0.513514</td>\n",
              "      <td>0.792331</td>\n",
              "      <td>0.616225</td>\n",
              "      <td>0.954545</td>\n",
              "      <td>0.025862</td>\n",
              "      <td>0.208431</td>\n",
              "      <td>0.098437</td>\n",
              "      <td>0.740496</td>\n",
              "      <td>1.0</td>\n",
              "    </tr>\n",
              "    <tr>\n",
              "      <th>7</th>\n",
              "      <td>0.980067</td>\n",
              "      <td>0.277786</td>\n",
              "      <td>0.631068</td>\n",
              "      <td>0.722071</td>\n",
              "      <td>0.157777</td>\n",
              "      <td>0.429799</td>\n",
              "      <td>0.600946</td>\n",
              "      <td>0.938959</td>\n",
              "      <td>0.319812</td>\n",
              "      <td>0.599491</td>\n",
              "      <td>...</td>\n",
              "      <td>0.852183</td>\n",
              "      <td>0.459459</td>\n",
              "      <td>0.841135</td>\n",
              "      <td>0.860374</td>\n",
              "      <td>0.954545</td>\n",
              "      <td>0.034483</td>\n",
              "      <td>0.208431</td>\n",
              "      <td>0.098437</td>\n",
              "      <td>0.740496</td>\n",
              "      <td>1.0</td>\n",
              "    </tr>\n",
              "    <tr>\n",
              "      <th>8</th>\n",
              "      <td>0.815527</td>\n",
              "      <td>0.192734</td>\n",
              "      <td>0.711512</td>\n",
              "      <td>0.708447</td>\n",
              "      <td>0.497487</td>\n",
              "      <td>0.488845</td>\n",
              "      <td>0.721150</td>\n",
              "      <td>0.953567</td>\n",
              "      <td>0.391475</td>\n",
              "      <td>0.735995</td>\n",
              "      <td>...</td>\n",
              "      <td>0.897267</td>\n",
              "      <td>0.459459</td>\n",
              "      <td>0.895418</td>\n",
              "      <td>0.814353</td>\n",
              "      <td>1.000000</td>\n",
              "      <td>0.043103</td>\n",
              "      <td>0.346604</td>\n",
              "      <td>0.157812</td>\n",
              "      <td>0.857438</td>\n",
              "      <td>1.0</td>\n",
              "    </tr>\n",
              "    <tr>\n",
              "      <th>9</th>\n",
              "      <td>0.739648</td>\n",
              "      <td>0.296721</td>\n",
              "      <td>0.683773</td>\n",
              "      <td>0.689373</td>\n",
              "      <td>0.753840</td>\n",
              "      <td>0.557506</td>\n",
              "      <td>0.579020</td>\n",
              "      <td>0.969543</td>\n",
              "      <td>0.495115</td>\n",
              "      <td>0.608552</td>\n",
              "      <td>...</td>\n",
              "      <td>0.968897</td>\n",
              "      <td>0.459459</td>\n",
              "      <td>0.969124</td>\n",
              "      <td>0.238690</td>\n",
              "      <td>0.931818</td>\n",
              "      <td>0.043103</td>\n",
              "      <td>0.456674</td>\n",
              "      <td>0.221875</td>\n",
              "      <td>0.857438</td>\n",
              "      <td>1.0</td>\n",
              "    </tr>\n",
              "    <tr>\n",
              "      <th>10</th>\n",
              "      <td>0.640749</td>\n",
              "      <td>0.177340</td>\n",
              "      <td>0.668516</td>\n",
              "      <td>0.686649</td>\n",
              "      <td>0.824909</td>\n",
              "      <td>0.539147</td>\n",
              "      <td>0.348477</td>\n",
              "      <td>0.985032</td>\n",
              "      <td>0.509457</td>\n",
              "      <td>0.361763</td>\n",
              "      <td>...</td>\n",
              "      <td>0.996230</td>\n",
              "      <td>0.459459</td>\n",
              "      <td>0.988048</td>\n",
              "      <td>0.421997</td>\n",
              "      <td>0.954545</td>\n",
              "      <td>0.060345</td>\n",
              "      <td>0.721311</td>\n",
              "      <td>0.332813</td>\n",
              "      <td>0.857438</td>\n",
              "      <td>1.0</td>\n",
              "    </tr>\n",
              "    <tr>\n",
              "      <th>11</th>\n",
              "      <td>0.818234</td>\n",
              "      <td>0.531943</td>\n",
              "      <td>0.406380</td>\n",
              "      <td>0.735695</td>\n",
              "      <td>0.931723</td>\n",
              "      <td>0.839618</td>\n",
              "      <td>0.647263</td>\n",
              "      <td>1.000000</td>\n",
              "      <td>0.836236</td>\n",
              "      <td>0.662337</td>\n",
              "      <td>...</td>\n",
              "      <td>1.000000</td>\n",
              "      <td>0.432432</td>\n",
              "      <td>1.000000</td>\n",
              "      <td>0.546802</td>\n",
              "      <td>0.931818</td>\n",
              "      <td>0.051724</td>\n",
              "      <td>1.000000</td>\n",
              "      <td>0.500000</td>\n",
              "      <td>0.857438</td>\n",
              "      <td>1.0</td>\n",
              "    </tr>\n",
              "    <tr>\n",
              "      <th>12</th>\n",
              "      <td>0.009182</td>\n",
              "      <td>0.875308</td>\n",
              "      <td>0.000000</td>\n",
              "      <td>0.509537</td>\n",
              "      <td>0.000140</td>\n",
              "      <td>0.286620</td>\n",
              "      <td>0.342559</td>\n",
              "      <td>0.000523</td>\n",
              "      <td>0.167232</td>\n",
              "      <td>0.371193</td>\n",
              "      <td>...</td>\n",
              "      <td>0.014295</td>\n",
              "      <td>0.810811</td>\n",
              "      <td>0.015936</td>\n",
              "      <td>0.429017</td>\n",
              "      <td>0.113636</td>\n",
              "      <td>0.836207</td>\n",
              "      <td>0.074941</td>\n",
              "      <td>0.000000</td>\n",
              "      <td>0.131818</td>\n",
              "      <td>0.0</td>\n",
              "    </tr>\n",
              "    <tr>\n",
              "      <th>13</th>\n",
              "      <td>0.046527</td>\n",
              "      <td>0.665871</td>\n",
              "      <td>0.056865</td>\n",
              "      <td>0.378747</td>\n",
              "      <td>0.131807</td>\n",
              "      <td>0.387613</td>\n",
              "      <td>0.513893</td>\n",
              "      <td>0.000737</td>\n",
              "      <td>0.266029</td>\n",
              "      <td>0.541633</td>\n",
              "      <td>...</td>\n",
              "      <td>0.004084</td>\n",
              "      <td>0.810811</td>\n",
              "      <td>0.017928</td>\n",
              "      <td>0.672387</td>\n",
              "      <td>0.090909</td>\n",
              "      <td>0.862069</td>\n",
              "      <td>0.074941</td>\n",
              "      <td>0.000000</td>\n",
              "      <td>0.131818</td>\n",
              "      <td>0.0</td>\n",
              "    </tr>\n",
              "    <tr>\n",
              "      <th>14</th>\n",
              "      <td>0.024723</td>\n",
              "      <td>0.420874</td>\n",
              "      <td>0.522885</td>\n",
              "      <td>0.307902</td>\n",
              "      <td>0.469562</td>\n",
              "      <td>0.485463</td>\n",
              "      <td>0.679617</td>\n",
              "      <td>0.000670</td>\n",
              "      <td>0.375034</td>\n",
              "      <td>0.702906</td>\n",
              "      <td>...</td>\n",
              "      <td>0.001571</td>\n",
              "      <td>0.783784</td>\n",
              "      <td>0.017928</td>\n",
              "      <td>0.604524</td>\n",
              "      <td>0.090909</td>\n",
              "      <td>0.905172</td>\n",
              "      <td>0.098361</td>\n",
              "      <td>0.087500</td>\n",
              "      <td>0.117769</td>\n",
              "      <td>0.0</td>\n",
              "    </tr>\n",
              "    <tr>\n",
              "      <th>15</th>\n",
              "      <td>0.022575</td>\n",
              "      <td>0.526170</td>\n",
              "      <td>0.470180</td>\n",
              "      <td>0.403270</td>\n",
              "      <td>0.743787</td>\n",
              "      <td>0.446088</td>\n",
              "      <td>0.624344</td>\n",
              "      <td>0.000385</td>\n",
              "      <td>0.409387</td>\n",
              "      <td>0.669462</td>\n",
              "      <td>...</td>\n",
              "      <td>0.001257</td>\n",
              "      <td>0.783784</td>\n",
              "      <td>0.023904</td>\n",
              "      <td>0.065523</td>\n",
              "      <td>0.090909</td>\n",
              "      <td>0.887931</td>\n",
              "      <td>0.112412</td>\n",
              "      <td>0.098437</td>\n",
              "      <td>0.117769</td>\n",
              "      <td>0.0</td>\n",
              "    </tr>\n",
              "    <tr>\n",
              "      <th>16</th>\n",
              "      <td>0.000000</td>\n",
              "      <td>0.078664</td>\n",
              "      <td>0.730929</td>\n",
              "      <td>0.634877</td>\n",
              "      <td>0.890673</td>\n",
              "      <td>0.187668</td>\n",
              "      <td>0.237816</td>\n",
              "      <td>0.000055</td>\n",
              "      <td>0.257751</td>\n",
              "      <td>0.321173</td>\n",
              "      <td>...</td>\n",
              "      <td>0.002356</td>\n",
              "      <td>0.783784</td>\n",
              "      <td>0.025398</td>\n",
              "      <td>0.307332</td>\n",
              "      <td>0.090909</td>\n",
              "      <td>0.991379</td>\n",
              "      <td>0.168618</td>\n",
              "      <td>0.157812</td>\n",
              "      <td>0.117769</td>\n",
              "      <td>0.0</td>\n",
              "    </tr>\n",
              "    <tr>\n",
              "      <th>17</th>\n",
              "      <td>0.000037</td>\n",
              "      <td>0.268319</td>\n",
              "      <td>0.485437</td>\n",
              "      <td>0.741144</td>\n",
              "      <td>1.000000</td>\n",
              "      <td>0.089991</td>\n",
              "      <td>0.138102</td>\n",
              "      <td>0.000000</td>\n",
              "      <td>0.215512</td>\n",
              "      <td>0.226158</td>\n",
              "      <td>...</td>\n",
              "      <td>0.000000</td>\n",
              "      <td>0.756757</td>\n",
              "      <td>0.022908</td>\n",
              "      <td>0.392356</td>\n",
              "      <td>0.090909</td>\n",
              "      <td>1.000000</td>\n",
              "      <td>0.295082</td>\n",
              "      <td>0.198437</td>\n",
              "      <td>0.117769</td>\n",
              "      <td>0.0</td>\n",
              "    </tr>\n",
              "    <tr>\n",
              "      <th>18</th>\n",
              "      <td>0.063980</td>\n",
              "      <td>0.809729</td>\n",
              "      <td>0.751734</td>\n",
              "      <td>0.299728</td>\n",
              "      <td>0.000000</td>\n",
              "      <td>0.642732</td>\n",
              "      <td>0.395742</td>\n",
              "      <td>0.003453</td>\n",
              "      <td>0.487894</td>\n",
              "      <td>0.447216</td>\n",
              "      <td>...</td>\n",
              "      <td>0.075715</td>\n",
              "      <td>0.189189</td>\n",
              "      <td>0.007470</td>\n",
              "      <td>0.524961</td>\n",
              "      <td>0.090909</td>\n",
              "      <td>0.379310</td>\n",
              "      <td>0.004684</td>\n",
              "      <td>0.023438</td>\n",
              "      <td>0.187190</td>\n",
              "      <td>0.0</td>\n",
              "    </tr>\n",
              "    <tr>\n",
              "      <th>19</th>\n",
              "      <td>0.040816</td>\n",
              "      <td>0.440656</td>\n",
              "      <td>0.685160</td>\n",
              "      <td>0.299728</td>\n",
              "      <td>0.095085</td>\n",
              "      <td>0.629741</td>\n",
              "      <td>0.584698</td>\n",
              "      <td>0.003975</td>\n",
              "      <td>0.476462</td>\n",
              "      <td>0.614864</td>\n",
              "      <td>...</td>\n",
              "      <td>0.082469</td>\n",
              "      <td>0.162162</td>\n",
              "      <td>0.006972</td>\n",
              "      <td>0.812012</td>\n",
              "      <td>0.090909</td>\n",
              "      <td>0.370690</td>\n",
              "      <td>0.004684</td>\n",
              "      <td>0.023438</td>\n",
              "      <td>0.187190</td>\n",
              "      <td>0.0</td>\n",
              "    </tr>\n",
              "    <tr>\n",
              "      <th>20</th>\n",
              "      <td>0.042183</td>\n",
              "      <td>0.332435</td>\n",
              "      <td>0.785021</td>\n",
              "      <td>0.177112</td>\n",
              "      <td>0.431723</td>\n",
              "      <td>0.561321</td>\n",
              "      <td>0.710453</td>\n",
              "      <td>0.004454</td>\n",
              "      <td>0.444188</td>\n",
              "      <td>0.737425</td>\n",
              "      <td>...</td>\n",
              "      <td>0.083726</td>\n",
              "      <td>0.162162</td>\n",
              "      <td>0.006972</td>\n",
              "      <td>0.519501</td>\n",
              "      <td>0.090909</td>\n",
              "      <td>0.379310</td>\n",
              "      <td>0.049180</td>\n",
              "      <td>0.043750</td>\n",
              "      <td>0.180579</td>\n",
              "      <td>0.0</td>\n",
              "    </tr>\n",
              "    <tr>\n",
              "      <th>21</th>\n",
              "      <td>0.041672</td>\n",
              "      <td>0.563732</td>\n",
              "      <td>0.902913</td>\n",
              "      <td>0.245232</td>\n",
              "      <td>0.713488</td>\n",
              "      <td>0.395231</td>\n",
              "      <td>0.641975</td>\n",
              "      <td>0.004734</td>\n",
              "      <td>0.365653</td>\n",
              "      <td>0.695478</td>\n",
              "      <td>...</td>\n",
              "      <td>0.094251</td>\n",
              "      <td>0.135135</td>\n",
              "      <td>0.006972</td>\n",
              "      <td>0.143526</td>\n",
              "      <td>0.090909</td>\n",
              "      <td>0.387931</td>\n",
              "      <td>0.058548</td>\n",
              "      <td>0.101562</td>\n",
              "      <td>0.180579</td>\n",
              "      <td>0.0</td>\n",
              "    </tr>\n",
              "    <tr>\n",
              "      <th>22</th>\n",
              "      <td>0.017851</td>\n",
              "      <td>0.050416</td>\n",
              "      <td>0.834951</td>\n",
              "      <td>0.441417</td>\n",
              "      <td>0.777716</td>\n",
              "      <td>0.127731</td>\n",
              "      <td>0.216842</td>\n",
              "      <td>0.005011</td>\n",
              "      <td>0.182219</td>\n",
              "      <td>0.313526</td>\n",
              "      <td>...</td>\n",
              "      <td>0.103205</td>\n",
              "      <td>0.135135</td>\n",
              "      <td>0.006972</td>\n",
              "      <td>0.362715</td>\n",
              "      <td>0.090909</td>\n",
              "      <td>0.422414</td>\n",
              "      <td>0.084309</td>\n",
              "      <td>0.071875</td>\n",
              "      <td>0.180579</td>\n",
              "      <td>0.0</td>\n",
              "    </tr>\n",
              "    <tr>\n",
              "      <th>23</th>\n",
              "      <td>0.032516</td>\n",
              "      <td>0.387007</td>\n",
              "      <td>0.886269</td>\n",
              "      <td>0.487738</td>\n",
              "      <td>0.868193</td>\n",
              "      <td>0.122803</td>\n",
              "      <td>0.226003</td>\n",
              "      <td>0.004924</td>\n",
              "      <td>0.204407</td>\n",
              "      <td>0.314461</td>\n",
              "      <td>...</td>\n",
              "      <td>0.106660</td>\n",
              "      <td>0.135135</td>\n",
              "      <td>0.007968</td>\n",
              "      <td>0.371295</td>\n",
              "      <td>0.068182</td>\n",
              "      <td>0.431034</td>\n",
              "      <td>0.145199</td>\n",
              "      <td>0.117188</td>\n",
              "      <td>0.180579</td>\n",
              "      <td>0.0</td>\n",
              "    </tr>\n",
              "    <tr>\n",
              "      <th>24</th>\n",
              "      <td>0.130807</td>\n",
              "      <td>0.585283</td>\n",
              "      <td>0.730929</td>\n",
              "      <td>0.569482</td>\n",
              "      <td>0.000000</td>\n",
              "      <td>0.759550</td>\n",
              "      <td>0.943075</td>\n",
              "      <td>0.044807</td>\n",
              "      <td>0.547998</td>\n",
              "      <td>0.886751</td>\n",
              "      <td>...</td>\n",
              "      <td>0.129438</td>\n",
              "      <td>0.297297</td>\n",
              "      <td>0.076195</td>\n",
              "      <td>0.187207</td>\n",
              "      <td>0.068182</td>\n",
              "      <td>0.327586</td>\n",
              "      <td>0.000000</td>\n",
              "      <td>0.117188</td>\n",
              "      <td>0.199174</td>\n",
              "      <td>0.0</td>\n",
              "    </tr>\n",
              "    <tr>\n",
              "      <th>25</th>\n",
              "      <td>0.077094</td>\n",
              "      <td>0.248461</td>\n",
              "      <td>0.639390</td>\n",
              "      <td>0.485014</td>\n",
              "      <td>0.115191</td>\n",
              "      <td>0.685809</td>\n",
              "      <td>0.961728</td>\n",
              "      <td>0.046282</td>\n",
              "      <td>0.506898</td>\n",
              "      <td>0.926300</td>\n",
              "      <td>...</td>\n",
              "      <td>0.149073</td>\n",
              "      <td>0.297297</td>\n",
              "      <td>0.077191</td>\n",
              "      <td>0.608424</td>\n",
              "      <td>0.068182</td>\n",
              "      <td>0.336207</td>\n",
              "      <td>0.000000</td>\n",
              "      <td>0.117188</td>\n",
              "      <td>0.199174</td>\n",
              "      <td>0.0</td>\n",
              "    </tr>\n",
              "    <tr>\n",
              "      <th>26</th>\n",
              "      <td>0.079310</td>\n",
              "      <td>0.306034</td>\n",
              "      <td>0.736477</td>\n",
              "      <td>0.378747</td>\n",
              "      <td>0.442195</td>\n",
              "      <td>0.565957</td>\n",
              "      <td>0.814815</td>\n",
              "      <td>0.048110</td>\n",
              "      <td>0.448997</td>\n",
              "      <td>0.821308</td>\n",
              "      <td>...</td>\n",
              "      <td>0.151901</td>\n",
              "      <td>0.270270</td>\n",
              "      <td>0.085159</td>\n",
              "      <td>0.579563</td>\n",
              "      <td>0.068182</td>\n",
              "      <td>0.344828</td>\n",
              "      <td>0.067916</td>\n",
              "      <td>0.123438</td>\n",
              "      <td>0.172934</td>\n",
              "      <td>0.0</td>\n",
              "    </tr>\n",
              "    <tr>\n",
              "      <th>27</th>\n",
              "      <td>0.082675</td>\n",
              "      <td>0.521167</td>\n",
              "      <td>0.945908</td>\n",
              "      <td>0.452316</td>\n",
              "      <td>0.687936</td>\n",
              "      <td>0.412040</td>\n",
              "      <td>0.568876</td>\n",
              "      <td>0.049294</td>\n",
              "      <td>0.376814</td>\n",
              "      <td>0.637319</td>\n",
              "      <td>...</td>\n",
              "      <td>0.155357</td>\n",
              "      <td>0.270270</td>\n",
              "      <td>0.090139</td>\n",
              "      <td>0.076443</td>\n",
              "      <td>0.068182</td>\n",
              "      <td>0.362069</td>\n",
              "      <td>0.114754</td>\n",
              "      <td>0.156250</td>\n",
              "      <td>0.172934</td>\n",
              "      <td>0.0</td>\n",
              "    </tr>\n",
              "    <tr>\n",
              "      <th>28</th>\n",
              "      <td>0.061167</td>\n",
              "      <td>0.151247</td>\n",
              "      <td>0.963939</td>\n",
              "      <td>0.381471</td>\n",
              "      <td>0.671600</td>\n",
              "      <td>0.247289</td>\n",
              "      <td>0.372225</td>\n",
              "      <td>0.049554</td>\n",
              "      <td>0.268086</td>\n",
              "      <td>0.444876</td>\n",
              "      <td>...</td>\n",
              "      <td>0.162740</td>\n",
              "      <td>0.270270</td>\n",
              "      <td>0.092131</td>\n",
              "      <td>0.169267</td>\n",
              "      <td>0.068182</td>\n",
              "      <td>0.405172</td>\n",
              "      <td>0.180328</td>\n",
              "      <td>0.231250</td>\n",
              "      <td>0.000000</td>\n",
              "      <td>0.0</td>\n",
              "    </tr>\n",
              "    <tr>\n",
              "      <th>29</th>\n",
              "      <td>0.084431</td>\n",
              "      <td>0.292719</td>\n",
              "      <td>0.757282</td>\n",
              "      <td>0.577657</td>\n",
              "      <td>0.786791</td>\n",
              "      <td>0.271477</td>\n",
              "      <td>0.528491</td>\n",
              "      <td>0.049139</td>\n",
              "      <td>0.298521</td>\n",
              "      <td>0.537934</td>\n",
              "      <td>...</td>\n",
              "      <td>0.156927</td>\n",
              "      <td>0.216216</td>\n",
              "      <td>0.092131</td>\n",
              "      <td>0.258190</td>\n",
              "      <td>0.090909</td>\n",
              "      <td>0.405172</td>\n",
              "      <td>0.269321</td>\n",
              "      <td>0.282813</td>\n",
              "      <td>0.000000</td>\n",
              "      <td>0.0</td>\n",
              "    </tr>\n",
              "    <tr>\n",
              "      <th>30</th>\n",
              "      <td>0.008703</td>\n",
              "      <td>0.708051</td>\n",
              "      <td>0.216366</td>\n",
              "      <td>0.000000</td>\n",
              "      <td>0.000000</td>\n",
              "      <td>0.462053</td>\n",
              "      <td>0.512806</td>\n",
              "      <td>0.027916</td>\n",
              "      <td>0.316670</td>\n",
              "      <td>0.525511</td>\n",
              "      <td>...</td>\n",
              "      <td>0.000785</td>\n",
              "      <td>0.351351</td>\n",
              "      <td>0.000000</td>\n",
              "      <td>0.291732</td>\n",
              "      <td>0.000000</td>\n",
              "      <td>0.379310</td>\n",
              "      <td>0.119438</td>\n",
              "      <td>0.104688</td>\n",
              "      <td>0.166736</td>\n",
              "      <td>0.0</td>\n",
              "    </tr>\n",
              "    <tr>\n",
              "      <th>31</th>\n",
              "      <td>0.015908</td>\n",
              "      <td>0.575046</td>\n",
              "      <td>0.346741</td>\n",
              "      <td>0.119891</td>\n",
              "      <td>0.090338</td>\n",
              "      <td>0.467330</td>\n",
              "      <td>0.588900</td>\n",
              "      <td>0.027575</td>\n",
              "      <td>0.328048</td>\n",
              "      <td>0.607341</td>\n",
              "      <td>...</td>\n",
              "      <td>0.001100</td>\n",
              "      <td>0.324324</td>\n",
              "      <td>0.000996</td>\n",
              "      <td>0.501560</td>\n",
              "      <td>0.000000</td>\n",
              "      <td>0.413793</td>\n",
              "      <td>0.119438</td>\n",
              "      <td>0.104688</td>\n",
              "      <td>0.166736</td>\n",
              "      <td>0.0</td>\n",
              "    </tr>\n",
              "    <tr>\n",
              "      <th>32</th>\n",
              "      <td>0.029552</td>\n",
              "      <td>0.241302</td>\n",
              "      <td>0.124827</td>\n",
              "      <td>0.264305</td>\n",
              "      <td>0.402541</td>\n",
              "      <td>0.497840</td>\n",
              "      <td>0.693930</td>\n",
              "      <td>0.026901</td>\n",
              "      <td>0.385763</td>\n",
              "      <td>0.715866</td>\n",
              "      <td>...</td>\n",
              "      <td>0.005812</td>\n",
              "      <td>0.351351</td>\n",
              "      <td>0.001992</td>\n",
              "      <td>0.570203</td>\n",
              "      <td>0.000000</td>\n",
              "      <td>0.439655</td>\n",
              "      <td>0.114754</td>\n",
              "      <td>0.134375</td>\n",
              "      <td>0.152686</td>\n",
              "      <td>0.0</td>\n",
              "    </tr>\n",
              "    <tr>\n",
              "      <th>33</th>\n",
              "      <td>0.018363</td>\n",
              "      <td>0.432189</td>\n",
              "      <td>0.073509</td>\n",
              "      <td>0.332425</td>\n",
              "      <td>0.695755</td>\n",
              "      <td>0.484357</td>\n",
              "      <td>0.713534</td>\n",
              "      <td>0.025720</td>\n",
              "      <td>0.442039</td>\n",
              "      <td>0.767135</td>\n",
              "      <td>...</td>\n",
              "      <td>0.004870</td>\n",
              "      <td>0.351351</td>\n",
              "      <td>0.007470</td>\n",
              "      <td>0.152886</td>\n",
              "      <td>0.000000</td>\n",
              "      <td>0.431034</td>\n",
              "      <td>0.145199</td>\n",
              "      <td>0.182812</td>\n",
              "      <td>0.152686</td>\n",
              "      <td>0.0</td>\n",
              "    </tr>\n",
              "    <tr>\n",
              "      <th>34</th>\n",
              "      <td>0.020172</td>\n",
              "      <td>0.304187</td>\n",
              "      <td>0.246879</td>\n",
              "      <td>0.326975</td>\n",
              "      <td>0.750070</td>\n",
              "      <td>0.361768</td>\n",
              "      <td>0.565254</td>\n",
              "      <td>0.024227</td>\n",
              "      <td>0.404177</td>\n",
              "      <td>0.659609</td>\n",
              "      <td>...</td>\n",
              "      <td>0.007069</td>\n",
              "      <td>0.351351</td>\n",
              "      <td>0.007968</td>\n",
              "      <td>0.270671</td>\n",
              "      <td>0.000000</td>\n",
              "      <td>0.517241</td>\n",
              "      <td>0.236534</td>\n",
              "      <td>0.240625</td>\n",
              "      <td>0.152686</td>\n",
              "      <td>0.0</td>\n",
              "    </tr>\n",
              "    <tr>\n",
              "      <th>35</th>\n",
              "      <td>0.018114</td>\n",
              "      <td>0.291949</td>\n",
              "      <td>0.345354</td>\n",
              "      <td>0.256131</td>\n",
              "      <td>0.843898</td>\n",
              "      <td>0.310498</td>\n",
              "      <td>0.483167</td>\n",
              "      <td>0.022799</td>\n",
              "      <td>0.411752</td>\n",
              "      <td>0.592284</td>\n",
              "      <td>...</td>\n",
              "      <td>0.010368</td>\n",
              "      <td>0.324324</td>\n",
              "      <td>0.012450</td>\n",
              "      <td>0.164587</td>\n",
              "      <td>0.000000</td>\n",
              "      <td>0.551724</td>\n",
              "      <td>0.250585</td>\n",
              "      <td>0.268750</td>\n",
              "      <td>0.152686</td>\n",
              "      <td>0.0</td>\n",
              "    </tr>\n",
              "    <tr>\n",
              "      <th>36</th>\n",
              "      <td>0.025314</td>\n",
              "      <td>0.406558</td>\n",
              "      <td>0.825243</td>\n",
              "      <td>0.277929</td>\n",
              "      <td>0.000000</td>\n",
              "      <td>0.350638</td>\n",
              "      <td>0.481276</td>\n",
              "      <td>0.030814</td>\n",
              "      <td>0.219900</td>\n",
              "      <td>0.468905</td>\n",
              "      <td>...</td>\n",
              "      <td>0.108545</td>\n",
              "      <td>0.891892</td>\n",
              "      <td>0.032371</td>\n",
              "      <td>0.161466</td>\n",
              "      <td>0.159091</td>\n",
              "      <td>0.508621</td>\n",
              "      <td>0.077283</td>\n",
              "      <td>0.078125</td>\n",
              "      <td>0.108678</td>\n",
              "      <td>0.0</td>\n",
              "    </tr>\n",
              "    <tr>\n",
              "      <th>37</th>\n",
              "      <td>0.029656</td>\n",
              "      <td>0.565194</td>\n",
              "      <td>0.800277</td>\n",
              "      <td>0.427793</td>\n",
              "      <td>0.157777</td>\n",
              "      <td>0.413065</td>\n",
              "      <td>0.574398</td>\n",
              "      <td>0.030817</td>\n",
              "      <td>0.287689</td>\n",
              "      <td>0.595396</td>\n",
              "      <td>...</td>\n",
              "      <td>0.104932</td>\n",
              "      <td>0.918919</td>\n",
              "      <td>0.065239</td>\n",
              "      <td>0.733229</td>\n",
              "      <td>0.181818</td>\n",
              "      <td>0.551724</td>\n",
              "      <td>0.077283</td>\n",
              "      <td>0.078125</td>\n",
              "      <td>0.108678</td>\n",
              "      <td>0.0</td>\n",
              "    </tr>\n",
              "    <tr>\n",
              "      <th>38</th>\n",
              "      <td>0.050305</td>\n",
              "      <td>0.356373</td>\n",
              "      <td>0.705964</td>\n",
              "      <td>0.485014</td>\n",
              "      <td>0.516057</td>\n",
              "      <td>0.484377</td>\n",
              "      <td>0.693027</td>\n",
              "      <td>0.030290</td>\n",
              "      <td>0.382569</td>\n",
              "      <td>0.722329</td>\n",
              "      <td>...</td>\n",
              "      <td>0.104461</td>\n",
              "      <td>0.918919</td>\n",
              "      <td>0.064243</td>\n",
              "      <td>0.716849</td>\n",
              "      <td>0.204545</td>\n",
              "      <td>0.594828</td>\n",
              "      <td>0.112412</td>\n",
              "      <td>0.098437</td>\n",
              "      <td>0.108058</td>\n",
              "      <td>0.0</td>\n",
              "    </tr>\n",
              "    <tr>\n",
              "      <th>39</th>\n",
              "      <td>0.043511</td>\n",
              "      <td>0.438808</td>\n",
              "      <td>0.760055</td>\n",
              "      <td>0.351499</td>\n",
              "      <td>0.775063</td>\n",
              "      <td>0.568072</td>\n",
              "      <td>0.816224</td>\n",
              "      <td>0.029363</td>\n",
              "      <td>0.516477</td>\n",
              "      <td>0.847757</td>\n",
              "      <td>...</td>\n",
              "      <td>0.138077</td>\n",
              "      <td>0.918919</td>\n",
              "      <td>0.100598</td>\n",
              "      <td>0.046022</td>\n",
              "      <td>0.204545</td>\n",
              "      <td>0.629310</td>\n",
              "      <td>0.138173</td>\n",
              "      <td>0.140625</td>\n",
              "      <td>0.108058</td>\n",
              "      <td>0.0</td>\n",
              "    </tr>\n",
              "    <tr>\n",
              "      <th>40</th>\n",
              "      <td>0.062157</td>\n",
              "      <td>0.469135</td>\n",
              "      <td>0.925104</td>\n",
              "      <td>0.277929</td>\n",
              "      <td>0.833426</td>\n",
              "      <td>0.605577</td>\n",
              "      <td>0.878972</td>\n",
              "      <td>0.027974</td>\n",
              "      <td>0.673336</td>\n",
              "      <td>0.920899</td>\n",
              "      <td>...</td>\n",
              "      <td>0.137606</td>\n",
              "      <td>0.972973</td>\n",
              "      <td>0.100100</td>\n",
              "      <td>0.453978</td>\n",
              "      <td>0.204545</td>\n",
              "      <td>0.715517</td>\n",
              "      <td>0.185012</td>\n",
              "      <td>0.225000</td>\n",
              "      <td>0.108058</td>\n",
              "      <td>0.0</td>\n",
              "    </tr>\n",
              "    <tr>\n",
              "      <th>41</th>\n",
              "      <td>0.069878</td>\n",
              "      <td>0.248461</td>\n",
              "      <td>1.000000</td>\n",
              "      <td>0.217984</td>\n",
              "      <td>0.957414</td>\n",
              "      <td>0.623488</td>\n",
              "      <td>0.947409</td>\n",
              "      <td>0.026683</td>\n",
              "      <td>0.789445</td>\n",
              "      <td>0.991144</td>\n",
              "      <td>...</td>\n",
              "      <td>0.156770</td>\n",
              "      <td>1.000000</td>\n",
              "      <td>0.137948</td>\n",
              "      <td>0.334633</td>\n",
              "      <td>0.204545</td>\n",
              "      <td>0.750000</td>\n",
              "      <td>0.292740</td>\n",
              "      <td>0.364063</td>\n",
              "      <td>0.108058</td>\n",
              "      <td>0.0</td>\n",
              "    </tr>\n",
              "    <tr>\n",
              "      <th>42</th>\n",
              "      <td>0.137043</td>\n",
              "      <td>0.573276</td>\n",
              "      <td>0.748960</td>\n",
              "      <td>0.438692</td>\n",
              "      <td>0.000000</td>\n",
              "      <td>0.825626</td>\n",
              "      <td>0.997784</td>\n",
              "      <td>0.098190</td>\n",
              "      <td>0.523103</td>\n",
              "      <td>0.915178</td>\n",
              "      <td>...</td>\n",
              "      <td>0.205309</td>\n",
              "      <td>0.756757</td>\n",
              "      <td>0.050299</td>\n",
              "      <td>0.226989</td>\n",
              "      <td>0.022727</td>\n",
              "      <td>0.318966</td>\n",
              "      <td>0.142857</td>\n",
              "      <td>0.034375</td>\n",
              "      <td>0.210950</td>\n",
              "      <td>0.0</td>\n",
              "    </tr>\n",
              "    <tr>\n",
              "      <th>43</th>\n",
              "      <td>0.109844</td>\n",
              "      <td>0.179957</td>\n",
              "      <td>0.755895</td>\n",
              "      <td>0.479564</td>\n",
              "      <td>0.114912</td>\n",
              "      <td>0.779065</td>\n",
              "      <td>1.000000</td>\n",
              "      <td>0.098363</td>\n",
              "      <td>0.532575</td>\n",
              "      <td>0.943949</td>\n",
              "      <td>...</td>\n",
              "      <td>0.228558</td>\n",
              "      <td>0.783784</td>\n",
              "      <td>0.063247</td>\n",
              "      <td>0.447738</td>\n",
              "      <td>0.022727</td>\n",
              "      <td>0.310345</td>\n",
              "      <td>0.142857</td>\n",
              "      <td>0.034375</td>\n",
              "      <td>0.210950</td>\n",
              "      <td>0.0</td>\n",
              "    </tr>\n",
              "    <tr>\n",
              "      <th>44</th>\n",
              "      <td>0.061269</td>\n",
              "      <td>0.162254</td>\n",
              "      <td>0.765603</td>\n",
              "      <td>0.348774</td>\n",
              "      <td>0.427534</td>\n",
              "      <td>0.594933</td>\n",
              "      <td>0.831519</td>\n",
              "      <td>0.097661</td>\n",
              "      <td>0.459476</td>\n",
              "      <td>0.837044</td>\n",
              "      <td>...</td>\n",
              "      <td>0.237512</td>\n",
              "      <td>0.756757</td>\n",
              "      <td>0.065737</td>\n",
              "      <td>0.301092</td>\n",
              "      <td>0.045455</td>\n",
              "      <td>0.327586</td>\n",
              "      <td>0.105386</td>\n",
              "      <td>0.065625</td>\n",
              "      <td>0.213636</td>\n",
              "      <td>0.0</td>\n",
              "    </tr>\n",
              "    <tr>\n",
              "      <th>45</th>\n",
              "      <td>0.097646</td>\n",
              "      <td>0.549261</td>\n",
              "      <td>0.621359</td>\n",
              "      <td>0.792916</td>\n",
              "      <td>0.683468</td>\n",
              "      <td>0.391796</td>\n",
              "      <td>0.561165</td>\n",
              "      <td>0.096630</td>\n",
              "      <td>0.379304</td>\n",
              "      <td>0.631900</td>\n",
              "      <td>...</td>\n",
              "      <td>0.248822</td>\n",
              "      <td>0.756757</td>\n",
              "      <td>0.071713</td>\n",
              "      <td>0.000000</td>\n",
              "      <td>0.090909</td>\n",
              "      <td>0.336207</td>\n",
              "      <td>0.201405</td>\n",
              "      <td>0.165625</td>\n",
              "      <td>0.213636</td>\n",
              "      <td>0.0</td>\n",
              "    </tr>\n",
              "    <tr>\n",
              "      <th>46</th>\n",
              "      <td>0.049085</td>\n",
              "      <td>0.089440</td>\n",
              "      <td>0.635229</td>\n",
              "      <td>0.724796</td>\n",
              "      <td>0.713488</td>\n",
              "      <td>0.137873</td>\n",
              "      <td>0.230956</td>\n",
              "      <td>0.095620</td>\n",
              "      <td>0.244916</td>\n",
              "      <td>0.361733</td>\n",
              "      <td>...</td>\n",
              "      <td>0.253691</td>\n",
              "      <td>0.756757</td>\n",
              "      <td>0.073207</td>\n",
              "      <td>0.102964</td>\n",
              "      <td>0.090909</td>\n",
              "      <td>0.370690</td>\n",
              "      <td>0.304450</td>\n",
              "      <td>0.285938</td>\n",
              "      <td>0.213636</td>\n",
              "      <td>0.0</td>\n",
              "    </tr>\n",
              "    <tr>\n",
              "      <th>47</th>\n",
              "      <td>0.070703</td>\n",
              "      <td>0.212131</td>\n",
              "      <td>0.545076</td>\n",
              "      <td>0.765668</td>\n",
              "      <td>0.735409</td>\n",
              "      <td>0.038272</td>\n",
              "      <td>0.141867</td>\n",
              "      <td>0.093763</td>\n",
              "      <td>0.200329</td>\n",
              "      <td>0.284257</td>\n",
              "      <td>...</td>\n",
              "      <td>0.202482</td>\n",
              "      <td>0.675676</td>\n",
              "      <td>0.080677</td>\n",
              "      <td>0.386895</td>\n",
              "      <td>0.045455</td>\n",
              "      <td>0.405172</td>\n",
              "      <td>0.468384</td>\n",
              "      <td>0.414062</td>\n",
              "      <td>0.213636</td>\n",
              "      <td>0.0</td>\n",
              "    </tr>\n",
              "    <tr>\n",
              "      <th>48</th>\n",
              "      <td>0.128658</td>\n",
              "      <td>0.334591</td>\n",
              "      <td>0.452150</td>\n",
              "      <td>0.307902</td>\n",
              "      <td>0.000279</td>\n",
              "      <td>0.684683</td>\n",
              "      <td>0.907736</td>\n",
              "      <td>0.153911</td>\n",
              "      <td>0.518630</td>\n",
              "      <td>0.899494</td>\n",
              "      <td>...</td>\n",
              "      <td>0.147659</td>\n",
              "      <td>0.783784</td>\n",
              "      <td>0.083167</td>\n",
              "      <td>0.504680</td>\n",
              "      <td>0.159091</td>\n",
              "      <td>0.172414</td>\n",
              "      <td>0.091335</td>\n",
              "      <td>0.048438</td>\n",
              "      <td>0.250207</td>\n",
              "      <td>0.0</td>\n",
              "    </tr>\n",
              "    <tr>\n",
              "      <th>49</th>\n",
              "      <td>0.193073</td>\n",
              "      <td>0.624307</td>\n",
              "      <td>0.454924</td>\n",
              "      <td>0.539510</td>\n",
              "      <td>0.155404</td>\n",
              "      <td>0.702581</td>\n",
              "      <td>0.997525</td>\n",
              "      <td>0.154884</td>\n",
              "      <td>0.551393</td>\n",
              "      <td>1.000000</td>\n",
              "      <td>...</td>\n",
              "      <td>0.146089</td>\n",
              "      <td>0.810811</td>\n",
              "      <td>0.080677</td>\n",
              "      <td>0.731669</td>\n",
              "      <td>0.181818</td>\n",
              "      <td>0.181034</td>\n",
              "      <td>0.091335</td>\n",
              "      <td>0.048438</td>\n",
              "      <td>0.250207</td>\n",
              "      <td>0.0</td>\n",
              "    </tr>\n",
              "    <tr>\n",
              "      <th>50</th>\n",
              "      <td>0.079674</td>\n",
              "      <td>0.057189</td>\n",
              "      <td>0.503467</td>\n",
              "      <td>0.403270</td>\n",
              "      <td>0.426696</td>\n",
              "      <td>0.605878</td>\n",
              "      <td>0.914973</td>\n",
              "      <td>0.155413</td>\n",
              "      <td>0.492087</td>\n",
              "      <td>0.934005</td>\n",
              "      <td>...</td>\n",
              "      <td>0.154414</td>\n",
              "      <td>0.810811</td>\n",
              "      <td>0.089143</td>\n",
              "      <td>0.552262</td>\n",
              "      <td>0.204545</td>\n",
              "      <td>0.189655</td>\n",
              "      <td>0.152225</td>\n",
              "      <td>0.109375</td>\n",
              "      <td>0.270248</td>\n",
              "      <td>0.0</td>\n",
              "    </tr>\n",
              "    <tr>\n",
              "      <th>51</th>\n",
              "      <td>0.038352</td>\n",
              "      <td>0.115610</td>\n",
              "      <td>0.586685</td>\n",
              "      <td>0.433243</td>\n",
              "      <td>0.663781</td>\n",
              "      <td>0.332396</td>\n",
              "      <td>0.494616</td>\n",
              "      <td>0.155593</td>\n",
              "      <td>0.290764</td>\n",
              "      <td>0.527014</td>\n",
              "      <td>...</td>\n",
              "      <td>0.162582</td>\n",
              "      <td>0.918919</td>\n",
              "      <td>0.092131</td>\n",
              "      <td>0.050702</td>\n",
              "      <td>0.204545</td>\n",
              "      <td>0.215517</td>\n",
              "      <td>0.189696</td>\n",
              "      <td>0.148438</td>\n",
              "      <td>0.270248</td>\n",
              "      <td>0.0</td>\n",
              "    </tr>\n",
              "    <tr>\n",
              "      <th>52</th>\n",
              "      <td>0.019954</td>\n",
              "      <td>0.351678</td>\n",
              "      <td>0.568655</td>\n",
              "      <td>0.675749</td>\n",
              "      <td>0.678023</td>\n",
              "      <td>0.035328</td>\n",
              "      <td>0.053721</td>\n",
              "      <td>0.154751</td>\n",
              "      <td>0.036371</td>\n",
              "      <td>0.072986</td>\n",
              "      <td>...</td>\n",
              "      <td>0.184888</td>\n",
              "      <td>0.972973</td>\n",
              "      <td>0.099104</td>\n",
              "      <td>0.357254</td>\n",
              "      <td>0.204545</td>\n",
              "      <td>0.258621</td>\n",
              "      <td>0.332553</td>\n",
              "      <td>0.239063</td>\n",
              "      <td>0.270248</td>\n",
              "      <td>0.0</td>\n",
              "    </tr>\n",
              "    <tr>\n",
              "      <th>53</th>\n",
              "      <td>0.038041</td>\n",
              "      <td>0.281327</td>\n",
              "      <td>0.453537</td>\n",
              "      <td>0.754768</td>\n",
              "      <td>0.785954</td>\n",
              "      <td>0.000000</td>\n",
              "      <td>0.000000</td>\n",
              "      <td>0.153248</td>\n",
              "      <td>0.000000</td>\n",
              "      <td>0.000000</td>\n",
              "      <td>...</td>\n",
              "      <td>0.182061</td>\n",
              "      <td>0.918919</td>\n",
              "      <td>0.101594</td>\n",
              "      <td>0.330733</td>\n",
              "      <td>0.204545</td>\n",
              "      <td>0.275862</td>\n",
              "      <td>0.482436</td>\n",
              "      <td>0.353125</td>\n",
              "      <td>0.270248</td>\n",
              "      <td>0.0</td>\n",
              "    </tr>\n",
              "  </tbody>\n",
              "</table>\n",
              "<p>54 rows × 44 columns</p>\n",
              "</div>\n",
              "      <button class=\"colab-df-convert\" onclick=\"convertToInteractive('df-b0c0b80c-8a10-422d-a336-4b0de00759f8')\"\n",
              "              title=\"Convert this dataframe to an interactive table.\"\n",
              "              style=\"display:none;\">\n",
              "        \n",
              "  <svg xmlns=\"http://www.w3.org/2000/svg\" height=\"24px\"viewBox=\"0 0 24 24\"\n",
              "       width=\"24px\">\n",
              "    <path d=\"M0 0h24v24H0V0z\" fill=\"none\"/>\n",
              "    <path d=\"M18.56 5.44l.94 2.06.94-2.06 2.06-.94-2.06-.94-.94-2.06-.94 2.06-2.06.94zm-11 1L8.5 8.5l.94-2.06 2.06-.94-2.06-.94L8.5 2.5l-.94 2.06-2.06.94zm10 10l.94 2.06.94-2.06 2.06-.94-2.06-.94-.94-2.06-.94 2.06-2.06.94z\"/><path d=\"M17.41 7.96l-1.37-1.37c-.4-.4-.92-.59-1.43-.59-.52 0-1.04.2-1.43.59L10.3 9.45l-7.72 7.72c-.78.78-.78 2.05 0 2.83L4 21.41c.39.39.9.59 1.41.59.51 0 1.02-.2 1.41-.59l7.78-7.78 2.81-2.81c.8-.78.8-2.07 0-2.86zM5.41 20L4 18.59l7.72-7.72 1.47 1.35L5.41 20z\"/>\n",
              "  </svg>\n",
              "      </button>\n",
              "      \n",
              "  <style>\n",
              "    .colab-df-container {\n",
              "      display:flex;\n",
              "      flex-wrap:wrap;\n",
              "      gap: 12px;\n",
              "    }\n",
              "\n",
              "    .colab-df-convert {\n",
              "      background-color: #E8F0FE;\n",
              "      border: none;\n",
              "      border-radius: 50%;\n",
              "      cursor: pointer;\n",
              "      display: none;\n",
              "      fill: #1967D2;\n",
              "      height: 32px;\n",
              "      padding: 0 0 0 0;\n",
              "      width: 32px;\n",
              "    }\n",
              "\n",
              "    .colab-df-convert:hover {\n",
              "      background-color: #E2EBFA;\n",
              "      box-shadow: 0px 1px 2px rgba(60, 64, 67, 0.3), 0px 1px 3px 1px rgba(60, 64, 67, 0.15);\n",
              "      fill: #174EA6;\n",
              "    }\n",
              "\n",
              "    [theme=dark] .colab-df-convert {\n",
              "      background-color: #3B4455;\n",
              "      fill: #D2E3FC;\n",
              "    }\n",
              "\n",
              "    [theme=dark] .colab-df-convert:hover {\n",
              "      background-color: #434B5C;\n",
              "      box-shadow: 0px 1px 3px 1px rgba(0, 0, 0, 0.15);\n",
              "      filter: drop-shadow(0px 1px 2px rgba(0, 0, 0, 0.3));\n",
              "      fill: #FFFFFF;\n",
              "    }\n",
              "  </style>\n",
              "\n",
              "      <script>\n",
              "        const buttonEl =\n",
              "          document.querySelector('#df-b0c0b80c-8a10-422d-a336-4b0de00759f8 button.colab-df-convert');\n",
              "        buttonEl.style.display =\n",
              "          google.colab.kernel.accessAllowed ? 'block' : 'none';\n",
              "\n",
              "        async function convertToInteractive(key) {\n",
              "          const element = document.querySelector('#df-b0c0b80c-8a10-422d-a336-4b0de00759f8');\n",
              "          const dataTable =\n",
              "            await google.colab.kernel.invokeFunction('convertToInteractive',\n",
              "                                                     [key], {});\n",
              "          if (!dataTable) return;\n",
              "\n",
              "          const docLinkHtml = 'Like what you see? Visit the ' +\n",
              "            '<a target=\"_blank\" href=https://colab.research.google.com/notebooks/data_table.ipynb>data table notebook</a>'\n",
              "            + ' to learn more about interactive tables.';\n",
              "          element.innerHTML = '';\n",
              "          dataTable['output_type'] = 'display_data';\n",
              "          await google.colab.output.renderOutput(dataTable, element);\n",
              "          const docLink = document.createElement('div');\n",
              "          docLink.innerHTML = docLinkHtml;\n",
              "          element.appendChild(docLink);\n",
              "        }\n",
              "      </script>\n",
              "    </div>\n",
              "  </div>\n",
              "  "
            ]
          },
          "metadata": {},
          "execution_count": 14
        }
      ]
    }
  ]
}
